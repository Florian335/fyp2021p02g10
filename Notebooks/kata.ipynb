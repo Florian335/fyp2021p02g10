{
 "cells": [
  {
   "cell_type": "markdown",
   "metadata": {},
   "source": [
    "## Group 10 - First Year Project \n",
    "### Data Science at ITU \n",
    "## Project 2  \n"
   ]
  },
  {
   "cell_type": "markdown",
   "metadata": {},
   "source": [
    "# Imports"
   ]
  },
  {
   "cell_type": "code",
   "execution_count": 516,
   "metadata": {},
   "outputs": [],
   "source": [
    "import numpy as np\n",
    "import pandas as pd\n",
    "import folium\n",
    "import json\n",
    "import matplotlib.pyplot as plt\n",
    "from datetime import datetime\n",
    "from matplotlib import rcParams\n",
    "import seaborn as sns\n",
    "import calmap  "
   ]
  },
  {
   "cell_type": "markdown",
   "metadata": {},
   "source": [
    "# Loading Data"
   ]
  },
  {
   "cell_type": "code",
   "execution_count": 517,
   "metadata": {},
   "outputs": [],
   "source": [
    "PATH = {}\n",
    "PATH[\"data_raw\"] = \"../data/raw/\"\n",
    "PATH[\"data_interim\"] = \"../data/interim/\"\n",
    "PATH[\"data_processed\"] = \"../data/processed/\"\n",
    "PATH[\"data_external\"] = \"../data/external/\"\n",
    "\n",
    "SUBPATH = {}\n",
    "SUBPATH[\"corona\"] = \"corona/\"\n",
    "SUBPATH[\"meta\"] = \"metadata/\"\n",
    "SUBPATH[\"shape\"] = \"shapefiles/\"\n",
    "SUBPATH[\"weather\"] = \"weather/\"\n",
    "\n",
    "FILENAME = {}\n",
    "\n",
    "FILENAME[\"corona\"] = \"de_corona.csv\"\n",
    "FILENAME[\"meta\"] = \"de_metadata.json\"\n",
    "FILENAME[\"shape\"] = \"de.geojson\"\n",
    "FILENAME[\"weather\"] = \"weather.csv\"\n",
    "\n",
    "corona = PATH[\"data_raw\"]+SUBPATH[\"corona\"]+FILENAME[\"corona\"]\n",
    "meta = PATH[\"data_raw\"]+SUBPATH[\"meta\"]+FILENAME[\"meta\"]\n",
    "shape = PATH[\"data_raw\"]+SUBPATH[\"shape\"]+FILENAME[\"shape\"]\n",
    "weather = PATH[\"data_raw\"]+SUBPATH[\"weather\"]+FILENAME[\"weather\"]"
   ]
  },
  {
   "cell_type": "code",
   "execution_count": 518,
   "metadata": {
    "scrolled": false
   },
   "outputs": [],
   "source": [
    "raw_data = {}\n",
    "\n",
    "dateparse = lambda x: datetime.strptime(x, '%Y-%m-%d')\n",
    "\n",
    "raw_data['corona'] = pd.read_csv(corona, sep='\\s+', parse_dates=['date'], date_parser=dateparse)\n",
    "raw_data['weather'] = pd.read_csv(weather, sep='\\s+', parse_dates=['date'])\n",
    "\n",
    "with open(meta, 'r', encoding='utf-8') as f:\n",
    "    country_metadata = json.load(f)"
   ]
  },
  {
   "cell_type": "markdown",
   "metadata": {},
   "source": [
    "# Dimension"
   ]
  },
  {
   "cell_type": "code",
   "execution_count": 519,
   "metadata": {},
   "outputs": [
    {
     "data": {
      "text/html": [
       "<div>\n",
       "<style scoped>\n",
       "    .dataframe tbody tr th:only-of-type {\n",
       "        vertical-align: middle;\n",
       "    }\n",
       "\n",
       "    .dataframe tbody tr th {\n",
       "        vertical-align: top;\n",
       "    }\n",
       "\n",
       "    .dataframe thead th {\n",
       "        text-align: right;\n",
       "    }\n",
       "</style>\n",
       "<table border=\"1\" class=\"dataframe\">\n",
       "  <thead>\n",
       "    <tr style=\"text-align: right;\">\n",
       "      <th></th>\n",
       "      <th>date</th>\n",
       "      <th>region_code</th>\n",
       "      <th>confirmed_addition</th>\n",
       "      <th>deceased_addition</th>\n",
       "    </tr>\n",
       "  </thead>\n",
       "  <tbody>\n",
       "    <tr>\n",
       "      <th>0</th>\n",
       "      <td>2020-01-02</td>\n",
       "      <td>Nordrhein-Westfalen</td>\n",
       "      <td>1</td>\n",
       "      <td>0</td>\n",
       "    </tr>\n",
       "    <tr>\n",
       "      <th>1</th>\n",
       "      <td>2020-01-07</td>\n",
       "      <td>Nordrhein-Westfalen</td>\n",
       "      <td>1</td>\n",
       "      <td>0</td>\n",
       "    </tr>\n",
       "    <tr>\n",
       "      <th>2</th>\n",
       "      <td>2020-01-09</td>\n",
       "      <td>Nordrhein-Westfalen</td>\n",
       "      <td>1</td>\n",
       "      <td>1</td>\n",
       "    </tr>\n",
       "    <tr>\n",
       "      <th>3</th>\n",
       "      <td>2020-01-12</td>\n",
       "      <td>Nordrhein-Westfalen</td>\n",
       "      <td>1</td>\n",
       "      <td>0</td>\n",
       "    </tr>\n",
       "    <tr>\n",
       "      <th>4</th>\n",
       "      <td>2020-01-14</td>\n",
       "      <td>Nordrhein-Westfalen</td>\n",
       "      <td>1</td>\n",
       "      <td>0</td>\n",
       "    </tr>\n",
       "    <tr>\n",
       "      <th>...</th>\n",
       "      <td>...</td>\n",
       "      <td>...</td>\n",
       "      <td>...</td>\n",
       "      <td>...</td>\n",
       "    </tr>\n",
       "    <tr>\n",
       "      <th>5597</th>\n",
       "      <td>2021-02-21</td>\n",
       "      <td>Rheinland-Pfalz</td>\n",
       "      <td>120</td>\n",
       "      <td>0</td>\n",
       "    </tr>\n",
       "    <tr>\n",
       "      <th>5598</th>\n",
       "      <td>2021-02-21</td>\n",
       "      <td>Sachsen</td>\n",
       "      <td>68</td>\n",
       "      <td>0</td>\n",
       "    </tr>\n",
       "    <tr>\n",
       "      <th>5599</th>\n",
       "      <td>2021-02-21</td>\n",
       "      <td>Sachsen-Anhalt</td>\n",
       "      <td>84</td>\n",
       "      <td>0</td>\n",
       "    </tr>\n",
       "    <tr>\n",
       "      <th>5600</th>\n",
       "      <td>2021-02-21</td>\n",
       "      <td>Schleswig-Holstein</td>\n",
       "      <td>113</td>\n",
       "      <td>0</td>\n",
       "    </tr>\n",
       "    <tr>\n",
       "      <th>5601</th>\n",
       "      <td>2021-02-21</td>\n",
       "      <td>Thüringen</td>\n",
       "      <td>131</td>\n",
       "      <td>0</td>\n",
       "    </tr>\n",
       "  </tbody>\n",
       "</table>\n",
       "<p>5602 rows × 4 columns</p>\n",
       "</div>"
      ],
      "text/plain": [
       "           date          region_code  confirmed_addition  deceased_addition\n",
       "0    2020-01-02  Nordrhein-Westfalen                   1                  0\n",
       "1    2020-01-07  Nordrhein-Westfalen                   1                  0\n",
       "2    2020-01-09  Nordrhein-Westfalen                   1                  1\n",
       "3    2020-01-12  Nordrhein-Westfalen                   1                  0\n",
       "4    2020-01-14  Nordrhein-Westfalen                   1                  0\n",
       "...         ...                  ...                 ...                ...\n",
       "5597 2021-02-21      Rheinland-Pfalz                 120                  0\n",
       "5598 2021-02-21              Sachsen                  68                  0\n",
       "5599 2021-02-21       Sachsen-Anhalt                  84                  0\n",
       "5600 2021-02-21   Schleswig-Holstein                 113                  0\n",
       "5601 2021-02-21            Thüringen                 131                  0\n",
       "\n",
       "[5602 rows x 4 columns]"
      ]
     },
     "execution_count": 519,
     "metadata": {},
     "output_type": "execute_result"
    }
   ],
   "source": [
    "raw_data[\"corona\"]"
   ]
  },
  {
   "cell_type": "markdown",
   "metadata": {},
   "source": []
  },
  {
   "cell_type": "code",
   "execution_count": 520,
   "metadata": {},
   "outputs": [
    {
     "data": {
      "text/html": [
       "<div>\n",
       "<style scoped>\n",
       "    .dataframe tbody tr th:only-of-type {\n",
       "        vertical-align: middle;\n",
       "    }\n",
       "\n",
       "    .dataframe tbody tr th {\n",
       "        vertical-align: top;\n",
       "    }\n",
       "\n",
       "    .dataframe thead th {\n",
       "        text-align: right;\n",
       "    }\n",
       "</style>\n",
       "<table border=\"1\" class=\"dataframe\">\n",
       "  <thead>\n",
       "    <tr style=\"text-align: right;\">\n",
       "      <th></th>\n",
       "      <th>date</th>\n",
       "      <th>iso3166-2</th>\n",
       "      <th>RelativeHumiditySurface</th>\n",
       "      <th>SolarRadiation</th>\n",
       "      <th>Surfacepressure</th>\n",
       "      <th>TemperatureAboveGround</th>\n",
       "      <th>Totalprecipitation</th>\n",
       "      <th>UVIndex</th>\n",
       "      <th>WindSpeed</th>\n",
       "    </tr>\n",
       "  </thead>\n",
       "  <tbody>\n",
       "    <tr>\n",
       "      <th>0</th>\n",
       "      <td>2020-02-13</td>\n",
       "      <td>DE-BB</td>\n",
       "      <td>76.337444</td>\n",
       "      <td>1.824290e+06</td>\n",
       "      <td>2.403341e+06</td>\n",
       "      <td>276.551573</td>\n",
       "      <td>0.003355</td>\n",
       "      <td>2.777806</td>\n",
       "      <td>4.542822</td>\n",
       "    </tr>\n",
       "    <tr>\n",
       "      <th>1</th>\n",
       "      <td>2020-02-13</td>\n",
       "      <td>DE-BE</td>\n",
       "      <td>76.065297</td>\n",
       "      <td>1.786373e+06</td>\n",
       "      <td>2.408182e+06</td>\n",
       "      <td>276.844633</td>\n",
       "      <td>0.003523</td>\n",
       "      <td>4.671329</td>\n",
       "      <td>4.761509</td>\n",
       "    </tr>\n",
       "    <tr>\n",
       "      <th>2</th>\n",
       "      <td>2020-02-13</td>\n",
       "      <td>DE-BW</td>\n",
       "      <td>80.113988</td>\n",
       "      <td>1.505760e+06</td>\n",
       "      <td>2.290158e+06</td>\n",
       "      <td>276.227143</td>\n",
       "      <td>0.008013</td>\n",
       "      <td>4.268546</td>\n",
       "      <td>4.467024</td>\n",
       "    </tr>\n",
       "    <tr>\n",
       "      <th>3</th>\n",
       "      <td>2020-02-13</td>\n",
       "      <td>DE-BY</td>\n",
       "      <td>81.554346</td>\n",
       "      <td>2.363013e+06</td>\n",
       "      <td>2.275361e+06</td>\n",
       "      <td>275.583053</td>\n",
       "      <td>0.005227</td>\n",
       "      <td>4.417797</td>\n",
       "      <td>3.677414</td>\n",
       "    </tr>\n",
       "    <tr>\n",
       "      <th>4</th>\n",
       "      <td>2020-02-13</td>\n",
       "      <td>DE-HB</td>\n",
       "      <td>87.167414</td>\n",
       "      <td>8.389756e+03</td>\n",
       "      <td>2.406940e+06</td>\n",
       "      <td>276.237452</td>\n",
       "      <td>0.007715</td>\n",
       "      <td>1.794872</td>\n",
       "      <td>4.699573</td>\n",
       "    </tr>\n",
       "    <tr>\n",
       "      <th>...</th>\n",
       "      <td>...</td>\n",
       "      <td>...</td>\n",
       "      <td>...</td>\n",
       "      <td>...</td>\n",
       "      <td>...</td>\n",
       "      <td>...</td>\n",
       "      <td>...</td>\n",
       "      <td>...</td>\n",
       "      <td>...</td>\n",
       "    </tr>\n",
       "    <tr>\n",
       "      <th>14899</th>\n",
       "      <td>2020-11-14</td>\n",
       "      <td>SE-U</td>\n",
       "      <td>93.442738</td>\n",
       "      <td>4.831112e+04</td>\n",
       "      <td>2.410483e+06</td>\n",
       "      <td>279.246340</td>\n",
       "      <td>0.000360</td>\n",
       "      <td>0.000000</td>\n",
       "      <td>2.022863</td>\n",
       "    </tr>\n",
       "    <tr>\n",
       "      <th>14900</th>\n",
       "      <td>2020-11-14</td>\n",
       "      <td>SE-W</td>\n",
       "      <td>94.633991</td>\n",
       "      <td>1.790715e+04</td>\n",
       "      <td>2.316636e+06</td>\n",
       "      <td>277.356327</td>\n",
       "      <td>0.002467</td>\n",
       "      <td>0.000000</td>\n",
       "      <td>2.660086</td>\n",
       "    </tr>\n",
       "    <tr>\n",
       "      <th>14901</th>\n",
       "      <td>2020-11-14</td>\n",
       "      <td>SE-X</td>\n",
       "      <td>91.194131</td>\n",
       "      <td>3.040221e+04</td>\n",
       "      <td>2.371160e+06</td>\n",
       "      <td>278.566463</td>\n",
       "      <td>0.000939</td>\n",
       "      <td>0.000000</td>\n",
       "      <td>2.286798</td>\n",
       "    </tr>\n",
       "    <tr>\n",
       "      <th>14902</th>\n",
       "      <td>2020-11-14</td>\n",
       "      <td>SE-Y</td>\n",
       "      <td>89.264026</td>\n",
       "      <td>1.481068e+04</td>\n",
       "      <td>2.359827e+06</td>\n",
       "      <td>278.493415</td>\n",
       "      <td>0.001144</td>\n",
       "      <td>0.000000</td>\n",
       "      <td>3.152586</td>\n",
       "    </tr>\n",
       "    <tr>\n",
       "      <th>14903</th>\n",
       "      <td>2020-11-14</td>\n",
       "      <td>SE-Z</td>\n",
       "      <td>88.625588</td>\n",
       "      <td>7.615427e+04</td>\n",
       "      <td>2.271884e+06</td>\n",
       "      <td>276.113972</td>\n",
       "      <td>0.002101</td>\n",
       "      <td>0.000000</td>\n",
       "      <td>3.199295</td>\n",
       "    </tr>\n",
       "  </tbody>\n",
       "</table>\n",
       "<p>14904 rows × 9 columns</p>\n",
       "</div>"
      ],
      "text/plain": [
       "            date iso3166-2  RelativeHumiditySurface  SolarRadiation  \\\n",
       "0     2020-02-13     DE-BB                76.337444    1.824290e+06   \n",
       "1     2020-02-13     DE-BE                76.065297    1.786373e+06   \n",
       "2     2020-02-13     DE-BW                80.113988    1.505760e+06   \n",
       "3     2020-02-13     DE-BY                81.554346    2.363013e+06   \n",
       "4     2020-02-13     DE-HB                87.167414    8.389756e+03   \n",
       "...          ...       ...                      ...             ...   \n",
       "14899 2020-11-14      SE-U                93.442738    4.831112e+04   \n",
       "14900 2020-11-14      SE-W                94.633991    1.790715e+04   \n",
       "14901 2020-11-14      SE-X                91.194131    3.040221e+04   \n",
       "14902 2020-11-14      SE-Y                89.264026    1.481068e+04   \n",
       "14903 2020-11-14      SE-Z                88.625588    7.615427e+04   \n",
       "\n",
       "       Surfacepressure  TemperatureAboveGround  Totalprecipitation   UVIndex  \\\n",
       "0         2.403341e+06              276.551573            0.003355  2.777806   \n",
       "1         2.408182e+06              276.844633            0.003523  4.671329   \n",
       "2         2.290158e+06              276.227143            0.008013  4.268546   \n",
       "3         2.275361e+06              275.583053            0.005227  4.417797   \n",
       "4         2.406940e+06              276.237452            0.007715  1.794872   \n",
       "...                ...                     ...                 ...       ...   \n",
       "14899     2.410483e+06              279.246340            0.000360  0.000000   \n",
       "14900     2.316636e+06              277.356327            0.002467  0.000000   \n",
       "14901     2.371160e+06              278.566463            0.000939  0.000000   \n",
       "14902     2.359827e+06              278.493415            0.001144  0.000000   \n",
       "14903     2.271884e+06              276.113972            0.002101  0.000000   \n",
       "\n",
       "       WindSpeed  \n",
       "0       4.542822  \n",
       "1       4.761509  \n",
       "2       4.467024  \n",
       "3       3.677414  \n",
       "4       4.699573  \n",
       "...          ...  \n",
       "14899   2.022863  \n",
       "14900   2.660086  \n",
       "14901   2.286798  \n",
       "14902   3.152586  \n",
       "14903   3.199295  \n",
       "\n",
       "[14904 rows x 9 columns]"
      ]
     },
     "execution_count": 520,
     "metadata": {},
     "output_type": "execute_result"
    }
   ],
   "source": [
    "raw_data[\"weather\"]"
   ]
  },
  {
   "cell_type": "code",
   "execution_count": 521,
   "metadata": {},
   "outputs": [],
   "source": [
    "de_weather = raw_data[\"weather\"][raw_data[\"weather\"]['iso3166-2'].str.startswith('DE')]"
   ]
  },
  {
   "cell_type": "code",
   "execution_count": 522,
   "metadata": {},
   "outputs": [
    {
     "data": {
      "text/html": [
       "<div>\n",
       "<style scoped>\n",
       "    .dataframe tbody tr th:only-of-type {\n",
       "        vertical-align: middle;\n",
       "    }\n",
       "\n",
       "    .dataframe tbody tr th {\n",
       "        vertical-align: top;\n",
       "    }\n",
       "\n",
       "    .dataframe thead th {\n",
       "        text-align: right;\n",
       "    }\n",
       "</style>\n",
       "<table border=\"1\" class=\"dataframe\">\n",
       "  <thead>\n",
       "    <tr style=\"text-align: right;\">\n",
       "      <th></th>\n",
       "      <th>date</th>\n",
       "      <th>iso3166-2</th>\n",
       "      <th>RelativeHumiditySurface</th>\n",
       "      <th>SolarRadiation</th>\n",
       "      <th>Surfacepressure</th>\n",
       "      <th>TemperatureAboveGround</th>\n",
       "      <th>Totalprecipitation</th>\n",
       "      <th>UVIndex</th>\n",
       "      <th>WindSpeed</th>\n",
       "    </tr>\n",
       "  </thead>\n",
       "  <tbody>\n",
       "    <tr>\n",
       "      <th>0</th>\n",
       "      <td>2020-02-13</td>\n",
       "      <td>DE-BB</td>\n",
       "      <td>76.337444</td>\n",
       "      <td>1.824290e+06</td>\n",
       "      <td>2.403341e+06</td>\n",
       "      <td>276.551573</td>\n",
       "      <td>0.003355</td>\n",
       "      <td>2.777806</td>\n",
       "      <td>4.542822</td>\n",
       "    </tr>\n",
       "    <tr>\n",
       "      <th>1</th>\n",
       "      <td>2020-02-13</td>\n",
       "      <td>DE-BE</td>\n",
       "      <td>76.065297</td>\n",
       "      <td>1.786373e+06</td>\n",
       "      <td>2.408182e+06</td>\n",
       "      <td>276.844633</td>\n",
       "      <td>0.003523</td>\n",
       "      <td>4.671329</td>\n",
       "      <td>4.761509</td>\n",
       "    </tr>\n",
       "    <tr>\n",
       "      <th>2</th>\n",
       "      <td>2020-02-13</td>\n",
       "      <td>DE-BW</td>\n",
       "      <td>80.113988</td>\n",
       "      <td>1.505760e+06</td>\n",
       "      <td>2.290158e+06</td>\n",
       "      <td>276.227143</td>\n",
       "      <td>0.008013</td>\n",
       "      <td>4.268546</td>\n",
       "      <td>4.467024</td>\n",
       "    </tr>\n",
       "    <tr>\n",
       "      <th>3</th>\n",
       "      <td>2020-02-13</td>\n",
       "      <td>DE-BY</td>\n",
       "      <td>81.554346</td>\n",
       "      <td>2.363013e+06</td>\n",
       "      <td>2.275361e+06</td>\n",
       "      <td>275.583053</td>\n",
       "      <td>0.005227</td>\n",
       "      <td>4.417797</td>\n",
       "      <td>3.677414</td>\n",
       "    </tr>\n",
       "    <tr>\n",
       "      <th>4</th>\n",
       "      <td>2020-02-13</td>\n",
       "      <td>DE-HB</td>\n",
       "      <td>87.167414</td>\n",
       "      <td>8.389756e+03</td>\n",
       "      <td>2.406940e+06</td>\n",
       "      <td>276.237452</td>\n",
       "      <td>0.007715</td>\n",
       "      <td>1.794872</td>\n",
       "      <td>4.699573</td>\n",
       "    </tr>\n",
       "    <tr>\n",
       "      <th>...</th>\n",
       "      <td>...</td>\n",
       "      <td>...</td>\n",
       "      <td>...</td>\n",
       "      <td>...</td>\n",
       "      <td>...</td>\n",
       "      <td>...</td>\n",
       "      <td>...</td>\n",
       "      <td>...</td>\n",
       "      <td>...</td>\n",
       "    </tr>\n",
       "    <tr>\n",
       "      <th>14861</th>\n",
       "      <td>2020-11-14</td>\n",
       "      <td>DE-SH</td>\n",
       "      <td>92.854723</td>\n",
       "      <td>7.043455e+05</td>\n",
       "      <td>2.429401e+06</td>\n",
       "      <td>283.769570</td>\n",
       "      <td>0.000243</td>\n",
       "      <td>0.033065</td>\n",
       "      <td>2.784840</td>\n",
       "    </tr>\n",
       "    <tr>\n",
       "      <th>14862</th>\n",
       "      <td>2020-11-14</td>\n",
       "      <td>DE-SL</td>\n",
       "      <td>87.575656</td>\n",
       "      <td>4.302501e+06</td>\n",
       "      <td>2.354934e+06</td>\n",
       "      <td>283.837352</td>\n",
       "      <td>0.000012</td>\n",
       "      <td>4.665761</td>\n",
       "      <td>3.050827</td>\n",
       "    </tr>\n",
       "    <tr>\n",
       "      <th>14863</th>\n",
       "      <td>2020-11-14</td>\n",
       "      <td>DE-SN</td>\n",
       "      <td>82.935273</td>\n",
       "      <td>2.388385e+06</td>\n",
       "      <td>2.362859e+06</td>\n",
       "      <td>283.909275</td>\n",
       "      <td>0.001199</td>\n",
       "      <td>2.795416</td>\n",
       "      <td>3.792073</td>\n",
       "    </tr>\n",
       "    <tr>\n",
       "      <th>14864</th>\n",
       "      <td>2020-11-14</td>\n",
       "      <td>DE-ST</td>\n",
       "      <td>85.289489</td>\n",
       "      <td>1.447632e+06</td>\n",
       "      <td>2.407647e+06</td>\n",
       "      <td>284.662583</td>\n",
       "      <td>0.000446</td>\n",
       "      <td>1.478117</td>\n",
       "      <td>2.738335</td>\n",
       "    </tr>\n",
       "    <tr>\n",
       "      <th>14865</th>\n",
       "      <td>2020-11-14</td>\n",
       "      <td>DE-TH</td>\n",
       "      <td>83.489704</td>\n",
       "      <td>2.546975e+06</td>\n",
       "      <td>2.342250e+06</td>\n",
       "      <td>283.884262</td>\n",
       "      <td>0.000368</td>\n",
       "      <td>2.624167</td>\n",
       "      <td>3.738925</td>\n",
       "    </tr>\n",
       "  </tbody>\n",
       "</table>\n",
       "<p>4416 rows × 9 columns</p>\n",
       "</div>"
      ],
      "text/plain": [
       "            date iso3166-2  RelativeHumiditySurface  SolarRadiation  \\\n",
       "0     2020-02-13     DE-BB                76.337444    1.824290e+06   \n",
       "1     2020-02-13     DE-BE                76.065297    1.786373e+06   \n",
       "2     2020-02-13     DE-BW                80.113988    1.505760e+06   \n",
       "3     2020-02-13     DE-BY                81.554346    2.363013e+06   \n",
       "4     2020-02-13     DE-HB                87.167414    8.389756e+03   \n",
       "...          ...       ...                      ...             ...   \n",
       "14861 2020-11-14     DE-SH                92.854723    7.043455e+05   \n",
       "14862 2020-11-14     DE-SL                87.575656    4.302501e+06   \n",
       "14863 2020-11-14     DE-SN                82.935273    2.388385e+06   \n",
       "14864 2020-11-14     DE-ST                85.289489    1.447632e+06   \n",
       "14865 2020-11-14     DE-TH                83.489704    2.546975e+06   \n",
       "\n",
       "       Surfacepressure  TemperatureAboveGround  Totalprecipitation   UVIndex  \\\n",
       "0         2.403341e+06              276.551573            0.003355  2.777806   \n",
       "1         2.408182e+06              276.844633            0.003523  4.671329   \n",
       "2         2.290158e+06              276.227143            0.008013  4.268546   \n",
       "3         2.275361e+06              275.583053            0.005227  4.417797   \n",
       "4         2.406940e+06              276.237452            0.007715  1.794872   \n",
       "...                ...                     ...                 ...       ...   \n",
       "14861     2.429401e+06              283.769570            0.000243  0.033065   \n",
       "14862     2.354934e+06              283.837352            0.000012  4.665761   \n",
       "14863     2.362859e+06              283.909275            0.001199  2.795416   \n",
       "14864     2.407647e+06              284.662583            0.000446  1.478117   \n",
       "14865     2.342250e+06              283.884262            0.000368  2.624167   \n",
       "\n",
       "       WindSpeed  \n",
       "0       4.542822  \n",
       "1       4.761509  \n",
       "2       4.467024  \n",
       "3       3.677414  \n",
       "4       4.699573  \n",
       "...          ...  \n",
       "14861   2.784840  \n",
       "14862   3.050827  \n",
       "14863   3.792073  \n",
       "14864   2.738335  \n",
       "14865   3.738925  \n",
       "\n",
       "[4416 rows x 9 columns]"
      ]
     },
     "execution_count": 522,
     "metadata": {},
     "output_type": "execute_result"
    }
   ],
   "source": [
    "de_weather"
   ]
  },
  {
   "cell_type": "markdown",
   "metadata": {},
   "source": [
    "# Sanity Check"
   ]
  },
  {
   "cell_type": "markdown",
   "metadata": {},
   "source": [
    "make a sanity check: are there missing values anywhere in the weather data?"
   ]
  },
  {
   "cell_type": "code",
   "execution_count": 523,
   "metadata": {},
   "outputs": [
    {
     "name": "stdout",
     "output_type": "stream",
     "text": [
      "False\n"
     ]
    }
   ],
   "source": [
    "print(raw_data[\"weather\"].isna().any().any())"
   ]
  },
  {
   "cell_type": "code",
   "execution_count": 524,
   "metadata": {},
   "outputs": [],
   "source": [
    "raw_data[\"weather\"][\"TemperatureAboveGround\"] = raw_data[\"weather\"][\"TemperatureAboveGround\"] - 273.15"
   ]
  },
  {
   "cell_type": "markdown",
   "metadata": {},
   "source": [
    "# Filter Data"
   ]
  },
  {
   "cell_type": "code",
   "execution_count": null,
   "metadata": {},
   "outputs": [],
   "source": []
  },
  {
   "cell_type": "markdown",
   "metadata": {},
   "source": [
    "### Region names with iso3166-2 codes and population"
   ]
  },
  {
   "cell_type": "code",
   "execution_count": 525,
   "metadata": {},
   "outputs": [
    {
     "name": "stderr",
     "output_type": "stream",
     "text": [
      "<ipython-input-525-bdaa05a73c1b>:5: FutureWarning: Indexing with multiple keys (implicitly converted to a tuple of keys) will be deprecated, use a list instead.\n",
      "  corona_df_by_region = raw_data[\"corona\"].groupby(by = \"region\")[\"confirmed_addition\", \"deceased_addition\", ].sum().reset_index()\n"
     ]
    },
    {
     "data": {
      "text/html": [
       "<div>\n",
       "<style scoped>\n",
       "    .dataframe tbody tr th:only-of-type {\n",
       "        vertical-align: middle;\n",
       "    }\n",
       "\n",
       "    .dataframe tbody tr th {\n",
       "        vertical-align: top;\n",
       "    }\n",
       "\n",
       "    .dataframe thead th {\n",
       "        text-align: right;\n",
       "    }\n",
       "</style>\n",
       "<table border=\"1\" class=\"dataframe\">\n",
       "  <thead>\n",
       "    <tr style=\"text-align: right;\">\n",
       "      <th></th>\n",
       "      <th>region</th>\n",
       "      <th>confirmed_addition</th>\n",
       "      <th>deceased_addition</th>\n",
       "      <th>population</th>\n",
       "    </tr>\n",
       "  </thead>\n",
       "  <tbody>\n",
       "    <tr>\n",
       "      <th>0</th>\n",
       "      <td>DE-BB</td>\n",
       "      <td>74955</td>\n",
       "      <td>2914</td>\n",
       "      <td>2511917</td>\n",
       "    </tr>\n",
       "    <tr>\n",
       "      <th>1</th>\n",
       "      <td>DE-BE</td>\n",
       "      <td>126896</td>\n",
       "      <td>2728</td>\n",
       "      <td>3644826</td>\n",
       "    </tr>\n",
       "    <tr>\n",
       "      <th>2</th>\n",
       "      <td>DE-BW</td>\n",
       "      <td>311152</td>\n",
       "      <td>7940</td>\n",
       "      <td>11069533</td>\n",
       "    </tr>\n",
       "    <tr>\n",
       "      <th>3</th>\n",
       "      <td>DE-BY</td>\n",
       "      <td>428996</td>\n",
       "      <td>12123</td>\n",
       "      <td>13076721</td>\n",
       "    </tr>\n",
       "    <tr>\n",
       "      <th>4</th>\n",
       "      <td>DE-HB</td>\n",
       "      <td>17485</td>\n",
       "      <td>327</td>\n",
       "      <td>682986</td>\n",
       "    </tr>\n",
       "    <tr>\n",
       "      <th>5</th>\n",
       "      <td>DE-HE</td>\n",
       "      <td>184434</td>\n",
       "      <td>5672</td>\n",
       "      <td>6265809</td>\n",
       "    </tr>\n",
       "    <tr>\n",
       "      <th>6</th>\n",
       "      <td>DE-HH</td>\n",
       "      <td>50291</td>\n",
       "      <td>1223</td>\n",
       "      <td>1841179</td>\n",
       "    </tr>\n",
       "    <tr>\n",
       "      <th>7</th>\n",
       "      <td>DE-MV</td>\n",
       "      <td>23436</td>\n",
       "      <td>692</td>\n",
       "      <td>1609675</td>\n",
       "    </tr>\n",
       "    <tr>\n",
       "      <th>8</th>\n",
       "      <td>DE-NI</td>\n",
       "      <td>159191</td>\n",
       "      <td>4104</td>\n",
       "      <td>7982448</td>\n",
       "    </tr>\n",
       "    <tr>\n",
       "      <th>9</th>\n",
       "      <td>DE-NW</td>\n",
       "      <td>521548</td>\n",
       "      <td>12632</td>\n",
       "      <td>17932651</td>\n",
       "    </tr>\n",
       "    <tr>\n",
       "      <th>10</th>\n",
       "      <td>DE-RP</td>\n",
       "      <td>100118</td>\n",
       "      <td>2993</td>\n",
       "      <td>4084844</td>\n",
       "    </tr>\n",
       "    <tr>\n",
       "      <th>11</th>\n",
       "      <td>DE-SH</td>\n",
       "      <td>41113</td>\n",
       "      <td>1211</td>\n",
       "      <td>2896712</td>\n",
       "    </tr>\n",
       "    <tr>\n",
       "      <th>12</th>\n",
       "      <td>DE-SL</td>\n",
       "      <td>28056</td>\n",
       "      <td>848</td>\n",
       "      <td>990509</td>\n",
       "    </tr>\n",
       "    <tr>\n",
       "      <th>13</th>\n",
       "      <td>DE-SN</td>\n",
       "      <td>190813</td>\n",
       "      <td>7460</td>\n",
       "      <td>4077937</td>\n",
       "    </tr>\n",
       "    <tr>\n",
       "      <th>14</th>\n",
       "      <td>DE-ST</td>\n",
       "      <td>58674</td>\n",
       "      <td>2293</td>\n",
       "      <td>2208321</td>\n",
       "    </tr>\n",
       "    <tr>\n",
       "      <th>15</th>\n",
       "      <td>DE-TH</td>\n",
       "      <td>73702</td>\n",
       "      <td>2742</td>\n",
       "      <td>2143145</td>\n",
       "    </tr>\n",
       "  </tbody>\n",
       "</table>\n",
       "</div>"
      ],
      "text/plain": [
       "   region  confirmed_addition  deceased_addition  population\n",
       "0   DE-BB               74955               2914     2511917\n",
       "1   DE-BE              126896               2728     3644826\n",
       "2   DE-BW              311152               7940    11069533\n",
       "3   DE-BY              428996              12123    13076721\n",
       "4   DE-HB               17485                327      682986\n",
       "5   DE-HE              184434               5672     6265809\n",
       "6   DE-HH               50291               1223     1841179\n",
       "7   DE-MV               23436                692     1609675\n",
       "8   DE-NI              159191               4104     7982448\n",
       "9   DE-NW              521548              12632    17932651\n",
       "10  DE-RP              100118               2993     4084844\n",
       "11  DE-SH               41113               1211     2896712\n",
       "12  DE-SL               28056                848      990509\n",
       "13  DE-SN              190813               7460     4077937\n",
       "14  DE-ST               58674               2293     2208321\n",
       "15  DE-TH               73702               2742     2143145"
      ]
     },
     "execution_count": 525,
     "metadata": {},
     "output_type": "execute_result"
    }
   ],
   "source": [
    "region_map = {country_metadata[\"country_metadata\"][i][\"covid_region_code\"]: country_metadata[\"country_metadata\"][i][\"iso3166-2_code\"] for i in range(len(country_metadata[\"country_metadata\"]))}\n",
    "\n",
    "raw_data[\"corona\"][\"region\"] = raw_data[\"corona\"][\"region_code\"].map(region_map)\n",
    "\n",
    "corona_df_by_region = raw_data[\"corona\"].groupby(by = \"region\")[\"confirmed_addition\", \"deceased_addition\", ].sum().reset_index()\n",
    "\n",
    "\n",
    "population_map = {country_metadata[\"country_metadata\"][i][\"iso3166-2_code\"]: country_metadata[\"country_metadata\"][i][\"population\"] for i in range(len(country_metadata[\"country_metadata\"]))}\n",
    "\n",
    "corona_df_by_region[\"population\"] = corona_df_by_region[\"region\"].map(population_map)\n",
    "\n",
    "corona_df_by_region"
   ]
  },
  {
   "cell_type": "code",
   "execution_count": null,
   "metadata": {},
   "outputs": [],
   "source": []
  },
  {
   "cell_type": "markdown",
   "metadata": {},
   "source": [
    "# Numerical summary"
   ]
  },
  {
   "cell_type": "markdown",
   "metadata": {},
   "source": [
    "## Germany corona dataset"
   ]
  },
  {
   "cell_type": "markdown",
   "metadata": {},
   "source": [
    "There are 16 regions"
   ]
  },
  {
   "cell_type": "code",
   "execution_count": 526,
   "metadata": {},
   "outputs": [
    {
     "data": {
      "text/plain": [
       "array(['Nordrhein-Westfalen', 'Berlin', 'Saarland', 'Bayern',\n",
       "       'Niedersachsen', 'Mecklenburg-Vorpommern', 'Brandenburg',\n",
       "       'Baden-Württemberg', 'Hessen', 'Rheinland-Pfalz',\n",
       "       'Schleswig-Holstein', 'Hamburg', 'Bremen', 'Sachsen', 'Thüringen',\n",
       "       'Sachsen-Anhalt'], dtype=object)"
      ]
     },
     "execution_count": 526,
     "metadata": {},
     "output_type": "execute_result"
    }
   ],
   "source": [
    "pd.Series(raw_data['corona']['region_code']).unique()"
   ]
  },
  {
   "cell_type": "markdown",
   "metadata": {},
   "source": [
    "### Daily registered cases in Germany"
   ]
  },
  {
   "cell_type": "code",
   "execution_count": 527,
   "metadata": {},
   "outputs": [
    {
     "data": {
      "text/html": [
       "<div>\n",
       "<style scoped>\n",
       "    .dataframe tbody tr th:only-of-type {\n",
       "        vertical-align: middle;\n",
       "    }\n",
       "\n",
       "    .dataframe tbody tr th {\n",
       "        vertical-align: top;\n",
       "    }\n",
       "\n",
       "    .dataframe thead th {\n",
       "        text-align: right;\n",
       "    }\n",
       "</style>\n",
       "<table border=\"1\" class=\"dataframe\">\n",
       "  <thead>\n",
       "    <tr style=\"text-align: right;\">\n",
       "      <th></th>\n",
       "      <th>confirmed_addition</th>\n",
       "      <th>deceased_addition</th>\n",
       "    </tr>\n",
       "  </thead>\n",
       "  <tbody>\n",
       "    <tr>\n",
       "      <th>count</th>\n",
       "      <td>5602.000000</td>\n",
       "      <td>5602.000000</td>\n",
       "    </tr>\n",
       "    <tr>\n",
       "      <th>mean</th>\n",
       "      <td>426.786862</td>\n",
       "      <td>12.121028</td>\n",
       "    </tr>\n",
       "    <tr>\n",
       "      <th>std</th>\n",
       "      <td>831.095886</td>\n",
       "      <td>25.823844</td>\n",
       "    </tr>\n",
       "    <tr>\n",
       "      <th>min</th>\n",
       "      <td>1.000000</td>\n",
       "      <td>0.000000</td>\n",
       "    </tr>\n",
       "    <tr>\n",
       "      <th>25%</th>\n",
       "      <td>18.000000</td>\n",
       "      <td>0.000000</td>\n",
       "    </tr>\n",
       "    <tr>\n",
       "      <th>50%</th>\n",
       "      <td>95.000000</td>\n",
       "      <td>1.000000</td>\n",
       "    </tr>\n",
       "    <tr>\n",
       "      <th>75%</th>\n",
       "      <td>396.000000</td>\n",
       "      <td>10.000000</td>\n",
       "    </tr>\n",
       "    <tr>\n",
       "      <th>max</th>\n",
       "      <td>6809.000000</td>\n",
       "      <td>213.000000</td>\n",
       "    </tr>\n",
       "  </tbody>\n",
       "</table>\n",
       "</div>"
      ],
      "text/plain": [
       "       confirmed_addition  deceased_addition\n",
       "count         5602.000000        5602.000000\n",
       "mean           426.786862          12.121028\n",
       "std            831.095886          25.823844\n",
       "min              1.000000           0.000000\n",
       "25%             18.000000           0.000000\n",
       "50%             95.000000           1.000000\n",
       "75%            396.000000          10.000000\n",
       "max           6809.000000         213.000000"
      ]
     },
     "execution_count": 527,
     "metadata": {},
     "output_type": "execute_result"
    }
   ],
   "source": [
    "raw_data[\"corona\"].describe()"
   ]
  },
  {
   "cell_type": "code",
   "execution_count": 528,
   "metadata": {},
   "outputs": [],
   "source": [
    "rcParams['figure.figsize'] = 25,4;"
   ]
  },
  {
   "cell_type": "code",
   "execution_count": 529,
   "metadata": {},
   "outputs": [
    {
     "data": {
      "image/png": "[encoded data removed]",
      "text/plain": [
       "<Figure size 1800x288 with 1 Axes>"
      ]
     },
     "metadata": {},
     "output_type": "display_data"
    }
   ],
   "source": [
    "deCorona_confirmed = raw_data['corona']['confirmed_addition']\n",
    "sns.boxplot(deCorona_confirmed, color='lightgray').set_title('Daily confirmed addition registered in Germany - 2020');\n",
    "# figure size in inches\n"
   ]
  },
  {
   "cell_type": "code",
   "execution_count": 530,
   "metadata": {},
   "outputs": [
    {
     "data": {
      "image/png": "[encoded data removed]",
      "text/plain": [
       "<Figure size 1800x288 with 1 Axes>"
      ]
     },
     "metadata": {},
     "output_type": "display_data"
    }
   ],
   "source": [
    "deCorona_deceased = raw_data['corona']['deceased_addition']\n",
    "sns.boxplot(deCorona_deceased, color='lightgray').set_title('Daily deceased addition registered in Germany - 2020');"
   ]
  },
  {
   "cell_type": "markdown",
   "metadata": {},
   "source": [
    "### 2020 - all registered cases in Germany"
   ]
  },
  {
   "cell_type": "code",
   "execution_count": 531,
   "metadata": {},
   "outputs": [
    {
     "data": {
      "text/html": [
       "<div>\n",
       "<style scoped>\n",
       "    .dataframe tbody tr th:only-of-type {\n",
       "        vertical-align: middle;\n",
       "    }\n",
       "\n",
       "    .dataframe tbody tr th {\n",
       "        vertical-align: top;\n",
       "    }\n",
       "\n",
       "    .dataframe thead th {\n",
       "        text-align: right;\n",
       "    }\n",
       "</style>\n",
       "<table border=\"1\" class=\"dataframe\">\n",
       "  <thead>\n",
       "    <tr style=\"text-align: right;\">\n",
       "      <th></th>\n",
       "      <th>confirmed_addition</th>\n",
       "      <th>deceased_addition</th>\n",
       "      <th>population</th>\n",
       "    </tr>\n",
       "  </thead>\n",
       "  <tbody>\n",
       "    <tr>\n",
       "      <th>count</th>\n",
       "      <td>16.000000</td>\n",
       "      <td>16.000000</td>\n",
       "      <td>1.600000e+01</td>\n",
       "    </tr>\n",
       "    <tr>\n",
       "      <th>mean</th>\n",
       "      <td>149428.750000</td>\n",
       "      <td>4243.875000</td>\n",
       "      <td>5.188701e+06</td>\n",
       "    </tr>\n",
       "    <tr>\n",
       "      <th>std</th>\n",
       "      <td>150077.793995</td>\n",
       "      <td>3898.816417</td>\n",
       "      <td>4.936479e+06</td>\n",
       "    </tr>\n",
       "    <tr>\n",
       "      <th>min</th>\n",
       "      <td>17485.000000</td>\n",
       "      <td>327.000000</td>\n",
       "      <td>6.829860e+05</td>\n",
       "    </tr>\n",
       "    <tr>\n",
       "      <th>25%</th>\n",
       "      <td>47996.500000</td>\n",
       "      <td>1220.000000</td>\n",
       "      <td>2.067654e+06</td>\n",
       "    </tr>\n",
       "    <tr>\n",
       "      <th>50%</th>\n",
       "      <td>87536.500000</td>\n",
       "      <td>2828.000000</td>\n",
       "      <td>3.270769e+06</td>\n",
       "    </tr>\n",
       "    <tr>\n",
       "      <th>75%</th>\n",
       "      <td>186028.750000</td>\n",
       "      <td>6119.000000</td>\n",
       "      <td>6.694969e+06</td>\n",
       "    </tr>\n",
       "    <tr>\n",
       "      <th>max</th>\n",
       "      <td>521548.000000</td>\n",
       "      <td>12632.000000</td>\n",
       "      <td>1.793265e+07</td>\n",
       "    </tr>\n",
       "  </tbody>\n",
       "</table>\n",
       "</div>"
      ],
      "text/plain": [
       "       confirmed_addition  deceased_addition    population\n",
       "count           16.000000          16.000000  1.600000e+01\n",
       "mean        149428.750000        4243.875000  5.188701e+06\n",
       "std         150077.793995        3898.816417  4.936479e+06\n",
       "min          17485.000000         327.000000  6.829860e+05\n",
       "25%          47996.500000        1220.000000  2.067654e+06\n",
       "50%          87536.500000        2828.000000  3.270769e+06\n",
       "75%         186028.750000        6119.000000  6.694969e+06\n",
       "max         521548.000000       12632.000000  1.793265e+07"
      ]
     },
     "execution_count": 531,
     "metadata": {},
     "output_type": "execute_result"
    }
   ],
   "source": [
    "corona_df_by_region.describe()"
   ]
  },
  {
   "cell_type": "code",
   "execution_count": 532,
   "metadata": {},
   "outputs": [],
   "source": [
    "rcParams['figure.figsize'] = 5, 3;"
   ]
  },
  {
   "cell_type": "code",
   "execution_count": 533,
   "metadata": {},
   "outputs": [
    {
     "data": {
      "image/png": "[encoded data removed]",
      "text/plain": [
       "<Figure size 360x216 with 1 Axes>"
      ]
     },
     "metadata": {},
     "output_type": "display_data"
    }
   ],
   "source": [
    "CoronaSUM_confirmed = corona_df_by_region['confirmed_addition']\n",
    "sns.boxplot(CoronaSUM_confirmed, color='lightgray').set_title('Confirmed addition registered in Germany - 2020');"
   ]
  },
  {
   "cell_type": "code",
   "execution_count": 534,
   "metadata": {},
   "outputs": [
    {
     "data": {
      "image/png": "[encoded data removed]",
      "text/plain": [
       "<Figure size 360x216 with 1 Axes>"
      ]
     },
     "metadata": {},
     "output_type": "display_data"
    }
   ],
   "source": [
    "CoronaSUM_deceased = corona_df_by_region['deceased_addition']\n",
    "sns.boxplot(CoronaSUM_deceased, color='lightgray').set_title('Deceased addition registered in Germany - 2020');"
   ]
  },
  {
   "cell_type": "markdown",
   "metadata": {},
   "source": [
    "### Number of cases per capita"
   ]
  },
  {
   "cell_type": "code",
   "execution_count": 535,
   "metadata": {},
   "outputs": [],
   "source": [
    "corona_df_by_region['confirmed/pop'] = corona_df_by_region['confirmed_addition']/corona_df_by_region['population']"
   ]
  },
  {
   "cell_type": "code",
   "execution_count": 536,
   "metadata": {},
   "outputs": [
    {
     "name": "stdout",
     "output_type": "stream",
     "text": [
      "   region  confirmed_addition  deceased_addition  population  confirmed/pop  \\\n",
      "0   DE-BB               74955               2914     2511917       0.029840   \n",
      "1   DE-BE              126896               2728     3644826       0.034815   \n",
      "2   DE-BW              311152               7940    11069533       0.028109   \n",
      "3   DE-BY              428996              12123    13076721       0.032806   \n",
      "4   DE-HB               17485                327      682986       0.025601   \n",
      "5   DE-HE              184434               5672     6265809       0.029435   \n",
      "6   DE-HH               50291               1223     1841179       0.027315   \n",
      "7   DE-MV               23436                692     1609675       0.014559   \n",
      "8   DE-NI              159191               4104     7982448       0.019943   \n",
      "9   DE-NW              521548              12632    17932651       0.029084   \n",
      "10  DE-RP              100118               2993     4084844       0.024510   \n",
      "11  DE-SH               41113               1211     2896712       0.014193   \n",
      "12  DE-SL               28056                848      990509       0.028325   \n",
      "13  DE-SN              190813               7460     4077937       0.046792   \n",
      "14  DE-ST               58674               2293     2208321       0.026570   \n",
      "15  DE-TH               73702               2742     2143145       0.034390   \n",
      "\n",
      "    deceased/pop  \n",
      "0       0.001160  \n",
      "1       0.000748  \n",
      "2       0.000717  \n",
      "3       0.000927  \n",
      "4       0.000479  \n",
      "5       0.000905  \n",
      "6       0.000664  \n",
      "7       0.000430  \n",
      "8       0.000514  \n",
      "9       0.000704  \n",
      "10      0.000733  \n",
      "11      0.000418  \n",
      "12      0.000856  \n",
      "13      0.001829  \n",
      "14      0.001038  \n",
      "15      0.001279  \n"
     ]
    }
   ],
   "source": [
    "corona_df_by_region['deceased/pop'] = corona_df_by_region['deceased_addition']/corona_df_by_region['population']\n",
    "print(corona_df_by_region)"
   ]
  },
  {
   "cell_type": "code",
   "execution_count": 537,
   "metadata": {},
   "outputs": [
    {
     "name": "stderr",
     "output_type": "stream",
     "text": [
      "<ipython-input-537-6de09c972275>:1: FutureWarning: Indexing with multiple keys (implicitly converted to a tuple of keys) will be deprecated, use a list instead.\n",
      "  corona_df_by_region.groupby(\"region\")[\"deceased/pop\", \"confirmed/pop\"].describe()\n"
     ]
    },
    {
     "data": {
      "text/html": [
       "<div>\n",
       "<style scoped>\n",
       "    .dataframe tbody tr th:only-of-type {\n",
       "        vertical-align: middle;\n",
       "    }\n",
       "\n",
       "    .dataframe tbody tr th {\n",
       "        vertical-align: top;\n",
       "    }\n",
       "\n",
       "    .dataframe thead tr th {\n",
       "        text-align: left;\n",
       "    }\n",
       "\n",
       "    .dataframe thead tr:last-of-type th {\n",
       "        text-align: right;\n",
       "    }\n",
       "</style>\n",
       "<table border=\"1\" class=\"dataframe\">\n",
       "  <thead>\n",
       "    <tr>\n",
       "      <th></th>\n",
       "      <th colspan=\"8\" halign=\"left\">deceased/pop</th>\n",
       "      <th colspan=\"8\" halign=\"left\">confirmed/pop</th>\n",
       "    </tr>\n",
       "    <tr>\n",
       "      <th></th>\n",
       "      <th>count</th>\n",
       "      <th>mean</th>\n",
       "      <th>std</th>\n",
       "      <th>min</th>\n",
       "      <th>25%</th>\n",
       "      <th>50%</th>\n",
       "      <th>75%</th>\n",
       "      <th>max</th>\n",
       "      <th>count</th>\n",
       "      <th>mean</th>\n",
       "      <th>std</th>\n",
       "      <th>min</th>\n",
       "      <th>25%</th>\n",
       "      <th>50%</th>\n",
       "      <th>75%</th>\n",
       "      <th>max</th>\n",
       "    </tr>\n",
       "    <tr>\n",
       "      <th>region</th>\n",
       "      <th></th>\n",
       "      <th></th>\n",
       "      <th></th>\n",
       "      <th></th>\n",
       "      <th></th>\n",
       "      <th></th>\n",
       "      <th></th>\n",
       "      <th></th>\n",
       "      <th></th>\n",
       "      <th></th>\n",
       "      <th></th>\n",
       "      <th></th>\n",
       "      <th></th>\n",
       "      <th></th>\n",
       "      <th></th>\n",
       "      <th></th>\n",
       "    </tr>\n",
       "  </thead>\n",
       "  <tbody>\n",
       "    <tr>\n",
       "      <th>DE-BB</th>\n",
       "      <td>1.0</td>\n",
       "      <td>0.001160</td>\n",
       "      <td>NaN</td>\n",
       "      <td>0.001160</td>\n",
       "      <td>0.001160</td>\n",
       "      <td>0.001160</td>\n",
       "      <td>0.001160</td>\n",
       "      <td>0.001160</td>\n",
       "      <td>1.0</td>\n",
       "      <td>0.029840</td>\n",
       "      <td>NaN</td>\n",
       "      <td>0.029840</td>\n",
       "      <td>0.029840</td>\n",
       "      <td>0.029840</td>\n",
       "      <td>0.029840</td>\n",
       "      <td>0.029840</td>\n",
       "    </tr>\n",
       "    <tr>\n",
       "      <th>DE-BE</th>\n",
       "      <td>1.0</td>\n",
       "      <td>0.000748</td>\n",
       "      <td>NaN</td>\n",
       "      <td>0.000748</td>\n",
       "      <td>0.000748</td>\n",
       "      <td>0.000748</td>\n",
       "      <td>0.000748</td>\n",
       "      <td>0.000748</td>\n",
       "      <td>1.0</td>\n",
       "      <td>0.034815</td>\n",
       "      <td>NaN</td>\n",
       "      <td>0.034815</td>\n",
       "      <td>0.034815</td>\n",
       "      <td>0.034815</td>\n",
       "      <td>0.034815</td>\n",
       "      <td>0.034815</td>\n",
       "    </tr>\n",
       "    <tr>\n",
       "      <th>DE-BW</th>\n",
       "      <td>1.0</td>\n",
       "      <td>0.000717</td>\n",
       "      <td>NaN</td>\n",
       "      <td>0.000717</td>\n",
       "      <td>0.000717</td>\n",
       "      <td>0.000717</td>\n",
       "      <td>0.000717</td>\n",
       "      <td>0.000717</td>\n",
       "      <td>1.0</td>\n",
       "      <td>0.028109</td>\n",
       "      <td>NaN</td>\n",
       "      <td>0.028109</td>\n",
       "      <td>0.028109</td>\n",
       "      <td>0.028109</td>\n",
       "      <td>0.028109</td>\n",
       "      <td>0.028109</td>\n",
       "    </tr>\n",
       "    <tr>\n",
       "      <th>DE-BY</th>\n",
       "      <td>1.0</td>\n",
       "      <td>0.000927</td>\n",
       "      <td>NaN</td>\n",
       "      <td>0.000927</td>\n",
       "      <td>0.000927</td>\n",
       "      <td>0.000927</td>\n",
       "      <td>0.000927</td>\n",
       "      <td>0.000927</td>\n",
       "      <td>1.0</td>\n",
       "      <td>0.032806</td>\n",
       "      <td>NaN</td>\n",
       "      <td>0.032806</td>\n",
       "      <td>0.032806</td>\n",
       "      <td>0.032806</td>\n",
       "      <td>0.032806</td>\n",
       "      <td>0.032806</td>\n",
       "    </tr>\n",
       "    <tr>\n",
       "      <th>DE-HB</th>\n",
       "      <td>1.0</td>\n",
       "      <td>0.000479</td>\n",
       "      <td>NaN</td>\n",
       "      <td>0.000479</td>\n",
       "      <td>0.000479</td>\n",
       "      <td>0.000479</td>\n",
       "      <td>0.000479</td>\n",
       "      <td>0.000479</td>\n",
       "      <td>1.0</td>\n",
       "      <td>0.025601</td>\n",
       "      <td>NaN</td>\n",
       "      <td>0.025601</td>\n",
       "      <td>0.025601</td>\n",
       "      <td>0.025601</td>\n",
       "      <td>0.025601</td>\n",
       "      <td>0.025601</td>\n",
       "    </tr>\n",
       "    <tr>\n",
       "      <th>DE-HE</th>\n",
       "      <td>1.0</td>\n",
       "      <td>0.000905</td>\n",
       "      <td>NaN</td>\n",
       "      <td>0.000905</td>\n",
       "      <td>0.000905</td>\n",
       "      <td>0.000905</td>\n",
       "      <td>0.000905</td>\n",
       "      <td>0.000905</td>\n",
       "      <td>1.0</td>\n",
       "      <td>0.029435</td>\n",
       "      <td>NaN</td>\n",
       "      <td>0.029435</td>\n",
       "      <td>0.029435</td>\n",
       "      <td>0.029435</td>\n",
       "      <td>0.029435</td>\n",
       "      <td>0.029435</td>\n",
       "    </tr>\n",
       "    <tr>\n",
       "      <th>DE-HH</th>\n",
       "      <td>1.0</td>\n",
       "      <td>0.000664</td>\n",
       "      <td>NaN</td>\n",
       "      <td>0.000664</td>\n",
       "      <td>0.000664</td>\n",
       "      <td>0.000664</td>\n",
       "      <td>0.000664</td>\n",
       "      <td>0.000664</td>\n",
       "      <td>1.0</td>\n",
       "      <td>0.027315</td>\n",
       "      <td>NaN</td>\n",
       "      <td>0.027315</td>\n",
       "      <td>0.027315</td>\n",
       "      <td>0.027315</td>\n",
       "      <td>0.027315</td>\n",
       "      <td>0.027315</td>\n",
       "    </tr>\n",
       "    <tr>\n",
       "      <th>DE-MV</th>\n",
       "      <td>1.0</td>\n",
       "      <td>0.000430</td>\n",
       "      <td>NaN</td>\n",
       "      <td>0.000430</td>\n",
       "      <td>0.000430</td>\n",
       "      <td>0.000430</td>\n",
       "      <td>0.000430</td>\n",
       "      <td>0.000430</td>\n",
       "      <td>1.0</td>\n",
       "      <td>0.014559</td>\n",
       "      <td>NaN</td>\n",
       "      <td>0.014559</td>\n",
       "      <td>0.014559</td>\n",
       "      <td>0.014559</td>\n",
       "      <td>0.014559</td>\n",
       "      <td>0.014559</td>\n",
       "    </tr>\n",
       "    <tr>\n",
       "      <th>DE-NI</th>\n",
       "      <td>1.0</td>\n",
       "      <td>0.000514</td>\n",
       "      <td>NaN</td>\n",
       "      <td>0.000514</td>\n",
       "      <td>0.000514</td>\n",
       "      <td>0.000514</td>\n",
       "      <td>0.000514</td>\n",
       "      <td>0.000514</td>\n",
       "      <td>1.0</td>\n",
       "      <td>0.019943</td>\n",
       "      <td>NaN</td>\n",
       "      <td>0.019943</td>\n",
       "      <td>0.019943</td>\n",
       "      <td>0.019943</td>\n",
       "      <td>0.019943</td>\n",
       "      <td>0.019943</td>\n",
       "    </tr>\n",
       "    <tr>\n",
       "      <th>DE-NW</th>\n",
       "      <td>1.0</td>\n",
       "      <td>0.000704</td>\n",
       "      <td>NaN</td>\n",
       "      <td>0.000704</td>\n",
       "      <td>0.000704</td>\n",
       "      <td>0.000704</td>\n",
       "      <td>0.000704</td>\n",
       "      <td>0.000704</td>\n",
       "      <td>1.0</td>\n",
       "      <td>0.029084</td>\n",
       "      <td>NaN</td>\n",
       "      <td>0.029084</td>\n",
       "      <td>0.029084</td>\n",
       "      <td>0.029084</td>\n",
       "      <td>0.029084</td>\n",
       "      <td>0.029084</td>\n",
       "    </tr>\n",
       "    <tr>\n",
       "      <th>DE-RP</th>\n",
       "      <td>1.0</td>\n",
       "      <td>0.000733</td>\n",
       "      <td>NaN</td>\n",
       "      <td>0.000733</td>\n",
       "      <td>0.000733</td>\n",
       "      <td>0.000733</td>\n",
       "      <td>0.000733</td>\n",
       "      <td>0.000733</td>\n",
       "      <td>1.0</td>\n",
       "      <td>0.024510</td>\n",
       "      <td>NaN</td>\n",
       "      <td>0.024510</td>\n",
       "      <td>0.024510</td>\n",
       "      <td>0.024510</td>\n",
       "      <td>0.024510</td>\n",
       "      <td>0.024510</td>\n",
       "    </tr>\n",
       "    <tr>\n",
       "      <th>DE-SH</th>\n",
       "      <td>1.0</td>\n",
       "      <td>0.000418</td>\n",
       "      <td>NaN</td>\n",
       "      <td>0.000418</td>\n",
       "      <td>0.000418</td>\n",
       "      <td>0.000418</td>\n",
       "      <td>0.000418</td>\n",
       "      <td>0.000418</td>\n",
       "      <td>1.0</td>\n",
       "      <td>0.014193</td>\n",
       "      <td>NaN</td>\n",
       "      <td>0.014193</td>\n",
       "      <td>0.014193</td>\n",
       "      <td>0.014193</td>\n",
       "      <td>0.014193</td>\n",
       "      <td>0.014193</td>\n",
       "    </tr>\n",
       "    <tr>\n",
       "      <th>DE-SL</th>\n",
       "      <td>1.0</td>\n",
       "      <td>0.000856</td>\n",
       "      <td>NaN</td>\n",
       "      <td>0.000856</td>\n",
       "      <td>0.000856</td>\n",
       "      <td>0.000856</td>\n",
       "      <td>0.000856</td>\n",
       "      <td>0.000856</td>\n",
       "      <td>1.0</td>\n",
       "      <td>0.028325</td>\n",
       "      <td>NaN</td>\n",
       "      <td>0.028325</td>\n",
       "      <td>0.028325</td>\n",
       "      <td>0.028325</td>\n",
       "      <td>0.028325</td>\n",
       "      <td>0.028325</td>\n",
       "    </tr>\n",
       "    <tr>\n",
       "      <th>DE-SN</th>\n",
       "      <td>1.0</td>\n",
       "      <td>0.001829</td>\n",
       "      <td>NaN</td>\n",
       "      <td>0.001829</td>\n",
       "      <td>0.001829</td>\n",
       "      <td>0.001829</td>\n",
       "      <td>0.001829</td>\n",
       "      <td>0.001829</td>\n",
       "      <td>1.0</td>\n",
       "      <td>0.046792</td>\n",
       "      <td>NaN</td>\n",
       "      <td>0.046792</td>\n",
       "      <td>0.046792</td>\n",
       "      <td>0.046792</td>\n",
       "      <td>0.046792</td>\n",
       "      <td>0.046792</td>\n",
       "    </tr>\n",
       "    <tr>\n",
       "      <th>DE-ST</th>\n",
       "      <td>1.0</td>\n",
       "      <td>0.001038</td>\n",
       "      <td>NaN</td>\n",
       "      <td>0.001038</td>\n",
       "      <td>0.001038</td>\n",
       "      <td>0.001038</td>\n",
       "      <td>0.001038</td>\n",
       "      <td>0.001038</td>\n",
       "      <td>1.0</td>\n",
       "      <td>0.026570</td>\n",
       "      <td>NaN</td>\n",
       "      <td>0.026570</td>\n",
       "      <td>0.026570</td>\n",
       "      <td>0.026570</td>\n",
       "      <td>0.026570</td>\n",
       "      <td>0.026570</td>\n",
       "    </tr>\n",
       "    <tr>\n",
       "      <th>DE-TH</th>\n",
       "      <td>1.0</td>\n",
       "      <td>0.001279</td>\n",
       "      <td>NaN</td>\n",
       "      <td>0.001279</td>\n",
       "      <td>0.001279</td>\n",
       "      <td>0.001279</td>\n",
       "      <td>0.001279</td>\n",
       "      <td>0.001279</td>\n",
       "      <td>1.0</td>\n",
       "      <td>0.034390</td>\n",
       "      <td>NaN</td>\n",
       "      <td>0.034390</td>\n",
       "      <td>0.034390</td>\n",
       "      <td>0.034390</td>\n",
       "      <td>0.034390</td>\n",
       "      <td>0.034390</td>\n",
       "    </tr>\n",
       "  </tbody>\n",
       "</table>\n",
       "</div>"
      ],
      "text/plain": [
       "       deceased/pop                                                        \\\n",
       "              count      mean std       min       25%       50%       75%   \n",
       "region                                                                      \n",
       "DE-BB           1.0  0.001160 NaN  0.001160  0.001160  0.001160  0.001160   \n",
       "DE-BE           1.0  0.000748 NaN  0.000748  0.000748  0.000748  0.000748   \n",
       "DE-BW           1.0  0.000717 NaN  0.000717  0.000717  0.000717  0.000717   \n",
       "DE-BY           1.0  0.000927 NaN  0.000927  0.000927  0.000927  0.000927   \n",
       "DE-HB           1.0  0.000479 NaN  0.000479  0.000479  0.000479  0.000479   \n",
       "DE-HE           1.0  0.000905 NaN  0.000905  0.000905  0.000905  0.000905   \n",
       "DE-HH           1.0  0.000664 NaN  0.000664  0.000664  0.000664  0.000664   \n",
       "DE-MV           1.0  0.000430 NaN  0.000430  0.000430  0.000430  0.000430   \n",
       "DE-NI           1.0  0.000514 NaN  0.000514  0.000514  0.000514  0.000514   \n",
       "DE-NW           1.0  0.000704 NaN  0.000704  0.000704  0.000704  0.000704   \n",
       "DE-RP           1.0  0.000733 NaN  0.000733  0.000733  0.000733  0.000733   \n",
       "DE-SH           1.0  0.000418 NaN  0.000418  0.000418  0.000418  0.000418   \n",
       "DE-SL           1.0  0.000856 NaN  0.000856  0.000856  0.000856  0.000856   \n",
       "DE-SN           1.0  0.001829 NaN  0.001829  0.001829  0.001829  0.001829   \n",
       "DE-ST           1.0  0.001038 NaN  0.001038  0.001038  0.001038  0.001038   \n",
       "DE-TH           1.0  0.001279 NaN  0.001279  0.001279  0.001279  0.001279   \n",
       "\n",
       "                 confirmed/pop                                              \\\n",
       "             max         count      mean std       min       25%       50%   \n",
       "region                                                                       \n",
       "DE-BB   0.001160           1.0  0.029840 NaN  0.029840  0.029840  0.029840   \n",
       "DE-BE   0.000748           1.0  0.034815 NaN  0.034815  0.034815  0.034815   \n",
       "DE-BW   0.000717           1.0  0.028109 NaN  0.028109  0.028109  0.028109   \n",
       "DE-BY   0.000927           1.0  0.032806 NaN  0.032806  0.032806  0.032806   \n",
       "DE-HB   0.000479           1.0  0.025601 NaN  0.025601  0.025601  0.025601   \n",
       "DE-HE   0.000905           1.0  0.029435 NaN  0.029435  0.029435  0.029435   \n",
       "DE-HH   0.000664           1.0  0.027315 NaN  0.027315  0.027315  0.027315   \n",
       "DE-MV   0.000430           1.0  0.014559 NaN  0.014559  0.014559  0.014559   \n",
       "DE-NI   0.000514           1.0  0.019943 NaN  0.019943  0.019943  0.019943   \n",
       "DE-NW   0.000704           1.0  0.029084 NaN  0.029084  0.029084  0.029084   \n",
       "DE-RP   0.000733           1.0  0.024510 NaN  0.024510  0.024510  0.024510   \n",
       "DE-SH   0.000418           1.0  0.014193 NaN  0.014193  0.014193  0.014193   \n",
       "DE-SL   0.000856           1.0  0.028325 NaN  0.028325  0.028325  0.028325   \n",
       "DE-SN   0.001829           1.0  0.046792 NaN  0.046792  0.046792  0.046792   \n",
       "DE-ST   0.001038           1.0  0.026570 NaN  0.026570  0.026570  0.026570   \n",
       "DE-TH   0.001279           1.0  0.034390 NaN  0.034390  0.034390  0.034390   \n",
       "\n",
       "                            \n",
       "             75%       max  \n",
       "region                      \n",
       "DE-BB   0.029840  0.029840  \n",
       "DE-BE   0.034815  0.034815  \n",
       "DE-BW   0.028109  0.028109  \n",
       "DE-BY   0.032806  0.032806  \n",
       "DE-HB   0.025601  0.025601  \n",
       "DE-HE   0.029435  0.029435  \n",
       "DE-HH   0.027315  0.027315  \n",
       "DE-MV   0.014559  0.014559  \n",
       "DE-NI   0.019943  0.019943  \n",
       "DE-NW   0.029084  0.029084  \n",
       "DE-RP   0.024510  0.024510  \n",
       "DE-SH   0.014193  0.014193  \n",
       "DE-SL   0.028325  0.028325  \n",
       "DE-SN   0.046792  0.046792  \n",
       "DE-ST   0.026570  0.026570  \n",
       "DE-TH   0.034390  0.034390  "
      ]
     },
     "execution_count": 537,
     "metadata": {},
     "output_type": "execute_result"
    }
   ],
   "source": [
    "corona_df_by_region.groupby(\"region\")[\"deceased/pop\", \"confirmed/pop\"].describe()"
   ]
  },
  {
   "cell_type": "markdown",
   "metadata": {},
   "source": [
    "### The number of days when more than 500 /1000 confirmed addition were registered by region"
   ]
  },
  {
   "cell_type": "code",
   "execution_count": 538,
   "metadata": {},
   "outputs": [],
   "source": [
    "rcParams['figure.figsize'] = 15,6;"
   ]
  },
  {
   "cell_type": "code",
   "execution_count": 539,
   "metadata": {},
   "outputs": [
    {
     "data": {
      "image/png": "[encoded data removed]",
      "text/plain": [
       "<Figure size 1080x432 with 1 Axes>"
      ]
     },
     "metadata": {},
     "output_type": "display_data"
    }
   ],
   "source": [
    "sns.set(style=\"darkgrid\")\n",
    "moreThan500 = (raw_data['corona']['confirmed_addition']>500)\n",
    "ax = sns.countplot(x=\"region_code\", data=raw_data['corona'][moreThan500]).set_title('The number of days when more than 500 confirmed addition were registered');"
   ]
  },
  {
   "cell_type": "code",
   "execution_count": 540,
   "metadata": {},
   "outputs": [
    {
     "data": {
      "image/png": "[encoded data removed]",
      "text/plain": [
       "<Figure size 1080x432 with 1 Axes>"
      ]
     },
     "metadata": {},
     "output_type": "display_data"
    }
   ],
   "source": [
    "\n",
    "sns.set(style=\"darkgrid\")\n",
    "moreThan1000 = (raw_data['corona']['confirmed_addition']>1000)\n",
    "ax = sns.countplot(x=\"region_code\", data=raw_data['corona'][moreThan1000]).set_title('The number of days when more than 1000 confirmed addition were registered')"
   ]
  },
  {
   "cell_type": "markdown",
   "metadata": {},
   "source": [
    "### The number of cases by region per capita"
   ]
  },
  {
   "cell_type": "code",
   "execution_count": 541,
   "metadata": {},
   "outputs": [
    {
     "data": {
      "image/png": "[encoded data removed]",
      "text/plain": [
       "<Figure size 1080x432 with 1 Axes>"
      ]
     },
     "metadata": {},
     "output_type": "display_data"
    }
   ],
   "source": [
    "ax = sns.barplot(x=\"confirmed/pop\", y=\"region\", data=corona_df_by_region)\n",
    "'''ax.set_yticks(['Nordrhein-Westfalen', 'Berlin', 'Saarland', 'Bayern',\n",
    "       'Niedersachsen', 'Mecklenburg-Vorpommern', 'Brandenburg',\n",
    "       'Baden-Württemberg', 'Hessen', 'Rheinland-Pfalz',\n",
    "       'Schleswig-Holstein', 'Hamburg', 'Bremen', 'Sachsen', 'Thüringen',\n",
    "       'Sachsen-Anhalt'])''';\n",
    "\n"
   ]
  },
  {
   "cell_type": "code",
   "execution_count": 542,
   "metadata": {},
   "outputs": [
    {
     "data": {
      "image/png": "[encoded data removed]",
      "text/plain": [
       "<Figure size 1080x432 with 1 Axes>"
      ]
     },
     "metadata": {},
     "output_type": "display_data"
    }
   ],
   "source": [
    "ax = sns.barplot(x=\"deceased/pop\", y=\"region\", data=corona_df_by_region)"
   ]
  },
  {
   "cell_type": "markdown",
   "metadata": {},
   "source": [
    "### The number of cases monthly in Germany"
   ]
  },
  {
   "cell_type": "code",
   "execution_count": 543,
   "metadata": {},
   "outputs": [
    {
     "data": {
      "text/plain": [
       "0       Jan\n",
       "1       Jan\n",
       "2       Jan\n",
       "3       Jan\n",
       "4       Jan\n",
       "       ... \n",
       "5597    Feb\n",
       "5598    Feb\n",
       "5599    Feb\n",
       "5600    Feb\n",
       "5601    Feb\n",
       "Name: month, Length: 5602, dtype: object"
      ]
     },
     "execution_count": 543,
     "metadata": {},
     "output_type": "execute_result"
    }
   ],
   "source": [
    "#raw_data['corona'].reset_index(inplace=True)\n",
    "#df.columns = ['Date','sum']\n",
    "raw_data['corona'].head()\n",
    "raw_data['corona']['month'] = raw_data['corona']['date'].dt.strftime('%b')\n",
    "raw_data['corona']['month']"
   ]
  },
  {
   "cell_type": "code",
   "execution_count": 544,
   "metadata": {},
   "outputs": [
    {
     "data": {
      "image/png": "[encoded data removed]",
      "text/plain": [
       "<Figure size 864x288 with 1 Axes>"
      ]
     },
     "metadata": {},
     "output_type": "display_data"
    }
   ],
   "source": [
    "fig, ax = plt.subplots()\n",
    "fig.set_size_inches((12,4))\n",
    "sns.boxplot(x='month',y='deceased_addition',data=raw_data['corona'],ax=ax).set_title(\"\")\n",
    "plt.show()"
   ]
  },
  {
   "cell_type": "code",
   "execution_count": 545,
   "metadata": {},
   "outputs": [
    {
     "data": {
      "image/png": "[encoded data removed]",
      "text/plain": [
       "<Figure size 864x288 with 1 Axes>"
      ]
     },
     "metadata": {},
     "output_type": "display_data"
    }
   ],
   "source": [
    "fig, ax = plt.subplots()\n",
    "fig.set_size_inches((12,4))\n",
    "sns.boxplot(x='month',y='confirmed_addition',data=raw_data['corona'],ax=ax).set_title(\"\")\n",
    "plt.show()"
   ]
  },
  {
   "cell_type": "markdown",
   "metadata": {},
   "source": [
    "### Heatmaps of weather data daily over 2020  (02.13-11.14.)"
   ]
  },
  {
   "cell_type": "code",
   "execution_count": 546,
   "metadata": {},
   "outputs": [
    {
     "name": "stderr",
     "output_type": "stream",
     "text": [
      "C:\\Users\\liter\\anaconda3\\lib\\site-packages\\pandas\\core\\frame.py:3990: SettingWithCopyWarning: \n",
      "A value is trying to be set on a copy of a slice from a DataFrame\n",
      "\n",
      "See the caveats in the documentation: https://pandas.pydata.org/pandas-docs/stable/user_guide/indexing.html#returning-a-view-versus-a-copy\n",
      "  return super().drop(\n"
     ]
    }
   ],
   "source": [
    "datetime_series = pd.to_datetime(de_weather['date'])\n",
    "datetime_index = pd.DatetimeIndex(datetime_series.values)\n",
    "df2=de_weather.set_index(datetime_index)\n",
    "de_weather.drop('date', axis=1,inplace=True);"
   ]
  },
  {
   "cell_type": "code",
   "execution_count": 547,
   "metadata": {},
   "outputs": [
    {
     "data": {
      "image/png": "[encoded data removed]",
      "text/plain": [
       "<Figure size 1080x432 with 1 Axes>"
      ]
     },
     "metadata": {},
     "output_type": "display_data"
    }
   ],
   "source": [
    "calmap.calendarplot(df2['TemperatureAboveGround'])\n",
    "plt.title(\"TemperatureAboveGround\");"
   ]
  },
  {
   "cell_type": "code",
   "execution_count": 548,
   "metadata": {},
   "outputs": [
    {
     "data": {
      "image/png": "[encoded data removed]",
      "text/plain": [
       "<Figure size 1080x432 with 1 Axes>"
      ]
     },
     "metadata": {},
     "output_type": "display_data"
    }
   ],
   "source": [
    "calmap.calendarplot(df2['SolarRadiation'])\n",
    "plt.title(\"SolarRadiation\");"
   ]
  },
  {
   "cell_type": "code",
   "execution_count": 549,
   "metadata": {},
   "outputs": [
    {
     "data": {
      "image/png": "[encoded data removed]",
      "text/plain": [
       "<Figure size 1080x432 with 1 Axes>"
      ]
     },
     "metadata": {},
     "output_type": "display_data"
    }
   ],
   "source": [
    "calmap.calendarplot(df2['UVIndex'])\n",
    "plt.title(\"UVIndex\");"
   ]
  },
  {
   "cell_type": "code",
   "execution_count": 550,
   "metadata": {},
   "outputs": [
    {
     "data": {
      "image/png": "[encoded data removed]",
      "text/plain": [
       "<Figure size 1080x432 with 1 Axes>"
      ]
     },
     "metadata": {},
     "output_type": "display_data"
    }
   ],
   "source": [
    "calmap.calendarplot(df2['Totalprecipitation'])\n",
    "plt.title(\"Totalprecipitation\");"
   ]
  },
  {
   "cell_type": "code",
   "execution_count": 551,
   "metadata": {
    "scrolled": true
   },
   "outputs": [
    {
     "data": {
      "image/png": "[encoded data removed]",
      "text/plain": [
       "<Figure size 1080x432 with 1 Axes>"
      ]
     },
     "metadata": {},
     "output_type": "display_data"
    }
   ],
   "source": [
    "calmap.calendarplot(df2['RelativeHumiditySurface'])\n",
    "plt.title(\"RelativeHumiditySurface\");"
   ]
  },
  {
   "cell_type": "code",
   "execution_count": 552,
   "metadata": {},
   "outputs": [
    {
     "data": {
      "image/png": "[encoded data removed]",
      "text/plain": [
       "<Figure size 1080x432 with 1 Axes>"
      ]
     },
     "metadata": {},
     "output_type": "display_data"
    }
   ],
   "source": [
    "calmap.calendarplot(df2['Surfacepressure'])\n",
    "plt.title('Surfacepressure');"
   ]
  },
  {
   "cell_type": "code",
   "execution_count": 553,
   "metadata": {},
   "outputs": [
    {
     "data": {
      "image/png": "[encoded data removed]",
      "text/plain": [
       "<Figure size 1080x432 with 1 Axes>"
      ]
     },
     "metadata": {},
     "output_type": "display_data"
    }
   ],
   "source": [
    "calmap.calendarplot(df2['WindSpeed'])\n",
    "plt.title(\"WindSpeed\");"
   ]
  },
  {
   "cell_type": "code",
   "execution_count": 554,
   "metadata": {},
   "outputs": [
    {
     "data": {
      "text/plain": [
       "count    4416.000000\n",
       "mean       70.220470\n",
       "std        12.994071\n",
       "min        33.880265\n",
       "25%        60.468250\n",
       "50%        71.025488\n",
       "75%        80.705974\n",
       "max        98.097644\n",
       "Name: RelativeHumiditySurface, dtype: float64"
      ]
     },
     "execution_count": 554,
     "metadata": {},
     "output_type": "execute_result"
    }
   ],
   "source": [
    "#daily averages - Humidity %\n",
    "de_weather['RelativeHumiditySurface'].describe()"
   ]
  },
  {
   "cell_type": "code",
   "execution_count": 555,
   "metadata": {},
   "outputs": [
    {
     "data": {
      "text/plain": [
       "count    4.416000e+03\n",
       "mean     8.656537e+06\n",
       "std      6.067743e+06\n",
       "min      0.000000e+00\n",
       "25%      3.272062e+06\n",
       "50%      8.111682e+06\n",
       "75%      1.327104e+07\n",
       "max      2.370823e+07\n",
       "Name: SolarRadiation, dtype: float64"
      ]
     },
     "execution_count": 555,
     "metadata": {},
     "output_type": "execute_result"
    }
   ],
   "source": [
    "#daily sums - The units of measure are Watts per square meter. \n",
    "#At our latitude, the value at the surface is approximately 1000 W/m2 on a clear day at solar noon in the summer months.\n",
    "#divide them by 24?\n",
    "\n",
    "de_weather['SolarRadiation'].describe()"
   ]
  },
  {
   "cell_type": "code",
   "execution_count": 556,
   "metadata": {},
   "outputs": [
    {
     "data": {
      "text/plain": [
       "count    4.416000e+03\n",
       "mean     2.381793e+06\n",
       "std      5.021218e+04\n",
       "min      2.234779e+06\n",
       "25%      2.346111e+06\n",
       "50%      2.388734e+06\n",
       "75%      2.423930e+06\n",
       "max      2.486233e+06\n",
       "Name: Surfacepressure, dtype: float64"
      ]
     },
     "execution_count": 556,
     "metadata": {},
     "output_type": "execute_result"
    }
   ],
   "source": [
    "#daily sums - Surfacepressure 101,325 Pa / 920-1068 hPa\n",
    "de_weather['Surfacepressure'].describe()"
   ]
  },
  {
   "cell_type": "code",
   "execution_count": 557,
   "metadata": {},
   "outputs": [
    {
     "data": {
      "text/plain": [
       "count    4416.000000\n",
       "mean      286.122295\n",
       "std         5.697591\n",
       "min       271.854649\n",
       "25%       281.681958\n",
       "50%       286.351788\n",
       "75%       290.255100\n",
       "max       300.960922\n",
       "Name: TemperatureAboveGround, dtype: float64"
      ]
     },
     "execution_count": 557,
     "metadata": {},
     "output_type": "execute_result"
    }
   ],
   "source": [
    "#daily averages - TemperatureAboveGround Kelvin\n",
    "de_weather['TemperatureAboveGround'].describe()"
   ]
  },
  {
   "cell_type": "code",
   "execution_count": 558,
   "metadata": {},
   "outputs": [
    {
     "data": {
      "text/plain": [
       "count    4416.000000\n",
       "mean        0.002089\n",
       "std         0.003428\n",
       "min         0.000000\n",
       "25%         0.000022\n",
       "50%         0.000553\n",
       "75%         0.002699\n",
       "max         0.031971\n",
       "Name: Totalprecipitation, dtype: float64"
      ]
     },
     "execution_count": 558,
     "metadata": {},
     "output_type": "execute_result"
    }
   ],
   "source": [
    "#daily sums - Totalprecipitation (mm)\n",
    "de_weather['Totalprecipitation'].describe()"
   ]
  },
  {
   "cell_type": "code",
   "execution_count": 559,
   "metadata": {},
   "outputs": [
    {
     "data": {
      "text/plain": [
       "count    4416.000000\n",
       "mean       21.486847\n",
       "std        13.171791\n",
       "min         0.000000\n",
       "25%         8.340909\n",
       "50%        21.914428\n",
       "75%        32.211308\n",
       "max        52.792235\n",
       "Name: UVIndex, dtype: float64"
      ]
     },
     "execution_count": 559,
     "metadata": {},
     "output_type": "execute_result"
    }
   ],
   "source": [
    "#daily sums - UVIndex 0-11\n",
    "de_weather['UVIndex'].describe()"
   ]
  },
  {
   "cell_type": "code",
   "execution_count": 560,
   "metadata": {},
   "outputs": [
    {
     "data": {
      "text/plain": [
       "count    4416.000000\n",
       "mean        3.473711\n",
       "std         1.436751\n",
       "min         1.091346\n",
       "25%         2.391150\n",
       "50%         3.149041\n",
       "75%         4.239447\n",
       "max        10.697647\n",
       "Name: WindSpeed, dtype: float64"
      ]
     },
     "execution_count": 560,
     "metadata": {},
     "output_type": "execute_result"
    }
   ],
   "source": [
    "#daily averages - Wind-speed (maximum wind gust of 113.3 m/s (408 km/h)\n",
    "de_weather['WindSpeed'].describe()"
   ]
  },
  {
   "cell_type": "code",
   "execution_count": null,
   "metadata": {},
   "outputs": [],
   "source": [
    " \n",
    "\n",
    "\n"
   ]
  }
 ],
 "metadata": {
  "kernelspec": {
   "display_name": "Python 3",
   "language": "python",
   "name": "python3"
  },
  "language_info": {
   "codemirror_mode": {
    "name": "ipython",
    "version": 3
   },
   "file_extension": ".py",
   "mimetype": "text/x-python",
   "name": "python",
   "nbconvert_exporter": "python",
   "pygments_lexer": "ipython3",
   "version": "3.8.3"
  },
  "latex_envs": {
   "LaTeX_envs_menu_present": true,
   "autoclose": false,
   "autocomplete": true,
   "bibliofile": "biblio.bib",
   "cite_by": "apalike",
   "current_citInitial": 1,
   "eqLabelWithNumbers": true,
   "eqNumInitial": 1,
   "hotkeys": {
    "equation": "Ctrl-E",
    "itemize": "Ctrl-I"
   },
   "labels_anchors": false,
   "latex_user_defs": false,
   "report_style_numbering": false,
   "user_envs_cfg": false
  },
  "toc": {
   "base_numbering": 1,
   "nav_menu": {},
   "number_sections": true,
   "sideBar": true,
   "skip_h1_title": false,
   "title_cell": "Table of Contents",
   "title_sidebar": "Contents",
   "toc_cell": false,
   "toc_position": {},
   "toc_section_display": true,
   "toc_window_display": false
  }
 },
 "nbformat": 4,
 "nbformat_minor": 4
}
