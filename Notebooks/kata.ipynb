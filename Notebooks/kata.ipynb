{
 "cells": [
  {
   "cell_type": "markdown",
   "metadata": {},
   "source": [
    "## Group 10 - First Year Project \n",
    "### Data Science at ITU \n",
    "## Project 2  "
   ]
  },
  {
   "cell_type": "markdown",
   "metadata": {},
   "source": [
    "## This notebook contains all the code developed in the Project 2\n",
    "\n",
    "Contact/Group: \n",
    "- Florian Micliuc(flmi@itu.dk)\n",
    "- Louis Caspar Brandt (locb@itu.dk)\n",
    "- Iben Mai Huse (ibhu@itu.dk)\n",
    "- Katalin Literati-Dobos (klit@itu.dk)\n",
    "- Ruben Jonsman (rubj@itu.dk)"
   ]
  },
  {
   "cell_type": "markdown",
   "metadata": {},
   "source": [
    "## Imports"
   ]
  },
  {
   "cell_type": "code",
   "execution_count": 22,
   "metadata": {},
   "outputs": [],
   "source": [
    "import numpy as np\n",
    "import pandas as pd\n",
    "import missingno as msno\n",
    "import matplotlib.pyplot as plt\n",
    "import math\n",
    "from scipy.stats import chi2_contingency\n",
    "import seaborn as sns\n",
    "import folium\n",
    "from folium import plugins \n",
    "from folium.plugins import HeatMap, MarkerCluster\n",
    "import shapely\n",
    "import json \n",
    "from shapely.geometry import Point, MultiPoint, LineString, MultiLineString, Polygon, MultiPolygon\n",
    "import branca\n",
    "import branca.colormap as cm"
   ]
  },
  {
   "cell_type": "markdown",
   "metadata": {},
   "source": [
    "# Task 0 - Data filtering and cleaning"
   ]
  },
  {
   "cell_type": "markdown",
   "metadata": {},
   "source": [
    "## Loading data"
   ]
  },
  {
   "cell_type": "code",
   "execution_count": 3,
   "metadata": {},
   "outputs": [],
   "source": [
    "raw_data = {}\n",
    "\n",
    "TITLES = ['de_corona', 'weather']"
   ]
  },
  {
   "cell_type": "markdown",
   "metadata": {},
   "source": [
    "Pandas has a convinient method for reading in csv files and storing the data in a DataFrame structure offers flexibility."
   ]
  },
  {
   "cell_type": "code",
   "execution_count": 129,
   "metadata": {},
   "outputs": [],
   "source": [
    "from datetime import datetime\n",
    "dateparse = lambda x: datetime.strptime(x, '%Y-%m-%d')\n",
    "\n",
    "raw_data['de_corona'] = pd.read_csv(\"fyp_data_project2/corona/de_corona.csv\", sep='\\s+', parse_dates=['date'], date_parser=dateparse)\n",
    "raw_data['weather'] = pd.read_csv(\"fyp_data_project2/weather/weather.csv\", sep='\\s+', parse_dates=['date'], date_parser=dateparse)"
   ]
  },
  {
   "cell_type": "code",
   "execution_count": 130,
   "metadata": {},
   "outputs": [
    {
     "name": "stdout",
     "output_type": "stream",
     "text": [
      "de_corona\tDataFrame shape: (5602, 4)\n",
      "weather\tDataFrame shape: (14904, 9)\n"
     ]
    }
   ],
   "source": [
    "for TITLE in TITLES:\n",
    "    print(TITLE + \"\\tDataFrame shape: \" + str(raw_data[TITLE].shape))"
   ]
  },
  {
   "cell_type": "markdown",
   "metadata": {},
   "source": [
    " ### Data type insight"
   ]
  },
  {
   "cell_type": "code",
   "execution_count": 131,
   "metadata": {},
   "outputs": [
    {
     "data": {
      "text/html": [
       "<div>\n",
       "<style scoped>\n",
       "    .dataframe tbody tr th:only-of-type {\n",
       "        vertical-align: middle;\n",
       "    }\n",
       "\n",
       "    .dataframe tbody tr th {\n",
       "        vertical-align: top;\n",
       "    }\n",
       "\n",
       "    .dataframe thead th {\n",
       "        text-align: right;\n",
       "    }\n",
       "</style>\n",
       "<table border=\"1\" class=\"dataframe\">\n",
       "  <thead>\n",
       "    <tr style=\"text-align: right;\">\n",
       "      <th></th>\n",
       "      <th>date</th>\n",
       "      <th>iso3166-2</th>\n",
       "      <th>RelativeHumiditySurface</th>\n",
       "      <th>SolarRadiation</th>\n",
       "      <th>Surfacepressure</th>\n",
       "      <th>TemperatureAboveGround</th>\n",
       "      <th>Totalprecipitation</th>\n",
       "      <th>UVIndex</th>\n",
       "      <th>WindSpeed</th>\n",
       "    </tr>\n",
       "  </thead>\n",
       "  <tbody>\n",
       "    <tr>\n",
       "      <th>0</th>\n",
       "      <td>2020-02-13</td>\n",
       "      <td>DE-BB</td>\n",
       "      <td>76.337444</td>\n",
       "      <td>1.824290e+06</td>\n",
       "      <td>2.403341e+06</td>\n",
       "      <td>276.551573</td>\n",
       "      <td>0.003355</td>\n",
       "      <td>2.777806</td>\n",
       "      <td>4.542822</td>\n",
       "    </tr>\n",
       "    <tr>\n",
       "      <th>1</th>\n",
       "      <td>2020-02-13</td>\n",
       "      <td>DE-BE</td>\n",
       "      <td>76.065297</td>\n",
       "      <td>1.786373e+06</td>\n",
       "      <td>2.408182e+06</td>\n",
       "      <td>276.844633</td>\n",
       "      <td>0.003523</td>\n",
       "      <td>4.671329</td>\n",
       "      <td>4.761509</td>\n",
       "    </tr>\n",
       "    <tr>\n",
       "      <th>2</th>\n",
       "      <td>2020-02-13</td>\n",
       "      <td>DE-BW</td>\n",
       "      <td>80.113988</td>\n",
       "      <td>1.505760e+06</td>\n",
       "      <td>2.290158e+06</td>\n",
       "      <td>276.227143</td>\n",
       "      <td>0.008013</td>\n",
       "      <td>4.268546</td>\n",
       "      <td>4.467024</td>\n",
       "    </tr>\n",
       "    <tr>\n",
       "      <th>3</th>\n",
       "      <td>2020-02-13</td>\n",
       "      <td>DE-BY</td>\n",
       "      <td>81.554346</td>\n",
       "      <td>2.363013e+06</td>\n",
       "      <td>2.275361e+06</td>\n",
       "      <td>275.583053</td>\n",
       "      <td>0.005227</td>\n",
       "      <td>4.417797</td>\n",
       "      <td>3.677414</td>\n",
       "    </tr>\n",
       "    <tr>\n",
       "      <th>4</th>\n",
       "      <td>2020-02-13</td>\n",
       "      <td>DE-HB</td>\n",
       "      <td>87.167414</td>\n",
       "      <td>8.389756e+03</td>\n",
       "      <td>2.406940e+06</td>\n",
       "      <td>276.237452</td>\n",
       "      <td>0.007715</td>\n",
       "      <td>1.794872</td>\n",
       "      <td>4.699573</td>\n",
       "    </tr>\n",
       "  </tbody>\n",
       "</table>\n",
       "</div>"
      ],
      "text/plain": [
       "        date iso3166-2  RelativeHumiditySurface  SolarRadiation  \\\n",
       "0 2020-02-13     DE-BB                76.337444    1.824290e+06   \n",
       "1 2020-02-13     DE-BE                76.065297    1.786373e+06   \n",
       "2 2020-02-13     DE-BW                80.113988    1.505760e+06   \n",
       "3 2020-02-13     DE-BY                81.554346    2.363013e+06   \n",
       "4 2020-02-13     DE-HB                87.167414    8.389756e+03   \n",
       "\n",
       "   Surfacepressure  TemperatureAboveGround  Totalprecipitation   UVIndex  \\\n",
       "0     2.403341e+06              276.551573            0.003355  2.777806   \n",
       "1     2.408182e+06              276.844633            0.003523  4.671329   \n",
       "2     2.290158e+06              276.227143            0.008013  4.268546   \n",
       "3     2.275361e+06              275.583053            0.005227  4.417797   \n",
       "4     2.406940e+06              276.237452            0.007715  1.794872   \n",
       "\n",
       "   WindSpeed  \n",
       "0   4.542822  \n",
       "1   4.761509  \n",
       "2   4.467024  \n",
       "3   3.677414  \n",
       "4   4.699573  "
      ]
     },
     "execution_count": 131,
     "metadata": {},
     "output_type": "execute_result"
    }
   ],
   "source": [
    "# Viewing the first 5 rows in the dataframe\n",
    "raw_data['weather'][:5]"
   ]
  },
  {
   "cell_type": "code",
   "execution_count": 132,
   "metadata": {},
   "outputs": [
    {
     "data": {
      "text/plain": [
       "(5, 9)"
      ]
     },
     "execution_count": 132,
     "metadata": {},
     "output_type": "execute_result"
    }
   ],
   "source": [
    "raw_data['weather'][:5].shape"
   ]
  },
  {
   "cell_type": "code",
   "execution_count": 133,
   "metadata": {},
   "outputs": [
    {
     "data": {
      "text/html": [
       "<div>\n",
       "<style scoped>\n",
       "    .dataframe tbody tr th:only-of-type {\n",
       "        vertical-align: middle;\n",
       "    }\n",
       "\n",
       "    .dataframe tbody tr th {\n",
       "        vertical-align: top;\n",
       "    }\n",
       "\n",
       "    .dataframe thead th {\n",
       "        text-align: right;\n",
       "    }\n",
       "</style>\n",
       "<table border=\"1\" class=\"dataframe\">\n",
       "  <thead>\n",
       "    <tr style=\"text-align: right;\">\n",
       "      <th></th>\n",
       "      <th>date</th>\n",
       "      <th>region_code</th>\n",
       "      <th>confirmed_addition</th>\n",
       "      <th>deceased_addition</th>\n",
       "    </tr>\n",
       "  </thead>\n",
       "  <tbody>\n",
       "    <tr>\n",
       "      <th>0</th>\n",
       "      <td>2020-01-02</td>\n",
       "      <td>Nordrhein-Westfalen</td>\n",
       "      <td>1</td>\n",
       "      <td>0</td>\n",
       "    </tr>\n",
       "    <tr>\n",
       "      <th>1</th>\n",
       "      <td>2020-01-07</td>\n",
       "      <td>Nordrhein-Westfalen</td>\n",
       "      <td>1</td>\n",
       "      <td>0</td>\n",
       "    </tr>\n",
       "    <tr>\n",
       "      <th>2</th>\n",
       "      <td>2020-01-09</td>\n",
       "      <td>Nordrhein-Westfalen</td>\n",
       "      <td>1</td>\n",
       "      <td>1</td>\n",
       "    </tr>\n",
       "    <tr>\n",
       "      <th>3</th>\n",
       "      <td>2020-01-12</td>\n",
       "      <td>Nordrhein-Westfalen</td>\n",
       "      <td>1</td>\n",
       "      <td>0</td>\n",
       "    </tr>\n",
       "    <tr>\n",
       "      <th>4</th>\n",
       "      <td>2020-01-14</td>\n",
       "      <td>Nordrhein-Westfalen</td>\n",
       "      <td>1</td>\n",
       "      <td>0</td>\n",
       "    </tr>\n",
       "  </tbody>\n",
       "</table>\n",
       "</div>"
      ],
      "text/plain": [
       "        date          region_code  confirmed_addition  deceased_addition\n",
       "0 2020-01-02  Nordrhein-Westfalen                   1                  0\n",
       "1 2020-01-07  Nordrhein-Westfalen                   1                  0\n",
       "2 2020-01-09  Nordrhein-Westfalen                   1                  1\n",
       "3 2020-01-12  Nordrhein-Westfalen                   1                  0\n",
       "4 2020-01-14  Nordrhein-Westfalen                   1                  0"
      ]
     },
     "execution_count": 133,
     "metadata": {},
     "output_type": "execute_result"
    }
   ],
   "source": [
    "raw_data['de_corona'][:5]"
   ]
  },
  {
   "cell_type": "code",
   "execution_count": 134,
   "metadata": {},
   "outputs": [
    {
     "data": {
      "text/plain": [
       "array(['Nordrhein-Westfalen', 'Berlin', 'Saarland', 'Bayern',\n",
       "       'Niedersachsen', 'Mecklenburg-Vorpommern', 'Brandenburg',\n",
       "       'Baden-Württemberg', 'Hessen', 'Rheinland-Pfalz',\n",
       "       'Schleswig-Holstein', 'Hamburg', 'Bremen', 'Sachsen', 'Thüringen',\n",
       "       'Sachsen-Anhalt'], dtype=object)"
      ]
     },
     "execution_count": 134,
     "metadata": {},
     "output_type": "execute_result"
    }
   ],
   "source": [
    "region_code = pd.Series(raw_data['de_corona']['region_code'])\n",
    "region_code.unique()"
   ]
  },
  {
   "cell_type": "markdown",
   "metadata": {},
   "source": [
    "## Sanity check"
   ]
  },
  {
   "cell_type": "code",
   "execution_count": 135,
   "metadata": {},
   "outputs": [
    {
     "name": "stdout",
     "output_type": "stream",
     "text": [
      "There are no null values in the dataset\n"
     ]
    }
   ],
   "source": [
    "flag = False\n",
    "for TITLE in TITLES:\n",
    "    if raw_data[TITLE].isnull().values.any():\n",
    "        for column in list(raw_data[TITLE].columns):\n",
    "            nulls = sum(raw_data[TITLE][column].isnull())\n",
    "            if sum(raw_data[TITLE][column].isnull()):\n",
    "                print(TITLE + \" - \" + column + \"\\t has \" + str(nulls) + \" null values\")\n",
    "                flag = True\n",
    "if not flag: print(\"There are no null values in the dataset\")"
   ]
  },
  {
   "cell_type": "markdown",
   "metadata": {},
   "source": [
    "### Checking for null values in our sheffield dataset"
   ]
  },
  {
   "cell_type": "markdown",
   "metadata": {},
   "source": [
    "## Numerical summary"
   ]
  },
  {
   "cell_type": "markdown",
   "metadata": {},
   "source": [
    "### Box Plots and Five Number Summaries"
   ]
  },
  {
   "cell_type": "code",
   "execution_count": 136,
   "metadata": {},
   "outputs": [
    {
     "data": {
      "text/html": [
       "<div>\n",
       "<style scoped>\n",
       "    .dataframe tbody tr th:only-of-type {\n",
       "        vertical-align: middle;\n",
       "    }\n",
       "\n",
       "    .dataframe tbody tr th {\n",
       "        vertical-align: top;\n",
       "    }\n",
       "\n",
       "    .dataframe thead th {\n",
       "        text-align: right;\n",
       "    }\n",
       "</style>\n",
       "<table border=\"1\" class=\"dataframe\">\n",
       "  <thead>\n",
       "    <tr style=\"text-align: right;\">\n",
       "      <th></th>\n",
       "      <th>confirmed_addition</th>\n",
       "      <th>deceased_addition</th>\n",
       "    </tr>\n",
       "  </thead>\n",
       "  <tbody>\n",
       "    <tr>\n",
       "      <th>count</th>\n",
       "      <td>5602.000000</td>\n",
       "      <td>5602.000000</td>\n",
       "    </tr>\n",
       "    <tr>\n",
       "      <th>mean</th>\n",
       "      <td>426.786862</td>\n",
       "      <td>12.121028</td>\n",
       "    </tr>\n",
       "    <tr>\n",
       "      <th>std</th>\n",
       "      <td>831.095886</td>\n",
       "      <td>25.823844</td>\n",
       "    </tr>\n",
       "    <tr>\n",
       "      <th>min</th>\n",
       "      <td>1.000000</td>\n",
       "      <td>0.000000</td>\n",
       "    </tr>\n",
       "    <tr>\n",
       "      <th>25%</th>\n",
       "      <td>18.000000</td>\n",
       "      <td>0.000000</td>\n",
       "    </tr>\n",
       "    <tr>\n",
       "      <th>50%</th>\n",
       "      <td>95.000000</td>\n",
       "      <td>1.000000</td>\n",
       "    </tr>\n",
       "    <tr>\n",
       "      <th>75%</th>\n",
       "      <td>396.000000</td>\n",
       "      <td>10.000000</td>\n",
       "    </tr>\n",
       "    <tr>\n",
       "      <th>max</th>\n",
       "      <td>6809.000000</td>\n",
       "      <td>213.000000</td>\n",
       "    </tr>\n",
       "  </tbody>\n",
       "</table>\n",
       "</div>"
      ],
      "text/plain": [
       "       confirmed_addition  deceased_addition\n",
       "count         5602.000000        5602.000000\n",
       "mean           426.786862          12.121028\n",
       "std            831.095886          25.823844\n",
       "min              1.000000           0.000000\n",
       "25%             18.000000           0.000000\n",
       "50%             95.000000           1.000000\n",
       "75%            396.000000          10.000000\n",
       "max           6809.000000         213.000000"
      ]
     },
     "execution_count": 136,
     "metadata": {},
     "output_type": "execute_result"
    }
   ],
   "source": [
    "deCorona = raw_data['de_corona']\n",
    "deCorona.describe()"
   ]
  },
  {
   "cell_type": "code",
   "execution_count": 137,
   "metadata": {
    "scrolled": false
   },
   "outputs": [
    {
     "data": {
      "image/png": "[encoded data removed]",
      "text/plain": [
       "<Figure size 1800x360 with 1 Axes>"
      ]
     },
     "metadata": {},
     "output_type": "display_data"
    }
   ],
   "source": [
    "from matplotlib import rcParams\n",
    "\n",
    "deCorona_confirmed = raw_data['de_corona']['confirmed_addition']\n",
    "sns.boxplot(deCorona_confirmed, color='lightgray').set_title('Germany')\n",
    "# figure size in inches\n",
    "rcParams['figure.figsize'] = 25,2;"
   ]
  },
  {
   "cell_type": "code",
   "execution_count": 138,
   "metadata": {
    "scrolled": true
   },
   "outputs": [
    {
     "data": {
      "image/png": "[encoded data removed]",
      "text/plain": [
       "<Figure size 1800x144 with 1 Axes>"
      ]
     },
     "metadata": {},
     "output_type": "display_data"
    }
   ],
   "source": [
    "from matplotlib import rcParams\n",
    "\n",
    "deCorona_deceased = raw_data['de_corona']['deceased_addition']\n",
    "sns.boxplot(deCorona_deceased, color='lightgray').set_title('Germany')\n",
    "# figure size in inches\n",
    "rcParams['figure.figsize'] = 25,5;"
   ]
  },
  {
   "cell_type": "code",
   "execution_count": 139,
   "metadata": {},
   "outputs": [
    {
     "data": {
      "text/plain": [
       "array(['Nordrhein-Westfalen', 'Berlin', 'Saarland', 'Bayern',\n",
       "       'Niedersachsen', 'Mecklenburg-Vorpommern', 'Brandenburg',\n",
       "       'Baden-Württemberg', 'Hessen', 'Rheinland-Pfalz',\n",
       "       'Schleswig-Holstein', 'Hamburg', 'Bremen', 'Sachsen', 'Thüringen',\n",
       "       'Sachsen-Anhalt'], dtype=object)"
      ]
     },
     "execution_count": 139,
     "metadata": {},
     "output_type": "execute_result"
    }
   ],
   "source": [
    "pd.Series(raw_data['de_corona']['region_code']).unique()"
   ]
  },
  {
   "cell_type": "code",
   "execution_count": 140,
   "metadata": {},
   "outputs": [
    {
     "data": {
      "text/plain": [
       "count     372.000000\n",
       "mean     1402.010753\n",
       "std      1708.670955\n",
       "min         1.000000\n",
       "25%       193.500000\n",
       "50%       500.000000\n",
       "75%      2162.250000\n",
       "max      6809.000000\n",
       "Name: confirmed_addition, dtype: float64"
      ]
     },
     "execution_count": 140,
     "metadata": {},
     "output_type": "execute_result"
    }
   ],
   "source": [
    "Nordrhein_Westfalen = (raw_data['de_corona']['region_code'] == 'Nordrhein-Westfalen')\n",
    "deCorona_NW_c = raw_data['de_corona']['confirmed_addition'][Nordrhein_Westfalen]\n",
    "deCorona_NW_c.describe()"
   ]
  },
  {
   "cell_type": "code",
   "execution_count": 141,
   "metadata": {},
   "outputs": [
    {
     "data": {
      "text/plain": [
       "count    372.000000\n",
       "mean      33.956989\n",
       "std       48.031641\n",
       "min        0.000000\n",
       "25%        1.000000\n",
       "50%        6.500000\n",
       "75%       53.500000\n",
       "max      213.000000\n",
       "Name: deceased_addition, dtype: float64"
      ]
     },
     "execution_count": 141,
     "metadata": {},
     "output_type": "execute_result"
    }
   ],
   "source": [
    "Nordrhein_Westfalen = (raw_data['de_corona']['region_code'] == 'Nordrhein-Westfalen')\n",
    "deCorona_NW_d = raw_data['de_corona']['deceased_addition'][Nordrhein_Westfalen]\n",
    "deCorona_NW_d.describe()"
   ]
  },
  {
   "cell_type": "code",
   "execution_count": 142,
   "metadata": {},
   "outputs": [
    {
     "data": {
      "text/plain": [
       "count     355.000000\n",
       "mean      357.453521\n",
       "std       470.304721\n",
       "min         1.000000\n",
       "25%        42.000000\n",
       "50%       111.000000\n",
       "75%       476.500000\n",
       "max      1683.000000\n",
       "Name: confirmed_addition, dtype: float64"
      ]
     },
     "execution_count": 142,
     "metadata": {},
     "output_type": "execute_result"
    }
   ],
   "source": [
    "Berlin = (raw_data['de_corona']['region_code'] == 'Berlin')\n",
    "deCorona_B_c = raw_data['de_corona']['confirmed_addition'][Berlin]\n",
    "deCorona_B_c.describe()"
   ]
  },
  {
   "cell_type": "code",
   "execution_count": 143,
   "metadata": {},
   "outputs": [
    {
     "data": {
      "text/plain": [
       "count    355.000000\n",
       "mean       7.684507\n",
       "std       12.964169\n",
       "min        0.000000\n",
       "25%        0.000000\n",
       "50%        1.000000\n",
       "75%        9.000000\n",
       "max       67.000000\n",
       "Name: deceased_addition, dtype: float64"
      ]
     },
     "execution_count": 143,
     "metadata": {},
     "output_type": "execute_result"
    }
   ],
   "source": [
    "Berlin = (raw_data['de_corona']['region_code'] == 'Berlin')\n",
    "deCorona_B_d = raw_data['de_corona']['deceased_addition'][Berlin]\n",
    "deCorona_B_d.describe()"
   ]
  },
  {
   "cell_type": "markdown",
   "metadata": {},
   "source": [
    "### Frequency Histogram"
   ]
  },
  {
   "cell_type": "code",
   "execution_count": 144,
   "metadata": {},
   "outputs": [
    {
     "data": {
      "image/png": "[encoded data removed]",
      "text/plain": [
       "<Figure size 576x288 with 2 Axes>"
      ]
     },
     "metadata": {},
     "output_type": "display_data"
    }
   ],
   "source": [
    "deCorona.hist(bins=30, figsize=(8,4))\n",
    "plt.show();"
   ]
  },
  {
   "cell_type": "code",
   "execution_count": null,
   "metadata": {},
   "outputs": [],
   "source": []
  },
  {
   "cell_type": "markdown",
   "metadata": {},
   "source": [
    "### Frequency Barplot"
   ]
  },
  {
   "cell_type": "code",
   "execution_count": 163,
   "metadata": {},
   "outputs": [
    {
     "data": {
      "image/png": "[encoded data removed]",
      "text/plain": [
       "<Figure size 1800x360 with 1 Axes>"
      ]
     },
     "metadata": {},
     "output_type": "display_data"
    }
   ],
   "source": [
    "import seaborn as sns\n",
    "sns.set(style=\"darkgrid\")\n",
    "moreThan500 = (raw_data['de_corona']['confirmed_addition']>500)\n",
    "ax = sns.countplot(x=\"region_code\", data=raw_data['de_corona'][moreThan500]).set_title('The number of days when more than 500 confirmed addition were registered')"
   ]
  },
  {
   "cell_type": "code",
   "execution_count": 164,
   "metadata": {},
   "outputs": [
    {
     "data": {
      "image/png": "[encoded data removed]",
      "text/plain": [
       "<Figure size 1800x360 with 1 Axes>"
      ]
     },
     "metadata": {},
     "output_type": "display_data"
    }
   ],
   "source": [
    "import seaborn as sns\n",
    "sns.set(style=\"darkgrid\")\n",
    "moreThan1000 = (raw_data['de_corona']['confirmed_addition']>1000)\n",
    "ax = sns.countplot(x=\"region_code\", data=raw_data['de_corona'][moreThan1000]).set_title('The number of days when more than 1000 confirmed addition were registered')"
   ]
  },
  {
   "cell_type": "code",
   "execution_count": 152,
   "metadata": {},
   "outputs": [
    {
     "data": {
      "text/plain": [
       "0       Jan\n",
       "1       Jan\n",
       "2       Jan\n",
       "3       Jan\n",
       "4       Jan\n",
       "       ... \n",
       "5597    Feb\n",
       "5598    Feb\n",
       "5599    Feb\n",
       "5600    Feb\n",
       "5601    Feb\n",
       "Name: month, Length: 5602, dtype: object"
      ]
     },
     "execution_count": 152,
     "metadata": {},
     "output_type": "execute_result"
    }
   ],
   "source": [
    "raw_data['de_corona'].reset_index(inplace=True)\n",
    "#df.columns = ['Date','sum']\n",
    "raw_data['de_corona'].head()\n",
    "raw_data['de_corona']['month'] = raw_data['de_corona']['date'].dt.strftime('%b')\n",
    "raw_data['de_corona']['month']"
   ]
  },
  {
   "cell_type": "code",
   "execution_count": 154,
   "metadata": {},
   "outputs": [
    {
     "data": {
      "image/png": "[encoded data removed]",
      "text/plain": [
       "<Figure size 864x288 with 1 Axes>"
      ]
     },
     "metadata": {},
     "output_type": "display_data"
    }
   ],
   "source": [
    "fig, ax = plt.subplots()\n",
    "fig.set_size_inches((12,4))\n",
    "sns.boxplot(x='month',y='deceased_addition',data=raw_data['de_corona'],ax=ax).set_title()\n",
    "plt.show()"
   ]
  },
  {
   "cell_type": "code",
   "execution_count": 156,
   "metadata": {},
   "outputs": [
    {
     "data": {
      "image/png": "[encoded data removed]",
      "text/plain": [
       "<Figure size 864x288 with 1 Axes>"
      ]
     },
     "metadata": {},
     "output_type": "display_data"
    }
   ],
   "source": [
    "fig, ax = plt.subplots()\n",
    "fig.set_size_inches((12,4))\n",
    "sns.boxplot(x='month',y='confirmed_addition',data=raw_data['de_corona'],ax=ax)\n",
    "plt.show()"
   ]
  },
  {
   "cell_type": "code",
   "execution_count": 158,
   "metadata": {},
   "outputs": [
    {
     "data": {
      "image/png": "[encoded data removed]",
      "text/plain": [
       "<Figure size 864x288 with 1 Axes>"
      ]
     },
     "metadata": {},
     "output_type": "display_data"
    }
   ],
   "source": [
    "fig, ax = plt.subplots()\n",
    "fig.set_size_inches((12,4))\n",
    "sns.boxplot(x='month',y='deceased_addition',data=raw_data['de_corona'][Berlin],ax=ax)\n",
    "plt.show()"
   ]
  },
  {
   "cell_type": "markdown",
   "metadata": {},
   "source": [
    "# Task 1 - Single variable analysis"
   ]
  },
  {
   "cell_type": "markdown",
   "metadata": {},
   "source": [
    "# Task 2 - Associations"
   ]
  },
  {
   "cell_type": "markdown",
   "metadata": {},
   "source": [
    "# Task 3 - Map visualization"
   ]
  },
  {
   "cell_type": "markdown",
   "metadata": {},
   "source": [
    "# Task 4: Open question"
   ]
  },
  {
   "cell_type": "code",
   "execution_count": null,
   "metadata": {},
   "outputs": [],
   "source": []
  }
 ],
 "metadata": {
  "kernelspec": {
   "display_name": "Python 3",
   "language": "python",
   "name": "python3"
  },
  "language_info": {
   "codemirror_mode": {
    "name": "ipython",
    "version": 3
   },
   "file_extension": ".py",
   "mimetype": "text/x-python",
   "name": "python",
   "nbconvert_exporter": "python",
   "pygments_lexer": "ipython3",
   "version": "3.8.3"
  },
  "latex_envs": {
   "LaTeX_envs_menu_present": true,
   "autoclose": false,
   "autocomplete": true,
   "bibliofile": "biblio.bib",
   "cite_by": "apalike",
   "current_citInitial": 1,
   "eqLabelWithNumbers": true,
   "eqNumInitial": 1,
   "hotkeys": {
    "equation": "Ctrl-E",
    "itemize": "Ctrl-I"
   },
   "labels_anchors": false,
   "latex_user_defs": false,
   "report_style_numbering": false,
   "user_envs_cfg": false
  },
  "toc": {
   "base_numbering": 1,
   "nav_menu": {},
   "number_sections": true,
   "sideBar": true,
   "skip_h1_title": false,
   "title_cell": "Table of Contents",
   "title_sidebar": "Contents",
   "toc_cell": false,
   "toc_position": {},
   "toc_section_display": true,
   "toc_window_display": false
  }
 },
 "nbformat": 4,
 "nbformat_minor": 2
}
