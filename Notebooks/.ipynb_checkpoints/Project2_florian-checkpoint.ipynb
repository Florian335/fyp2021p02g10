{
 "cells": [
  {
   "cell_type": "code",
   "execution_count": null,
   "metadata": {},
   "outputs": [],
   "source": [
    "import numpy as np\n",
    "import pandas as pd\n",
    "import missingno as msno\n",
    "import matplotlib.pyplot as plt\n",
    "import math\n",
    "from scipy.stats import chi2_contingency\n",
    "import seaborn as sns\n",
    "import folium\n",
    "from folium import plugins \n",
    "from folium.plugins import HeatMap, MarkerCluster\n",
    "import shapely\n",
    "import json \n",
    "from shapely.geometry import Point, MultiPoint, LineString, MultiLineString, Polygon, MultiPolygon\n",
    "import branca\n",
    "import branca.colormap as cm\n",
    "import statsmodels.api as sm\n",
    "from scipy.stats import pearsonr, spearmanr"
   ]
  },
  {
   "cell_type": "code",
   "execution_count": null,
   "metadata": {},
   "outputs": [],
   "source": [
    "PATH = {}\n",
    "PATH[\"data_raw\"] = \"../data/raw/\"\n",
    "PATH[\"data_interim\"] = \"../data/interim/\"\n",
    "PATH[\"data_processed\"] = \"../data/processed/\"\n",
    "PATH[\"data_external\"] = \"../data/external/\"\n",
    "\n",
    "SUBPATH = {}\n",
    "SUBPATH[\"corona\"] = \"corona/\"\n",
    "SUBPATH[\"meta\"] = \"metadata/\"\n",
    "SUBPATH[\"shape\"] = \"shapefiles/\"\n",
    "SUBPATH[\"weather\"] = \"weather/\"\n",
    "\n",
    "FILENAME = {}\n",
    "FILENAME[\"corona\"] = \"de_corona.csv\"\n",
    "FILENAME[\"meta\"] = \"de_metadata.json\"\n",
    "FILENAME[\"shape\"] = \"de.geojson\"\n",
    "FILENAME[\"weather\"] = \"weather.csv\"\n",
    "\n",
    "corona = PATH[\"data_raw\"]+SUBPATH[\"corona\"]+FILENAME[\"corona\"]\n",
    "meta = PATH[\"data_raw\"]+SUBPATH[\"meta\"]+FILENAME[\"meta\"]\n",
    "shape = PATH[\"data_raw\"]+SUBPATH[\"shape\"]+FILENAME[\"shape\"]\n",
    "weather = PATH[\"data_raw\"]+SUBPATH[\"weather\"]+FILENAME[\"weather\"]"
   ]
  },
  {
   "cell_type": "code",
   "execution_count": null,
   "metadata": {},
   "outputs": [],
   "source": [
    "from collections import Counter\n",
    "raw_data = {}\n",
    "\n",
    "raw_data['corona'] = pd.read_csv(corona,sep = '\\t')\n",
    "raw_data['metadata'] = pd.read_csv(meta,sep = '\\t')\n",
    "raw_data['shape'] = pd.read_csv(shape,sep = '\\t')\n",
    "raw_data['weather'] = pd.read_csv(weather,sep = '\\t')"
   ]
  },
  {
   "cell_type": "code",
   "execution_count": null,
   "metadata": {},
   "outputs": [],
   "source": [
    "HEADERS = ['corona','weather']\n",
    "for i in HEADERS:\n",
    "    print(i +\"  \\tDataFrame shape: \" + str(raw_data[i].shape))"
   ]
  },
  {
   "cell_type": "code",
   "execution_count": null,
   "metadata": {},
   "outputs": [],
   "source": [
    "def check_null_values(file):\n",
    "    if raw_data[file].isnull().values.any():\n",
    "        print('There are null values in the dataset')\n",
    "    else:\n",
    "        print('There are no null values in the dataset')"
   ]
  },
  {
   "cell_type": "code",
   "execution_count": null,
   "metadata": {
    "scrolled": true
   },
   "outputs": [],
   "source": [
    "check_null_values('corona')"
   ]
  },
  {
   "cell_type": "code",
   "execution_count": null,
   "metadata": {},
   "outputs": [],
   "source": [
    "weather_data_de = raw_data[\"weather\"][raw_data[\"weather\"][\"iso3166-2\"].str.startswith(\"DE\")]\n",
    "weather_data_de"
   ]
  },
  {
   "cell_type": "code",
   "execution_count": null,
   "metadata": {},
   "outputs": [],
   "source": [
    "def dataset_checker_values(dataset,value):\n",
    "    SA = dataset.copy()\n",
    "    SA.replace(value, np.nan, inplace=True)\n",
    "    missingdata_df = SA.columns[SA.isnull().any()].tolist()\n",
    "    msno.matrix(SA);"
   ]
  },
  {
   "cell_type": "code",
   "execution_count": null,
   "metadata": {},
   "outputs": [],
   "source": [
    "#dataset_checker_values(raw_data['corona'],-999)"
   ]
  },
  {
   "cell_type": "markdown",
   "metadata": {},
   "source": [
    "# Association Build-up"
   ]
  },
  {
   "cell_type": "code",
   "execution_count": null,
   "metadata": {},
   "outputs": [],
   "source": [
    "with open(meta, 'r',encoding = 'utf-8') as j:\n",
    "     contents = json.loads(j.read())\n",
    "country_metadata = pd.DataFrame(contents['country_metadata'])\n",
    "sorted_country_metadata = country_metadata.sort_values(by = 'iso3166-2_name_en')\n",
    "#a = pd.DataFrame(raw_data['corona'].value_counts())\n",
    "\n",
    "\n",
    "\n",
    "#total  of covid cases per region\n",
    "corona_by_region  = pd.DataFrame(raw_data['corona'].groupby(by = 'region_code').sum())\n",
    "corona_by_region['iso3166-2_code'] = sorted_country_metadata['iso3166-2_code'].values\n",
    "corona_by_region['population'] = sorted_country_metadata['population'].values\n",
    "#corona_by_region\n",
    "    \n",
    "#final_df"
   ]
  },
  {
   "cell_type": "code",
   "execution_count": null,
   "metadata": {},
   "outputs": [],
   "source": [
    "#similar to how Michele did\n",
    "corona_df = raw_data['corona']\n",
    "ss = dict()\n",
    "for i in contents['country_metadata']:\n",
    "    ss[i['covid_region_code']] = i['iso3166-2_code']\n",
    "corona_df['region'] = corona_df['region_code'].map(ss)\n",
    "corona_df"
   ]
  },
  {
   "cell_type": "code",
   "execution_count": null,
   "metadata": {},
   "outputs": [],
   "source": [
    "daily_corona_weather = corona_df.merge(weather_data_de, left_on = [\"date\", \"region\"], right_on = [\"date\", \"iso3166-2\"])\n",
    "daily_corona_weather = daily_corona_weather.drop([\"date\", \"region_code\", \"region\"], axis = 1)\n",
    "#daily_corona_weather"
   ]
  },
  {
   "cell_type": "code",
   "execution_count": null,
   "metadata": {},
   "outputs": [],
   "source": [
    "weather_by_region = pd.DataFrame(weather_data_de.groupby(by = 'iso3166-2').mean())\n",
    "#weather_by_region"
   ]
  },
  {
   "cell_type": "code",
   "execution_count": null,
   "metadata": {},
   "outputs": [],
   "source": [
    "weather_date = pd.to_datetime(weather_data_de['date'])\n",
    "weather_month = pd.DataFrame(weather_data_de.groupby(weather_date.dt.month).mean())\n",
    "celsius = pd.DataFrame(weather_month['TemperatureAboveGround'].subtract(273.15))\n",
    "weather_month['Temp_Celsius'] = celsius"
   ]
  },
  {
   "cell_type": "code",
   "execution_count": null,
   "metadata": {},
   "outputs": [],
   "source": [
    "#function for plotting bar plots for weather\n",
    "def weather_mean_bar_plot(column,df):\n",
    "    list_month = ['February','March','April','May','June','July','August','September','October','November']\n",
    "    fig,ax = plt.subplots(figsize = (16,4))\n",
    "    df[column].plot.bar(color = 'silver',edgecolor = 'black',rot = 0)\n",
    "    ax.set_title('Mean of' + ' '+ column)\n",
    "    ax.set_ylabel('Value')\n",
    "    ax.set_xlabel('Month')\n",
    "    ax.set_xticklabels(list_month)\n",
    "#weather_mean_bar_plot('SolarRadiation',weather_month)"
   ]
  },
  {
   "cell_type": "code",
   "execution_count": null,
   "metadata": {},
   "outputs": [],
   "source": [
    "corona_date = pd.to_datetime(raw_data['corona']['date'])\n",
    "corona_2020=pd.DataFrame(raw_data['corona'][corona_date.dt.year == 2020])\n",
    "corona_month_sum = pd.DataFrame(corona_2020.groupby(corona_date.dt.month).sum())\n",
    "corona_month_mean = pd.DataFrame(corona_2020.groupby(corona_date.dt.month).mean())\n",
    "right_one = corona_month[1:11]"
   ]
  },
  {
   "cell_type": "code",
   "execution_count": null,
   "metadata": {},
   "outputs": [],
   "source": [
    "#function for plotting bar plots for corona infections\n",
    "def corona_total_bar_plot(column,df):\n",
    "    list_month = ['February','March','April','May','June','July','August','September','October','November']\n",
    "    fig,ax = plt.subplots(figsize = (16,4))\n",
    "    df[column].plot.bar(color = 'silver',edgecolor = 'black',rot = 0)\n",
    "    ax.set_title(column)\n",
    "    ax.set_ylabel('Value')\n",
    "    ax.set_xlabel('Month')\n",
    "    ax.set_xticklabels(list_month)\n",
    "#corona_total_bar_plot('confirmed_addition',right_one)\n",
    "#right_one"
   ]
  },
  {
   "cell_type": "markdown",
   "metadata": {},
   "source": [
    "# Associations"
   ]
  },
  {
   "cell_type": "code",
   "execution_count": null,
   "metadata": {},
   "outputs": [],
   "source": [
    "#corona and weather conditions grouped by months\n",
    "df_monthly_sum = corona_month_sum.merge(weather_month,left_on = 'date',right_on = 'date')\n",
    "df_monthly_mean = corona_month_mean.merge(weather_month,left_on = 'date',right_on = 'date')"
   ]
  },
  {
   "cell_type": "code",
   "execution_count": null,
   "metadata": {},
   "outputs": [],
   "source": [
    "#pearson association for daily_corona_weather\n",
    "weather_headers = ['RelativeHumiditySurface', 'SolarRadiation', 'Surfacepressure', 'TemperatureAboveGround',\n",
    "             'Totalprecipitation', 'UVIndex', 'WindSpeed'] #'Temp_Celsius']\n",
    "significance_threshold = 0.001 / (len(weather_headers) * 3)\n",
    "corrs = []\n",
    "pvalues = []\n",
    "for var in weather_headers:\n",
    "    corr, pvalue = pearsonr(daily_corona_weather['confirmed_addition'], daily_corona_weather[var])\n",
    "    #print(f\"{var}\\n{corr:.3f}\\t{pvalue}\\t{pvalue < significance_threshold}\\n\")"
   ]
  },
  {
   "cell_type": "code",
   "execution_count": null,
   "metadata": {},
   "outputs": [],
   "source": [
    "#spearman assoctiation for daily_corona_weather\n",
    "for var in weather_headers:\n",
    "    corr, pvalue = spearmanr(daily_corona_weather['confirmed_addition'], daily_corona_weather[var])\n",
    "    #print(f\"{var}\\n{corr:.3f}\\t{pvalue}\\t{pvalue < significance_threshold}\\n\")"
   ]
  },
  {
   "cell_type": "code",
   "execution_count": null,
   "metadata": {},
   "outputs": [],
   "source": [
    "#logarithmic association for daily_corona_weather\n",
    "for var in weather_headers:\n",
    "    corr, pvalue = pearsonr(np.log(daily_corona_weather['confirmed_addition']), daily_corona_weather[var])\n",
    "    #print(f\"{var}\\n{corr:.3f}\\t{pvalue}\\t{pvalue < significance_threshold}\\n\")"
   ]
  }
 ],
 "metadata": {
  "kernelspec": {
   "display_name": "Python 3",
   "language": "python",
   "name": "python3"
  },
  "language_info": {
   "codemirror_mode": {
    "name": "ipython",
    "version": 3
   },
   "file_extension": ".py",
   "mimetype": "text/x-python",
   "name": "python",
   "nbconvert_exporter": "python",
   "pygments_lexer": "ipython3",
   "version": "3.8.5"
  }
 },
 "nbformat": 4,
 "nbformat_minor": 4
}
