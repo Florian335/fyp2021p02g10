{
 "cells": [
  {
   "cell_type": "markdown",
   "metadata": {},
   "source": [
    "# Group 10 - First Year Project\n",
    "### Data Science at ITU \n",
    "## Project 2 - Correlation between Covid-19's spread and weather conditions"
   ]
  },
  {
   "cell_type": "markdown",
   "metadata": {},
   "source": [
    "Introduction"
   ]
  },
  {
   "cell_type": "markdown",
   "metadata": {},
   "source": [
    "This notebook contains all the code developed in the Project 2 - Correlation between Covid-19's spread and weather conditions\n",
    "\n",
    "Contact/Group: \n",
    "- Florian Micliuc(flmi@itu.dk)\n",
    "- Louis Caspar Brandt (locb@itu.dk) (see disclosure statement in the report)\n",
    "- Iben Mai Huse (ibhu@itu.dk)\n",
    "- Katalin Literati-Dobos (klit@itu.dk)\n",
    "- Ruben Jonsman (rubj@itu.dk)"
   ]
  },
  {
   "cell_type": "markdown",
   "metadata": {},
   "source": [
    "# Library imports"
   ]
  },
  {
   "cell_type": "code",
   "execution_count": null,
   "metadata": {},
   "outputs": [],
   "source": [
    "import numpy as np\n",
    "import pandas as pd\n",
    "import missingno as msno\n",
    "import matplotlib.pyplot as plt\n",
    "import math\n",
    "from collections import Counter\n",
    "from scipy.stats import chi2_contingency\n",
    "import seaborn as sns\n",
    "import folium\n",
    "from folium import plugins \n",
    "from folium.plugins import HeatMap, MarkerCluster\n",
    "import shapely\n",
    "import json \n",
    "from shapely.geometry import Point, MultiPoint, LineString, MultiLineString, Polygon, MultiPolygon\n",
    "import branca\n",
    "import branca.colormap as cm\n",
    "import statsmodels.api as sm\n",
    "from scipy.stats import pearsonr, spearmanr\n",
    "from folium.features import DivIcon\n",
    "import imageio\n",
    "from matplotlib import rcParams\n",
    "import calplot"
   ]
  },
  {
   "cell_type": "markdown",
   "metadata": {},
   "source": [
    "# Functions"
   ]
  },
  {
   "cell_type": "code",
   "execution_count": null,
   "metadata": {},
   "outputs": [],
   "source": [
    "def check_null_values(file, string):\n",
    "    if file.isnull().values.any():\n",
    "        print('There are null values in {} dataset'.format(string))\n",
    "    else:\n",
    "        print('There are no null values in {} dataset'.format(string))"
   ]
  },
  {
   "cell_type": "code",
   "execution_count": null,
   "metadata": {},
   "outputs": [],
   "source": [
    "def dataset_checker_values(dataset,value):\n",
    "    SA = dataset.copy()\n",
    "    SA.replace(value, np.nan, inplace=True)\n",
    "    missingdata_df = SA.columns[SA.isnull().any()].tolist()\n",
    "    msno.matrix(SA);"
   ]
  },
  {
   "cell_type": "code",
   "execution_count": null,
   "metadata": {},
   "outputs": [],
   "source": [
    "def weather_mean_bar_plot(column,df):\n",
    "    list_month = ['February','March','April','May','June','July','August','September','October','November','December','January','February']\n",
    "    fig,ax = plt.subplots(figsize = (16,4))\n",
    "    df[column].plot.bar(color = 'silver',edgecolor = 'black',rot = 0)\n",
    "    ax.set_title('Mean of' + ' '+ column)\n",
    "    ax.set_ylabel('Value')\n",
    "    ax.set_xlabel('Month')\n",
    "    ax.set_xticklabels(list_month)"
   ]
  },
  {
   "cell_type": "code",
   "execution_count": null,
   "metadata": {},
   "outputs": [],
   "source": [
    "def corona_total_bar_plot(column,df):\n",
    "    list_month = ['February','March','April','May','June','July','August','September','October','November','December','January','February']\n",
    "    fig,ax = plt.subplots(figsize = (16,4))\n",
    "    df[column].plot.bar(color = 'silver',edgecolor = 'black',rot = 0)\n",
    "    ax.set_title(column)\n",
    "    ax.set_ylabel('Value')\n",
    "    ax.set_xlabel('Month')\n",
    "    ax.set_xticklabels(list_month)"
   ]
  },
  {
   "cell_type": "code",
   "execution_count": null,
   "metadata": {},
   "outputs": [],
   "source": [
    "def corona_line_plot(df,x,y,title):\n",
    "    ax = df.plot.line(x = x, y = y,rot = 45,figsize = (20,6),color = 'silver')\n",
    "    ax.set_title(title)\n",
    "    ax.set_ylabel(\"Covid-19 Cases\")\n",
    "    ax.set_xlabel(\"Date\")\n",
    "    plt.axvline(x='2020-03-15',color = '#ff6c70',ls = '--');\n",
    "    plt.axvline(x='2020-03-22',color = '#f00008',ls = '--');\n",
    "    plt.axvline(x='2020-04-15',color = 'blue',ls = '--');\n",
    "    plt.axvline(x='2020-11-02',color = '#ff6c70',ls = '--');\n",
    "    plt.axvline(x='2020-12-15',color = '#f00008',ls = '--');\n",
    "    plt.axvline(x='2020-12-26',color = '#00ff68',ls = '--');"
   ]
  },
  {
   "cell_type": "code",
   "execution_count": null,
   "metadata": {},
   "outputs": [],
   "source": [
    "def corona_bar_plot(x,y,title):\n",
    "    fig = plt.figure(figsize=(20,6))\n",
    "    axes = fig.add_axes([0,0,1,1])\n",
    "    axes.bar(x, y,color = 'silver',edgecolor = 'black')\n",
    "    axes.set_title(title)\n",
    "    axes.set_ylabel(\"Covid-19 Cases\")\n",
    "    axes.set_xlabel(\"Date\")"
   ]
  },
  {
   "cell_type": "code",
   "execution_count": null,
   "metadata": {},
   "outputs": [],
   "source": [
    "def pearson_association(df,column,headers,significance):\n",
    "    corrs = []\n",
    "    pvalues = []\n",
    "    for var in headers:\n",
    "        corr, pvalue = pearsonr(df[column], df[var])\n",
    "        print(var,'\\n',round(corr,5),'   ',pvalue,pvalue<significance,'\\n')"
   ]
  },
  {
   "cell_type": "code",
   "execution_count": null,
   "metadata": {},
   "outputs": [],
   "source": [
    "def spearman_association(df,column,headers,significance):\n",
    "    corrs = []\n",
    "    pvalues = []\n",
    "    for var in headers:\n",
    "        corr, pvalue = spearmanr(df[column], df[var])\n",
    "        print(var,'\\n',round(corr,5),'   ',pvalue,pvalue<significance,'\\n')"
   ]
  },
  {
   "cell_type": "code",
   "execution_count": null,
   "metadata": {},
   "outputs": [],
   "source": [
    "def pearson_log(df,column,headers,significance):\n",
    "    corrs = []\n",
    "    pvalues = []\n",
    "    for var in headers:\n",
    "        corr, pvalue = pearsonr(np.log(df[column]), df[var])\n",
    "        print(var,'\\n',round(corr,5),'   ',pvalue,pvalue<significance,'\\n')"
   ]
  },
  {
   "cell_type": "code",
   "execution_count": null,
   "metadata": {},
   "outputs": [],
   "source": [
    "def heat_calendar(df,column,color,title):\n",
    "    calplot.calplot(df[column], cmap=color,colorbar = True,figsize = (16,4),suptitle=title)"
   ]
  },
  {
   "cell_type": "markdown",
   "metadata": {},
   "source": [
    "# Task 0 - Data cleaning and filtering"
   ]
  },
  {
   "cell_type": "markdown",
   "metadata": {},
   "source": [
    "## Loading data"
   ]
  },
  {
   "cell_type": "markdown",
   "metadata": {},
   "source": [
    "The data was loaded by creating a small pipeline to keep track of files and locations, in case they would change. This approach made it easy to change file locations if needed."
   ]
  },
  {
   "cell_type": "code",
   "execution_count": null,
   "metadata": {},
   "outputs": [],
   "source": [
    "PATH = {}\n",
    "PATH[\"data_raw\"] = \"../data/raw/\"\n",
    "PATH[\"data_interim\"] = \"../data/interim/\"\n",
    "PATH[\"data_processed\"] = \"../data/processed/\"\n",
    "PATH[\"data_external\"] = \"../data/external/\"\n",
    "\n",
    "SUBPATH = {}\n",
    "SUBPATH[\"corona\"] = \"corona/\"\n",
    "SUBPATH[\"meta\"] = \"metadata/\"\n",
    "SUBPATH[\"shape\"] = \"shapefiles/\"\n",
    "SUBPATH[\"weather\"] = \"weather/\"\n",
    "SUBPATH[\"age\"] = \"age/\"\n",
    "\n",
    "FILENAME = {}\n",
    "FILENAME[\"corona\"] = \"de_corona.csv\"\n",
    "FILENAME[\"meta\"] = \"de_metadata.json\"\n",
    "FILENAME[\"shape\"] = \"de.geojson\"\n",
    "FILENAME[\"weather\"] = \"weather.csv\"\n",
    "FILENAME[\"age_pop\"] = \"Altersverteilung_Bevolkerung.csv\"\n",
    "\n",
    "corona = PATH[\"data_raw\"]+SUBPATH[\"corona\"]+FILENAME[\"corona\"]\n",
    "meta = PATH[\"data_raw\"]+SUBPATH[\"meta\"]+FILENAME[\"meta\"]\n",
    "shape = PATH[\"data_raw\"]+SUBPATH[\"shape\"]+FILENAME[\"shape\"]\n",
    "weather = PATH[\"data_raw\"]+SUBPATH[\"weather\"]+FILENAME[\"weather\"]\n",
    "age_pop = PATH[\"data_external\"]+SUBPATH[\"age\"]+FILENAME[\"age_pop\"]"
   ]
  },
  {
   "cell_type": "markdown",
   "metadata": {},
   "source": [
    "The dates is parsed in the data, so that it has a consistent form. The data is tab seperated and thus we load the data with a tab seperator. We also append the extra data that was provided to our original weather data frame."
   ]
  },
  {
   "cell_type": "code",
   "execution_count": null,
   "metadata": {},
   "outputs": [],
   "source": [
    "raw_data = {}\n",
    "\n",
    "from datetime import datetime\n",
    "dateparse = lambda x: datetime.strptime(x, '%Y-%m-%d')\n",
    "\n",
    "#data\n",
    "raw_data['de_corona'] = pd.read_csv(corona, sep='\\t', parse_dates=['date'], date_parser=dateparse)\n",
    "raw_data['weather'] = pd.read_csv(weather, sep='\\t', parse_dates=['date'], date_parser=dateparse)\n",
    "additional = pd.read_csv('../Data/Raw/weather/weather2.csv', sep='\\t', parse_dates=['date'], date_parser=dateparse)\n",
    "raw_data['weather'] = raw_data['weather'].append(additional)\n",
    "\n",
    "#open jsonfile_metadata\n",
    "with open(meta, 'r', encoding='utf-8') as f:\n",
    "    country_metadata = json.loads(f.read())\n",
    "\n",
    "#task4\n",
    "raw_data['age_pop'] = pd.read_csv(age_pop, sep=';', decimal=',')"
   ]
  },
  {
   "cell_type": "code",
   "execution_count": null,
   "metadata": {},
   "outputs": [],
   "source": [
    "HEADERS = ['de_corona','weather']\n",
    "for i in HEADERS:\n",
    "    print(i +\"  \\tDataFrame shape: \" + str(raw_data[i].shape))"
   ]
  },
  {
   "cell_type": "markdown",
   "metadata": {},
   "source": [
    "## Data type insight"
   ]
  },
  {
   "cell_type": "markdown",
   "metadata": {},
   "source": [
    "With the data provided involved the following fields: "
   ]
  },
  {
   "cell_type": "code",
   "execution_count": null,
   "metadata": {},
   "outputs": [],
   "source": [
    "list(raw_data[\"weather\"].columns), list(raw_data[\"de_corona\"].columns)"
   ]
  },
  {
   "cell_type": "markdown",
   "metadata": {},
   "source": [
    "The following fields are categorical variables:\n",
    "- iso3166-2 (the codes of the regions in Germany)\n",
    "- date\n",
    "- region_code (the name of the region)\n",
    "\n",
    "The following fields are numerical variables:\n",
    "- RelativeHumiditySurface \n",
    "- SolarRadiation (measured j/sqm)\n",
    "- Surfacepressure \n",
    "- TemperatureAboveGround (measured in Kelvin)\n",
    "- Totalprecipitation\n",
    "- UVIndex (1-10)\n",
    "- Windspeed (m/s)\n",
    "- confirmed_addition (number of confirmed Covid-19 infections)\n",
    "- deceased_addition (number of deceased with a confirmed Covid-19 infections)\n",
    "\n",
    "All the weather data is a 24-hour sum of the day, which will result in higher than expected values, these variables can be divided by 24 to get the mean of the day, though this will also be flawed data, since the data will have a daily mean. SolarRadiation, UVIndex is only relevent when the sun is actually present during the day, by getting the daily mean, the hours of the day where the sun is not active is taken into account, which results in lower than expected values. "
   ]
  },
  {
   "cell_type": "markdown",
   "metadata": {},
   "source": [
    "## Filtering the weather dataset"
   ]
  },
  {
   "cell_type": "markdown",
   "metadata": {},
   "source": [
    "Our assigned country in this project is Germany and thus we filter the data so that we only have data from Germany"
   ]
  },
  {
   "cell_type": "code",
   "execution_count": null,
   "metadata": {},
   "outputs": [],
   "source": [
    "#get Germany data\n",
    "weather_data_de = raw_data[\"weather\"][raw_data[\"weather\"][\"iso3166-2\"].str.startswith(\"DE\")]\n",
    "#reset_index\n",
    "weather_data_de.reset_index(drop=True, inplace=True)\n",
    "\n",
    "#Processed data\n",
    "processed_data = {}\n",
    "processed_data[\"weather\"] = weather_data_de\n",
    "processed_data[\"weather\"].to_csv(\"../Data/Processed/processed_weather.csv\")\n",
    "processed_data[\"de_corona\"] = raw_data[\"de_corona\"]"
   ]
  },
  {
   "cell_type": "markdown",
   "metadata": {},
   "source": [
    "## Sanity check"
   ]
  },
  {
   "cell_type": "markdown",
   "metadata": {},
   "source": [
    "Here we check for typical issues with raw data. We are checking for missing data, duplicate data and null values."
   ]
  },
  {
   "cell_type": "markdown",
   "metadata": {},
   "source": [
    "### Check for null values"
   ]
  },
  {
   "cell_type": "code",
   "execution_count": null,
   "metadata": {
    "scrolled": true
   },
   "outputs": [],
   "source": [
    "check_null_values(raw_data['de_corona'], \"de_corona\")\n",
    "check_null_values(weather_data_de, \"weather_data_de\")"
   ]
  },
  {
   "cell_type": "markdown",
   "metadata": {},
   "source": [
    "### Checking if our data source corrected their data by adding negative values to the previous day, to get the cummulitative sum correct"
   ]
  },
  {
   "cell_type": "code",
   "execution_count": null,
   "metadata": {},
   "outputs": [],
   "source": [
    "print('min deaths',min(raw_data['de_corona']['deceased_addition']))\n",
    "print('min cases',min(raw_data['de_corona']['confirmed_addition']))"
   ]
  },
  {
   "cell_type": "markdown",
   "metadata": {},
   "source": [
    "### Checking and visualizing for weird values"
   ]
  },
  {
   "cell_type": "code",
   "execution_count": null,
   "metadata": {},
   "outputs": [],
   "source": [
    "dataset_checker_values(weather_data_de,-999) #-999"
   ]
  },
  {
   "cell_type": "code",
   "execution_count": null,
   "metadata": {},
   "outputs": [],
   "source": [
    "dataset_checker_values(weather_data_de,-1) #-1"
   ]
  },
  {
   "cell_type": "code",
   "execution_count": null,
   "metadata": {},
   "outputs": [],
   "source": [
    "dataset_checker_values(raw_data['de_corona'],-999) #-999"
   ]
  },
  {
   "cell_type": "code",
   "execution_count": null,
   "metadata": {},
   "outputs": [],
   "source": [
    "dataset_checker_values(raw_data['de_corona'],-1) #-1"
   ]
  },
  {
   "cell_type": "markdown",
   "metadata": {},
   "source": [
    "### Checking for duplicates"
   ]
  },
  {
   "cell_type": "code",
   "execution_count": null,
   "metadata": {},
   "outputs": [],
   "source": [
    "if True in list(raw_data[\"de_corona\"].duplicated()):\n",
    "    print(\"Duplicate rows\")\n",
    "else: \n",
    "    print(\"No duplicate rows\")"
   ]
  },
  {
   "cell_type": "markdown",
   "metadata": {},
   "source": [
    "## Data Manipulation"
   ]
  },
  {
   "cell_type": "code",
   "execution_count": null,
   "metadata": {},
   "outputs": [],
   "source": [
    "#adding the region to the de_corona df\n",
    "corona_df = raw_data['de_corona']\n",
    "ss = dict()\n",
    "for i in country_metadata['country_metadata']:\n",
    "    ss[i['covid_region_code']] = i['iso3166-2_code']\n",
    "corona_df['region'] = corona_df['region_code'].map(ss)\n",
    "corona_df"
   ]
  },
  {
   "cell_type": "code",
   "execution_count": null,
   "metadata": {},
   "outputs": [],
   "source": [
    "celsius = pd.DataFrame(weather_data_de['TemperatureAboveGround'].subtract(273.15))\n",
    "weather_data_de['Temp_Celsius'] = celsius\n",
    "weather_data_de"
   ]
  },
  {
   "cell_type": "code",
   "execution_count": null,
   "metadata": {},
   "outputs": [],
   "source": [
    "#merging the corona dataset with the weather dataset for future associations. \n",
    "daily_corona_weather = corona_df.merge(weather_data_de, left_on = [\"date\", \"region\"], right_on = [\"date\", \"iso3166-2\"])\n",
    "daily_corona_weather = daily_corona_weather.drop([\"region_code\", \"region\"], axis = 1)\n",
    "daily_corona_weather #main"
   ]
  },
  {
   "cell_type": "markdown",
   "metadata": {},
   "source": [
    "# Numerical summary"
   ]
  },
  {
   "cell_type": "markdown",
   "metadata": {},
   "source": [
    "There are 16 regions"
   ]
  },
  {
   "cell_type": "code",
   "execution_count": null,
   "metadata": {},
   "outputs": [],
   "source": [
    "list((raw_data['de_corona']['region_code']).unique())"
   ]
  },
  {
   "cell_type": "markdown",
   "metadata": {},
   "source": [
    "### Daily registered cases in Germany"
   ]
  },
  {
   "cell_type": "code",
   "execution_count": null,
   "metadata": {},
   "outputs": [],
   "source": [
    "raw_data[\"de_corona\"].describe()"
   ]
  },
  {
   "cell_type": "code",
   "execution_count": null,
   "metadata": {},
   "outputs": [],
   "source": [
    "rcParams['figure.figsize'] = 25,4"
   ]
  },
  {
   "cell_type": "code",
   "execution_count": null,
   "metadata": {},
   "outputs": [],
   "source": [
    "deCorona_confirmed = raw_data['de_corona']['confirmed_addition']\n",
    "sns.boxplot(deCorona_confirmed, color='lightgray').set_title('Daily confirmed addition registered in Germany - 2020');"
   ]
  },
  {
   "cell_type": "code",
   "execution_count": null,
   "metadata": {},
   "outputs": [],
   "source": [
    "deCorona_deceased = raw_data['de_corona']['deceased_addition']\n",
    "sns.boxplot(deCorona_deceased, color='lightgray').set_title('Daily deceased addition registered in Germany - 2020');"
   ]
  },
  {
   "cell_type": "markdown",
   "metadata": {},
   "source": [
    "# Task 1 - Single Variable Analysis"
   ]
  },
  {
   "cell_type": "markdown",
   "metadata": {},
   "source": [
    "## Corona"
   ]
  },
  {
   "cell_type": "markdown",
   "metadata": {},
   "source": [
    "### Per Region - Per Capita"
   ]
  },
  {
   "cell_type": "code",
   "execution_count": null,
   "metadata": {},
   "outputs": [],
   "source": [
    "#grouping the corona_dataset by region and adding the population\n",
    "\n",
    "meta_df = pd.DataFrame(country_metadata['country_metadata'])\n",
    "sorted_country_metadata = meta_df.sort_values(by = 'iso3166-2_name_en')\n",
    "corona_by_region  = pd.DataFrame(raw_data['de_corona'].groupby(by = 'region_code').sum())\n",
    "corona_by_region['iso3166-2_code'] = sorted_country_metadata['iso3166-2_code'].values\n",
    "corona_by_region['population'] = sorted_country_metadata['population'].values\n",
    "\n",
    "corona_by_region"
   ]
  },
  {
   "cell_type": "code",
   "execution_count": null,
   "metadata": {},
   "outputs": [],
   "source": [
    "#The number of cases by region/capita\n",
    "corona_by_region['confirmed/pop'] = corona_by_region['confirmed_addition']/corona_by_region['population']\n",
    "corona_by_region['deceased/pop'] = corona_by_region['deceased_addition']/corona_by_region['population']"
   ]
  },
  {
   "cell_type": "code",
   "execution_count": null,
   "metadata": {},
   "outputs": [],
   "source": [
    "corona_by_region.groupby(\"region_code\")[\"deceased/pop\", \"confirmed/pop\"].describe()"
   ]
  },
  {
   "cell_type": "code",
   "execution_count": null,
   "metadata": {},
   "outputs": [],
   "source": [
    "rcParams['figure.figsize'] = 13,8\n",
    "data_forplot= corona_by_region.copy()\n",
    "data_forplot['region_code'] = data_forplot.index\n",
    "fig, (ax1, ax2) = plt.subplots(ncols=2, sharey=True)\n",
    "ax = sns.barplot(x=\"confirmed/pop\", y=\"region_code\", data=data_forplot,ax=ax1).set_title('The number of confirmed cases by region per capita')\n",
    "ax = sns.barplot(x=\"deceased/pop\", y=\"region_code\", data=data_forplot,ax=ax2).set_title('The number of deceased cases by region per capita');"
   ]
  },
  {
   "cell_type": "markdown",
   "metadata": {},
   "source": [
    "### Per Month"
   ]
  },
  {
   "cell_type": "code",
   "execution_count": null,
   "metadata": {},
   "outputs": [],
   "source": [
    "corona_date = pd.to_datetime(raw_data['de_corona']['date'])\n",
    "corona_2020=pd.DataFrame(raw_data['de_corona'][corona_date.dt.year == 2020])\n",
    "corona_2021=pd.DataFrame(raw_data['de_corona'][corona_date.dt.year == 2021])\n",
    "\n",
    "corona_2021_month_sum = pd.DataFrame(corona_2021.groupby(corona_date.dt.month).sum())\n",
    "corona_month_sum = pd.DataFrame(corona_2020.groupby(corona_date.dt.month).sum())\n",
    "corona_month_mean = pd.DataFrame(corona_2020.groupby(corona_date.dt.month).mean())\n",
    "#corona_month_mean\n",
    "right_one = corona_month_sum.append(corona_2021_month_sum)\n",
    "right_one"
   ]
  },
  {
   "cell_type": "code",
   "execution_count": null,
   "metadata": {},
   "outputs": [],
   "source": [
    "corona_total_bar_plot('confirmed_addition',right_one[1:])"
   ]
  },
  {
   "cell_type": "code",
   "execution_count": null,
   "metadata": {},
   "outputs": [],
   "source": [
    "corona_total_bar_plot('deceased_addition',right_one[1:])"
   ]
  },
  {
   "cell_type": "markdown",
   "metadata": {},
   "source": [
    "### Per Region"
   ]
  },
  {
   "cell_type": "code",
   "execution_count": null,
   "metadata": {},
   "outputs": [],
   "source": [
    "corona_bar_plot(corona_by_region['iso3166-2_code'],corona_by_region['confirmed_addition'],'Confirmed Corona Cases per Region') #potential use"
   ]
  },
  {
   "cell_type": "code",
   "execution_count": null,
   "metadata": {},
   "outputs": [],
   "source": [
    "corona_bar_plot(corona_by_region['iso3166-2_code'],corona_by_region['deceased_addition'],'Deceased Corona Cases per Region') #potential use"
   ]
  },
  {
   "cell_type": "markdown",
   "metadata": {},
   "source": [
    "## Weather"
   ]
  },
  {
   "cell_type": "code",
   "execution_count": null,
   "metadata": {},
   "outputs": [],
   "source": [
    "#weather_date = pd.to_datetime(weather_data_de['date'])\n",
    "#weather_2020=pd.DataFrame(weather_data_de[weather_date.dt.year == 2020])\n",
    "#weather_2021=pd.DataFrame(weather_data_de[weather_date.dt.year == 2021])\n",
    "\n",
    "#weather_month_2020 = pd.DataFrame(weather_2020.groupby(weather_date.dt.month).mean())\n",
    "#weather_month_2021 = pd.DataFrame(weather_2021.groupby(weather_date.dt.month).mean())\n",
    "#right_weather_one = weather_month_2020.append(weather_month_2021)\n",
    "#celsius = pd.DataFrame(weather_data_de['TemperatureAboveGround'].subtract(273.15))\n",
    "#right_weather_one['Temp_Celsius'] = celsius\n",
    "#right_weather_one"
   ]
  },
  {
   "cell_type": "code",
   "execution_count": null,
   "metadata": {},
   "outputs": [],
   "source": [
    "#grouping weather conditions per day\n",
    "weather_date = pd.to_datetime(weather_data_de['date'])\n",
    "weather_daily = pd.DataFrame(weather_data_de.groupby(weather_date).mean())\n",
    "weather_daily"
   ]
  },
  {
   "cell_type": "code",
   "execution_count": null,
   "metadata": {},
   "outputs": [],
   "source": [
    "heat_calendar(weather_daily,'RelativeHumiditySurface','Blues_r','Relative Humidity Surface Map');"
   ]
  },
  {
   "cell_type": "code",
   "execution_count": null,
   "metadata": {},
   "outputs": [],
   "source": [
    "heat_calendar(weather_daily,'SolarRadiation','Oranges','Solar Radiation Map');"
   ]
  },
  {
   "cell_type": "code",
   "execution_count": null,
   "metadata": {},
   "outputs": [],
   "source": [
    "heat_calendar(weather_daily,'Surfacepressure','Oranges','Surface Pressure Map');"
   ]
  },
  {
   "cell_type": "code",
   "execution_count": null,
   "metadata": {},
   "outputs": [],
   "source": [
    "heat_calendar(weather_daily,'TemperatureAboveGround','Oranges','TemperatureAboveGround Map');"
   ]
  },
  {
   "cell_type": "code",
   "execution_count": null,
   "metadata": {},
   "outputs": [],
   "source": [
    "heat_calendar(weather_daily,'Totalprecipitation','Oranges','Total Precipitation Map');"
   ]
  },
  {
   "cell_type": "code",
   "execution_count": null,
   "metadata": {},
   "outputs": [],
   "source": [
    "#description\n",
    "heat_calendar(weather_daily,'UVIndex','Oranges','UVIndex Map');"
   ]
  },
  {
   "cell_type": "code",
   "execution_count": null,
   "metadata": {},
   "outputs": [],
   "source": [
    "heat_calendar(weather_daily,'Temp_Celsius','Oranges','Temp Celsius Map');"
   ]
  },
  {
   "cell_type": "markdown",
   "metadata": {},
   "source": [
    "# Task 2 - Associations"
   ]
  },
  {
   "cell_type": "markdown",
   "metadata": {},
   "source": [
    "## Daily Associations"
   ]
  },
  {
   "cell_type": "code",
   "execution_count": null,
   "metadata": {},
   "outputs": [],
   "source": [
    "weather_headers = ['RelativeHumiditySurface', 'SolarRadiation', 'Surfacepressure', 'TemperatureAboveGround',\n",
    "             'Totalprecipitation', 'UVIndex', 'WindSpeed','Temp_Celsius']\n",
    "significance_threshold = 0.001 / (len(weather_headers) * 3)"
   ]
  },
  {
   "cell_type": "markdown",
   "metadata": {},
   "source": [
    "### Pearson association for daily_corona_weather for original dataset"
   ]
  },
  {
   "cell_type": "markdown",
   "metadata": {},
   "source": [
    "Testing for linearity in the data"
   ]
  },
  {
   "cell_type": "code",
   "execution_count": null,
   "metadata": {},
   "outputs": [],
   "source": [
    "pearson_association(daily_corona_weather,'confirmed_addition',weather_headers,significance_threshold)"
   ]
  },
  {
   "cell_type": "markdown",
   "metadata": {},
   "source": [
    "Visualizing the pearson correlation"
   ]
  },
  {
   "cell_type": "code",
   "execution_count": null,
   "metadata": {},
   "outputs": [],
   "source": [
    "sns.regplot(x=\"confirmed_addition\", y=\"Temp_Celsius\", data=daily_corona_weather, color=\"black\", ci=None,line_kws={'lw':4})"
   ]
  },
  {
   "cell_type": "code",
   "execution_count": null,
   "metadata": {},
   "outputs": [],
   "source": [
    "sns.regplot(x=\"confirmed_addition\", y=\"UVIndex\", data=daily_corona_weather, color=\"black\", ci=None, line_kws={'lw':4})"
   ]
  },
  {
   "cell_type": "markdown",
   "metadata": {},
   "source": [
    "### Spearman association for daily_corona_weather for original dataset."
   ]
  },
  {
   "cell_type": "code",
   "execution_count": null,
   "metadata": {},
   "outputs": [],
   "source": [
    "spearman_association(daily_corona_weather,'confirmed_addition',weather_headers,significance_threshold)"
   ]
  },
  {
   "cell_type": "markdown",
   "metadata": {},
   "source": [
    "Testing for monotonic relationships in the data"
   ]
  },
  {
   "cell_type": "markdown",
   "metadata": {},
   "source": [
    "### Pearson asscociation for daily_corona_weather, with logtransformation of confirmed_addition"
   ]
  },
  {
   "cell_type": "code",
   "execution_count": null,
   "metadata": {},
   "outputs": [],
   "source": [
    "pearson_log(daily_corona_weather,'confirmed_addition',weather_headers,significance_threshold)"
   ]
  },
  {
   "cell_type": "markdown",
   "metadata": {},
   "source": [
    "### Association tests for the deceased corona additon"
   ]
  },
  {
   "cell_type": "code",
   "execution_count": null,
   "metadata": {},
   "outputs": [],
   "source": [
    "pearson_association(daily_corona_weather,'deceased_addition',weather_headers,significance_threshold)"
   ]
  },
  {
   "cell_type": "code",
   "execution_count": null,
   "metadata": {},
   "outputs": [],
   "source": [
    "spearman_association(daily_corona_weather,'deceased_addition',weather_headers,significance_threshold)"
   ]
  },
  {
   "cell_type": "code",
   "execution_count": null,
   "metadata": {},
   "outputs": [],
   "source": [
    "#can't be done because of 0 values\n",
    "#pearson_log(daily_corona_weather,'deceased_addition',weather_headers,significance_threshold)"
   ]
  },
  {
   "cell_type": "markdown",
   "metadata": {},
   "source": [
    "Testing if there is a linear relationship on a non-linear scale in the data and if the data is skewed, thus a log transformation is used.\n"
   ]
  },
  {
   "cell_type": "markdown",
   "metadata": {},
   "source": [
    "### sm.ols (Least Squares) multivariate regression\n"
   ]
  },
  {
   "cell_type": "markdown",
   "metadata": {},
   "source": [
    "Values here may be misleading. This is because the multivariate regression, when looking at specific variables, it keeps all the other variables constant."
   ]
  },
  {
   "cell_type": "code",
   "execution_count": null,
   "metadata": {},
   "outputs": [],
   "source": [
    "df = sm.add_constant(daily_corona_weather)\n",
    "weather_headers.extend([\"const\"])"
   ]
  },
  {
   "cell_type": "code",
   "execution_count": null,
   "metadata": {},
   "outputs": [],
   "source": [
    "est = sm.OLS(df[\"confirmed_addition\"], df[weather_headers], hasconst = True).fit()\n",
    "print(est.summary())"
   ]
  },
  {
   "cell_type": "markdown",
   "metadata": {},
   "source": [
    "Here TemperatureAboveGround is a misleading variable, since in the previous sections we analysed that having a higher temperature leads to fewer cases. Though in this multiplevariate regression it is found out that a higher temperature increases the number of cases, this contradicts all prior analysis. The reason for this is that the multivariate regression keeps all other variables constant. That is, a day with the exact same weather conditions, besides the temperature being higher, will lead to more cases. To this there could be multiple reasons for this to occur, though a major and probable reason could be that people go outside during high temperatures, which in turn will lead to people not being isolated and thus there will be a higher probability of people getting a Covid-19 infection. \n",
    "\n",
    "Thus all these weather variables lead to change in human behavior, which results in changes in the amount of Covid-19 cases."
   ]
  },
  {
   "cell_type": "code",
   "execution_count": null,
   "metadata": {},
   "outputs": [],
   "source": [
    "est = sm.OLS(df[\"deceased_addition\"], df[weather_headers], hasconst = True).fit()\n",
    "print(est.summary())"
   ]
  },
  {
   "cell_type": "markdown",
   "metadata": {},
   "source": [
    "All the weather variables does not result in anything interesting to be discorvered. From the multivariate regression it is apparent that more people die, with a covid-19 infection, during higher solar radiation. It also shows that fewer people die when the total precipitation is higher. Intuitively these variables does change the human behavior, but in no way that would cause them to reduce or increase the number of deaths caused by covid-19. Also the people dying of Covid-19 is most likely in a hospital bed and is under extensive care, thus intuitively these weather variables would not lead to changes in covid-19 deaths. \n",
    "\n",
    "The only explanation would be that the hospital care is worsened during good weather and better during poor weather. Which also does not make much sense intuitively."
   ]
  },
  {
   "cell_type": "code",
   "execution_count": null,
   "metadata": {},
   "outputs": [],
   "source": [
    "#corona and weather conditions grouped by months\n",
    "weather_date = pd.to_datetime(weather_data_de['date'])\n",
    "weather_2020=pd.DataFrame(weather_data_de[weather_date.dt.year == 2020])\n",
    "weather_month_2020 = pd.DataFrame(weather_2020.groupby(weather_date.dt.month).mean())\n",
    "df_monthly_sum = corona_month_sum.merge(weather_month_2020,left_on = 'date',right_on = 'date')"
   ]
  },
  {
   "cell_type": "code",
   "execution_count": null,
   "metadata": {},
   "outputs": [],
   "source": [
    "weather_headers_month = ['RelativeHumiditySurface', 'SolarRadiation', 'Surfacepressure', 'TemperatureAboveGround',\n",
    "             'Totalprecipitation', 'UVIndex', 'WindSpeed']\n",
    "significance_threshold_monthly = 0.5 / (len(weather_headers_month) * 3)\n",
    "print(significance_threshold_monthly)"
   ]
  },
  {
   "cell_type": "markdown",
   "metadata": {},
   "source": [
    "Here the significance threshhold is increased due to the grouping of the data into months. This means that the breakpoint of where a variable is as not being correlated by chance is higher, which means that the certainty that the variable is a correlated by chance is less precise. "
   ]
  },
  {
   "cell_type": "markdown",
   "metadata": {},
   "source": [
    "#### Corona Cases per Month"
   ]
  },
  {
   "cell_type": "code",
   "execution_count": null,
   "metadata": {},
   "outputs": [],
   "source": [
    "pearson_association(df_monthly_sum,'confirmed_addition',weather_headers_month,significance_threshold_monthly)"
   ]
  },
  {
   "cell_type": "code",
   "execution_count": null,
   "metadata": {},
   "outputs": [],
   "source": [
    "#a scatterplot of two variables, x and y, \n",
    "#regression line - fit a line to the data by calculating R^2 (sum of least squares)\n",
    "fig, ax = plt.subplots()\n",
    "ax2 = ax.twinx() #This allows the common axes (flow rate) to be shared\n",
    "sns.regplot(x=\"confirmed_addition\", y=\"RelativeHumiditySurface\", data=df_monthly_sum, ax=ax, color=\"black\", ci=None,line_kws={'lw':4})\n",
    "sns.regplot(x=\"confirmed_addition\", y=\"UVIndex\", data=df_monthly_sum, color=\"gray\", ax=ax2, ci=None, line_kws={'lw':4})\n",
    "\n",
    "ax2.legend(handles=[a.lines[0] for a in [ax,ax2]], \n",
    "           labels=[\"Temp_Celsius\", \"UVIndex\"])\n",
    "plt.show()"
   ]
  },
  {
   "cell_type": "code",
   "execution_count": null,
   "metadata": {},
   "outputs": [],
   "source": [
    "spearman_association(df_monthly_sum,'confirmed_addition',weather_headers_month,significance_threshold_monthly)"
   ]
  },
  {
   "cell_type": "code",
   "execution_count": null,
   "metadata": {},
   "outputs": [],
   "source": [
    "pearson_log(df_monthly_sum,'confirmed_addition',weather_headers_month,significance_threshold_monthly)"
   ]
  },
  {
   "cell_type": "markdown",
   "metadata": {},
   "source": [
    "From these multivariate regressions it is apparent from the pearson that there is a correlation between the monthly total of Covid-19 cases and RelativeHumiditySurface, SolarRadiation and UVIndex. These variables tend to be higher during the summer, where there was a decrease in Covid-19 cases, thus this makes sense. Though in the spearman there is also seen high correlations, though the p-value is too high for us to assume that it has not happend by chance."
   ]
  },
  {
   "cell_type": "markdown",
   "metadata": {},
   "source": [
    "#### Corona Deaths per Month"
   ]
  },
  {
   "cell_type": "code",
   "execution_count": null,
   "metadata": {},
   "outputs": [],
   "source": [
    "pearson_association(df_monthly_sum,'deceased_addition',weather_headers_month,significance_threshold_monthly)"
   ]
  },
  {
   "cell_type": "code",
   "execution_count": null,
   "metadata": {},
   "outputs": [],
   "source": [
    "spearman_association(df_monthly_sum,'deceased_addition',weather_headers_month,significance_threshold_monthly)"
   ]
  },
  {
   "cell_type": "code",
   "execution_count": null,
   "metadata": {},
   "outputs": [],
   "source": [
    "pearson_log(df_monthly_sum[1:],'deceased_addition',weather_headers_month,significance_threshold_monthly) #interesting, check temperature above ground"
   ]
  },
  {
   "cell_type": "markdown",
   "metadata": {},
   "source": [
    "The analysis of the corona cases/deaths per month could be interesting when it is analyzed how infectious one strain is from another. This would be quite hard to do daily because there is really hard that 1st of February 2020 would have the same weather conditions as 1st of February 2021. Therefore, there is a higher chance that the overall weather conditions in February 2020 to be the similar to February 2021."
   ]
  },
  {
   "cell_type": "markdown",
   "metadata": {},
   "source": [
    "### Dummy Variable Analysis"
   ]
  },
  {
   "cell_type": "code",
   "execution_count": null,
   "metadata": {},
   "outputs": [],
   "source": [
    "daily_corona_weather['Lockdown'] = '0'\n",
    "daily_corona_weather.loc[(daily_corona_weather[\"date\"] >= \"2020-11-02\") & (daily_corona_weather[\"date\"] <= \"2021-03-07\"), \"Lockdown\"] = '1'\n",
    "daily_corona_weather"
   ]
  },
  {
   "cell_type": "code",
   "execution_count": null,
   "metadata": {},
   "outputs": [],
   "source": [
    "mask = (corona_df['date'] > \"2020-11-02\") & (corona_df['date'] <= \"2021-03-07\")\n",
    "corona_daily_sum = corona_df.groupby(corona_df['date']).sum().reset_index()\n",
    "corona_daily_sum_lockdown = corona_df[mask].groupby(corona_df[mask]['date']).sum().reset_index()\n",
    "#corona_daily_sum_lockdown"
   ]
  },
  {
   "cell_type": "code",
   "execution_count": null,
   "metadata": {},
   "outputs": [],
   "source": [
    "corona_line_plot(corona_daily_sum,'date','confirmed_addition','Corona lockdown plot')"
   ]
  },
  {
   "cell_type": "code",
   "execution_count": null,
   "metadata": {},
   "outputs": [],
   "source": [
    "corona_line_plot(corona_daily_sum,'date','deceased_addition','Corona lockdown plot')"
   ]
  },
  {
   "cell_type": "markdown",
   "metadata": {},
   "source": [
    "Data taken from https://en.wikipedia.org/wiki/COVID-19_pandemic_in_Germany - Government Reactions\n",
    "\n",
    "- 15th March, borders to Austria, Denmark, France, Luxembourg and Switzerland were closed (light-red)\n",
    "- 22nd March, curfews were imposed in six German states while other states prohibited physical contact with more than one person from outside one's household. (dark-red)\n",
    "- 15th April loosening of restrictions (blue)\n",
    "- 2nd November a partial lockdown was implemented, in which physical distancing rules were tightened while schools and kindergartens remained open, only temporarily halted the rise in case numbers (light-red)\n",
    "- 15th December a hard lockdown was implemented (dark-red)\n",
    "- 26th December 2020 - Vaccinations with the BioNTech–Pfizer COVID-19 vaccine began  (green)"
   ]
  },
  {
   "cell_type": "code",
   "execution_count": null,
   "metadata": {},
   "outputs": [],
   "source": [
    "corona_bar_plot(corona_daily_sum_lockdown['date'],corona_daily_sum_lockdown['confirmed_addition'],'Corona Lockdown Cases')"
   ]
  },
  {
   "cell_type": "code",
   "execution_count": null,
   "metadata": {},
   "outputs": [],
   "source": [
    "corona_bar_plot(corona_daily_sum_lockdown['date'],corona_daily_sum_lockdown['deceased_addition'],'Corona lockdown plot')"
   ]
  },
  {
   "cell_type": "code",
   "execution_count": null,
   "metadata": {},
   "outputs": [],
   "source": [
    "x = ['RelativeHumiditySurface', 'SolarRadiation', 'Surfacepressure', 'TemperatureAboveGround',\n",
    "             'Totalprecipitation', 'UVIndex', 'WindSpeed','Lockdown','const']\n",
    "df1 = sm.add_constant(daily_corona_weather)\n",
    "est1 = sm.OLS(np.log(df1['confirmed_addition']), df1[x].astype(float), hasconst = True).fit()\n",
    "print(est1.summary())"
   ]
  },
  {
   "cell_type": "markdown",
   "metadata": {},
   "source": [
    "# Task 3 - Map visualization"
   ]
  },
  {
   "cell_type": "code",
   "execution_count": null,
   "metadata": {},
   "outputs": [],
   "source": [
    "corona_by_region"
   ]
  },
  {
   "cell_type": "markdown",
   "metadata": {},
   "source": [
    "## Total number of Cases of Covid-19 on a regional basis"
   ]
  },
  {
   "cell_type": "code",
   "execution_count": null,
   "metadata": {},
   "outputs": [],
   "source": [
    "n_cases = folium.Map(location = [51.5, 10.7], zoom_start = 6)\n",
    "\n",
    "folium.Choropleth(\n",
    "    geo_data = shape,\n",
    "    name = \"cases\",\n",
    "    data = corona_by_region,\n",
    "    columns = [\"iso3166-2_code\", \"confirmed_addition\"],\n",
    "    key_on = \"properties.iso_3166_2\",\n",
    "    fill_color = \"OrRd\", \n",
    "    fill_opacity = 0.7,\n",
    "    line_opacity = 0.2,\n",
    "    highlight=True,\n",
    "    legend_name = \"Number of Cases of Covid-19\").add_to(n_cases)\n",
    "n_cases"
   ]
  },
  {
   "cell_type": "markdown",
   "metadata": {},
   "source": [
    "## Total number of deceased with a confirmed Covid-19 infection on a regional basis\n"
   ]
  },
  {
   "cell_type": "code",
   "execution_count": null,
   "metadata": {},
   "outputs": [],
   "source": [
    "dead = folium.Map(location = [51.5, 10.7], zoom_start = 6)\n",
    "\n",
    "folium.Choropleth(\n",
    "    geo_data = shape,\n",
    "    name = \"cases\",\n",
    "    data = corona_by_region,\n",
    "    columns = [\"iso3166-2_code\", \"deceased_addition\"],\n",
    "    key_on = \"properties.iso_3166_2\",\n",
    "    fill_color = \"Greys\", \n",
    "    fill_opacity = 0.7,\n",
    "    line_opacity = 0.2,\n",
    "    highlight=True,\n",
    "    legend_name = \"Number of Deceased with an covid-19 infection\").add_to(dead)\n",
    "dead"
   ]
  },
  {
   "cell_type": "markdown",
   "metadata": {},
   "source": [
    "## Population on a regional basis "
   ]
  },
  {
   "cell_type": "code",
   "execution_count": null,
   "metadata": {},
   "outputs": [],
   "source": [
    "p_cases = folium.Map(location = [51.5, 10.7], zoom_start = 6)\n",
    "folium.Choropleth(\n",
    "    geo_data = shape,\n",
    "    name = \"population\",\n",
    "    data = corona_by_region,\n",
    "    columns = [\"iso3166-2_code\", \"population\"],\n",
    "    key_on = \"properties.iso_3166_2\",\n",
    "    fill_color = \"YlGn\", \n",
    "    fill_opacity = 0.7,\n",
    "    line_opacity = 0.2,\n",
    "    highlight=True,\n",
    "    legend_name = \"Population\").add_to(p_cases)\n",
    "p_cases"
   ]
  },
  {
   "cell_type": "markdown",
   "metadata": {},
   "source": [
    "## Number of Cases pr. population of region"
   ]
  },
  {
   "cell_type": "code",
   "execution_count": null,
   "metadata": {},
   "outputs": [],
   "source": [
    "r_cases = folium.Map(location = [51.5, 10.7], zoom_start = 6)\n",
    "\n",
    "tiles = ['stamenwatercolor', 'cartodbpositron', 'openstreetmap', 'stamenterrain']\n",
    "for tile in tiles:\n",
    "    folium.TileLayer(tile).add_to(r_cases)\n",
    "\n",
    "folium.Choropleth(\n",
    "    geo_data = shape,\n",
    "    name = \"cases\",\n",
    "    data = corona_by_region,\n",
    "    columns = [\"iso3166-2_code\", \"confirmed/pop\"],\n",
    "    key_on = \"properties.iso_3166_2\",\n",
    "    fill_color = \"OrRd\", \n",
    "    fill_opacity = 0.7,\n",
    "    line_opacity = 0.2,\n",
    "    legend_name = \"Number of Cases pr. population of region\",\n",
    "    highlight=True\n",
    ").add_to(r_cases)\n",
    "\n",
    "folium.LayerControl().add_to(r_cases)\n",
    "\n",
    "r_cases"
   ]
  },
  {
   "cell_type": "markdown",
   "metadata": {},
   "source": [
    "## UVIndex on a regional basis"
   ]
  },
  {
   "cell_type": "markdown",
   "metadata": {},
   "source": [
    "The UVIndex is a daily sum, this is handled by dividing by 24, because there is 24 hours in a day. This will though result in very small UVIndex values, because UVIndex during the night is taken into account."
   ]
  },
  {
   "cell_type": "code",
   "execution_count": null,
   "metadata": {},
   "outputs": [],
   "source": [
    "# dividing by 24 since there is 24 hours in a day, though this takes into account night where the uvindex is \n",
    "# really small/nonexsistent\n",
    "# Could be argued that it should be divided by 16-18 since these are the hours where the sun is present. \n",
    "weather_by_region = pd.DataFrame(weather_data_de.groupby(by = 'iso3166-2').mean())\n",
    "weather_by_region['UVIndex_scaled'] = weather_by_region['UVIndex']/24"
   ]
  },
  {
   "cell_type": "code",
   "execution_count": null,
   "metadata": {},
   "outputs": [],
   "source": [
    "uv_index = folium.Map(location = [51.5, 10.7], zoom_start = 6)\n",
    "\n",
    "folium.Choropleth(\n",
    "    geo_data = shape,\n",
    "    name = \"uv-index\",\n",
    "    data = weather_by_region,\n",
    "    columns = [weather_by_region.index, \"UVIndex_scaled\"],\n",
    "    key_on = \"properties.iso_3166_2\",\n",
    "    fill_color = \"OrRd\", \n",
    "    fill_opacity = 0.7,\n",
    "    line_opacity = 0.2,\n",
    "    highlight=True,\n",
    "    legend_name = \"UVIndex\",\n",
    "    smooth_factor=0).add_to(uv_index)\n",
    "uv_index"
   ]
  },
  {
   "cell_type": "markdown",
   "metadata": {},
   "source": [
    "## Temperature Above Ground on a regional basis"
   ]
  },
  {
   "cell_type": "markdown",
   "metadata": {},
   "source": [
    "The Temperature Above Ground is a daily sum, this means that the data is flawed and is a lot higher than expected. This is handled by dividing by 24, because there is 24 hours in a day. This will though result in very small temperature values, because the temperature during the night is taken into account. Considering the flaws here this is still a more accurate measure then what the original data would have been. "
   ]
  },
  {
   "cell_type": "code",
   "execution_count": null,
   "metadata": {},
   "outputs": [],
   "source": [
    "weather_by_region[\"TemperatureAboveGround_scaled\"] = weather_by_region[\"TemperatureAboveGround\"]/24"
   ]
  },
  {
   "cell_type": "code",
   "execution_count": null,
   "metadata": {},
   "outputs": [],
   "source": [
    "TAG = folium.Map(location = [51.5, 10.7], zoom_start = 6)\n",
    "\n",
    "folium.Choropleth(\n",
    "    geo_data = shape,\n",
    "    name = \"uv-index\",\n",
    "    data = weather_by_region,\n",
    "    columns = [weather_by_region.index, \"TemperatureAboveGround_scaled\"],\n",
    "    key_on = \"properties.iso_3166_2\",\n",
    "    fill_color = \"OrRd\", \n",
    "    fill_opacity = 0.7,\n",
    "    line_opacity = 0.2,\n",
    "    highlight=True,\n",
    "    legend_name = \"average Temperature Above Ground on a daily basis\").add_to(TAG)\n",
    "TAG"
   ]
  },
  {
   "cell_type": "markdown",
   "metadata": {},
   "source": [
    "## Multiple plots on a regional and monthy basis"
   ]
  },
  {
   "cell_type": "code",
   "execution_count": null,
   "metadata": {},
   "outputs": [],
   "source": [
    "raw_data['de_corona']['month'] = raw_data['de_corona']['date'].dt.strftime('%B')\n",
    "raw_data['de_corona']['year'] = raw_data['de_corona']['date'].dt.strftime('%Y')\n",
    "population_map = {country_metadata[\"country_metadata\"][i][\"iso3166-2_code\"]: country_metadata[\"country_metadata\"][i][\"population\"] for i in range(len(country_metadata[\"country_metadata\"]))}\n",
    "raw_data[\"de_corona\"][\"population\"] = raw_data[\"de_corona\"][\"region\"].map(population_map)\n",
    "raw_data[\"de_corona\"][\"confirmed_addition_ratio\"] = raw_data[\"de_corona\"][\"confirmed_addition\"]/raw_data[\"de_corona\"][\"population\"]"
   ]
  },
  {
   "cell_type": "code",
   "execution_count": null,
   "metadata": {},
   "outputs": [],
   "source": [
    "cases_2020_monthly = raw_data[\"de_corona\"][(raw_data[\"de_corona\"][\"year\"] == \"2020\")].groupby([\"month\", \"region\"]).sum()\n",
    "cases_2021_monthly = raw_data[\"de_corona\"][(raw_data[\"de_corona\"][\"year\"] == \"2021\")].groupby([\"month\", \"region\"]).sum()"
   ]
  },
  {
   "cell_type": "code",
   "execution_count": null,
   "metadata": {},
   "outputs": [],
   "source": [
    "confirmed_addition_ratio_maps = dict()\n",
    "for i in list(raw_data[\"de_corona\"][(raw_data[\"de_corona\"][\"year\"] == \"2020\")][\"month\"].unique()):\n",
    "    n_cases = folium.Map(location = [51.5, 10.7], zoom_start = 6)\n",
    "    \n",
    "    folium.map.Marker(\n",
    "    [54.5, 2],\n",
    "    icon=DivIcon(\n",
    "        icon_size=(400,50),\n",
    "        icon_anchor=(0,0),\n",
    "        html='<div style=\"font-size: 20pt\">{}</div>'.format(i),\n",
    "        )\n",
    "    ).add_to(n_cases)\n",
    "    \n",
    "    folium.Choropleth(\n",
    "        geo_data = shape,\n",
    "        name = \"cases\",\n",
    "        data = cases_2020_monthly.loc[i].reset_index(),\n",
    "        columns = [\"region\", \"confirmed_addition_ratio\"],\n",
    "        key_on = \"properties.iso_3166_2\",\n",
    "        fill_color = \"OrRd\", \n",
    "        fill_opacity = 0.7,\n",
    "        line_opacity = 0.2,\n",
    "        highlight=True,\n",
    "        nan_fill_color = \"purple\",\n",
    "        legend_name = \"Number of Cases of Covid-19 pr. population of region in {} 2020\".format(i)).add_to(n_cases)\n",
    "    confirmed_addition_ratio_maps[i+\"-2020\"] = n_cases\n",
    "for i in list(raw_data[\"de_corona\"][(raw_data[\"de_corona\"][\"year\"] == \"2021\")][\"month\"].unique()):\n",
    "    n_cases = folium.Map(location = [51.5, 10.7], zoom_start = 6)\n",
    "\n",
    "    folium.map.Marker(\n",
    "    [54.5, 2],\n",
    "    icon=DivIcon(\n",
    "        icon_size=(400,50),\n",
    "        icon_anchor=(0,0),\n",
    "        html='<div style=\"font-size: 20pt\">{}</div>'.format(i),\n",
    "        )\n",
    "    ).add_to(n_cases)\n",
    "    \n",
    "    folium.Choropleth(\n",
    "        geo_data = shape,\n",
    "        name = \"cases\",\n",
    "        data = cases_2021_monthly.loc[i].reset_index(),\n",
    "        columns = [\"region\", \"confirmed_addition_ratio\"],\n",
    "        key_on = \"properties.iso_3166_2\",\n",
    "        fill_color = \"OrRd\", \n",
    "        fill_opacity = 0.7,\n",
    "        line_opacity = 0.2,\n",
    "        highlight=True,\n",
    "        nan_fill_color = \"purple\",\n",
    "        legend_name = \"Number of Cases of Covid-19 pr. population of region in {} 2021\".format(i)).add_to(n_cases)\n",
    "    confirmed_addition_ratio_maps[i+\"-2021\"] = n_cases    "
   ]
  },
  {
   "cell_type": "code",
   "execution_count": null,
   "metadata": {},
   "outputs": [],
   "source": [
    "confirmed_addition_maps = dict()\n",
    "for i in list(raw_data[\"de_corona\"][(raw_data[\"de_corona\"][\"year\"] == \"2020\")][\"month\"].unique()):\n",
    "    n_cases = folium.Map(location = [51.5, 10.7], zoom_start = 6)\n",
    "    \n",
    "    folium.map.Marker(\n",
    "    [54.5, 2],\n",
    "    icon=DivIcon(\n",
    "        icon_size=(400,50),\n",
    "        icon_anchor=(0,0),\n",
    "        html='<div style=\"font-size: 20pt\">{}-2020</div>'.format(i),\n",
    "        )\n",
    "    ).add_to(n_cases)\n",
    "    \n",
    "    folium.Choropleth(\n",
    "        geo_data = shape,\n",
    "        name = \"cases\",\n",
    "        data = cases_2020_monthly.loc[i].reset_index(),\n",
    "        columns = [\"region\", \"confirmed_addition\"],\n",
    "        key_on = \"properties.iso_3166_2\",\n",
    "        fill_color = \"OrRd\", \n",
    "        fill_opacity = 0.7,\n",
    "        line_opacity = 0.2,\n",
    "        highlight=True,\n",
    "        nan_fill_color = \"purple\",\n",
    "        legend_name = \"Number of Cases of Covid-19 in {} 2020\".format(i)).add_to(n_cases)\n",
    "    confirmed_addition_maps[i+\"-2020\"] = n_cases\n",
    "for i in list(raw_data[\"de_corona\"][(raw_data[\"de_corona\"][\"year\"] == \"2021\")][\"month\"].unique()):\n",
    "    n_cases = folium.Map(location = [51.5, 10.7], zoom_start = 6)\n",
    "\n",
    "    folium.map.Marker(\n",
    "    [54.5, 2],\n",
    "    icon=DivIcon(\n",
    "        icon_size=(400,50),\n",
    "        icon_anchor=(0,0),\n",
    "        html='<div style=\"font-size: 20pt\">{}-2021</div>'.format(i),\n",
    "        )\n",
    "    ).add_to(n_cases)\n",
    "    \n",
    "    folium.Choropleth(\n",
    "        geo_data = shape,\n",
    "        name = \"cases\",\n",
    "        data = cases_2021_monthly.loc[i].reset_index(),\n",
    "        columns = [\"region\", \"confirmed_addition\"],\n",
    "        key_on = \"properties.iso_3166_2\",\n",
    "        fill_color = \"OrRd\", \n",
    "        fill_opacity = 0.7,\n",
    "        line_opacity = 0.2,\n",
    "        highlight=True,\n",
    "        nan_fill_color = \"purple\",\n",
    "        legend_name = \"Number of Cases of Covid-19 in {} 2021\".format(i)).add_to(n_cases)\n",
    "    confirmed_addition_maps[i+\"-2021\"] = n_cases   \n",
    "confirmed_addition = [\"other_notebooks/maps/confirmed_addition/\"+i+\".png\" for i in confirmed_addition_maps.keys()]\n",
    "images = []\n",
    "for filename in confirmed_addition:\n",
    "    images.append(imageio.imread(filename))\n",
    "imageio.mimsave('other_notebooks/map_gifs/confirmed_addition_maps.gif', images, duration=2)"
   ]
  },
  {
   "cell_type": "code",
   "execution_count": null,
   "metadata": {},
   "outputs": [],
   "source": [
    "deceased_addition_maps = dict()\n",
    "for i in list(raw_data[\"de_corona\"][(raw_data[\"de_corona\"][\"year\"] == \"2020\")][\"month\"].unique()):\n",
    "    n_cases = folium.Map(location = [51.5, 10.7], zoom_start = 6)\n",
    "\n",
    "    folium.map.Marker(\n",
    "    [54.5, 2],\n",
    "    icon=DivIcon(\n",
    "        icon_size=(400,50),\n",
    "        icon_anchor=(0,0),\n",
    "        html='<div style=\"font-size: 20pt\">{}-2020</div>'.format(i),\n",
    "        )\n",
    "    ).add_to(n_cases)\n",
    "    \n",
    "    folium.Choropleth(\n",
    "        geo_data = shape,\n",
    "        name = \"cases\",\n",
    "        data = cases_2020_monthly.loc[i].reset_index(),\n",
    "        columns = [\"region\", \"deceased_addition\"],\n",
    "        key_on = \"properties.iso_3166_2\",\n",
    "        fill_color = \"Greys\", \n",
    "        fill_opacity = 0.7,\n",
    "        line_opacity = 0.2,\n",
    "        highlight=True,\n",
    "        nan_fill_color = \"purple\",\n",
    "        legend_name = \"Number of deceased with a Covid-19 infection in {} 2020\".format(i)).add_to(n_cases)\n",
    "    deceased_addition_maps[i+\"-2020\"] = n_cases\n",
    "for i in list(raw_data[\"de_corona\"][(raw_data[\"de_corona\"][\"year\"] == \"2021\")][\"month\"].unique()):\n",
    "    n_cases = folium.Map(location = [51.5, 10.7], zoom_start = 6)\n",
    "\n",
    "    folium.map.Marker(\n",
    "    [54.5, 2],\n",
    "    icon=DivIcon(\n",
    "        icon_size=(400,50),\n",
    "        icon_anchor=(0,0),\n",
    "        html='<div style=\"font-size: 20pt\">{}-2021</div>'.format(i),\n",
    "        )\n",
    "    ).add_to(n_cases)\n",
    "    \n",
    "    folium.Choropleth(\n",
    "        geo_data = shape,\n",
    "        name = \"cases\",\n",
    "        data = cases_2021_monthly.loc[i].reset_index(),\n",
    "        columns = [\"region\", \"deceased_addition\"],\n",
    "        key_on = \"properties.iso_3166_2\",\n",
    "        fill_color = \"Greys\", \n",
    "        fill_opacity = 0.7,\n",
    "        line_opacity = 0.2,\n",
    "        highlight=True,\n",
    "        nan_fill_color = \"purple\",\n",
    "        legend_name = \"Number of deceased with a Covid-19 infection in {} 2021\".format(i)).add_to(n_cases)\n",
    "    deceased_addition_maps[i+\"-2021\"] = n_cases   \n",
    "deceased_addition = [\"other_notebooks/maps/deceased_addition/\"+i+\".png\" for i in confirmed_addition_maps.keys()]\n",
    "images = []\n",
    "for filename in deceased_addition:\n",
    "    images.append(imageio.imread(filename))\n",
    "imageio.mimsave('other_notebooks/map_gifs/deceased_addition_maps.gif', images, duration=2)"
   ]
  },
  {
   "cell_type": "markdown",
   "metadata": {},
   "source": [
    "### Viewing the maps"
   ]
  },
  {
   "cell_type": "markdown",
   "metadata": {},
   "source": [
    "All the monthly maps can be ascessed by doing \n",
    "```python\n",
    "deceased_addition_maps[\"January-2020\"]\n",
    "confirmed_addition_maps[\"January-2020\"]\n",
    "confirmed_addition_ratio_maps[\"January-2020\"]\n",
    "```\n",
    "Missing data, or there was no recorded data in that region, the color of the region will be purple\n",
    "\n",
    "Month and year can be changed"
   ]
  },
  {
   "cell_type": "code",
   "execution_count": null,
   "metadata": {},
   "outputs": [],
   "source": [
    "confirmed_addition_maps[\"January-2020\"]"
   ]
  },
  {
   "cell_type": "markdown",
   "metadata": {},
   "source": [
    "![SegmentLocal](other_notebooks/map_gifs/confirmed_addition_maps.gif)"
   ]
  },
  {
   "cell_type": "code",
   "execution_count": null,
   "metadata": {},
   "outputs": [],
   "source": [
    "deceased_addition_maps[\"January-2020\"]"
   ]
  },
  {
   "cell_type": "markdown",
   "metadata": {},
   "source": [
    "![SegmentLocal](other_notebooks/map_gifs/deceased_addition_maps.gif)"
   ]
  },
  {
   "cell_type": "code",
   "execution_count": null,
   "metadata": {},
   "outputs": [],
   "source": [
    "confirmed_addition_ratio_maps[\"January-2020\"]"
   ]
  },
  {
   "cell_type": "markdown",
   "metadata": {},
   "source": [
    "##  Task 4: Open question\n",
    "Use the data to formulate, motivate, answer, and discuss another research question of your choice. For example, compare your country to another one in the dataset; or investigate additional variables that you could\n",
    "find elsewhere (e.g. total population, population density, population demographics such as age distribution,\n",
    "number of elders, etc); or identify if there are temporal patterns (is one variable more important in some\n",
    "months? Are weekends different from weekdays? Etc), .."
   ]
  },
  {
   "cell_type": "markdown",
   "metadata": {},
   "source": [
    "##### We loaded an external data set from the website of 'Robert Koch Institut' (RKI) to explore the role of age in potentially driving differences in infection spread.\n",
    "The data set is about  COVID-19 cases by age group / 100,000 inhabitants in Germany from the 17th of March 2020 to the 2nd of March 2021.  \n",
    "https://www.rki.de/DE/Content/InfAZ/N/Neuartiges_Coronavirus/Daten/Altersverteilung.html"
   ]
  },
  {
   "cell_type": "markdown",
   "metadata": {},
   "source": [
    "#### The weekly mean of total confirmed cases per 100.000 inhabitants across age groups\n",
    "We added the mean of the weekly cases by age to the table to get a quick insight into the age distribution."
   ]
  },
  {
   "cell_type": "code",
   "execution_count": null,
   "metadata": {},
   "outputs": [],
   "source": [
    "raw_data['age_pop']['mean'] = raw_data['age_pop'].mean(axis=1)\n",
    "raw_data['age_pop']"
   ]
  },
  {
   "cell_type": "code",
   "execution_count": null,
   "metadata": {},
   "outputs": [],
   "source": [
    "raw_data['age_pop']['mean'].describe()"
   ]
  },
  {
   "cell_type": "markdown",
   "metadata": {},
   "source": [
    "#### Visualize distribution of weekly mean of total confirmed cases per 100.000 per age"
   ]
  },
  {
   "cell_type": "code",
   "execution_count": null,
   "metadata": {},
   "outputs": [],
   "source": [
    "rcParams['figure.figsize'] = 15,8\n",
    "sns.set_style(\"whitegrid\");"
   ]
  },
  {
   "cell_type": "code",
   "execution_count": null,
   "metadata": {},
   "outputs": [],
   "source": [
    "ax = sns.barplot(x=\"mean\", y=\"Altersgruppe\", data=raw_data['age_pop']).set_title('The weekly mean of total confirmed cases per 100.000 people across age groups')"
   ]
  },
  {
   "cell_type": "markdown",
   "metadata": {},
   "source": [
    "The weekly registered infections among people above 90 is extremely higher than other age groups. \n",
    "\n",
    "The reason seems not to be the population size of each group. (RKI: 40-59-year-olds make up the largest age group in Germany, at 23.6 million people, the next-largest age group was 65 years and older, at 18.09 million.)"
   ]
  },
  {
   "cell_type": "markdown",
   "metadata": {},
   "source": [
    "#### Temporal distribution of cases across age groups"
   ]
  },
  {
   "cell_type": "code",
   "execution_count": null,
   "metadata": {},
   "outputs": [],
   "source": [
    "df_T = raw_data['age_pop'].T\n",
    "modified = df_T.reset_index()\n",
    "new_header = modified.iloc[0] #grab the first row for the header\n",
    "modified = modified[1:] #take the data less the header row\n",
    "modified.columns = new_header #set the header row as the df header\n",
    "modified.rename(columns={\"Altersgruppe\":\"date\"}, inplace=True)\n",
    "modified = modified.drop([53])\n",
    "modified['date'] = modified['date'].astype(str) + '_2' #2 means Tuesday\n",
    "modified['date'] =  pd.to_datetime(modified['date'], format='%Y_%W_%w')\n",
    "\n",
    "for column in modified:\n",
    "    modified.iloc[:, 1:21] = modified.iloc[:, 1:21].astype(float)\n",
    "\n",
    "# merge age groups\n",
    "modified['0-19'] = modified.loc[:,['0 - 4','5 - 9', '10 - 14', '15 - 19']].sum(axis=1)\n",
    "modified['20-39'] = modified.loc[:,['20 - 24','25 - 29', '30 - 34', '35 - 39']].sum(axis=1)\n",
    "modified['40-59'] = modified.loc[:,['40 - 44', '45 - 49', '50 - 54', '55 - 59']].sum(axis=1)\n",
    "modified['60-79'] = modified.loc[:,['60 - 64','65 - 69', '70 - 74', '75 - 79']].sum(axis=1)\n",
    "modified['80+'] = modified.loc[:,['80 - 84', '85 - 89', '90+']].sum(axis=1)\n",
    "#modified"
   ]
  },
  {
   "cell_type": "markdown",
   "metadata": {},
   "source": [
    "The pandemic is exhibiting seasonal patterns in its spread. It is clear that there is a peak in the number of cases in the winter period of 2020-2021 and the number of cases are low during the summer of 2020. \n",
    "Next, the distribution of these specific periods will be plotted by ages."
   ]
  },
  {
   "cell_type": "code",
   "execution_count": null,
   "metadata": {},
   "outputs": [],
   "source": [
    "x = modified.drop(modified.columns.difference(['date', '0-19', '20-39', '40-59', '60-79', '80+']), axis=1)\n",
    "melt_modified = x.melt('date', var_name='age_gaps',  value_name='cases')\n",
    "\n",
    "g = sns.lineplot(x=\"date\", y=\"cases\", hue='age_gaps', data=melt_modified).set_title('All weekly registered cases in Germany by age groups')"
   ]
  },
  {
   "cell_type": "code",
   "execution_count": null,
   "metadata": {},
   "outputs": [],
   "source": [
    "mask_winter = (melt_modified['date'].dt.month > 10)\n",
    "winter = melt_modified[mask_winter]\n",
    "\n",
    "g = sns.lineplot(x=\"date\", y=\"cases\", hue='age_gaps', data=winter).set_title('2020-2021: WINTER: All weekly registered cases in Germany by age groups');"
   ]
  },
  {
   "cell_type": "code",
   "execution_count": null,
   "metadata": {},
   "outputs": [],
   "source": [
    "mask_summer = ((melt_modified['date'].dt.month < 9) & (melt_modified['date'].dt.month > 5))\n",
    "summer = melt_modified[mask_summer]\n",
    "\n",
    "g = sns.lineplot(x=\"date\", y=\"cases\", hue='age_gaps', data=summer).set_title('2020 SUMMER: All weekly registered cases in Germany by age groups');"
   ]
  },
  {
   "cell_type": "markdown",
   "metadata": {},
   "source": [
    "However, in summer time, when the number of all cases are low, the proportion of the infected among young adults are higher, among the age group 20-39 the highest.\n",
    "\n",
    "By investigating the possible connections between the weather variables and the number of cases by age groups, the focus will be on the two most interesting ones that are not following the pattern: people from 20 to 39 years and above 80."
   ]
  },
  {
   "cell_type": "code",
   "execution_count": null,
   "metadata": {},
   "outputs": [],
   "source": [
    "#merge corona_age & weather WEEKLY for plots\n",
    "#corona age: 2020.03.12 - 2021.03.02.  - weather: 2020-02-13 - 2020.11.14.\n",
    "\n",
    "#prepare weather data to merge without regions\n",
    "df_w = weather_data_de.copy()\n",
    "#sum some weather values:\n",
    "df_w_sum = df_w.groupby('date')['RelativeHumiditySurface', 'SolarRadiation', 'Surfacepressure', 'Totalprecipitation'].sum()\n",
    "#take the mean some weather values:\n",
    "df_w_mean = df_w.groupby('date')['TemperatureAboveGround', 'UVIndex', 'WindSpeed'].mean()\n",
    "df_w_noregions = df_w_sum.merge(df_w_mean, left_on = [\"date\"], right_on = [\"date\"]) \n",
    "#date index to column data:\n",
    "df_w_noregions.reset_index(level=0, inplace=True)\n",
    "\n",
    "#merge (modified is the weekly corona data by age)\n",
    "weekly_coronaAge_weather = modified.merge(df_w_noregions, left_on = [\"date\"], right_on = [\"date\"])\n",
    "weekly_coronaAge_weather.drop_duplicates(subset='date');\n",
    "\n",
    "celsius = pd.DataFrame(weekly_coronaAge_weather['TemperatureAboveGround'].subtract(273.15))\n",
    "weekly_coronaAge_weather['Temp_Celsius'] = celsius"
   ]
  },
  {
   "cell_type": "code",
   "execution_count": null,
   "metadata": {},
   "outputs": [],
   "source": [
    "fig, (ax1, ax2) = plt.subplots(ncols=2, sharey=True)\n",
    "sns.regplot(x=\"80+\", y=\"Temp_Celsius\", data=weekly_coronaAge_weather, ax=ax1, color=\"black\", ci=None)\n",
    "sns.regplot(x=\"20-39\", y=\"Temp_Celsius\", data=weekly_coronaAge_weather, ax=ax2, color=\"black\", ci=None);"
   ]
  },
  {
   "cell_type": "code",
   "execution_count": null,
   "metadata": {},
   "outputs": [],
   "source": [
    "fig, (ax1, ax2) = plt.subplots(ncols=2, sharey=True)\n",
    "sns.regplot(x=\"80+\", y=\"UVIndex\", data=weekly_coronaAge_weather, ax=ax1, color=\"black\", ci=None)\n",
    "sns.regplot(x=\"20-39\", y=\"UVIndex\", data=weekly_coronaAge_weather, ax=ax2, color=\"black\", ci=None);"
   ]
  },
  {
   "cell_type": "markdown",
   "metadata": {},
   "source": [
    "### Multivariate linear regression using statsmodel for daily_coronaAge_weather 80+\n",
    "\n",
    "Are there any differencies how the different weather variables can influence the number of cases by that two specific age groups? "
   ]
  },
  {
   "cell_type": "code",
   "execution_count": null,
   "metadata": {},
   "outputs": [],
   "source": [
    "#DAILY DATA\n",
    "#There is data for 52 weeks: create daily data - divide the case numbers by 7\n",
    "modified['date'] = pd.to_datetime(modified['date'])\n",
    "daily_age = modified.set_index('date').resample('d').mean().ffill().div(7).reset_index()\n",
    "\n",
    "\n",
    "#changes in weather data: change values: sum and mean\n",
    "#df_w = de_weather.copy()\n",
    "#df_w_sum = df_w.groupby('date')['RelativeHumiditySurface', 'SolarRadiation', 'Surfacepressure', 'Totalprecipitation'].sum()\n",
    "#df_w_mean = df_w.groupby('date')['TemperatureAboveGround', 'UVIndex', 'WindSpeed'].mean()\n",
    "#no need for regions\n",
    "df_w_noregions = df_w_sum.merge(df_w_mean, left_on = [\"date\"], right_on = [\"date\"]) \n",
    "daily_coronaAge_weather = daily_age.merge(df_w_noregions,  left_on = [\"date\"], right_on = [\"date\"])\n",
    "daily_coronaAge_weather = daily_coronaAge_weather.drop_duplicates(subset='date')\n",
    "\n",
    "celsius = pd.DataFrame(daily_coronaAge_weather['TemperatureAboveGround'].subtract(273.15))\n",
    "daily_coronaAge_weather['Temp_Celsius'] = celsius\n",
    "#daily_age\n",
    "#daily_coronaAge_weather"
   ]
  },
  {
   "cell_type": "code",
   "execution_count": null,
   "metadata": {},
   "outputs": [],
   "source": [
    "daily_coronaAge_weather = sm.add_constant(daily_coronaAge_weather)\n",
    "\n",
    "est = sm.OLS(np.log(daily_coronaAge_weather['80+']), daily_coronaAge_weather[weather_headers], hasconst = True).fit()\n",
    "print(est.summary())"
   ]
  },
  {
   "cell_type": "markdown",
   "metadata": {},
   "source": [
    "### Multivariate linear regression using statsmodel for daily_coronaAge_weather 20-39"
   ]
  },
  {
   "cell_type": "code",
   "execution_count": null,
   "metadata": {},
   "outputs": [],
   "source": [
    "est = sm.OLS(np.log(daily_coronaAge_weather['20-39']), daily_coronaAge_weather[weather_headers], hasconst = True).fit()\n",
    "print(est.summary())"
   ]
  },
  {
   "cell_type": "markdown",
   "metadata": {},
   "source": [
    "R-squared 0.760 and 0.882 (corr.coeff. squared) It means this model can explain the 76% and 82.2% of the variation in our data. \n",
    "Comparing the two multivariable linear regression model results shows that from the 7 weather variables, 6 has corresponding associations with the numbers of cases, only the temperature above ground variable shows a difference. At the age group 20-39 it is positive(0.0087),  at people above 80 is negative(-0.1188)"
   ]
  },
  {
   "cell_type": "markdown",
   "metadata": {},
   "source": [
    "While analyzing how the COVID-19 infection spread across different age groups, the most conspicuous patterns in the temporal data distribution were that COVID-19 cases are highest in young adults in summer and extremely higher in people above 80 in winter. \n",
    "With a linear regression model, we only could underline this fact.\n",
    "Intuitively when the numbers of covid cases are low and the weather is fine, young adults, who are not the most endangered age group, are more likely to take risks against social distancing. \n",
    "The possible explanation can be for higher infection rates across people above 80, that they are biologically the most susceptible population for covid-19.\n"
   ]
  }
 ],
 "metadata": {
  "kernelspec": {
   "display_name": "Python 3",
   "language": "python",
   "name": "python3"
  },
  "language_info": {
   "codemirror_mode": {
    "name": "ipython",
    "version": 3
   },
   "file_extension": ".py",
   "mimetype": "text/x-python",
   "name": "python",
   "nbconvert_exporter": "python",
   "pygments_lexer": "ipython3",
   "version": "3.8.5"
  }
 },
 "nbformat": 4,
 "nbformat_minor": 4
}
