{
 "cells": [
  {
   "cell_type": "markdown",
   "metadata": {},
   "source": [
    "# Group 10 - First Year Project\n",
    "### Data Science at ITU \n",
    "## Project 2 - Correlation between Covid-19's spread and weather conditions"
   ]
  },
  {
   "cell_type": "markdown",
   "metadata": {},
   "source": [
    "#Description"
   ]
  },
  {
   "cell_type": "markdown",
   "metadata": {},
   "source": [
    "This notebook contains all the code developed in the Project 2 - Correlation between Covid-19's spread and weather conditions\n",
    "\n",
    "Contact/Group: \n",
    "- Florian Micliuc(flmi@itu.dk)\n",
    "- Louis Caspar Brandt (locb@itu.dk)\n",
    "- Iben Mai Huse (ibhu@itu.dk)\n",
    "- Katalin Literati-Dobos (klit@itu.dk)\n",
    "- Ruben Jonsman (rubj@itu.dk)"
   ]
  },
  {
   "cell_type": "markdown",
   "metadata": {},
   "source": [
    "#  Library imports"
   ]
  },
  {
   "cell_type": "code",
   "execution_count": null,
   "metadata": {},
   "outputs": [],
   "source": [
    "import numpy as np\n",
    "import pandas as pd\n",
    "import missingno as msno\n",
    "import matplotlib.pyplot as plt\n",
    "import math\n",
    "from collections import Counter\n",
    "from scipy.stats import chi2_contingency\n",
    "import seaborn as sns\n",
    "import folium\n",
    "from folium import plugins \n",
    "from folium.plugins import HeatMap, MarkerCluster\n",
    "import shapely\n",
    "import json \n",
    "from shapely.geometry import Point, MultiPoint, LineString, MultiLineString, Polygon, MultiPolygon\n",
    "import branca\n",
    "import branca.colormap as cm\n",
    "import statsmodels.api as sm\n",
    "from scipy.stats import pearsonr, spearmanr"
   ]
  },
  {
   "cell_type": "markdown",
   "metadata": {},
   "source": [
    "# Functions"
   ]
  },
  {
   "cell_type": "code",
   "execution_count": null,
   "metadata": {},
   "outputs": [],
   "source": [
    "def check_null_values(file):\n",
    "    if file.isnull().values.any():\n",
    "        print('There are null values in the dataset')\n",
    "    else:\n",
    "        print('There are no null values in the dataset')"
   ]
  },
  {
   "cell_type": "code",
   "execution_count": null,
   "metadata": {},
   "outputs": [],
   "source": [
    "def dataset_checker_values(dataset,value):\n",
    "    SA = dataset.copy()\n",
    "    SA.replace(value, np.nan, inplace=True)\n",
    "    missingdata_df = SA.columns[SA.isnull().any()].tolist()\n",
    "    msno.matrix(SA);"
   ]
  },
  {
   "cell_type": "code",
   "execution_count": null,
   "metadata": {},
   "outputs": [],
   "source": [
    "def weather_mean_bar_plot(column,df):\n",
    "    list_month = ['February','March','April','May','June','July','August','September','October','November','December']\n",
    "    fig,ax = plt.subplots(figsize = (16,4))\n",
    "    df[column].plot.bar(color = 'silver',edgecolor = 'black',rot = 0)\n",
    "    ax.set_title('Mean of' + ' '+ column)\n",
    "    ax.set_ylabel('Value')\n",
    "    ax.set_xlabel('Month')\n",
    "    ax.set_xticklabels(list_month)"
   ]
  },
  {
   "cell_type": "code",
   "execution_count": null,
   "metadata": {},
   "outputs": [],
   "source": [
    "def corona_total_bar_plot(column,df):\n",
    "    list_month = ['February','March','April','May','June','July','August','September','October','November','December']\n",
    "    fig,ax = plt.subplots(figsize = (16,4))\n",
    "    df[column].plot.bar(color = 'silver',edgecolor = 'black',rot = 0)\n",
    "    ax.set_title(column)\n",
    "    ax.set_ylabel('Value')\n",
    "    ax.set_xlabel('Month')\n",
    "    ax.set_xticklabels(list_month)"
   ]
  },
  {
   "cell_type": "code",
   "execution_count": null,
   "metadata": {},
   "outputs": [],
   "source": [
    "def corona_line_plot(df,x,y,title):\n",
    "    ax = df.plot.line(x = x, y = y,rot = 45,figsize = (20,6),color = 'silver',title = title,ylabel = 'Corona Cases',xlabel = 'Date')"
   ]
  },
  {
   "cell_type": "markdown",
   "metadata": {},
   "source": [
    "# Task 0 - Data cleaning and filtering"
   ]
  },
  {
   "cell_type": "markdown",
   "metadata": {},
   "source": [
    "## Loading data\n",
    "#Description"
   ]
  },
  {
   "cell_type": "code",
   "execution_count": null,
   "metadata": {},
   "outputs": [],
   "source": [
    "PATH = {}\n",
    "PATH[\"data_raw\"] = \"../data/raw/\"\n",
    "PATH[\"data_interim\"] = \"../data/interim/\"\n",
    "PATH[\"data_processed\"] = \"../data/processed/\"\n",
    "PATH[\"data_external\"] = \"../data/external/\"\n",
    "\n",
    "SUBPATH = {}\n",
    "SUBPATH[\"corona\"] = \"corona/\"\n",
    "SUBPATH[\"meta\"] = \"metadata/\"\n",
    "SUBPATH[\"shape\"] = \"shapefiles/\"\n",
    "SUBPATH[\"weather\"] = \"weather/\"\n",
    "\n",
    "FILENAME = {}\n",
    "FILENAME[\"corona\"] = \"de_corona.csv\"\n",
    "FILENAME[\"meta\"] = \"de_metadata.json\"\n",
    "FILENAME[\"shape\"] = \"de.geojson\"\n",
    "FILENAME[\"weather\"] = \"weather.csv\"\n",
    "\n",
    "corona = PATH[\"data_raw\"]+SUBPATH[\"corona\"]+FILENAME[\"corona\"]\n",
    "meta = PATH[\"data_raw\"]+SUBPATH[\"meta\"]+FILENAME[\"meta\"]\n",
    "shape = PATH[\"data_raw\"]+SUBPATH[\"shape\"]+FILENAME[\"shape\"]\n",
    "weather = PATH[\"data_raw\"]+SUBPATH[\"weather\"]+FILENAME[\"weather\"]"
   ]
  },
  {
   "cell_type": "code",
   "execution_count": null,
   "metadata": {},
   "outputs": [],
   "source": [
    "raw_data = {}\n",
    "\n",
    "from datetime import datetime\n",
    "dateparse = lambda x: datetime.strptime(x, '%Y-%m-%d')\n",
    "\n",
    "raw_data['de_corona'] = pd.read_csv(corona, sep='\\s+', parse_dates=['date'], date_parser=dateparse)\n",
    "raw_data['weather'] = pd.read_csv(weather, sep='\\s+', parse_dates=['date'], date_parser=dateparse)\n",
    "additional = pd.read_csv('../Data/Raw/weather/weather2.csv', sep='\\t', parse_dates=['date'], date_parser=dateparse)\n",
    "#raw_data['weather'] = raw_data['weather'].append(additional)\n",
    "raw_data['weather']= pd.concat([raw_data['weather'], additional], axis=0)\n",
    "\n",
    "with open(meta, 'r', encoding='utf-8') as f:\n",
    "    country_metadata = json.loads(f.read())"
   ]
  },
  {
   "cell_type": "code",
   "execution_count": null,
   "metadata": {},
   "outputs": [],
   "source": [
    "HEADERS = ['de_corona','weather']\n",
    "for i in HEADERS:\n",
    "    print(i +\"  \\tDataFrame shape: \" + str(raw_data[i].shape))"
   ]
  },
  {
   "cell_type": "markdown",
   "metadata": {},
   "source": [
    " ### Data type insight\n",
    " #Description"
   ]
  },
  {
   "cell_type": "markdown",
   "metadata": {},
   "source": [
    "## Filtering the weather dataset"
   ]
  },
  {
   "cell_type": "code",
   "execution_count": null,
   "metadata": {},
   "outputs": [],
   "source": [
    "weather_data_de = raw_data[\"weather\"][raw_data[\"weather\"][\"iso3166-2\"].str.startswith(\"DE\")]\n",
    "weather_data_de.reset_index(drop=True, inplace=True)\n",
    "#weather_data_de"
   ]
  },
  {
   "cell_type": "markdown",
   "metadata": {},
   "source": [
    "## Relational data table\n",
    "#Description"
   ]
  },
  {
   "cell_type": "markdown",
   "metadata": {},
   "source": [
    "## Sanity check\n",
    "#Description"
   ]
  },
  {
   "cell_type": "markdown",
   "metadata": {},
   "source": [
    "### Check for null values"
   ]
  },
  {
   "cell_type": "code",
   "execution_count": null,
   "metadata": {},
   "outputs": [],
   "source": [
    "check_null_values(raw_data['de_corona'])\n",
    "check_null_values(weather_data_de)"
   ]
  },
  {
   "cell_type": "markdown",
   "metadata": {},
   "source": [
    "### Checking and visualizing for weird values"
   ]
  },
  {
   "cell_type": "code",
   "execution_count": null,
   "metadata": {},
   "outputs": [],
   "source": [
    "#dataset_checker_values(weather_data_de,-999) #-999"
   ]
  },
  {
   "cell_type": "code",
   "execution_count": null,
   "metadata": {},
   "outputs": [],
   "source": [
    "#dataset_checker_values(weather_data_de,-1) #-1"
   ]
  },
  {
   "cell_type": "code",
   "execution_count": null,
   "metadata": {},
   "outputs": [],
   "source": [
    "#dataset_checker_values(raw_data['de_corona'],-999) #-999"
   ]
  },
  {
   "cell_type": "code",
   "execution_count": null,
   "metadata": {},
   "outputs": [],
   "source": [
    "#dataset_checker_values(raw_data['de_corona'],-1) #-1"
   ]
  },
  {
   "cell_type": "markdown",
   "metadata": {},
   "source": [
    "## Checking for duplicates, should we do that?"
   ]
  },
  {
   "cell_type": "markdown",
   "metadata": {},
   "source": [
    "# Task 1 - Single Variable Analysis"
   ]
  },
  {
   "cell_type": "code",
   "execution_count": null,
   "metadata": {},
   "outputs": [],
   "source": [
    "#similar to how Michele did, creating the corona dataset with the regions\n",
    "corona_df = raw_data['de_corona']\n",
    "ss = dict()\n",
    "for i in country_metadata['country_metadata']:\n",
    "    ss[i['covid_region_code']] = i['iso3166-2_code']\n",
    "corona_df['region'] = corona_df['region_code'].map(ss)\n",
    "#corona_df"
   ]
  },
  {
   "cell_type": "code",
   "execution_count": null,
   "metadata": {},
   "outputs": [],
   "source": [
    "#total  of covid cases per region\n",
    "meta_df = pd.DataFrame(country_metadata['country_metadata'])\n",
    "sorted_country_metadata = meta_df.sort_values(by = 'iso3166-2_name_en')\n",
    "corona_by_region  = pd.DataFrame(raw_data['de_corona'].groupby(by = 'region_code').sum())\n",
    "corona_by_region['iso3166-2_code'] = sorted_country_metadata['iso3166-2_code'].values\n",
    "corona_by_region['population'] = sorted_country_metadata['population'].values\n",
    "#corona_by_region"
   ]
  },
  {
   "cell_type": "code",
   "execution_count": null,
   "metadata": {},
   "outputs": [],
   "source": [
    "#merging the corona dataset with the weather dataset\n",
    "daily_corona_weather = corona_df.merge(weather_data_de, left_on = [\"date\", \"region\"], right_on = [\"date\", \"iso3166-2\"])\n",
    "daily_corona_weather = daily_corona_weather.drop([\"date\", \"region_code\", \"region\"], axis = 1)\n",
    "#daily_corona_weather"
   ]
  },
  {
   "cell_type": "markdown",
   "metadata": {},
   "source": [
    "# Monthly Analysis"
   ]
  },
  {
   "cell_type": "code",
   "execution_count": null,
   "metadata": {},
   "outputs": [],
   "source": [
    "weather_date = pd.to_datetime(weather_data_de['date'])\n",
    "weather_2020=pd.DataFrame(weather_data_de[weather_date.dt.year == 2020])\n",
    "weather_month = pd.DataFrame(weather_2020.groupby(weather_date.dt.month).mean())\n",
    "celsius = pd.DataFrame(weather_month['TemperatureAboveGround'].subtract(273.15))\n",
    "weather_month['Temp_Celsius'] = celsius\n",
    "#weather_month"
   ]
  },
  {
   "cell_type": "code",
   "execution_count": null,
   "metadata": {},
   "outputs": [],
   "source": [
    "#weather_mean_bar_plot('SolarRadiation',weather_month)"
   ]
  },
  {
   "cell_type": "code",
   "execution_count": null,
   "metadata": {},
   "outputs": [],
   "source": [
    "corona_date = pd.to_datetime(raw_data['de_corona']['date'])\n",
    "corona_2020=pd.DataFrame(raw_data['de_corona'][corona_date.dt.year == 2020])\n",
    "corona_month_sum = pd.DataFrame(corona_2020.groupby(corona_date.dt.month).sum())\n",
    "corona_month_mean = pd.DataFrame(corona_2020.groupby(corona_date.dt.month).mean())\n",
    "right_one = corona_month_sum[1:12]"
   ]
  },
  {
   "cell_type": "code",
   "execution_count": null,
   "metadata": {},
   "outputs": [],
   "source": [
    "#corona_total_bar_plot('confirmed_addition',right_one)"
   ]
  },
  {
   "cell_type": "code",
   "execution_count": null,
   "metadata": {},
   "outputs": [],
   "source": [
    "#corona_total_bar_plot('deceased_addition',right_one)"
   ]
  },
  {
   "cell_type": "markdown",
   "metadata": {},
   "source": [
    "# Region and Weather Mean"
   ]
  },
  {
   "cell_type": "code",
   "execution_count": null,
   "metadata": {},
   "outputs": [],
   "source": [
    "weather_by_region = pd.DataFrame(weather_data_de.groupby(by = 'iso3166-2').mean())\n",
    "#weather_by_region"
   ]
  },
  {
   "cell_type": "markdown",
   "metadata": {},
   "source": [
    "# Task 2 - Associations"
   ]
  },
  {
   "cell_type": "code",
   "execution_count": null,
   "metadata": {},
   "outputs": [],
   "source": [
    "#corona and weather conditions grouped by months\n",
    "df_monthly_sum = corona_month_sum.merge(weather_month,left_on = 'date',right_on = 'date')\n",
    "df_monthly_mean = corona_month_mean.merge(weather_month,left_on = 'date',right_on = 'date')"
   ]
  },
  {
   "cell_type": "code",
   "execution_count": null,
   "metadata": {},
   "outputs": [],
   "source": [
    "weather_headers = ['RelativeHumiditySurface', 'SolarRadiation', 'Surfacepressure', 'TemperatureAboveGround',\n",
    "             'Totalprecipitation', 'UVIndex', 'WindSpeed'] #'Temp_Celsius']\n",
    "significance_threshold = 0.001 / (len(weather_headers) * 3)"
   ]
  },
  {
   "cell_type": "code",
   "execution_count": null,
   "metadata": {},
   "outputs": [],
   "source": [
    "#pearson association for daily_corona_weather\n",
    "corrs = []\n",
    "pvalues = []\n",
    "for var in weather_headers:\n",
    "    corr, pvalue = pearsonr(daily_corona_weather['confirmed_addition'], daily_corona_weather[var])\n",
    "    #print(f\"{var}\\n{corr:.3f}\\t{pvalue}\\t{pvalue < significance_threshold}\\n\")"
   ]
  },
  {
   "cell_type": "code",
   "execution_count": null,
   "metadata": {},
   "outputs": [],
   "source": [
    "#weird values to be checked, could be because of additional data\n",
    "for var in weather_headers:\n",
    "    corr, pvalue = spearmanr(daily_corona_weather['confirmed_addition'], daily_corona_weather[var])\n",
    "    #print(f\"{var}\\n{corr:.3f}\\t{pvalue}\\t{pvalue < significance_threshold}\\n\")"
   ]
  },
  {
   "cell_type": "code",
   "execution_count": null,
   "metadata": {},
   "outputs": [],
   "source": [
    "#weird values to be checked, could be because of additional data\n",
    "for var in weather_headers:\n",
    "    corr, pvalue = pearsonr(np.log(daily_corona_weather['confirmed_addition']), daily_corona_weather[var])\n",
    "    #print(f\"{var}\\n{corr:.3f}\\t{pvalue}\\t{pvalue < significance_threshold}\\n\")"
   ]
  },
  {
   "cell_type": "code",
   "execution_count": null,
   "metadata": {},
   "outputs": [],
   "source": [
    "#to be checked thoroughly\n",
    "df = sm.add_constant(daily_corona_weather)\n",
    "#weather_headers.extend([\"const\"])\n",
    "\n",
    "est = sm.OLS(df[\"confirmed_addition\"], df[weather_headers], hasconst = True).fit()\n",
    "#print(est.summary())\n",
    "\n",
    "est = sm.OLS(df[\"deceased_addition\"], df[weather_headers], hasconst = True).fit()\n",
    "#print(est.summary())"
   ]
  },
  {
   "cell_type": "code",
   "execution_count": null,
   "metadata": {},
   "outputs": [],
   "source": [
    "mask = (corona_df['date'] > \"2020-11-02\") & (corona_df['date'] <= \"2021-03-07\")\n",
    "mask1 = (corona_df['date'] < \"2020-11-02\")"
   ]
  },
  {
   "cell_type": "code",
   "execution_count": null,
   "metadata": {},
   "outputs": [],
   "source": [
    "#plot is weird, to be checked\n",
    "corona_line_plot(corona_df,'date','confirmed_addition','Corona lockdown plot')\n",
    "plt.axvline(x=18570,color = 'red',ls = '--');"
   ]
  },
  {
   "cell_type": "code",
   "execution_count": null,
   "metadata": {},
   "outputs": [],
   "source": [
    "#weird plot, to be checked\n",
    "corona_line_plot(corona_df[mask],'date','confirmed_addition','Corona lockdown plot')"
   ]
  },
  {
   "cell_type": "code",
   "execution_count": null,
   "metadata": {},
   "outputs": [],
   "source": [
    "corona_line_plot(corona_df,'date','deceased_addition','Corona lockdown plot')\n",
    "plt.axvline(x=18570,color = 'red',ls = '--');"
   ]
  },
  {
   "cell_type": "code",
   "execution_count": null,
   "metadata": {},
   "outputs": [],
   "source": [
    "#weird plot, to be checked\n",
    "corona_line_plot(corona_df[mask],'date','deceased_addition','Corona lockdown plot')"
   ]
  },
  {
   "cell_type": "markdown",
   "metadata": {},
   "source": [
    "# Dummy Variable"
   ]
  },
  {
   "cell_type": "code",
   "execution_count": null,
   "metadata": {},
   "outputs": [],
   "source": [
    "corona_df['Lockdown'] = 'False'\n",
    "corona_df.loc[(corona_df[\"date\"] >= \"2020-11-02\") & (corona_df[\"date\"] <= \"2021-03-07\"), \"Lockdown\"] = 'True'"
   ]
  },
  {
   "cell_type": "markdown",
   "metadata": {
    "heading_collapsed": true
   },
   "source": [
    "# Task 3 - Map visualization"
   ]
  },
  {
   "cell_type": "code",
   "execution_count": null,
   "metadata": {
    "hidden": true
   },
   "outputs": [],
   "source": [
    "# First task, we need to convert the region names in the corona data with the iso3166-2 codes\n",
    "# To do so, first we need a dictionary mapping the region name to the code\n",
    "region_map = {country_metadata[\"country_metadata\"][i][\"covid_region_code\"]: country_metadata[\"country_metadata\"][i][\"iso3166-2_code\"] for i in range(len(country_metadata[\"country_metadata\"]))}\n",
    "\n",
    "# Then, we use the Series.map function\n",
    "raw_data[\"de_corona\"][\"region\"] = raw_data[\"de_corona\"][\"region_code\"].map(region_map)\n",
    "\n",
    "# Second task, we can now calculate how many cases there were in total for the region\n",
    "corona_df_by_region = raw_data[\"de_corona\"].groupby(by = \"region\")[\"confirmed_addition\"].sum().reset_index()\n",
    "dead_by_region      = raw_data[\"de_corona\"].groupby(by = \"region\")[\"deceased_addition\"].sum().reset_index()\n",
    "# If we want to add population data, we need to create another dictionary from the country metadata\n",
    "# In this case, we need to map from the region iso3166-2 code to the region's population\n",
    "population_map = {\n",
    "    country_metadata[\"country_metadata\"][i][\"iso3166-2_code\"]: \n",
    "    country_metadata[\"country_metadata\"][i][\"population\"] \n",
    "    for i in range(len(country_metadata[\"country_metadata\"]))}\n",
    "\n",
    "# Then we can map, just like before\n",
    "corona_df_by_region[\"population\"] = corona_df_by_region[\"region\"].map(population_map)\n",
    "\n",
    "corona_df_by_region[\"ratio\"] = corona_df_by_region[\"confirmed_addition\"]/corona_df_by_region[\"population\"]"
   ]
  },
  {
   "cell_type": "code",
   "execution_count": null,
   "metadata": {
    "hidden": true
   },
   "outputs": [],
   "source": [
    "n_cases = folium.Map(location = [51.5, 10.7], zoom_start = 6)\n",
    "\n",
    "folium.Choropleth(\n",
    "    geo_data = shape,\n",
    "    name = \"cases\",\n",
    "    data = corona_df_by_region,\n",
    "    columns = [\"region\", \"confirmed_addition\"],\n",
    "    key_on = \"properties.iso_3166_2\",\n",
    "    fill_color = \"OrRd\", \n",
    "    fill_opacity = 0.7,\n",
    "    line_opacity = 0.2,\n",
    "    highlight=True,\n",
    "    legend_name = \"Number of Cases of Covid-19\").add_to(n_cases)\n",
    "n_cases"
   ]
  },
  {
   "cell_type": "code",
   "execution_count": null,
   "metadata": {
    "hidden": true
   },
   "outputs": [],
   "source": [
    "dead = folium.Map(location = [51.5, 10.7], zoom_start = 6)\n",
    "\n",
    "folium.Choropleth(\n",
    "    geo_data = shape,\n",
    "    name = \"cases\",\n",
    "    data = dead_by_region,\n",
    "    columns = [\"region\", \"deceased_addition\"],\n",
    "    key_on = \"properties.iso_3166_2\",\n",
    "    fill_color = \"Greys\", \n",
    "    fill_opacity = 0.7,\n",
    "    line_opacity = 0.2,\n",
    "    highlight=True,\n",
    "    legend_name = \"Number of Deceased with an covid-19 infection\").add_to(dead)\n",
    "dead"
   ]
  },
  {
   "cell_type": "code",
   "execution_count": null,
   "metadata": {
    "hidden": true
   },
   "outputs": [],
   "source": [
    "p_cases = folium.Map(location = [51.5, 10.7], zoom_start = 6)\n",
    "folium.Choropleth(\n",
    "    geo_data = shape,\n",
    "    name = \"population\",\n",
    "    data = corona_df_by_region,\n",
    "    columns = [\"region\", \"population\"],\n",
    "    key_on = \"properties.iso_3166_2\",\n",
    "    fill_color = \"YlGn\", \n",
    "    fill_opacity = 0.7,\n",
    "    line_opacity = 0.2,\n",
    "    highlight=True,\n",
    "    legend_name = \"Population\").add_to(p_cases)\n",
    "p_cases"
   ]
  },
  {
   "cell_type": "code",
   "execution_count": null,
   "metadata": {
    "hidden": true
   },
   "outputs": [],
   "source": [
    "r_cases = folium.Map(location = [51.5, 10.7], zoom_start = 6)\n",
    "\n",
    "tiles = ['stamenwatercolor', 'cartodbpositron', 'openstreetmap', 'stamenterrain']\n",
    "for tile in tiles:\n",
    "    folium.TileLayer(tile).add_to(r_cases)\n",
    "\n",
    "folium.Choropleth(\n",
    "    geo_data = shape,\n",
    "    name = \"cases\",\n",
    "    data = corona_df_by_region,\n",
    "    columns = [\"region\", \"ratio\"],\n",
    "    key_on = \"properties.iso_3166_2\",\n",
    "    fill_color = \"OrRd\", \n",
    "    fill_opacity = 0.7,\n",
    "    line_opacity = 0.2,\n",
    "    legend_name = \"Number of Cases pr. population of region\",\n",
    "    highlight=True\n",
    ").add_to(r_cases)\n",
    "\n",
    "folium.LayerControl().add_to(r_cases)\n",
    "\n",
    "r_cases"
   ]
  },
  {
   "cell_type": "code",
   "execution_count": null,
   "metadata": {
    "hidden": true
   },
   "outputs": [],
   "source": [
    "# dividing by 24 since there is 24 hours in a day, though this takes into account night where the uvindex is \n",
    "# really small/nonexsistent\n",
    "# Could be argued that it should be divided by 16-18 since these are the hours where the sun is present. \n",
    "UV_by_region = interim_data[\"weather\"].groupby(by = \"iso3166-2\")[\"UVIndex\"].mean().reset_index()\n",
    "UV_by_region[\"UVIndex_scaled\"] = UV_by_region[\"UVIndex\"]/24"
   ]
  },
  {
   "cell_type": "code",
   "execution_count": null,
   "metadata": {
    "hidden": true
   },
   "outputs": [],
   "source": [
    "uv_index = folium.Map(location = [51.5, 10.7], zoom_start = 6)\n",
    "\n",
    "folium.Choropleth(\n",
    "    geo_data = shape,\n",
    "    name = \"uv-index\",\n",
    "    data = UV_by_region,\n",
    "    columns = [\"iso3166-2\", \"UVIndex_scaled\"],\n",
    "    key_on = \"properties.iso_3166_2\",\n",
    "    fill_color = \"OrRd\", \n",
    "    fill_opacity = 0.7,\n",
    "    line_opacity = 0.2,\n",
    "    highlight=True,\n",
    "    legend_name = \"UVIndex\",\n",
    "    smooth_factor=0).add_to(uv_index)\n",
    "uv_index"
   ]
  },
  {
   "cell_type": "code",
   "execution_count": null,
   "metadata": {
    "hidden": true
   },
   "outputs": [],
   "source": [
    "temp_by_region = interim_data[\"weather\"].groupby(by = \"iso3166-2\")[\"TemperatureAboveGround\"].mean().reset_index()\n",
    "temp_by_region[\"TemperatureAboveGround_scaled\"] = temp_by_region[\"TemperatureAboveGround\"]/24"
   ]
  },
  {
   "cell_type": "code",
   "execution_count": null,
   "metadata": {
    "hidden": true
   },
   "outputs": [],
   "source": [
    "TAG = folium.Map(location = [51.5, 10.7], zoom_start = 6)\n",
    "\n",
    "folium.Choropleth(\n",
    "    geo_data = shape,\n",
    "    name = \"uv-index\",\n",
    "    data = temp_by_region,\n",
    "    columns = [\"iso3166-2\", \"TemperatureAboveGround_scaled\"],\n",
    "    key_on = \"properties.iso_3166_2\",\n",
    "    fill_color = \"OrRd\", \n",
    "    fill_opacity = 0.7,\n",
    "    line_opacity = 0.2,\n",
    "    highlight=True,\n",
    "    legend_name = \"average Temperature Above Ground on a daily basis\").add_to(TAG)\n",
    "TAG"
   ]
  },
  {
   "cell_type": "code",
   "execution_count": null,
   "metadata": {
    "hidden": true
   },
   "outputs": [],
   "source": [
    "raw_data['de_corona']['month'] = raw_data['de_corona']['date'].dt.strftime('%b')\n",
    "raw_data['de_corona']['year'] = raw_data['de_corona']['date'].dt.strftime('%Y')\n",
    "raw_data[\"de_corona\"][\"population\"] = raw_data[\"de_corona\"][\"region\"].map(population_map)\n",
    "raw_data[\"de_corona\"][\"confirmed_addition_ratio\"] = raw_data[\"de_corona\"][\"confirmed_addition\"]/raw_data[\"de_corona\"][\"population\"]"
   ]
  },
  {
   "cell_type": "code",
   "execution_count": null,
   "metadata": {
    "hidden": true
   },
   "outputs": [],
   "source": [
    "cases_2020_monthly = raw_data[\"de_corona\"][(raw_data[\"de_corona\"][\"year\"] == \"2020\")].groupby([\"month\", \"region\"]).sum()\n",
    "cases_2021_monthly = raw_data[\"de_corona\"][(raw_data[\"de_corona\"][\"year\"] == \"2021\")].groupby([\"month\", \"region\"]).sum()"
   ]
  },
  {
   "cell_type": "code",
   "execution_count": null,
   "metadata": {
    "hidden": true
   },
   "outputs": [],
   "source": [
    "confirmed_addition_ratio_maps = dict()\n",
    "for i in list(raw_data[\"de_corona\"][(raw_data[\"de_corona\"][\"year\"] == \"2020\")][\"month\"].unique()):\n",
    "    n_cases = folium.Map(location = [51.5, 10.7], zoom_start = 6)\n",
    "\n",
    "    folium.Choropleth(\n",
    "        geo_data = shape,\n",
    "        name = \"cases\",\n",
    "        data = cases_2020_monthly.loc[i].reset_index(),\n",
    "        columns = [\"region\", \"confirmed_addition_ratio\"],\n",
    "        key_on = \"properties.iso_3166_2\",\n",
    "        fill_color = \"OrRd\", \n",
    "        fill_opacity = 0.7,\n",
    "        line_opacity = 0.2,\n",
    "        highlight=True,\n",
    "        nan_fill_color = \"purple\",\n",
    "        legend_name = \"Number of Cases of Covid-19 pr. population of region in {} 2020\".format(i)).add_to(n_cases)\n",
    "    confirmed_addition_ratio_maps[i+\"-2020\"] = n_cases\n",
    "for i in list(raw_data[\"de_corona\"][(raw_data[\"de_corona\"][\"year\"] == \"2021\")][\"month\"].unique()):\n",
    "    n_cases = folium.Map(location = [51.5, 10.7], zoom_start = 6)\n",
    "\n",
    "    folium.Choropleth(\n",
    "        geo_data = shape,\n",
    "        name = \"cases\",\n",
    "        data = cases_2021_monthly.loc[i].reset_index(),\n",
    "        columns = [\"region\", \"confirmed_addition_ratio\"],\n",
    "        key_on = \"properties.iso_3166_2\",\n",
    "        fill_color = \"OrRd\", \n",
    "        fill_opacity = 0.7,\n",
    "        line_opacity = 0.2,\n",
    "        highlight=True,\n",
    "        nan_fill_color = \"purple\",\n",
    "        legend_name = \"Number of Cases of Covid-19 pr. population of region in {} 2021\".format(i)).add_to(n_cases)\n",
    "    confirmed_addition_ratio_maps[i+\"-2021\"] = n_cases    "
   ]
  },
  {
   "cell_type": "code",
   "execution_count": null,
   "metadata": {
    "hidden": true
   },
   "outputs": [],
   "source": [
    "confirmed_addition_maps = dict()\n",
    "for i in list(raw_data[\"de_corona\"][(raw_data[\"de_corona\"][\"year\"] == \"2020\")][\"month\"].unique()):\n",
    "    n_cases = folium.Map(location = [51.5, 10.7], zoom_start = 6)\n",
    "\n",
    "    folium.Choropleth(\n",
    "        geo_data = shape,\n",
    "        name = \"cases\",\n",
    "        data = cases_2020_monthly.loc[i].reset_index(),\n",
    "        columns = [\"region\", \"confirmed_addition\"],\n",
    "        key_on = \"properties.iso_3166_2\",\n",
    "        fill_color = \"OrRd\", \n",
    "        fill_opacity = 0.7,\n",
    "        line_opacity = 0.2,\n",
    "        highlight=True,\n",
    "        nan_fill_color = \"purple\",\n",
    "        legend_name = \"Number of Cases of Covid-19 in {} 2020\".format(i)).add_to(n_cases)\n",
    "    confirmed_addition_maps[i+\"-2020\"] = n_cases\n",
    "for i in list(raw_data[\"de_corona\"][(raw_data[\"de_corona\"][\"year\"] == \"2021\")][\"month\"].unique()):\n",
    "    n_cases = folium.Map(location = [51.5, 10.7], zoom_start = 6)\n",
    "\n",
    "    folium.Choropleth(\n",
    "        geo_data = shape,\n",
    "        name = \"cases\",\n",
    "        data = cases_2021_monthly.loc[i].reset_index(),\n",
    "        columns = [\"region\", \"confirmed_addition\"],\n",
    "        key_on = \"properties.iso_3166_2\",\n",
    "        fill_color = \"OrRd\", \n",
    "        fill_opacity = 0.7,\n",
    "        line_opacity = 0.2,\n",
    "        highlight=True,\n",
    "        nan_fill_color = \"purple\",\n",
    "        legend_name = \"Number of Cases of Covid-19 in {} 2021\".format(i)).add_to(n_cases)\n",
    "    confirmed_addition_maps[i+\"-2021\"] = n_cases    "
   ]
  },
  {
   "cell_type": "code",
   "execution_count": null,
   "metadata": {
    "hidden": true
   },
   "outputs": [],
   "source": [
    "deceased_addition_maps = dict()\n",
    "for i in list(raw_data[\"de_corona\"][(raw_data[\"de_corona\"][\"year\"] == \"2020\")][\"month\"].unique()):\n",
    "    n_cases = folium.Map(location = [51.5, 10.7], zoom_start = 6)\n",
    "\n",
    "    folium.Choropleth(\n",
    "        geo_data = shape,\n",
    "        name = \"cases\",\n",
    "        data = cases_2020_monthly.loc[i].reset_index(),\n",
    "        columns = [\"region\", \"deceased_addition\"],\n",
    "        key_on = \"properties.iso_3166_2\",\n",
    "        fill_color = \"Greys\", \n",
    "        fill_opacity = 0.7,\n",
    "        line_opacity = 0.2,\n",
    "        highlight=True,\n",
    "        nan_fill_color = \"purple\",\n",
    "        legend_name = \"Number of deceased with a Covid-19 infection in {} 2020\".format(i)).add_to(n_cases)\n",
    "    deceased_addition_maps[i+\"-2020\"] = n_cases\n",
    "for i in list(raw_data[\"de_corona\"][(raw_data[\"de_corona\"][\"year\"] == \"2021\")][\"month\"].unique()):\n",
    "    n_cases = folium.Map(location = [51.5, 10.7], zoom_start = 6)\n",
    "\n",
    "    folium.Choropleth(\n",
    "        geo_data = shape,\n",
    "        name = \"cases\",\n",
    "        data = cases_2021_monthly.loc[i].reset_index(),\n",
    "        columns = [\"region\", \"deceased_addition\"],\n",
    "        key_on = \"properties.iso_3166_2\",\n",
    "        fill_color = \"Greys\", \n",
    "        fill_opacity = 0.7,\n",
    "        line_opacity = 0.2,\n",
    "        highlight=True,\n",
    "        nan_fill_color = \"purple\",\n",
    "        legend_name = \"Number of deceased with a Covid-19 infection in {} 2021\".format(i)).add_to(n_cases)\n",
    "    deceased_addition_maps[i+\"-2021\"] = n_cases    "
   ]
  },
  {
   "cell_type": "markdown",
   "metadata": {
    "hidden": true
   },
   "source": [
    "All the monthly maps can be ascessed by doing \n",
    "```python\n",
    "deceased_addition_maps[\"Jan-2020\"]\n",
    "confirmed_addition_maps[\"Jan-2020\"]\n",
    "confirmed_addition_ratio_maps[\"Jan-2020\"]\n",
    "```\n",
    "Missing data, or there was no recorded data in that region, the color of the region will be purple\n",
    "Month and year can be changed"
   ]
  },
  {
   "cell_type": "code",
   "execution_count": null,
   "metadata": {
    "hidden": true,
    "scrolled": true
   },
   "outputs": [],
   "source": [
    "confirmed_addition_maps[\"Jan-2020\"]"
   ]
  },
  {
   "cell_type": "code",
   "execution_count": null,
   "metadata": {
    "hidden": true,
    "scrolled": true
   },
   "outputs": [],
   "source": [
    "deceased_addition_maps[\"Jan-2020\"]"
   ]
  },
  {
   "cell_type": "code",
   "execution_count": null,
   "metadata": {
    "hidden": true,
    "scrolled": true
   },
   "outputs": [],
   "source": [
    "confirmed_addition_ratio_maps[\"Jan-2020\"]"
   ]
  },
  {
   "cell_type": "code",
   "execution_count": null,
   "metadata": {
    "hidden": true,
    "scrolled": true
   },
   "outputs": [],
   "source": [
    "fig = plt.figure(figsize=(15,5))\n",
    "axes = fig.add_axes([0,0,1,1])\n",
    "axes.bar(raw_data[\"de_corona\"][\"date\"], raw_data[\"de_corona\"][\"confirmed_addition\"]);\n",
    "#axes.set_yscale('log');"
   ]
  },
  {
   "cell_type": "markdown",
   "metadata": {
    "heading_collapsed": true
   },
   "source": [
    "# Kata's stuff"
   ]
  },
  {
   "cell_type": "code",
   "execution_count": null,
   "metadata": {
    "hidden": true
   },
   "outputs": [],
   "source": [
    "raw_data['de_corona'].reset_index(inplace=True)\n",
    "#df.columns = ['Date','sum']\n",
    "raw_data['de_corona'].head()\n",
    "raw_data['de_corona']['month'] = raw_data['de_corona']['date'].dt.strftime('%b')\n",
    "raw_data['de_corona']['month']"
   ]
  },
  {
   "cell_type": "code",
   "execution_count": null,
   "metadata": {
    "hidden": true
   },
   "outputs": [],
   "source": [
    "fig, ax = plt.subplots()\n",
    "fig.set_size_inches((12,4))\n",
    "sns.boxplot(x='month',y='confirmed_addition',data=raw_data['de_corona'],ax=ax)\n",
    "plt.show()"
   ]
  },
  {
   "cell_type": "code",
   "execution_count": null,
   "metadata": {
    "hidden": true
   },
   "outputs": [],
   "source": []
  }
 ],
 "metadata": {
  "kernelspec": {
   "display_name": "Python 3",
   "language": "python",
   "name": "python3"
  },
  "language_info": {
   "codemirror_mode": {
    "name": "ipython",
    "version": 3
   },
   "file_extension": ".py",
   "mimetype": "text/x-python",
   "name": "python",
   "nbconvert_exporter": "python",
   "pygments_lexer": "ipython3",
   "version": "3.8.5"
  },
  "latex_envs": {
   "LaTeX_envs_menu_present": true,
   "autoclose": false,
   "autocomplete": true,
   "bibliofile": "biblio.bib",
   "cite_by": "apalike",
   "current_citInitial": 1,
   "eqLabelWithNumbers": true,
   "eqNumInitial": 1,
   "hotkeys": {
    "equation": "Ctrl-E",
    "itemize": "Ctrl-I"
   },
   "labels_anchors": false,
   "latex_user_defs": false,
   "report_style_numbering": false,
   "user_envs_cfg": false
  },
  "toc": {
   "base_numbering": 1,
   "nav_menu": {},
   "number_sections": true,
   "sideBar": true,
   "skip_h1_title": false,
   "title_cell": "Table of Contents",
   "title_sidebar": "Contents",
   "toc_cell": false,
   "toc_position": {},
   "toc_section_display": true,
   "toc_window_display": false
  }
 },
 "nbformat": 4,
 "nbformat_minor": 4
}
