{
 "cells": [
  {
   "cell_type": "code",
   "execution_count": 2,
   "metadata": {},
   "outputs": [],
   "source": [
    "import numpy as np\n",
    "import pandas as pd\n",
    "import missingno as msno\n",
    "import matplotlib.pyplot as plt\n",
    "import math\n",
    "from scipy.stats import chi2_contingency\n",
    "import seaborn as sns\n",
    "import folium\n",
    "from folium import plugins \n",
    "from folium.plugins import HeatMap, MarkerCluster\n",
    "import shapely\n",
    "import json \n",
    "from shapely.geometry import Point, MultiPoint, LineString, MultiLineString, Polygon, MultiPolygon\n",
    "import branca\n",
    "import branca.colormap as cm"
   ]
  },
  {
   "cell_type": "code",
   "execution_count": 3,
   "metadata": {},
   "outputs": [],
   "source": [
    "PATH = {}\n",
    "PATH[\"data_raw\"] = \"../data/raw/\"\n",
    "PATH[\"data_interim\"] = \"../data/interim/\"\n",
    "PATH[\"data_processed\"] = \"../data/processed/\"\n",
    "PATH[\"data_external\"] = \"../data/external/\"\n",
    "\n",
    "SUBPATH = {}\n",
    "SUBPATH[\"corona\"] = \"corona/\"\n",
    "SUBPATH[\"meta\"] = \"metadata/\"\n",
    "SUBPATH[\"shape\"] = \"shapefiles/\"\n",
    "SUBPATH[\"weather\"] = \"weather/\"\n",
    "\n",
    "FILENAME = {}\n",
    "FILENAME[\"corona\"] = \"de_corona.csv\"\n",
    "FILENAME[\"meta\"] = \"de_metadata.json\"\n",
    "FILENAME[\"shape\"] = \"de.geojson\"\n",
    "FILENAME[\"weather\"] = \"weather.csv\"\n",
    "\n",
    "corona = PATH[\"data_raw\"]+SUBPATH[\"corona\"]+FILENAME[\"corona\"]\n",
    "meta = PATH[\"data_raw\"]+SUBPATH[\"meta\"]+FILENAME[\"meta\"]\n",
    "shape = PATH[\"data_raw\"]+SUBPATH[\"shape\"]+FILENAME[\"shape\"]\n",
    "weather = PATH[\"data_raw\"]+SUBPATH[\"weather\"]+FILENAME[\"weather\"]"
   ]
  },
  {
   "cell_type": "code",
   "execution_count": 47,
   "metadata": {},
   "outputs": [],
   "source": [
    "from collections import Counter\n",
    "raw_data = {}\n",
    "\n",
    "raw_data['corona'] = pd.read_csv(corona,sep = '\\t')\n",
    "raw_data['metadata'] = pd.read_csv(meta,sep = '\\t')\n",
    "raw_data['shape'] = pd.read_csv(shape,sep = '\\t')\n",
    "raw_data['weather'] = pd.read_csv(weather,sep = '\\t')"
   ]
  },
  {
   "cell_type": "code",
   "execution_count": 49,
   "metadata": {},
   "outputs": [
    {
     "name": "stdout",
     "output_type": "stream",
     "text": [
      "corona  \tDataFrame shape: (5602, 4)\n",
      "weather  \tDataFrame shape: (14904, 9)\n"
     ]
    }
   ],
   "source": [
    "HEADERS = ['corona','weather']\n",
    "for i in HEADERS:\n",
    "    print(i +\"  \\tDataFrame shape: \" + str(raw_data[i].shape))"
   ]
  },
  {
   "cell_type": "code",
   "execution_count": 43,
   "metadata": {},
   "outputs": [],
   "source": [
    "def check_null_values(file):\n",
    "    if raw_data[file].isnull().values.any():\n",
    "        print('There are null values in the dataset')\n",
    "    else:\n",
    "        print('There are no null values in the dataset')"
   ]
  },
  {
   "cell_type": "code",
   "execution_count": 46,
   "metadata": {
    "scrolled": true
   },
   "outputs": [
    {
     "name": "stdout",
     "output_type": "stream",
     "text": [
      "There are no null values in the dataset\n"
     ]
    }
   ],
   "source": [
    "check_null_values('corona')"
   ]
  },
  {
   "cell_type": "code",
   "execution_count": null,
   "metadata": {},
   "outputs": [],
   "source": []
  },
  {
   "cell_type": "code",
   "execution_count": null,
   "metadata": {},
   "outputs": [],
   "source": []
  },
  {
   "cell_type": "code",
   "execution_count": null,
   "metadata": {},
   "outputs": [],
   "source": []
  },
  {
   "cell_type": "code",
   "execution_count": null,
   "metadata": {},
   "outputs": [],
   "source": []
  },
  {
   "cell_type": "code",
   "execution_count": null,
   "metadata": {},
   "outputs": [],
   "source": []
  },
  {
   "cell_type": "code",
   "execution_count": null,
   "metadata": {},
   "outputs": [],
   "source": []
  },
  {
   "cell_type": "code",
   "execution_count": null,
   "metadata": {},
   "outputs": [],
   "source": []
  },
  {
   "cell_type": "code",
   "execution_count": null,
   "metadata": {},
   "outputs": [],
   "source": []
  },
  {
   "cell_type": "code",
   "execution_count": 53,
   "metadata": {},
   "outputs": [
    {
     "data": {
      "text/html": [
       "<div>\n",
       "<style scoped>\n",
       "    .dataframe tbody tr th:only-of-type {\n",
       "        vertical-align: middle;\n",
       "    }\n",
       "\n",
       "    .dataframe tbody tr th {\n",
       "        vertical-align: top;\n",
       "    }\n",
       "\n",
       "    .dataframe thead th {\n",
       "        text-align: right;\n",
       "    }\n",
       "</style>\n",
       "<table border=\"1\" class=\"dataframe\">\n",
       "  <thead>\n",
       "    <tr style=\"text-align: right;\">\n",
       "      <th></th>\n",
       "      <th>date</th>\n",
       "      <th>iso3166-2</th>\n",
       "      <th>RelativeHumiditySurface</th>\n",
       "      <th>SolarRadiation</th>\n",
       "      <th>Surfacepressure</th>\n",
       "      <th>TemperatureAboveGround</th>\n",
       "      <th>Totalprecipitation</th>\n",
       "      <th>UVIndex</th>\n",
       "      <th>WindSpeed</th>\n",
       "    </tr>\n",
       "  </thead>\n",
       "  <tbody>\n",
       "    <tr>\n",
       "      <th>0</th>\n",
       "      <td>2020-02-13</td>\n",
       "      <td>DE-BB</td>\n",
       "      <td>76.337444</td>\n",
       "      <td>1.824290e+06</td>\n",
       "      <td>2.403341e+06</td>\n",
       "      <td>276.551573</td>\n",
       "      <td>0.003355</td>\n",
       "      <td>2.777806</td>\n",
       "      <td>4.542822</td>\n",
       "    </tr>\n",
       "    <tr>\n",
       "      <th>1</th>\n",
       "      <td>2020-02-13</td>\n",
       "      <td>DE-BE</td>\n",
       "      <td>76.065297</td>\n",
       "      <td>1.786373e+06</td>\n",
       "      <td>2.408182e+06</td>\n",
       "      <td>276.844633</td>\n",
       "      <td>0.003523</td>\n",
       "      <td>4.671329</td>\n",
       "      <td>4.761509</td>\n",
       "    </tr>\n",
       "    <tr>\n",
       "      <th>2</th>\n",
       "      <td>2020-02-13</td>\n",
       "      <td>DE-BW</td>\n",
       "      <td>80.113988</td>\n",
       "      <td>1.505760e+06</td>\n",
       "      <td>2.290158e+06</td>\n",
       "      <td>276.227143</td>\n",
       "      <td>0.008013</td>\n",
       "      <td>4.268546</td>\n",
       "      <td>4.467024</td>\n",
       "    </tr>\n",
       "    <tr>\n",
       "      <th>3</th>\n",
       "      <td>2020-02-13</td>\n",
       "      <td>DE-BY</td>\n",
       "      <td>81.554346</td>\n",
       "      <td>2.363013e+06</td>\n",
       "      <td>2.275361e+06</td>\n",
       "      <td>275.583053</td>\n",
       "      <td>0.005227</td>\n",
       "      <td>4.417797</td>\n",
       "      <td>3.677414</td>\n",
       "    </tr>\n",
       "    <tr>\n",
       "      <th>4</th>\n",
       "      <td>2020-02-13</td>\n",
       "      <td>DE-HB</td>\n",
       "      <td>87.167414</td>\n",
       "      <td>8.389756e+03</td>\n",
       "      <td>2.406940e+06</td>\n",
       "      <td>276.237452</td>\n",
       "      <td>0.007715</td>\n",
       "      <td>1.794872</td>\n",
       "      <td>4.699573</td>\n",
       "    </tr>\n",
       "    <tr>\n",
       "      <th>...</th>\n",
       "      <td>...</td>\n",
       "      <td>...</td>\n",
       "      <td>...</td>\n",
       "      <td>...</td>\n",
       "      <td>...</td>\n",
       "      <td>...</td>\n",
       "      <td>...</td>\n",
       "      <td>...</td>\n",
       "      <td>...</td>\n",
       "    </tr>\n",
       "    <tr>\n",
       "      <th>14861</th>\n",
       "      <td>2020-11-14</td>\n",
       "      <td>DE-SH</td>\n",
       "      <td>92.854723</td>\n",
       "      <td>7.043455e+05</td>\n",
       "      <td>2.429401e+06</td>\n",
       "      <td>283.769570</td>\n",
       "      <td>0.000243</td>\n",
       "      <td>0.033065</td>\n",
       "      <td>2.784840</td>\n",
       "    </tr>\n",
       "    <tr>\n",
       "      <th>14862</th>\n",
       "      <td>2020-11-14</td>\n",
       "      <td>DE-SL</td>\n",
       "      <td>87.575656</td>\n",
       "      <td>4.302501e+06</td>\n",
       "      <td>2.354934e+06</td>\n",
       "      <td>283.837352</td>\n",
       "      <td>0.000012</td>\n",
       "      <td>4.665761</td>\n",
       "      <td>3.050827</td>\n",
       "    </tr>\n",
       "    <tr>\n",
       "      <th>14863</th>\n",
       "      <td>2020-11-14</td>\n",
       "      <td>DE-SN</td>\n",
       "      <td>82.935273</td>\n",
       "      <td>2.388385e+06</td>\n",
       "      <td>2.362859e+06</td>\n",
       "      <td>283.909275</td>\n",
       "      <td>0.001199</td>\n",
       "      <td>2.795416</td>\n",
       "      <td>3.792073</td>\n",
       "    </tr>\n",
       "    <tr>\n",
       "      <th>14864</th>\n",
       "      <td>2020-11-14</td>\n",
       "      <td>DE-ST</td>\n",
       "      <td>85.289489</td>\n",
       "      <td>1.447632e+06</td>\n",
       "      <td>2.407647e+06</td>\n",
       "      <td>284.662583</td>\n",
       "      <td>0.000446</td>\n",
       "      <td>1.478117</td>\n",
       "      <td>2.738335</td>\n",
       "    </tr>\n",
       "    <tr>\n",
       "      <th>14865</th>\n",
       "      <td>2020-11-14</td>\n",
       "      <td>DE-TH</td>\n",
       "      <td>83.489704</td>\n",
       "      <td>2.546975e+06</td>\n",
       "      <td>2.342250e+06</td>\n",
       "      <td>283.884262</td>\n",
       "      <td>0.000368</td>\n",
       "      <td>2.624167</td>\n",
       "      <td>3.738925</td>\n",
       "    </tr>\n",
       "  </tbody>\n",
       "</table>\n",
       "<p>4416 rows × 9 columns</p>\n",
       "</div>"
      ],
      "text/plain": [
       "             date iso3166-2  RelativeHumiditySurface  SolarRadiation  \\\n",
       "0      2020-02-13     DE-BB                76.337444    1.824290e+06   \n",
       "1      2020-02-13     DE-BE                76.065297    1.786373e+06   \n",
       "2      2020-02-13     DE-BW                80.113988    1.505760e+06   \n",
       "3      2020-02-13     DE-BY                81.554346    2.363013e+06   \n",
       "4      2020-02-13     DE-HB                87.167414    8.389756e+03   \n",
       "...           ...       ...                      ...             ...   \n",
       "14861  2020-11-14     DE-SH                92.854723    7.043455e+05   \n",
       "14862  2020-11-14     DE-SL                87.575656    4.302501e+06   \n",
       "14863  2020-11-14     DE-SN                82.935273    2.388385e+06   \n",
       "14864  2020-11-14     DE-ST                85.289489    1.447632e+06   \n",
       "14865  2020-11-14     DE-TH                83.489704    2.546975e+06   \n",
       "\n",
       "       Surfacepressure  TemperatureAboveGround  Totalprecipitation   UVIndex  \\\n",
       "0         2.403341e+06              276.551573            0.003355  2.777806   \n",
       "1         2.408182e+06              276.844633            0.003523  4.671329   \n",
       "2         2.290158e+06              276.227143            0.008013  4.268546   \n",
       "3         2.275361e+06              275.583053            0.005227  4.417797   \n",
       "4         2.406940e+06              276.237452            0.007715  1.794872   \n",
       "...                ...                     ...                 ...       ...   \n",
       "14861     2.429401e+06              283.769570            0.000243  0.033065   \n",
       "14862     2.354934e+06              283.837352            0.000012  4.665761   \n",
       "14863     2.362859e+06              283.909275            0.001199  2.795416   \n",
       "14864     2.407647e+06              284.662583            0.000446  1.478117   \n",
       "14865     2.342250e+06              283.884262            0.000368  2.624167   \n",
       "\n",
       "       WindSpeed  \n",
       "0       4.542822  \n",
       "1       4.761509  \n",
       "2       4.467024  \n",
       "3       3.677414  \n",
       "4       4.699573  \n",
       "...          ...  \n",
       "14861   2.784840  \n",
       "14862   3.050827  \n",
       "14863   3.792073  \n",
       "14864   2.738335  \n",
       "14865   3.738925  \n",
       "\n",
       "[4416 rows x 9 columns]"
      ]
     },
     "execution_count": 53,
     "metadata": {},
     "output_type": "execute_result"
    }
   ],
   "source": [
    "weather_data_de = raw_data[\"weather\"][raw_data[\"weather\"][\"iso3166-2\"].str.startswith(\"DE\")]\n",
    "weather_data_de"
   ]
  },
  {
   "cell_type": "code",
   "execution_count": 55,
   "metadata": {},
   "outputs": [],
   "source": [
    "def dataset_checker_values(dataset,value):\n",
    "    SA = dataset.copy()\n",
    "    SA.replace(value, np.nan, inplace=True)\n",
    "    missingdata_df = SA.columns[SA.isnull().any()].tolist()\n",
    "    msno.matrix(SA);"
   ]
  },
  {
   "cell_type": "code",
   "execution_count": 59,
   "metadata": {},
   "outputs": [
    {
     "data": {
      "image/png": "[encoded data removed]",
      "text/plain": [
       "<Figure size 1800x720 with 2 Axes>"
      ]
     },
     "metadata": {
      "needs_background": "light"
     },
     "output_type": "display_data"
    }
   ],
   "source": [
    "dataset_checker_values(raw_data['shape'],-999)"
   ]
  },
  {
   "cell_type": "code",
   "execution_count": null,
   "metadata": {},
   "outputs": [],
   "source": []
  }
 ],
 "metadata": {
  "kernelspec": {
   "display_name": "Python 3",
   "language": "python",
   "name": "python3"
  },
  "language_info": {
   "codemirror_mode": {
    "name": "ipython",
    "version": 3
   },
   "file_extension": ".py",
   "mimetype": "text/x-python",
   "name": "python",
   "nbconvert_exporter": "python",
   "pygments_lexer": "ipython3",
   "version": "3.8.5"
  }
 },
 "nbformat": 4,
 "nbformat_minor": 4
}
