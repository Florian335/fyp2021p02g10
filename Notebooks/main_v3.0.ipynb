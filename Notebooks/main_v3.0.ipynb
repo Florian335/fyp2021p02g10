{
 "cells": [
  {
   "cell_type": "markdown",
   "metadata": {},
   "source": [
    "# Group 10 - First Year Project\n",
    "### Data Science at ITU \n",
    "## Project 2 - Correlation between Covid-19's spread and weather conditions"
   ]
  },
  {
   "cell_type": "markdown",
   "metadata": {},
   "source": [
    "Introduction"
   ]
  },
  {
   "cell_type": "markdown",
   "metadata": {},
   "source": [
    "This notebook contains all the code developed in the Project 2 - Correlation between Covid-19's spread and weather conditions\n",
    "\n",
    "Contact/Group: \n",
    "- Florian Micliuc(flmi@itu.dk)\n",
    "- Louis Caspar Brandt (locb@itu.dk) (see disclosure statement in the report)\n",
    "- Iben Mai Huse (ibhu@itu.dk)\n",
    "- Katalin Literati-Dobos (klit@itu.dk)\n",
    "- Ruben Jonsman (rubj@itu.dk)"
   ]
  },
  {
   "cell_type": "markdown",
   "metadata": {},
   "source": [
    "# Library imports"
   ]
  },
  {
   "cell_type": "code",
   "execution_count": 1,
   "metadata": {},
   "outputs": [],
   "source": [
    "import numpy as np\n",
    "import pandas as pd\n",
    "import missingno as msno\n",
    "import matplotlib.pyplot as plt\n",
    "import math\n",
    "from collections import Counter\n",
    "from scipy.stats import chi2_contingency\n",
    "import seaborn as sns\n",
    "import folium\n",
    "from folium import plugins \n",
    "from folium.plugins import HeatMap, MarkerCluster\n",
    "import shapely\n",
    "import json \n",
    "from shapely.geometry import Point, MultiPoint, LineString, MultiLineString, Polygon, MultiPolygon\n",
    "import branca\n",
    "import branca.colormap as cm\n",
    "import statsmodels.api as sm\n",
    "from scipy.stats import pearsonr, spearmanr\n",
    "from folium.features import DivIcon\n",
    "import imageio\n",
    "from matplotlib import rcParams\n",
    "import calplot"
   ]
  },
  {
   "cell_type": "markdown",
   "metadata": {},
   "source": [
    "# Functions"
   ]
  },
  {
   "cell_type": "code",
   "execution_count": 2,
   "metadata": {},
   "outputs": [],
   "source": [
    "def check_null_values(file, string):\n",
    "    if file.isnull().values.any():\n",
    "        print('There are null values in {} dataset'.format(string))\n",
    "    else:\n",
    "        print('There are no null values in {} dataset'.format(string))"
   ]
  },
  {
   "cell_type": "code",
   "execution_count": 3,
   "metadata": {},
   "outputs": [],
   "source": [
    "def dataset_checker_values(dataset,value):\n",
    "    SA = dataset.copy()\n",
    "    SA.replace(value, np.nan, inplace=True)\n",
    "    missingdata_df = SA.columns[SA.isnull().any()].tolist()\n",
    "    msno.matrix(SA);"
   ]
  },
  {
   "cell_type": "code",
   "execution_count": 4,
   "metadata": {},
   "outputs": [],
   "source": [
    "def weather_mean_bar_plot(column,df):\n",
    "    list_month = ['February','March','April','May','June','July','August','September','October','November','December','January','February']\n",
    "    fig,ax = plt.subplots(figsize = (16,4))\n",
    "    df[column].plot.bar(color = 'silver',edgecolor = 'black',rot = 0)\n",
    "    ax.set_title('Mean of' + ' '+ column)\n",
    "    ax.set_ylabel('Value')\n",
    "    ax.set_xlabel('Month')\n",
    "    ax.set_xticklabels(list_month)"
   ]
  },
  {
   "cell_type": "code",
   "execution_count": 5,
   "metadata": {},
   "outputs": [],
   "source": [
    "def corona_total_bar_plot(column,df):\n",
    "    list_month = ['February','March','April','May','June','July','August','September','October','November','December','January','February']\n",
    "    fig,ax = plt.subplots(figsize = (16,4))\n",
    "    df[column].plot.bar(color = 'silver',edgecolor = 'black',rot = 0)\n",
    "    ax.set_title(column)\n",
    "    ax.set_ylabel('Value')\n",
    "    ax.set_xlabel('Month')\n",
    "    ax.set_xticklabels(list_month)"
   ]
  },
  {
   "cell_type": "code",
   "execution_count": 6,
   "metadata": {},
   "outputs": [],
   "source": [
    "def corona_line_plot(df,x,y,title):\n",
    "    ax = df.plot.line(x = x, y = y,rot = 45,figsize = (20,6),color = 'silver')\n",
    "    ax.set_title(title)\n",
    "    ax.set_ylabel(\"Covid-19 Cases\")\n",
    "    ax.set_xlabel(\"Date\")\n",
    "    plt.axvline(x='2020-03-15',color = '#ff6c70',ls = '--');\n",
    "    plt.axvline(x='2020-03-22',color = '#f00008',ls = '--');\n",
    "    plt.axvline(x='2020-04-15',color = 'blue',ls = '--');\n",
    "    plt.axvline(x='2020-11-02',color = '#ff6c70',ls = '--');\n",
    "    plt.axvline(x='2020-12-15',color = '#f00008',ls = '--');\n",
    "    plt.axvline(x='2020-12-26',color = '#00ff68',ls = '--');"
   ]
  },
  {
   "cell_type": "code",
   "execution_count": 7,
   "metadata": {},
   "outputs": [],
   "source": [
    "def corona_bar_plot(x,y,title):\n",
    "    fig = plt.figure(figsize=(20,6))\n",
    "    axes = fig.add_axes([0,0,1,1])\n",
    "    axes.bar(x, y,color = 'silver',edgecolor = 'black')\n",
    "    axes.set_title(title)\n",
    "    axes.set_ylabel(\"Covid-19 Cases\")\n",
    "    axes.set_xlabel(\"Date\")"
   ]
  },
  {
   "cell_type": "code",
   "execution_count": 8,
   "metadata": {},
   "outputs": [],
   "source": [
    "def pearson_association(df,column,headers,significance):\n",
    "    corrs = []\n",
    "    pvalues = []\n",
    "    for var in headers:\n",
    "        corr, pvalue = pearsonr(df[column], df[var])\n",
    "        print(var,'\\n',round(corr,5),'   ',pvalue,pvalue<significance,'\\n')"
   ]
  },
  {
   "cell_type": "code",
   "execution_count": 9,
   "metadata": {},
   "outputs": [],
   "source": [
    "def spearman_association(df,column,headers,significance):\n",
    "    corrs = []\n",
    "    pvalues = []\n",
    "    for var in headers:\n",
    "        corr, pvalue = spearmanr(df[column], df[var])\n",
    "        print(var,'\\n',round(corr,5),'   ',pvalue,pvalue<significance,'\\n')"
   ]
  },
  {
   "cell_type": "code",
   "execution_count": 10,
   "metadata": {},
   "outputs": [],
   "source": [
    "def pearson_log(df,column,headers,significance):\n",
    "    corrs = []\n",
    "    pvalues = []\n",
    "    for var in headers:\n",
    "        corr, pvalue = pearsonr(np.log(df[column]), df[var])\n",
    "        print(var,'\\n',round(corr,5),'   ',pvalue,pvalue<significance,'\\n')"
   ]
  },
  {
   "cell_type": "code",
   "execution_count": 11,
   "metadata": {},
   "outputs": [],
   "source": [
    "def heat_calendar(df,column,color,title):\n",
    "    calplot.calplot(df[column], cmap=color,colorbar = True,figsize = (16,4),suptitle=title)"
   ]
  },
  {
   "cell_type": "markdown",
   "metadata": {},
   "source": [
    "# Task 0 - Data cleaning and filtering"
   ]
  },
  {
   "cell_type": "markdown",
   "metadata": {},
   "source": [
    "## Loading data"
   ]
  },
  {
   "cell_type": "markdown",
   "metadata": {},
   "source": [
    "The data was loaded by creating a small pipeline to keep track of files and locations, in case they would change. This approach made it easy to change file locations if needed."
   ]
  },
  {
   "cell_type": "code",
   "execution_count": 12,
   "metadata": {},
   "outputs": [],
   "source": [
    "PATH = {}\n",
    "PATH[\"data_raw\"] = \"../data/raw/\"\n",
    "PATH[\"data_interim\"] = \"../data/interim/\"\n",
    "PATH[\"data_processed\"] = \"../data/processed/\"\n",
    "PATH[\"data_external\"] = \"../data/external/\"\n",
    "\n",
    "SUBPATH = {}\n",
    "SUBPATH[\"corona\"] = \"corona/\"\n",
    "SUBPATH[\"meta\"] = \"metadata/\"\n",
    "SUBPATH[\"shape\"] = \"shapefiles/\"\n",
    "SUBPATH[\"weather\"] = \"weather/\"\n",
    "SUBPATH[\"age\"] = \"age/\"\n",
    "\n",
    "FILENAME = {}\n",
    "FILENAME[\"corona\"] = \"de_corona.csv\"\n",
    "FILENAME[\"meta\"] = \"de_metadata.json\"\n",
    "FILENAME[\"shape\"] = \"de.geojson\"\n",
    "FILENAME[\"weather\"] = \"weather.csv\"\n",
    "FILENAME[\"age_pop\"] = \"Altersverteilung_Bevolkerung.csv\"\n",
    "\n",
    "corona = PATH[\"data_raw\"]+SUBPATH[\"corona\"]+FILENAME[\"corona\"]\n",
    "meta = PATH[\"data_raw\"]+SUBPATH[\"meta\"]+FILENAME[\"meta\"]\n",
    "shape = PATH[\"data_raw\"]+SUBPATH[\"shape\"]+FILENAME[\"shape\"]\n",
    "weather = PATH[\"data_raw\"]+SUBPATH[\"weather\"]+FILENAME[\"weather\"]\n",
    "age_pop = PATH[\"data_external\"]+SUBPATH[\"age\"]+FILENAME[\"age_pop\"]"
   ]
  },
  {
   "cell_type": "markdown",
   "metadata": {},
   "source": [
    "The dates is parsed in the data, so that it has a consistent form. The data is tab seperated and thus we load the data with a tab seperator. We also append the extra data that was provided to our original weather data frame."
   ]
  },
  {
   "cell_type": "code",
   "execution_count": 13,
   "metadata": {},
   "outputs": [],
   "source": [
    "raw_data = {}\n",
    "\n",
    "from datetime import datetime\n",
    "dateparse = lambda x: datetime.strptime(x, '%Y-%m-%d')\n",
    "\n",
    "#data\n",
    "raw_data['de_corona'] = pd.read_csv(corona, sep='\\t', parse_dates=['date'], date_parser=dateparse)\n",
    "raw_data['weather'] = pd.read_csv(weather, sep='\\t', parse_dates=['date'], date_parser=dateparse)\n",
    "additional = pd.read_csv('../Data/Raw/weather/weather2.csv', sep='\\t', parse_dates=['date'], date_parser=dateparse)\n",
    "raw_data['weather'] = raw_data['weather'].append(additional)\n",
    "\n",
    "#open jsonfile_metadata\n",
    "with open(meta, 'r', encoding='utf-8') as f:\n",
    "    country_metadata = json.loads(f.read())\n",
    "\n",
    "#task4\n",
    "raw_data['age_pop'] = pd.read_csv(age_pop, sep=';', decimal=',')"
   ]
  },
  {
   "cell_type": "code",
   "execution_count": 14,
   "metadata": {},
   "outputs": [
    {
     "name": "stdout",
     "output_type": "stream",
     "text": [
      "de_corona  \tDataFrame shape: (5602, 4)\n",
      "weather  \tDataFrame shape: (20220, 9)\n"
     ]
    }
   ],
   "source": [
    "HEADERS = ['de_corona','weather']\n",
    "for i in HEADERS:\n",
    "    print(i +\"  \\tDataFrame shape: \" + str(raw_data[i].shape))"
   ]
  },
  {
   "cell_type": "markdown",
   "metadata": {},
   "source": [
    "## Data type insight"
   ]
  },
  {
   "cell_type": "markdown",
   "metadata": {},
   "source": [
    "With the data provided involved the following fields: "
   ]
  },
  {
   "cell_type": "code",
   "execution_count": 15,
   "metadata": {},
   "outputs": [
    {
     "data": {
      "text/plain": [
       "(['date',\n",
       "  'iso3166-2',\n",
       "  'RelativeHumiditySurface',\n",
       "  'SolarRadiation',\n",
       "  'Surfacepressure',\n",
       "  'TemperatureAboveGround',\n",
       "  'Totalprecipitation',\n",
       "  'UVIndex',\n",
       "  'WindSpeed'],\n",
       " ['date', 'region_code', 'confirmed_addition', 'deceased_addition'])"
      ]
     },
     "execution_count": 15,
     "metadata": {},
     "output_type": "execute_result"
    }
   ],
   "source": [
    "list(raw_data[\"weather\"].columns), list(raw_data[\"de_corona\"].columns)"
   ]
  },
  {
   "cell_type": "markdown",
   "metadata": {},
   "source": [
    "The following fields are categorical variables:\n",
    "- iso3166-2 (the codes of the regions in Germany)\n",
    "- date\n",
    "- region_code (the name of the region)\n",
    "\n",
    "The following fields are numerical variables:\n",
    "- RelativeHumiditySurface \n",
    "- SolarRadiation (measured j/sqm)\n",
    "- Surfacepressure \n",
    "- TemperatureAboveGround (measured in Kelvin)\n",
    "- Totalprecipitation\n",
    "- UVIndex (1-10)\n",
    "- Windspeed (m/s)\n",
    "- confirmed_addition (number of confirmed Covid-19 infections)\n",
    "- deceased_addition (number of deceased with a confirmed Covid-19 infections)\n",
    "\n",
    "All the weather data is a 24-hour sum of the day, which will result in higher than expected values, these variables can be divided by 24 to get the mean of the day, though this will also be flawed data, since the data will have a daily mean. SolarRadiation, UVIndex is only relevent when the sun is actually present during the day, by getting the daily mean, the hours of the day where the sun is not active is taken into account, which results in lower than expected values. "
   ]
  },
  {
   "cell_type": "markdown",
   "metadata": {},
   "source": [
    "## Filtering the weather dataset"
   ]
  },
  {
   "cell_type": "markdown",
   "metadata": {},
   "source": [
    "Our assigned country in this project is Germany and thus we filter the data so that we only have data from Germany"
   ]
  },
  {
   "cell_type": "code",
   "execution_count": 16,
   "metadata": {},
   "outputs": [],
   "source": [
    "#get Germany data\n",
    "weather_data_de = raw_data[\"weather\"][raw_data[\"weather\"][\"iso3166-2\"].str.startswith(\"DE\")]\n",
    "#reset_index\n",
    "weather_data_de.reset_index(drop=True, inplace=True)\n",
    "\n",
    "#Processed data\n",
    "processed_data = {}\n",
    "processed_data[\"weather\"] = weather_data_de\n",
    "processed_data[\"weather\"].to_csv(\"../Data/Processed/processed_weather.csv\")\n",
    "processed_data[\"de_corona\"] = raw_data[\"de_corona\"]"
   ]
  },
  {
   "cell_type": "markdown",
   "metadata": {},
   "source": [
    "## Sanity check"
   ]
  },
  {
   "cell_type": "markdown",
   "metadata": {},
   "source": [
    "Here we check for typical issues with raw data. We are checking for missing data, duplicate data and null values."
   ]
  },
  {
   "cell_type": "markdown",
   "metadata": {},
   "source": [
    "### Check for null values"
   ]
  },
  {
   "cell_type": "code",
   "execution_count": 17,
   "metadata": {
    "scrolled": true
   },
   "outputs": [
    {
     "name": "stdout",
     "output_type": "stream",
     "text": [
      "There are no null values in de_corona dataset\n",
      "There are no null values in weather_data_de dataset\n"
     ]
    }
   ],
   "source": [
    "check_null_values(raw_data['de_corona'], \"de_corona\")\n",
    "check_null_values(weather_data_de, \"weather_data_de\")"
   ]
  },
  {
   "cell_type": "markdown",
   "metadata": {},
   "source": [
    "### Checking if our data source corrected their data by adding negative values to the previous day, to get the cummulitative sum correct"
   ]
  },
  {
   "cell_type": "code",
   "execution_count": 18,
   "metadata": {},
   "outputs": [
    {
     "name": "stdout",
     "output_type": "stream",
     "text": [
      "min deaths 0\n",
      "min cases 1\n"
     ]
    }
   ],
   "source": [
    "print('min deaths',min(raw_data['de_corona']['deceased_addition']))\n",
    "print('min cases',min(raw_data['de_corona']['confirmed_addition']))"
   ]
  },
  {
   "cell_type": "markdown",
   "metadata": {},
   "source": [
    "### Checking and visualizing for weird values"
   ]
  },
  {
   "cell_type": "code",
   "execution_count": 19,
   "metadata": {},
   "outputs": [
    {
     "data": {
      "image/png": "[encoded data removed]",
      "text/plain": [
       "<Figure size 1800x720 with 2 Axes>"
      ]
     },
     "metadata": {
      "needs_background": "light"
     },
     "output_type": "display_data"
    }
   ],
   "source": [
    "dataset_checker_values(weather_data_de,-999) #-999"
   ]
  },
  {
   "cell_type": "code",
   "execution_count": 20,
   "metadata": {},
   "outputs": [
    {
     "data": {
      "image/png": "[encoded data removed]",
      "text/plain": [
       "<Figure size 1800x720 with 2 Axes>"
      ]
     },
     "metadata": {
      "needs_background": "light"
     },
     "output_type": "display_data"
    }
   ],
   "source": [
    "dataset_checker_values(weather_data_de,-1) #-1"
   ]
  },
  {
   "cell_type": "code",
   "execution_count": 21,
   "metadata": {},
   "outputs": [
    {
     "data": {
      "image/png": "[encoded data removed]",
      "text/plain": [
       "<Figure size 1800x720 with 2 Axes>"
      ]
     },
     "metadata": {
      "needs_background": "light"
     },
     "output_type": "display_data"
    }
   ],
   "source": [
    "dataset_checker_values(raw_data['de_corona'],-999) #-999"
   ]
  },
  {
   "cell_type": "code",
   "execution_count": 22,
   "metadata": {},
   "outputs": [
    {
     "data": {
      "image/png": "[encoded data removed]",
      "text/plain": [
       "<Figure size 1800x720 with 2 Axes>"
      ]
     },
     "metadata": {
      "needs_background": "light"
     },
     "output_type": "display_data"
    }
   ],
   "source": [
    "dataset_checker_values(raw_data['de_corona'],-1) #-1"
   ]
  },
  {
   "cell_type": "markdown",
   "metadata": {},
   "source": [
    "### Checking for duplicates"
   ]
  },
  {
   "cell_type": "code",
   "execution_count": 23,
   "metadata": {},
   "outputs": [
    {
     "name": "stdout",
     "output_type": "stream",
     "text": [
      "No duplicate rows\n"
     ]
    }
   ],
   "source": [
    "if True in list(raw_data[\"de_corona\"].duplicated()):\n",
    "    print(\"Duplicate rows\")\n",
    "else: \n",
    "    print(\"No duplicate rows\")"
   ]
  },
  {
   "cell_type": "markdown",
   "metadata": {},
   "source": [
    "## Data Manipulation"
   ]
  },
  {
   "cell_type": "code",
   "execution_count": 24,
   "metadata": {},
   "outputs": [
    {
     "data": {
      "text/html": [
       "<div>\n",
       "<style scoped>\n",
       "    .dataframe tbody tr th:only-of-type {\n",
       "        vertical-align: middle;\n",
       "    }\n",
       "\n",
       "    .dataframe tbody tr th {\n",
       "        vertical-align: top;\n",
       "    }\n",
       "\n",
       "    .dataframe thead th {\n",
       "        text-align: right;\n",
       "    }\n",
       "</style>\n",
       "<table border=\"1\" class=\"dataframe\">\n",
       "  <thead>\n",
       "    <tr style=\"text-align: right;\">\n",
       "      <th></th>\n",
       "      <th>date</th>\n",
       "      <th>region_code</th>\n",
       "      <th>confirmed_addition</th>\n",
       "      <th>deceased_addition</th>\n",
       "      <th>region</th>\n",
       "    </tr>\n",
       "  </thead>\n",
       "  <tbody>\n",
       "    <tr>\n",
       "      <th>0</th>\n",
       "      <td>2020-01-02</td>\n",
       "      <td>Nordrhein-Westfalen</td>\n",
       "      <td>1</td>\n",
       "      <td>0</td>\n",
       "      <td>DE-NW</td>\n",
       "    </tr>\n",
       "    <tr>\n",
       "      <th>1</th>\n",
       "      <td>2020-01-07</td>\n",
       "      <td>Nordrhein-Westfalen</td>\n",
       "      <td>1</td>\n",
       "      <td>0</td>\n",
       "      <td>DE-NW</td>\n",
       "    </tr>\n",
       "    <tr>\n",
       "      <th>2</th>\n",
       "      <td>2020-01-09</td>\n",
       "      <td>Nordrhein-Westfalen</td>\n",
       "      <td>1</td>\n",
       "      <td>1</td>\n",
       "      <td>DE-NW</td>\n",
       "    </tr>\n",
       "    <tr>\n",
       "      <th>3</th>\n",
       "      <td>2020-01-12</td>\n",
       "      <td>Nordrhein-Westfalen</td>\n",
       "      <td>1</td>\n",
       "      <td>0</td>\n",
       "      <td>DE-NW</td>\n",
       "    </tr>\n",
       "    <tr>\n",
       "      <th>4</th>\n",
       "      <td>2020-01-14</td>\n",
       "      <td>Nordrhein-Westfalen</td>\n",
       "      <td>1</td>\n",
       "      <td>0</td>\n",
       "      <td>DE-NW</td>\n",
       "    </tr>\n",
       "    <tr>\n",
       "      <th>...</th>\n",
       "      <td>...</td>\n",
       "      <td>...</td>\n",
       "      <td>...</td>\n",
       "      <td>...</td>\n",
       "      <td>...</td>\n",
       "    </tr>\n",
       "    <tr>\n",
       "      <th>5597</th>\n",
       "      <td>2021-02-21</td>\n",
       "      <td>Rheinland-Pfalz</td>\n",
       "      <td>120</td>\n",
       "      <td>0</td>\n",
       "      <td>DE-RP</td>\n",
       "    </tr>\n",
       "    <tr>\n",
       "      <th>5598</th>\n",
       "      <td>2021-02-21</td>\n",
       "      <td>Sachsen</td>\n",
       "      <td>68</td>\n",
       "      <td>0</td>\n",
       "      <td>DE-SN</td>\n",
       "    </tr>\n",
       "    <tr>\n",
       "      <th>5599</th>\n",
       "      <td>2021-02-21</td>\n",
       "      <td>Sachsen-Anhalt</td>\n",
       "      <td>84</td>\n",
       "      <td>0</td>\n",
       "      <td>DE-ST</td>\n",
       "    </tr>\n",
       "    <tr>\n",
       "      <th>5600</th>\n",
       "      <td>2021-02-21</td>\n",
       "      <td>Schleswig-Holstein</td>\n",
       "      <td>113</td>\n",
       "      <td>0</td>\n",
       "      <td>DE-SH</td>\n",
       "    </tr>\n",
       "    <tr>\n",
       "      <th>5601</th>\n",
       "      <td>2021-02-21</td>\n",
       "      <td>Thüringen</td>\n",
       "      <td>131</td>\n",
       "      <td>0</td>\n",
       "      <td>DE-TH</td>\n",
       "    </tr>\n",
       "  </tbody>\n",
       "</table>\n",
       "<p>5602 rows × 5 columns</p>\n",
       "</div>"
      ],
      "text/plain": [
       "           date          region_code  confirmed_addition  deceased_addition  \\\n",
       "0    2020-01-02  Nordrhein-Westfalen                   1                  0   \n",
       "1    2020-01-07  Nordrhein-Westfalen                   1                  0   \n",
       "2    2020-01-09  Nordrhein-Westfalen                   1                  1   \n",
       "3    2020-01-12  Nordrhein-Westfalen                   1                  0   \n",
       "4    2020-01-14  Nordrhein-Westfalen                   1                  0   \n",
       "...         ...                  ...                 ...                ...   \n",
       "5597 2021-02-21      Rheinland-Pfalz                 120                  0   \n",
       "5598 2021-02-21              Sachsen                  68                  0   \n",
       "5599 2021-02-21       Sachsen-Anhalt                  84                  0   \n",
       "5600 2021-02-21   Schleswig-Holstein                 113                  0   \n",
       "5601 2021-02-21            Thüringen                 131                  0   \n",
       "\n",
       "     region  \n",
       "0     DE-NW  \n",
       "1     DE-NW  \n",
       "2     DE-NW  \n",
       "3     DE-NW  \n",
       "4     DE-NW  \n",
       "...     ...  \n",
       "5597  DE-RP  \n",
       "5598  DE-SN  \n",
       "5599  DE-ST  \n",
       "5600  DE-SH  \n",
       "5601  DE-TH  \n",
       "\n",
       "[5602 rows x 5 columns]"
      ]
     },
     "execution_count": 24,
     "metadata": {},
     "output_type": "execute_result"
    }
   ],
   "source": [
    "#adding the region to the de_corona df\n",
    "corona_df = raw_data['de_corona']\n",
    "ss = dict()\n",
    "for i in country_metadata['country_metadata']:\n",
    "    ss[i['covid_region_code']] = i['iso3166-2_code']\n",
    "corona_df['region'] = corona_df['region_code'].map(ss)\n",
    "corona_df"
   ]
  },
  {
   "cell_type": "code",
   "execution_count": 25,
   "metadata": {},
   "outputs": [
    {
     "name": "stderr",
     "output_type": "stream",
     "text": [
      "<ipython-input-25-8b0f84d71407>:2: SettingWithCopyWarning: \n",
      "A value is trying to be set on a copy of a slice from a DataFrame.\n",
      "Try using .loc[row_indexer,col_indexer] = value instead\n",
      "\n",
      "See the caveats in the documentation: https://pandas.pydata.org/pandas-docs/stable/user_guide/indexing.html#returning-a-view-versus-a-copy\n",
      "  weather_data_de['Temp_Celsius'] = celsius\n"
     ]
    },
    {
     "data": {
      "text/html": [
       "<div>\n",
       "<style scoped>\n",
       "    .dataframe tbody tr th:only-of-type {\n",
       "        vertical-align: middle;\n",
       "    }\n",
       "\n",
       "    .dataframe tbody tr th {\n",
       "        vertical-align: top;\n",
       "    }\n",
       "\n",
       "    .dataframe thead th {\n",
       "        text-align: right;\n",
       "    }\n",
       "</style>\n",
       "<table border=\"1\" class=\"dataframe\">\n",
       "  <thead>\n",
       "    <tr style=\"text-align: right;\">\n",
       "      <th></th>\n",
       "      <th>date</th>\n",
       "      <th>iso3166-2</th>\n",
       "      <th>RelativeHumiditySurface</th>\n",
       "      <th>SolarRadiation</th>\n",
       "      <th>Surfacepressure</th>\n",
       "      <th>TemperatureAboveGround</th>\n",
       "      <th>Totalprecipitation</th>\n",
       "      <th>UVIndex</th>\n",
       "      <th>WindSpeed</th>\n",
       "      <th>Temp_Celsius</th>\n",
       "    </tr>\n",
       "  </thead>\n",
       "  <tbody>\n",
       "    <tr>\n",
       "      <th>0</th>\n",
       "      <td>2020-02-13</td>\n",
       "      <td>DE-BB</td>\n",
       "      <td>76.337444</td>\n",
       "      <td>1.824290e+06</td>\n",
       "      <td>2.403341e+06</td>\n",
       "      <td>276.551573</td>\n",
       "      <td>0.003355</td>\n",
       "      <td>2.777806</td>\n",
       "      <td>4.542822</td>\n",
       "      <td>3.401573</td>\n",
       "    </tr>\n",
       "    <tr>\n",
       "      <th>1</th>\n",
       "      <td>2020-02-13</td>\n",
       "      <td>DE-BE</td>\n",
       "      <td>76.065297</td>\n",
       "      <td>1.786373e+06</td>\n",
       "      <td>2.408182e+06</td>\n",
       "      <td>276.844633</td>\n",
       "      <td>0.003523</td>\n",
       "      <td>4.671329</td>\n",
       "      <td>4.761509</td>\n",
       "      <td>3.694633</td>\n",
       "    </tr>\n",
       "    <tr>\n",
       "      <th>2</th>\n",
       "      <td>2020-02-13</td>\n",
       "      <td>DE-BW</td>\n",
       "      <td>80.113988</td>\n",
       "      <td>1.505760e+06</td>\n",
       "      <td>2.290158e+06</td>\n",
       "      <td>276.227143</td>\n",
       "      <td>0.008013</td>\n",
       "      <td>4.268546</td>\n",
       "      <td>4.467024</td>\n",
       "      <td>3.077143</td>\n",
       "    </tr>\n",
       "    <tr>\n",
       "      <th>3</th>\n",
       "      <td>2020-02-13</td>\n",
       "      <td>DE-BY</td>\n",
       "      <td>81.554346</td>\n",
       "      <td>2.363013e+06</td>\n",
       "      <td>2.275361e+06</td>\n",
       "      <td>275.583053</td>\n",
       "      <td>0.005227</td>\n",
       "      <td>4.417797</td>\n",
       "      <td>3.677414</td>\n",
       "      <td>2.433053</td>\n",
       "    </tr>\n",
       "    <tr>\n",
       "      <th>4</th>\n",
       "      <td>2020-02-13</td>\n",
       "      <td>DE-HB</td>\n",
       "      <td>87.167414</td>\n",
       "      <td>8.389756e+03</td>\n",
       "      <td>2.406940e+06</td>\n",
       "      <td>276.237452</td>\n",
       "      <td>0.007715</td>\n",
       "      <td>1.794872</td>\n",
       "      <td>4.699573</td>\n",
       "      <td>3.087452</td>\n",
       "    </tr>\n",
       "    <tr>\n",
       "      <th>...</th>\n",
       "      <td>...</td>\n",
       "      <td>...</td>\n",
       "      <td>...</td>\n",
       "      <td>...</td>\n",
       "      <td>...</td>\n",
       "      <td>...</td>\n",
       "      <td>...</td>\n",
       "      <td>...</td>\n",
       "      <td>...</td>\n",
       "      <td>...</td>\n",
       "    </tr>\n",
       "    <tr>\n",
       "      <th>5995</th>\n",
       "      <td>2021-02-21</td>\n",
       "      <td>DE-SH</td>\n",
       "      <td>78.077610</td>\n",
       "      <td>5.698494e+06</td>\n",
       "      <td>2.431487e+06</td>\n",
       "      <td>281.943486</td>\n",
       "      <td>0.000000</td>\n",
       "      <td>4.474084</td>\n",
       "      <td>2.532838</td>\n",
       "      <td>8.793486</td>\n",
       "    </tr>\n",
       "    <tr>\n",
       "      <th>5996</th>\n",
       "      <td>2021-02-21</td>\n",
       "      <td>DE-SL</td>\n",
       "      <td>60.483775</td>\n",
       "      <td>8.762859e+06</td>\n",
       "      <td>2.350492e+06</td>\n",
       "      <td>283.516066</td>\n",
       "      <td>0.000000</td>\n",
       "      <td>8.000000</td>\n",
       "      <td>3.247090</td>\n",
       "      <td>10.366066</td>\n",
       "    </tr>\n",
       "    <tr>\n",
       "      <th>5997</th>\n",
       "      <td>2021-02-21</td>\n",
       "      <td>DE-SN</td>\n",
       "      <td>74.638170</td>\n",
       "      <td>6.687276e+06</td>\n",
       "      <td>2.363996e+06</td>\n",
       "      <td>279.277820</td>\n",
       "      <td>0.000008</td>\n",
       "      <td>5.409593</td>\n",
       "      <td>4.648033</td>\n",
       "      <td>6.127820</td>\n",
       "    </tr>\n",
       "    <tr>\n",
       "      <th>5998</th>\n",
       "      <td>2021-02-21</td>\n",
       "      <td>DE-ST</td>\n",
       "      <td>69.587170</td>\n",
       "      <td>7.276057e+06</td>\n",
       "      <td>2.408002e+06</td>\n",
       "      <td>282.418775</td>\n",
       "      <td>0.000000</td>\n",
       "      <td>5.273630</td>\n",
       "      <td>2.972845</td>\n",
       "      <td>9.268775</td>\n",
       "    </tr>\n",
       "    <tr>\n",
       "      <th>5999</th>\n",
       "      <td>2021-02-21</td>\n",
       "      <td>DE-TH</td>\n",
       "      <td>68.218962</td>\n",
       "      <td>7.882624e+06</td>\n",
       "      <td>2.341659e+06</td>\n",
       "      <td>281.447381</td>\n",
       "      <td>0.000000</td>\n",
       "      <td>6.547098</td>\n",
       "      <td>3.340947</td>\n",
       "      <td>8.297381</td>\n",
       "    </tr>\n",
       "  </tbody>\n",
       "</table>\n",
       "<p>6000 rows × 10 columns</p>\n",
       "</div>"
      ],
      "text/plain": [
       "           date iso3166-2  RelativeHumiditySurface  SolarRadiation  \\\n",
       "0    2020-02-13     DE-BB                76.337444    1.824290e+06   \n",
       "1    2020-02-13     DE-BE                76.065297    1.786373e+06   \n",
       "2    2020-02-13     DE-BW                80.113988    1.505760e+06   \n",
       "3    2020-02-13     DE-BY                81.554346    2.363013e+06   \n",
       "4    2020-02-13     DE-HB                87.167414    8.389756e+03   \n",
       "...         ...       ...                      ...             ...   \n",
       "5995 2021-02-21     DE-SH                78.077610    5.698494e+06   \n",
       "5996 2021-02-21     DE-SL                60.483775    8.762859e+06   \n",
       "5997 2021-02-21     DE-SN                74.638170    6.687276e+06   \n",
       "5998 2021-02-21     DE-ST                69.587170    7.276057e+06   \n",
       "5999 2021-02-21     DE-TH                68.218962    7.882624e+06   \n",
       "\n",
       "      Surfacepressure  TemperatureAboveGround  Totalprecipitation   UVIndex  \\\n",
       "0        2.403341e+06              276.551573            0.003355  2.777806   \n",
       "1        2.408182e+06              276.844633            0.003523  4.671329   \n",
       "2        2.290158e+06              276.227143            0.008013  4.268546   \n",
       "3        2.275361e+06              275.583053            0.005227  4.417797   \n",
       "4        2.406940e+06              276.237452            0.007715  1.794872   \n",
       "...               ...                     ...                 ...       ...   \n",
       "5995     2.431487e+06              281.943486            0.000000  4.474084   \n",
       "5996     2.350492e+06              283.516066            0.000000  8.000000   \n",
       "5997     2.363996e+06              279.277820            0.000008  5.409593   \n",
       "5998     2.408002e+06              282.418775            0.000000  5.273630   \n",
       "5999     2.341659e+06              281.447381            0.000000  6.547098   \n",
       "\n",
       "      WindSpeed  Temp_Celsius  \n",
       "0      4.542822      3.401573  \n",
       "1      4.761509      3.694633  \n",
       "2      4.467024      3.077143  \n",
       "3      3.677414      2.433053  \n",
       "4      4.699573      3.087452  \n",
       "...         ...           ...  \n",
       "5995   2.532838      8.793486  \n",
       "5996   3.247090     10.366066  \n",
       "5997   4.648033      6.127820  \n",
       "5998   2.972845      9.268775  \n",
       "5999   3.340947      8.297381  \n",
       "\n",
       "[6000 rows x 10 columns]"
      ]
     },
     "execution_count": 25,
     "metadata": {},
     "output_type": "execute_result"
    }
   ],
   "source": [
    "celsius = pd.DataFrame(weather_data_de['TemperatureAboveGround'].subtract(273.15))\n",
    "weather_data_de['Temp_Celsius'] = celsius\n",
    "weather_data_de"
   ]
  },
  {
   "cell_type": "code",
   "execution_count": 26,
   "metadata": {},
   "outputs": [
    {
     "data": {
      "text/html": [
       "<div>\n",
       "<style scoped>\n",
       "    .dataframe tbody tr th:only-of-type {\n",
       "        vertical-align: middle;\n",
       "    }\n",
       "\n",
       "    .dataframe tbody tr th {\n",
       "        vertical-align: top;\n",
       "    }\n",
       "\n",
       "    .dataframe thead th {\n",
       "        text-align: right;\n",
       "    }\n",
       "</style>\n",
       "<table border=\"1\" class=\"dataframe\">\n",
       "  <thead>\n",
       "    <tr style=\"text-align: right;\">\n",
       "      <th></th>\n",
       "      <th>date</th>\n",
       "      <th>confirmed_addition</th>\n",
       "      <th>deceased_addition</th>\n",
       "      <th>iso3166-2</th>\n",
       "      <th>RelativeHumiditySurface</th>\n",
       "      <th>SolarRadiation</th>\n",
       "      <th>Surfacepressure</th>\n",
       "      <th>TemperatureAboveGround</th>\n",
       "      <th>Totalprecipitation</th>\n",
       "      <th>UVIndex</th>\n",
       "      <th>WindSpeed</th>\n",
       "      <th>Temp_Celsius</th>\n",
       "    </tr>\n",
       "  </thead>\n",
       "  <tbody>\n",
       "    <tr>\n",
       "      <th>0</th>\n",
       "      <td>2020-02-16</td>\n",
       "      <td>1</td>\n",
       "      <td>0</td>\n",
       "      <td>DE-MV</td>\n",
       "      <td>69.818665</td>\n",
       "      <td>4.562424e+04</td>\n",
       "      <td>2.392858e+06</td>\n",
       "      <td>284.294049</td>\n",
       "      <td>0.004641</td>\n",
       "      <td>0.211216</td>\n",
       "      <td>7.888859</td>\n",
       "      <td>11.144049</td>\n",
       "    </tr>\n",
       "    <tr>\n",
       "      <th>1</th>\n",
       "      <td>2020-02-17</td>\n",
       "      <td>1</td>\n",
       "      <td>0</td>\n",
       "      <td>DE-BB</td>\n",
       "      <td>64.189273</td>\n",
       "      <td>9.007504e+05</td>\n",
       "      <td>2.409194e+06</td>\n",
       "      <td>282.312595</td>\n",
       "      <td>0.001005</td>\n",
       "      <td>2.631685</td>\n",
       "      <td>6.319781</td>\n",
       "      <td>9.162595</td>\n",
       "    </tr>\n",
       "    <tr>\n",
       "      <th>2</th>\n",
       "      <td>2020-02-18</td>\n",
       "      <td>1</td>\n",
       "      <td>0</td>\n",
       "      <td>DE-BB</td>\n",
       "      <td>71.904630</td>\n",
       "      <td>4.042940e+06</td>\n",
       "      <td>2.421421e+06</td>\n",
       "      <td>279.679468</td>\n",
       "      <td>0.002388</td>\n",
       "      <td>4.037911</td>\n",
       "      <td>6.150824</td>\n",
       "      <td>6.529468</td>\n",
       "    </tr>\n",
       "    <tr>\n",
       "      <th>3</th>\n",
       "      <td>2020-02-20</td>\n",
       "      <td>1</td>\n",
       "      <td>0</td>\n",
       "      <td>DE-NW</td>\n",
       "      <td>81.738535</td>\n",
       "      <td>1.064802e+06</td>\n",
       "      <td>2.383996e+06</td>\n",
       "      <td>279.663867</td>\n",
       "      <td>0.006802</td>\n",
       "      <td>3.524003</td>\n",
       "      <td>6.477330</td>\n",
       "      <td>6.513867</td>\n",
       "    </tr>\n",
       "    <tr>\n",
       "      <th>4</th>\n",
       "      <td>2020-02-24</td>\n",
       "      <td>1</td>\n",
       "      <td>0</td>\n",
       "      <td>DE-BW</td>\n",
       "      <td>80.314208</td>\n",
       "      <td>6.604918e+05</td>\n",
       "      <td>2.308155e+06</td>\n",
       "      <td>281.894530</td>\n",
       "      <td>0.005284</td>\n",
       "      <td>5.613589</td>\n",
       "      <td>4.663207</td>\n",
       "      <td>8.744530</td>\n",
       "    </tr>\n",
       "    <tr>\n",
       "      <th>...</th>\n",
       "      <td>...</td>\n",
       "      <td>...</td>\n",
       "      <td>...</td>\n",
       "      <td>...</td>\n",
       "      <td>...</td>\n",
       "      <td>...</td>\n",
       "      <td>...</td>\n",
       "      <td>...</td>\n",
       "      <td>...</td>\n",
       "      <td>...</td>\n",
       "      <td>...</td>\n",
       "      <td>...</td>\n",
       "    </tr>\n",
       "    <tr>\n",
       "      <th>5575</th>\n",
       "      <td>2021-02-21</td>\n",
       "      <td>120</td>\n",
       "      <td>0</td>\n",
       "      <td>DE-RP</td>\n",
       "      <td>65.642820</td>\n",
       "      <td>8.457394e+06</td>\n",
       "      <td>2.348996e+06</td>\n",
       "      <td>282.123657</td>\n",
       "      <td>0.000000</td>\n",
       "      <td>7.879810</td>\n",
       "      <td>3.009041</td>\n",
       "      <td>8.973657</td>\n",
       "    </tr>\n",
       "    <tr>\n",
       "      <th>5576</th>\n",
       "      <td>2021-02-21</td>\n",
       "      <td>68</td>\n",
       "      <td>0</td>\n",
       "      <td>DE-SN</td>\n",
       "      <td>74.638170</td>\n",
       "      <td>6.687276e+06</td>\n",
       "      <td>2.363996e+06</td>\n",
       "      <td>279.277820</td>\n",
       "      <td>0.000008</td>\n",
       "      <td>5.409593</td>\n",
       "      <td>4.648033</td>\n",
       "      <td>6.127820</td>\n",
       "    </tr>\n",
       "    <tr>\n",
       "      <th>5577</th>\n",
       "      <td>2021-02-21</td>\n",
       "      <td>84</td>\n",
       "      <td>0</td>\n",
       "      <td>DE-ST</td>\n",
       "      <td>69.587170</td>\n",
       "      <td>7.276057e+06</td>\n",
       "      <td>2.408002e+06</td>\n",
       "      <td>282.418775</td>\n",
       "      <td>0.000000</td>\n",
       "      <td>5.273630</td>\n",
       "      <td>2.972845</td>\n",
       "      <td>9.268775</td>\n",
       "    </tr>\n",
       "    <tr>\n",
       "      <th>5578</th>\n",
       "      <td>2021-02-21</td>\n",
       "      <td>113</td>\n",
       "      <td>0</td>\n",
       "      <td>DE-SH</td>\n",
       "      <td>78.077610</td>\n",
       "      <td>5.698494e+06</td>\n",
       "      <td>2.431487e+06</td>\n",
       "      <td>281.943486</td>\n",
       "      <td>0.000000</td>\n",
       "      <td>4.474084</td>\n",
       "      <td>2.532838</td>\n",
       "      <td>8.793486</td>\n",
       "    </tr>\n",
       "    <tr>\n",
       "      <th>5579</th>\n",
       "      <td>2021-02-21</td>\n",
       "      <td>131</td>\n",
       "      <td>0</td>\n",
       "      <td>DE-TH</td>\n",
       "      <td>68.218962</td>\n",
       "      <td>7.882624e+06</td>\n",
       "      <td>2.341659e+06</td>\n",
       "      <td>281.447381</td>\n",
       "      <td>0.000000</td>\n",
       "      <td>6.547098</td>\n",
       "      <td>3.340947</td>\n",
       "      <td>8.297381</td>\n",
       "    </tr>\n",
       "  </tbody>\n",
       "</table>\n",
       "<p>5580 rows × 12 columns</p>\n",
       "</div>"
      ],
      "text/plain": [
       "           date  confirmed_addition  deceased_addition iso3166-2  \\\n",
       "0    2020-02-16                   1                  0     DE-MV   \n",
       "1    2020-02-17                   1                  0     DE-BB   \n",
       "2    2020-02-18                   1                  0     DE-BB   \n",
       "3    2020-02-20                   1                  0     DE-NW   \n",
       "4    2020-02-24                   1                  0     DE-BW   \n",
       "...         ...                 ...                ...       ...   \n",
       "5575 2021-02-21                 120                  0     DE-RP   \n",
       "5576 2021-02-21                  68                  0     DE-SN   \n",
       "5577 2021-02-21                  84                  0     DE-ST   \n",
       "5578 2021-02-21                 113                  0     DE-SH   \n",
       "5579 2021-02-21                 131                  0     DE-TH   \n",
       "\n",
       "      RelativeHumiditySurface  SolarRadiation  Surfacepressure  \\\n",
       "0                   69.818665    4.562424e+04     2.392858e+06   \n",
       "1                   64.189273    9.007504e+05     2.409194e+06   \n",
       "2                   71.904630    4.042940e+06     2.421421e+06   \n",
       "3                   81.738535    1.064802e+06     2.383996e+06   \n",
       "4                   80.314208    6.604918e+05     2.308155e+06   \n",
       "...                       ...             ...              ...   \n",
       "5575                65.642820    8.457394e+06     2.348996e+06   \n",
       "5576                74.638170    6.687276e+06     2.363996e+06   \n",
       "5577                69.587170    7.276057e+06     2.408002e+06   \n",
       "5578                78.077610    5.698494e+06     2.431487e+06   \n",
       "5579                68.218962    7.882624e+06     2.341659e+06   \n",
       "\n",
       "      TemperatureAboveGround  Totalprecipitation   UVIndex  WindSpeed  \\\n",
       "0                 284.294049            0.004641  0.211216   7.888859   \n",
       "1                 282.312595            0.001005  2.631685   6.319781   \n",
       "2                 279.679468            0.002388  4.037911   6.150824   \n",
       "3                 279.663867            0.006802  3.524003   6.477330   \n",
       "4                 281.894530            0.005284  5.613589   4.663207   \n",
       "...                      ...                 ...       ...        ...   \n",
       "5575              282.123657            0.000000  7.879810   3.009041   \n",
       "5576              279.277820            0.000008  5.409593   4.648033   \n",
       "5577              282.418775            0.000000  5.273630   2.972845   \n",
       "5578              281.943486            0.000000  4.474084   2.532838   \n",
       "5579              281.447381            0.000000  6.547098   3.340947   \n",
       "\n",
       "      Temp_Celsius  \n",
       "0        11.144049  \n",
       "1         9.162595  \n",
       "2         6.529468  \n",
       "3         6.513867  \n",
       "4         8.744530  \n",
       "...            ...  \n",
       "5575      8.973657  \n",
       "5576      6.127820  \n",
       "5577      9.268775  \n",
       "5578      8.793486  \n",
       "5579      8.297381  \n",
       "\n",
       "[5580 rows x 12 columns]"
      ]
     },
     "execution_count": 26,
     "metadata": {},
     "output_type": "execute_result"
    }
   ],
   "source": [
    "#merging the corona dataset with the weather dataset for future associations. \n",
    "daily_corona_weather = corona_df.merge(weather_data_de, left_on = [\"date\", \"region\"], right_on = [\"date\", \"iso3166-2\"])\n",
    "daily_corona_weather = daily_corona_weather.drop([\"region_code\", \"region\"], axis = 1)\n",
    "daily_corona_weather #main"
   ]
  },
  {
   "cell_type": "markdown",
   "metadata": {},
   "source": [
    "# Numerical summary"
   ]
  },
  {
   "cell_type": "markdown",
   "metadata": {},
   "source": [
    "There are 16 regions"
   ]
  },
  {
   "cell_type": "code",
   "execution_count": 27,
   "metadata": {},
   "outputs": [
    {
     "data": {
      "text/plain": [
       "['Nordrhein-Westfalen',\n",
       " 'Berlin',\n",
       " 'Saarland',\n",
       " 'Bayern',\n",
       " 'Niedersachsen',\n",
       " 'Mecklenburg-Vorpommern',\n",
       " 'Brandenburg',\n",
       " 'Baden-Württemberg',\n",
       " 'Hessen',\n",
       " 'Rheinland-Pfalz',\n",
       " 'Schleswig-Holstein',\n",
       " 'Hamburg',\n",
       " 'Bremen',\n",
       " 'Sachsen',\n",
       " 'Thüringen',\n",
       " 'Sachsen-Anhalt']"
      ]
     },
     "execution_count": 27,
     "metadata": {},
     "output_type": "execute_result"
    }
   ],
   "source": [
    "list((raw_data['de_corona']['region_code']).unique())"
   ]
  },
  {
   "cell_type": "markdown",
   "metadata": {},
   "source": [
    "### Daily registered cases in Germany"
   ]
  },
  {
   "cell_type": "code",
   "execution_count": 28,
   "metadata": {},
   "outputs": [
    {
     "data": {
      "text/html": [
       "<div>\n",
       "<style scoped>\n",
       "    .dataframe tbody tr th:only-of-type {\n",
       "        vertical-align: middle;\n",
       "    }\n",
       "\n",
       "    .dataframe tbody tr th {\n",
       "        vertical-align: top;\n",
       "    }\n",
       "\n",
       "    .dataframe thead th {\n",
       "        text-align: right;\n",
       "    }\n",
       "</style>\n",
       "<table border=\"1\" class=\"dataframe\">\n",
       "  <thead>\n",
       "    <tr style=\"text-align: right;\">\n",
       "      <th></th>\n",
       "      <th>confirmed_addition</th>\n",
       "      <th>deceased_addition</th>\n",
       "    </tr>\n",
       "  </thead>\n",
       "  <tbody>\n",
       "    <tr>\n",
       "      <th>count</th>\n",
       "      <td>5602.000000</td>\n",
       "      <td>5602.000000</td>\n",
       "    </tr>\n",
       "    <tr>\n",
       "      <th>mean</th>\n",
       "      <td>426.786862</td>\n",
       "      <td>12.121028</td>\n",
       "    </tr>\n",
       "    <tr>\n",
       "      <th>std</th>\n",
       "      <td>831.095886</td>\n",
       "      <td>25.823844</td>\n",
       "    </tr>\n",
       "    <tr>\n",
       "      <th>min</th>\n",
       "      <td>1.000000</td>\n",
       "      <td>0.000000</td>\n",
       "    </tr>\n",
       "    <tr>\n",
       "      <th>25%</th>\n",
       "      <td>18.000000</td>\n",
       "      <td>0.000000</td>\n",
       "    </tr>\n",
       "    <tr>\n",
       "      <th>50%</th>\n",
       "      <td>95.000000</td>\n",
       "      <td>1.000000</td>\n",
       "    </tr>\n",
       "    <tr>\n",
       "      <th>75%</th>\n",
       "      <td>396.000000</td>\n",
       "      <td>10.000000</td>\n",
       "    </tr>\n",
       "    <tr>\n",
       "      <th>max</th>\n",
       "      <td>6809.000000</td>\n",
       "      <td>213.000000</td>\n",
       "    </tr>\n",
       "  </tbody>\n",
       "</table>\n",
       "</div>"
      ],
      "text/plain": [
       "       confirmed_addition  deceased_addition\n",
       "count         5602.000000        5602.000000\n",
       "mean           426.786862          12.121028\n",
       "std            831.095886          25.823844\n",
       "min              1.000000           0.000000\n",
       "25%             18.000000           0.000000\n",
       "50%             95.000000           1.000000\n",
       "75%            396.000000          10.000000\n",
       "max           6809.000000         213.000000"
      ]
     },
     "execution_count": 28,
     "metadata": {},
     "output_type": "execute_result"
    }
   ],
   "source": [
    "raw_data[\"de_corona\"].describe()"
   ]
  },
  {
   "cell_type": "code",
   "execution_count": 29,
   "metadata": {},
   "outputs": [],
   "source": [
    "rcParams['figure.figsize'] = 25,4"
   ]
  },
  {
   "cell_type": "code",
   "execution_count": 30,
   "metadata": {},
   "outputs": [
    {
     "name": "stderr",
     "output_type": "stream",
     "text": [
      "C:\\Users\\flori\\anaconda3\\lib\\site-packages\\seaborn\\_decorators.py:36: FutureWarning: Pass the following variable as a keyword arg: x. From version 0.12, the only valid positional argument will be `data`, and passing other arguments without an explicit keyword will result in an error or misinterpretation.\n",
      "  warnings.warn(\n"
     ]
    },
    {
     "data": {
      "image/png": "[encoded data removed]",
      "text/plain": [
       "<Figure size 1800x288 with 1 Axes>"
      ]
     },
     "metadata": {
      "needs_background": "light"
     },
     "output_type": "display_data"
    }
   ],
   "source": [
    "deCorona_confirmed = raw_data['de_corona']['confirmed_addition']\n",
    "sns.boxplot(deCorona_confirmed, color='lightgray').set_title('Daily confirmed addition registered in Germany - 2020');"
   ]
  },
  {
   "cell_type": "code",
   "execution_count": 31,
   "metadata": {},
   "outputs": [
    {
     "name": "stderr",
     "output_type": "stream",
     "text": [
      "C:\\Users\\flori\\anaconda3\\lib\\site-packages\\seaborn\\_decorators.py:36: FutureWarning: Pass the following variable as a keyword arg: x. From version 0.12, the only valid positional argument will be `data`, and passing other arguments without an explicit keyword will result in an error or misinterpretation.\n",
      "  warnings.warn(\n"
     ]
    },
    {
     "data": {
      "image/png": "[encoded data removed]",
      "text/plain": [
       "<Figure size 1800x288 with 1 Axes>"
      ]
     },
     "metadata": {
      "needs_background": "light"
     },
     "output_type": "display_data"
    }
   ],
   "source": [
    "deCorona_deceased = raw_data['de_corona']['deceased_addition']\n",
    "sns.boxplot(deCorona_deceased, color='lightgray').set_title('Daily deceased addition registered in Germany - 2020');"
   ]
  },
  {
   "cell_type": "markdown",
   "metadata": {},
   "source": [
    "# Task 1 - Single Variable Analysis"
   ]
  },
  {
   "cell_type": "markdown",
   "metadata": {},
   "source": [
    "## Corona"
   ]
  },
  {
   "cell_type": "markdown",
   "metadata": {},
   "source": [
    "### Per Capita"
   ]
  },
  {
   "cell_type": "code",
   "execution_count": 32,
   "metadata": {},
   "outputs": [
    {
     "data": {
      "text/html": [
       "<div>\n",
       "<style scoped>\n",
       "    .dataframe tbody tr th:only-of-type {\n",
       "        vertical-align: middle;\n",
       "    }\n",
       "\n",
       "    .dataframe tbody tr th {\n",
       "        vertical-align: top;\n",
       "    }\n",
       "\n",
       "    .dataframe thead th {\n",
       "        text-align: right;\n",
       "    }\n",
       "</style>\n",
       "<table border=\"1\" class=\"dataframe\">\n",
       "  <thead>\n",
       "    <tr style=\"text-align: right;\">\n",
       "      <th></th>\n",
       "      <th>confirmed_addition</th>\n",
       "      <th>deceased_addition</th>\n",
       "      <th>iso3166-2_code</th>\n",
       "      <th>population</th>\n",
       "    </tr>\n",
       "    <tr>\n",
       "      <th>region_code</th>\n",
       "      <th></th>\n",
       "      <th></th>\n",
       "      <th></th>\n",
       "      <th></th>\n",
       "    </tr>\n",
       "  </thead>\n",
       "  <tbody>\n",
       "    <tr>\n",
       "      <th>Baden-Württemberg</th>\n",
       "      <td>311152</td>\n",
       "      <td>7940</td>\n",
       "      <td>DE-BW</td>\n",
       "      <td>11069533</td>\n",
       "    </tr>\n",
       "    <tr>\n",
       "      <th>Bayern</th>\n",
       "      <td>428996</td>\n",
       "      <td>12123</td>\n",
       "      <td>DE-BY</td>\n",
       "      <td>13076721</td>\n",
       "    </tr>\n",
       "    <tr>\n",
       "      <th>Berlin</th>\n",
       "      <td>126896</td>\n",
       "      <td>2728</td>\n",
       "      <td>DE-BE</td>\n",
       "      <td>3644826</td>\n",
       "    </tr>\n",
       "    <tr>\n",
       "      <th>Brandenburg</th>\n",
       "      <td>74955</td>\n",
       "      <td>2914</td>\n",
       "      <td>DE-BB</td>\n",
       "      <td>2511917</td>\n",
       "    </tr>\n",
       "    <tr>\n",
       "      <th>Bremen</th>\n",
       "      <td>17485</td>\n",
       "      <td>327</td>\n",
       "      <td>DE-HB</td>\n",
       "      <td>682986</td>\n",
       "    </tr>\n",
       "    <tr>\n",
       "      <th>Hamburg</th>\n",
       "      <td>50291</td>\n",
       "      <td>1223</td>\n",
       "      <td>DE-HH</td>\n",
       "      <td>1841179</td>\n",
       "    </tr>\n",
       "    <tr>\n",
       "      <th>Hessen</th>\n",
       "      <td>184434</td>\n",
       "      <td>5672</td>\n",
       "      <td>DE-HE</td>\n",
       "      <td>6265809</td>\n",
       "    </tr>\n",
       "    <tr>\n",
       "      <th>Mecklenburg-Vorpommern</th>\n",
       "      <td>23436</td>\n",
       "      <td>692</td>\n",
       "      <td>DE-MV</td>\n",
       "      <td>1609675</td>\n",
       "    </tr>\n",
       "    <tr>\n",
       "      <th>Niedersachsen</th>\n",
       "      <td>159191</td>\n",
       "      <td>4104</td>\n",
       "      <td>DE-NI</td>\n",
       "      <td>7982448</td>\n",
       "    </tr>\n",
       "    <tr>\n",
       "      <th>Nordrhein-Westfalen</th>\n",
       "      <td>521548</td>\n",
       "      <td>12632</td>\n",
       "      <td>DE-NW</td>\n",
       "      <td>17932651</td>\n",
       "    </tr>\n",
       "    <tr>\n",
       "      <th>Rheinland-Pfalz</th>\n",
       "      <td>100118</td>\n",
       "      <td>2993</td>\n",
       "      <td>DE-RP</td>\n",
       "      <td>4084844</td>\n",
       "    </tr>\n",
       "    <tr>\n",
       "      <th>Saarland</th>\n",
       "      <td>28056</td>\n",
       "      <td>848</td>\n",
       "      <td>DE-SL</td>\n",
       "      <td>990509</td>\n",
       "    </tr>\n",
       "    <tr>\n",
       "      <th>Sachsen</th>\n",
       "      <td>190813</td>\n",
       "      <td>7460</td>\n",
       "      <td>DE-SN</td>\n",
       "      <td>4077937</td>\n",
       "    </tr>\n",
       "    <tr>\n",
       "      <th>Sachsen-Anhalt</th>\n",
       "      <td>58674</td>\n",
       "      <td>2293</td>\n",
       "      <td>DE-ST</td>\n",
       "      <td>2208321</td>\n",
       "    </tr>\n",
       "    <tr>\n",
       "      <th>Schleswig-Holstein</th>\n",
       "      <td>41113</td>\n",
       "      <td>1211</td>\n",
       "      <td>DE-SH</td>\n",
       "      <td>2896712</td>\n",
       "    </tr>\n",
       "    <tr>\n",
       "      <th>Thüringen</th>\n",
       "      <td>73702</td>\n",
       "      <td>2742</td>\n",
       "      <td>DE-TH</td>\n",
       "      <td>2143145</td>\n",
       "    </tr>\n",
       "  </tbody>\n",
       "</table>\n",
       "</div>"
      ],
      "text/plain": [
       "                        confirmed_addition  deceased_addition iso3166-2_code  \\\n",
       "region_code                                                                    \n",
       "Baden-Württemberg                   311152               7940          DE-BW   \n",
       "Bayern                              428996              12123          DE-BY   \n",
       "Berlin                              126896               2728          DE-BE   \n",
       "Brandenburg                          74955               2914          DE-BB   \n",
       "Bremen                               17485                327          DE-HB   \n",
       "Hamburg                              50291               1223          DE-HH   \n",
       "Hessen                              184434               5672          DE-HE   \n",
       "Mecklenburg-Vorpommern               23436                692          DE-MV   \n",
       "Niedersachsen                       159191               4104          DE-NI   \n",
       "Nordrhein-Westfalen                 521548              12632          DE-NW   \n",
       "Rheinland-Pfalz                     100118               2993          DE-RP   \n",
       "Saarland                             28056                848          DE-SL   \n",
       "Sachsen                             190813               7460          DE-SN   \n",
       "Sachsen-Anhalt                       58674               2293          DE-ST   \n",
       "Schleswig-Holstein                   41113               1211          DE-SH   \n",
       "Thüringen                            73702               2742          DE-TH   \n",
       "\n",
       "                        population  \n",
       "region_code                         \n",
       "Baden-Württemberg         11069533  \n",
       "Bayern                    13076721  \n",
       "Berlin                     3644826  \n",
       "Brandenburg                2511917  \n",
       "Bremen                      682986  \n",
       "Hamburg                    1841179  \n",
       "Hessen                     6265809  \n",
       "Mecklenburg-Vorpommern     1609675  \n",
       "Niedersachsen              7982448  \n",
       "Nordrhein-Westfalen       17932651  \n",
       "Rheinland-Pfalz            4084844  \n",
       "Saarland                    990509  \n",
       "Sachsen                    4077937  \n",
       "Sachsen-Anhalt             2208321  \n",
       "Schleswig-Holstein         2896712  \n",
       "Thüringen                  2143145  "
      ]
     },
     "execution_count": 32,
     "metadata": {},
     "output_type": "execute_result"
    }
   ],
   "source": [
    "#grouping the corona_dataset by region and adding the population\n",
    "\n",
    "meta_df = pd.DataFrame(country_metadata['country_metadata'])\n",
    "sorted_country_metadata = meta_df.sort_values(by = 'iso3166-2_name_en')\n",
    "corona_by_region  = pd.DataFrame(raw_data['de_corona'].groupby(by = 'region_code').sum())\n",
    "corona_by_region['iso3166-2_code'] = sorted_country_metadata['iso3166-2_code'].values\n",
    "corona_by_region['population'] = sorted_country_metadata['population'].values\n",
    "\n",
    "corona_by_region"
   ]
  },
  {
   "cell_type": "code",
   "execution_count": 33,
   "metadata": {},
   "outputs": [],
   "source": [
    "#The number of cases by region/capita\n",
    "corona_by_region['confirmed/pop'] = corona_by_region['confirmed_addition']/corona_by_region['population']\n",
    "corona_by_region['deceased/pop'] = corona_by_region['deceased_addition']/corona_by_region['population']"
   ]
  },
  {
   "cell_type": "code",
   "execution_count": 34,
   "metadata": {},
   "outputs": [
    {
     "name": "stderr",
     "output_type": "stream",
     "text": [
      "<ipython-input-34-ae67f570d026>:1: FutureWarning: Indexing with multiple keys (implicitly converted to a tuple of keys) will be deprecated, use a list instead.\n",
      "  corona_by_region.groupby(\"iso3166-2_code\")[\"deceased/pop\", \"confirmed/pop\"].describe()\n"
     ]
    },
    {
     "data": {
      "text/html": [
       "<div>\n",
       "<style scoped>\n",
       "    .dataframe tbody tr th:only-of-type {\n",
       "        vertical-align: middle;\n",
       "    }\n",
       "\n",
       "    .dataframe tbody tr th {\n",
       "        vertical-align: top;\n",
       "    }\n",
       "\n",
       "    .dataframe thead tr th {\n",
       "        text-align: left;\n",
       "    }\n",
       "\n",
       "    .dataframe thead tr:last-of-type th {\n",
       "        text-align: right;\n",
       "    }\n",
       "</style>\n",
       "<table border=\"1\" class=\"dataframe\">\n",
       "  <thead>\n",
       "    <tr>\n",
       "      <th></th>\n",
       "      <th colspan=\"8\" halign=\"left\">deceased/pop</th>\n",
       "      <th colspan=\"8\" halign=\"left\">confirmed/pop</th>\n",
       "    </tr>\n",
       "    <tr>\n",
       "      <th></th>\n",
       "      <th>count</th>\n",
       "      <th>mean</th>\n",
       "      <th>std</th>\n",
       "      <th>min</th>\n",
       "      <th>25%</th>\n",
       "      <th>50%</th>\n",
       "      <th>75%</th>\n",
       "      <th>max</th>\n",
       "      <th>count</th>\n",
       "      <th>mean</th>\n",
       "      <th>std</th>\n",
       "      <th>min</th>\n",
       "      <th>25%</th>\n",
       "      <th>50%</th>\n",
       "      <th>75%</th>\n",
       "      <th>max</th>\n",
       "    </tr>\n",
       "    <tr>\n",
       "      <th>iso3166-2_code</th>\n",
       "      <th></th>\n",
       "      <th></th>\n",
       "      <th></th>\n",
       "      <th></th>\n",
       "      <th></th>\n",
       "      <th></th>\n",
       "      <th></th>\n",
       "      <th></th>\n",
       "      <th></th>\n",
       "      <th></th>\n",
       "      <th></th>\n",
       "      <th></th>\n",
       "      <th></th>\n",
       "      <th></th>\n",
       "      <th></th>\n",
       "      <th></th>\n",
       "    </tr>\n",
       "  </thead>\n",
       "  <tbody>\n",
       "    <tr>\n",
       "      <th>DE-BB</th>\n",
       "      <td>1.0</td>\n",
       "      <td>0.001160</td>\n",
       "      <td>NaN</td>\n",
       "      <td>0.001160</td>\n",
       "      <td>0.001160</td>\n",
       "      <td>0.001160</td>\n",
       "      <td>0.001160</td>\n",
       "      <td>0.001160</td>\n",
       "      <td>1.0</td>\n",
       "      <td>0.029840</td>\n",
       "      <td>NaN</td>\n",
       "      <td>0.029840</td>\n",
       "      <td>0.029840</td>\n",
       "      <td>0.029840</td>\n",
       "      <td>0.029840</td>\n",
       "      <td>0.029840</td>\n",
       "    </tr>\n",
       "    <tr>\n",
       "      <th>DE-BE</th>\n",
       "      <td>1.0</td>\n",
       "      <td>0.000748</td>\n",
       "      <td>NaN</td>\n",
       "      <td>0.000748</td>\n",
       "      <td>0.000748</td>\n",
       "      <td>0.000748</td>\n",
       "      <td>0.000748</td>\n",
       "      <td>0.000748</td>\n",
       "      <td>1.0</td>\n",
       "      <td>0.034815</td>\n",
       "      <td>NaN</td>\n",
       "      <td>0.034815</td>\n",
       "      <td>0.034815</td>\n",
       "      <td>0.034815</td>\n",
       "      <td>0.034815</td>\n",
       "      <td>0.034815</td>\n",
       "    </tr>\n",
       "    <tr>\n",
       "      <th>DE-BW</th>\n",
       "      <td>1.0</td>\n",
       "      <td>0.000717</td>\n",
       "      <td>NaN</td>\n",
       "      <td>0.000717</td>\n",
       "      <td>0.000717</td>\n",
       "      <td>0.000717</td>\n",
       "      <td>0.000717</td>\n",
       "      <td>0.000717</td>\n",
       "      <td>1.0</td>\n",
       "      <td>0.028109</td>\n",
       "      <td>NaN</td>\n",
       "      <td>0.028109</td>\n",
       "      <td>0.028109</td>\n",
       "      <td>0.028109</td>\n",
       "      <td>0.028109</td>\n",
       "      <td>0.028109</td>\n",
       "    </tr>\n",
       "    <tr>\n",
       "      <th>DE-BY</th>\n",
       "      <td>1.0</td>\n",
       "      <td>0.000927</td>\n",
       "      <td>NaN</td>\n",
       "      <td>0.000927</td>\n",
       "      <td>0.000927</td>\n",
       "      <td>0.000927</td>\n",
       "      <td>0.000927</td>\n",
       "      <td>0.000927</td>\n",
       "      <td>1.0</td>\n",
       "      <td>0.032806</td>\n",
       "      <td>NaN</td>\n",
       "      <td>0.032806</td>\n",
       "      <td>0.032806</td>\n",
       "      <td>0.032806</td>\n",
       "      <td>0.032806</td>\n",
       "      <td>0.032806</td>\n",
       "    </tr>\n",
       "    <tr>\n",
       "      <th>DE-HB</th>\n",
       "      <td>1.0</td>\n",
       "      <td>0.000479</td>\n",
       "      <td>NaN</td>\n",
       "      <td>0.000479</td>\n",
       "      <td>0.000479</td>\n",
       "      <td>0.000479</td>\n",
       "      <td>0.000479</td>\n",
       "      <td>0.000479</td>\n",
       "      <td>1.0</td>\n",
       "      <td>0.025601</td>\n",
       "      <td>NaN</td>\n",
       "      <td>0.025601</td>\n",
       "      <td>0.025601</td>\n",
       "      <td>0.025601</td>\n",
       "      <td>0.025601</td>\n",
       "      <td>0.025601</td>\n",
       "    </tr>\n",
       "    <tr>\n",
       "      <th>DE-HE</th>\n",
       "      <td>1.0</td>\n",
       "      <td>0.000905</td>\n",
       "      <td>NaN</td>\n",
       "      <td>0.000905</td>\n",
       "      <td>0.000905</td>\n",
       "      <td>0.000905</td>\n",
       "      <td>0.000905</td>\n",
       "      <td>0.000905</td>\n",
       "      <td>1.0</td>\n",
       "      <td>0.029435</td>\n",
       "      <td>NaN</td>\n",
       "      <td>0.029435</td>\n",
       "      <td>0.029435</td>\n",
       "      <td>0.029435</td>\n",
       "      <td>0.029435</td>\n",
       "      <td>0.029435</td>\n",
       "    </tr>\n",
       "    <tr>\n",
       "      <th>DE-HH</th>\n",
       "      <td>1.0</td>\n",
       "      <td>0.000664</td>\n",
       "      <td>NaN</td>\n",
       "      <td>0.000664</td>\n",
       "      <td>0.000664</td>\n",
       "      <td>0.000664</td>\n",
       "      <td>0.000664</td>\n",
       "      <td>0.000664</td>\n",
       "      <td>1.0</td>\n",
       "      <td>0.027315</td>\n",
       "      <td>NaN</td>\n",
       "      <td>0.027315</td>\n",
       "      <td>0.027315</td>\n",
       "      <td>0.027315</td>\n",
       "      <td>0.027315</td>\n",
       "      <td>0.027315</td>\n",
       "    </tr>\n",
       "    <tr>\n",
       "      <th>DE-MV</th>\n",
       "      <td>1.0</td>\n",
       "      <td>0.000430</td>\n",
       "      <td>NaN</td>\n",
       "      <td>0.000430</td>\n",
       "      <td>0.000430</td>\n",
       "      <td>0.000430</td>\n",
       "      <td>0.000430</td>\n",
       "      <td>0.000430</td>\n",
       "      <td>1.0</td>\n",
       "      <td>0.014559</td>\n",
       "      <td>NaN</td>\n",
       "      <td>0.014559</td>\n",
       "      <td>0.014559</td>\n",
       "      <td>0.014559</td>\n",
       "      <td>0.014559</td>\n",
       "      <td>0.014559</td>\n",
       "    </tr>\n",
       "    <tr>\n",
       "      <th>DE-NI</th>\n",
       "      <td>1.0</td>\n",
       "      <td>0.000514</td>\n",
       "      <td>NaN</td>\n",
       "      <td>0.000514</td>\n",
       "      <td>0.000514</td>\n",
       "      <td>0.000514</td>\n",
       "      <td>0.000514</td>\n",
       "      <td>0.000514</td>\n",
       "      <td>1.0</td>\n",
       "      <td>0.019943</td>\n",
       "      <td>NaN</td>\n",
       "      <td>0.019943</td>\n",
       "      <td>0.019943</td>\n",
       "      <td>0.019943</td>\n",
       "      <td>0.019943</td>\n",
       "      <td>0.019943</td>\n",
       "    </tr>\n",
       "    <tr>\n",
       "      <th>DE-NW</th>\n",
       "      <td>1.0</td>\n",
       "      <td>0.000704</td>\n",
       "      <td>NaN</td>\n",
       "      <td>0.000704</td>\n",
       "      <td>0.000704</td>\n",
       "      <td>0.000704</td>\n",
       "      <td>0.000704</td>\n",
       "      <td>0.000704</td>\n",
       "      <td>1.0</td>\n",
       "      <td>0.029084</td>\n",
       "      <td>NaN</td>\n",
       "      <td>0.029084</td>\n",
       "      <td>0.029084</td>\n",
       "      <td>0.029084</td>\n",
       "      <td>0.029084</td>\n",
       "      <td>0.029084</td>\n",
       "    </tr>\n",
       "    <tr>\n",
       "      <th>DE-RP</th>\n",
       "      <td>1.0</td>\n",
       "      <td>0.000733</td>\n",
       "      <td>NaN</td>\n",
       "      <td>0.000733</td>\n",
       "      <td>0.000733</td>\n",
       "      <td>0.000733</td>\n",
       "      <td>0.000733</td>\n",
       "      <td>0.000733</td>\n",
       "      <td>1.0</td>\n",
       "      <td>0.024510</td>\n",
       "      <td>NaN</td>\n",
       "      <td>0.024510</td>\n",
       "      <td>0.024510</td>\n",
       "      <td>0.024510</td>\n",
       "      <td>0.024510</td>\n",
       "      <td>0.024510</td>\n",
       "    </tr>\n",
       "    <tr>\n",
       "      <th>DE-SH</th>\n",
       "      <td>1.0</td>\n",
       "      <td>0.000418</td>\n",
       "      <td>NaN</td>\n",
       "      <td>0.000418</td>\n",
       "      <td>0.000418</td>\n",
       "      <td>0.000418</td>\n",
       "      <td>0.000418</td>\n",
       "      <td>0.000418</td>\n",
       "      <td>1.0</td>\n",
       "      <td>0.014193</td>\n",
       "      <td>NaN</td>\n",
       "      <td>0.014193</td>\n",
       "      <td>0.014193</td>\n",
       "      <td>0.014193</td>\n",
       "      <td>0.014193</td>\n",
       "      <td>0.014193</td>\n",
       "    </tr>\n",
       "    <tr>\n",
       "      <th>DE-SL</th>\n",
       "      <td>1.0</td>\n",
       "      <td>0.000856</td>\n",
       "      <td>NaN</td>\n",
       "      <td>0.000856</td>\n",
       "      <td>0.000856</td>\n",
       "      <td>0.000856</td>\n",
       "      <td>0.000856</td>\n",
       "      <td>0.000856</td>\n",
       "      <td>1.0</td>\n",
       "      <td>0.028325</td>\n",
       "      <td>NaN</td>\n",
       "      <td>0.028325</td>\n",
       "      <td>0.028325</td>\n",
       "      <td>0.028325</td>\n",
       "      <td>0.028325</td>\n",
       "      <td>0.028325</td>\n",
       "    </tr>\n",
       "    <tr>\n",
       "      <th>DE-SN</th>\n",
       "      <td>1.0</td>\n",
       "      <td>0.001829</td>\n",
       "      <td>NaN</td>\n",
       "      <td>0.001829</td>\n",
       "      <td>0.001829</td>\n",
       "      <td>0.001829</td>\n",
       "      <td>0.001829</td>\n",
       "      <td>0.001829</td>\n",
       "      <td>1.0</td>\n",
       "      <td>0.046792</td>\n",
       "      <td>NaN</td>\n",
       "      <td>0.046792</td>\n",
       "      <td>0.046792</td>\n",
       "      <td>0.046792</td>\n",
       "      <td>0.046792</td>\n",
       "      <td>0.046792</td>\n",
       "    </tr>\n",
       "    <tr>\n",
       "      <th>DE-ST</th>\n",
       "      <td>1.0</td>\n",
       "      <td>0.001038</td>\n",
       "      <td>NaN</td>\n",
       "      <td>0.001038</td>\n",
       "      <td>0.001038</td>\n",
       "      <td>0.001038</td>\n",
       "      <td>0.001038</td>\n",
       "      <td>0.001038</td>\n",
       "      <td>1.0</td>\n",
       "      <td>0.026570</td>\n",
       "      <td>NaN</td>\n",
       "      <td>0.026570</td>\n",
       "      <td>0.026570</td>\n",
       "      <td>0.026570</td>\n",
       "      <td>0.026570</td>\n",
       "      <td>0.026570</td>\n",
       "    </tr>\n",
       "    <tr>\n",
       "      <th>DE-TH</th>\n",
       "      <td>1.0</td>\n",
       "      <td>0.001279</td>\n",
       "      <td>NaN</td>\n",
       "      <td>0.001279</td>\n",
       "      <td>0.001279</td>\n",
       "      <td>0.001279</td>\n",
       "      <td>0.001279</td>\n",
       "      <td>0.001279</td>\n",
       "      <td>1.0</td>\n",
       "      <td>0.034390</td>\n",
       "      <td>NaN</td>\n",
       "      <td>0.034390</td>\n",
       "      <td>0.034390</td>\n",
       "      <td>0.034390</td>\n",
       "      <td>0.034390</td>\n",
       "      <td>0.034390</td>\n",
       "    </tr>\n",
       "  </tbody>\n",
       "</table>\n",
       "</div>"
      ],
      "text/plain": [
       "               deceased/pop                                              \\\n",
       "                      count      mean std       min       25%       50%   \n",
       "iso3166-2_code                                                            \n",
       "DE-BB                   1.0  0.001160 NaN  0.001160  0.001160  0.001160   \n",
       "DE-BE                   1.0  0.000748 NaN  0.000748  0.000748  0.000748   \n",
       "DE-BW                   1.0  0.000717 NaN  0.000717  0.000717  0.000717   \n",
       "DE-BY                   1.0  0.000927 NaN  0.000927  0.000927  0.000927   \n",
       "DE-HB                   1.0  0.000479 NaN  0.000479  0.000479  0.000479   \n",
       "DE-HE                   1.0  0.000905 NaN  0.000905  0.000905  0.000905   \n",
       "DE-HH                   1.0  0.000664 NaN  0.000664  0.000664  0.000664   \n",
       "DE-MV                   1.0  0.000430 NaN  0.000430  0.000430  0.000430   \n",
       "DE-NI                   1.0  0.000514 NaN  0.000514  0.000514  0.000514   \n",
       "DE-NW                   1.0  0.000704 NaN  0.000704  0.000704  0.000704   \n",
       "DE-RP                   1.0  0.000733 NaN  0.000733  0.000733  0.000733   \n",
       "DE-SH                   1.0  0.000418 NaN  0.000418  0.000418  0.000418   \n",
       "DE-SL                   1.0  0.000856 NaN  0.000856  0.000856  0.000856   \n",
       "DE-SN                   1.0  0.001829 NaN  0.001829  0.001829  0.001829   \n",
       "DE-ST                   1.0  0.001038 NaN  0.001038  0.001038  0.001038   \n",
       "DE-TH                   1.0  0.001279 NaN  0.001279  0.001279  0.001279   \n",
       "\n",
       "                                   confirmed/pop                          \\\n",
       "                     75%       max         count      mean std       min   \n",
       "iso3166-2_code                                                             \n",
       "DE-BB           0.001160  0.001160           1.0  0.029840 NaN  0.029840   \n",
       "DE-BE           0.000748  0.000748           1.0  0.034815 NaN  0.034815   \n",
       "DE-BW           0.000717  0.000717           1.0  0.028109 NaN  0.028109   \n",
       "DE-BY           0.000927  0.000927           1.0  0.032806 NaN  0.032806   \n",
       "DE-HB           0.000479  0.000479           1.0  0.025601 NaN  0.025601   \n",
       "DE-HE           0.000905  0.000905           1.0  0.029435 NaN  0.029435   \n",
       "DE-HH           0.000664  0.000664           1.0  0.027315 NaN  0.027315   \n",
       "DE-MV           0.000430  0.000430           1.0  0.014559 NaN  0.014559   \n",
       "DE-NI           0.000514  0.000514           1.0  0.019943 NaN  0.019943   \n",
       "DE-NW           0.000704  0.000704           1.0  0.029084 NaN  0.029084   \n",
       "DE-RP           0.000733  0.000733           1.0  0.024510 NaN  0.024510   \n",
       "DE-SH           0.000418  0.000418           1.0  0.014193 NaN  0.014193   \n",
       "DE-SL           0.000856  0.000856           1.0  0.028325 NaN  0.028325   \n",
       "DE-SN           0.001829  0.001829           1.0  0.046792 NaN  0.046792   \n",
       "DE-ST           0.001038  0.001038           1.0  0.026570 NaN  0.026570   \n",
       "DE-TH           0.001279  0.001279           1.0  0.034390 NaN  0.034390   \n",
       "\n",
       "                                                        \n",
       "                     25%       50%       75%       max  \n",
       "iso3166-2_code                                          \n",
       "DE-BB           0.029840  0.029840  0.029840  0.029840  \n",
       "DE-BE           0.034815  0.034815  0.034815  0.034815  \n",
       "DE-BW           0.028109  0.028109  0.028109  0.028109  \n",
       "DE-BY           0.032806  0.032806  0.032806  0.032806  \n",
       "DE-HB           0.025601  0.025601  0.025601  0.025601  \n",
       "DE-HE           0.029435  0.029435  0.029435  0.029435  \n",
       "DE-HH           0.027315  0.027315  0.027315  0.027315  \n",
       "DE-MV           0.014559  0.014559  0.014559  0.014559  \n",
       "DE-NI           0.019943  0.019943  0.019943  0.019943  \n",
       "DE-NW           0.029084  0.029084  0.029084  0.029084  \n",
       "DE-RP           0.024510  0.024510  0.024510  0.024510  \n",
       "DE-SH           0.014193  0.014193  0.014193  0.014193  \n",
       "DE-SL           0.028325  0.028325  0.028325  0.028325  \n",
       "DE-SN           0.046792  0.046792  0.046792  0.046792  \n",
       "DE-ST           0.026570  0.026570  0.026570  0.026570  \n",
       "DE-TH           0.034390  0.034390  0.034390  0.034390  "
      ]
     },
     "execution_count": 34,
     "metadata": {},
     "output_type": "execute_result"
    }
   ],
   "source": [
    "corona_by_region.groupby(\"iso3166-2_code\")[\"deceased/pop\", \"confirmed/pop\"].describe()"
   ]
  },
  {
   "cell_type": "code",
   "execution_count": 35,
   "metadata": {},
   "outputs": [
    {
     "data": {
      "image/png": "[encoded data removed]",
      "text/plain": [
       "<Figure size 1080x432 with 1 Axes>"
      ]
     },
     "metadata": {
      "needs_background": "light"
     },
     "output_type": "display_data"
    }
   ],
   "source": [
    "rcParams['figure.figsize'] = 15,6;\n",
    "ax = sns.barplot(x=\"confirmed/pop\", y=\"iso3166-2_code\", data=corona_by_region).set_title('The number of confirmed cases by region per capita');"
   ]
  },
  {
   "cell_type": "code",
   "execution_count": 36,
   "metadata": {},
   "outputs": [
    {
     "data": {
      "image/png": "[encoded data removed]",
      "text/plain": [
       "<Figure size 1080x432 with 1 Axes>"
      ]
     },
     "metadata": {
      "needs_background": "light"
     },
     "output_type": "display_data"
    }
   ],
   "source": [
    "ax = sns.barplot(x=\"deceased/pop\", y=\"iso3166-2_code\", data=corona_by_region).set_title('The number of deceased cases by region per capita')"
   ]
  },
  {
   "cell_type": "markdown",
   "metadata": {},
   "source": [
    "### Per Month"
   ]
  },
  {
   "cell_type": "code",
   "execution_count": 37,
   "metadata": {},
   "outputs": [
    {
     "data": {
      "text/html": [
       "<div>\n",
       "<style scoped>\n",
       "    .dataframe tbody tr th:only-of-type {\n",
       "        vertical-align: middle;\n",
       "    }\n",
       "\n",
       "    .dataframe tbody tr th {\n",
       "        vertical-align: top;\n",
       "    }\n",
       "\n",
       "    .dataframe thead th {\n",
       "        text-align: right;\n",
       "    }\n",
       "</style>\n",
       "<table border=\"1\" class=\"dataframe\">\n",
       "  <thead>\n",
       "    <tr style=\"text-align: right;\">\n",
       "      <th></th>\n",
       "      <th>confirmed_addition</th>\n",
       "      <th>deceased_addition</th>\n",
       "    </tr>\n",
       "    <tr>\n",
       "      <th>date</th>\n",
       "      <th></th>\n",
       "      <th></th>\n",
       "    </tr>\n",
       "  </thead>\n",
       "  <tbody>\n",
       "    <tr>\n",
       "      <th>1</th>\n",
       "      <td>18</td>\n",
       "      <td>1</td>\n",
       "    </tr>\n",
       "    <tr>\n",
       "      <th>2</th>\n",
       "      <td>121</td>\n",
       "      <td>0</td>\n",
       "    </tr>\n",
       "    <tr>\n",
       "      <th>3</th>\n",
       "      <td>73986</td>\n",
       "      <td>2682</td>\n",
       "    </tr>\n",
       "    <tr>\n",
       "      <th>4</th>\n",
       "      <td>88311</td>\n",
       "      <td>5713</td>\n",
       "    </tr>\n",
       "    <tr>\n",
       "      <th>5</th>\n",
       "      <td>19792</td>\n",
       "      <td>694</td>\n",
       "    </tr>\n",
       "    <tr>\n",
       "      <th>6</th>\n",
       "      <td>12926</td>\n",
       "      <td>146</td>\n",
       "    </tr>\n",
       "    <tr>\n",
       "      <th>7</th>\n",
       "      <td>15164</td>\n",
       "      <td>139</td>\n",
       "    </tr>\n",
       "    <tr>\n",
       "      <th>8</th>\n",
       "      <td>34485</td>\n",
       "      <td>116</td>\n",
       "    </tr>\n",
       "    <tr>\n",
       "      <th>9</th>\n",
       "      <td>49307</td>\n",
       "      <td>334</td>\n",
       "    </tr>\n",
       "    <tr>\n",
       "      <th>10</th>\n",
       "      <td>252894</td>\n",
       "      <td>3143</td>\n",
       "    </tr>\n",
       "    <tr>\n",
       "      <th>11</th>\n",
       "      <td>529448</td>\n",
       "      <td>11430</td>\n",
       "    </tr>\n",
       "    <tr>\n",
       "      <th>12</th>\n",
       "      <td>680114</td>\n",
       "      <td>24473</td>\n",
       "    </tr>\n",
       "    <tr>\n",
       "      <th>1</th>\n",
       "      <td>468025</td>\n",
       "      <td>16894</td>\n",
       "    </tr>\n",
       "    <tr>\n",
       "      <th>2</th>\n",
       "      <td>166269</td>\n",
       "      <td>2137</td>\n",
       "    </tr>\n",
       "  </tbody>\n",
       "</table>\n",
       "</div>"
      ],
      "text/plain": [
       "      confirmed_addition  deceased_addition\n",
       "date                                       \n",
       "1                     18                  1\n",
       "2                    121                  0\n",
       "3                  73986               2682\n",
       "4                  88311               5713\n",
       "5                  19792                694\n",
       "6                  12926                146\n",
       "7                  15164                139\n",
       "8                  34485                116\n",
       "9                  49307                334\n",
       "10                252894               3143\n",
       "11                529448              11430\n",
       "12                680114              24473\n",
       "1                 468025              16894\n",
       "2                 166269               2137"
      ]
     },
     "execution_count": 37,
     "metadata": {},
     "output_type": "execute_result"
    }
   ],
   "source": [
    "corona_date = pd.to_datetime(raw_data['de_corona']['date'])\n",
    "corona_2020=pd.DataFrame(raw_data['de_corona'][corona_date.dt.year == 2020])\n",
    "corona_2021=pd.DataFrame(raw_data['de_corona'][corona_date.dt.year == 2021])\n",
    "\n",
    "corona_2021_month_sum = pd.DataFrame(corona_2021.groupby(corona_date.dt.month).sum())\n",
    "corona_month_sum = pd.DataFrame(corona_2020.groupby(corona_date.dt.month).sum())\n",
    "corona_month_mean = pd.DataFrame(corona_2020.groupby(corona_date.dt.month).mean())\n",
    "#corona_month_mean\n",
    "right_one = corona_month_sum.append(corona_2021_month_sum)\n",
    "right_one"
   ]
  },
  {
   "cell_type": "code",
   "execution_count": 38,
   "metadata": {},
   "outputs": [
    {
     "data": {
      "image/png": "[encoded data removed]",
      "text/plain": [
       "<Figure size 1152x288 with 1 Axes>"
      ]
     },
     "metadata": {
      "needs_background": "light"
     },
     "output_type": "display_data"
    }
   ],
   "source": [
    "corona_total_bar_plot('confirmed_addition',right_one[1:])"
   ]
  },
  {
   "cell_type": "code",
   "execution_count": 39,
   "metadata": {},
   "outputs": [
    {
     "data": {
      "image/png": "[encoded data removed]",
      "text/plain": [
       "<Figure size 1152x288 with 1 Axes>"
      ]
     },
     "metadata": {
      "needs_background": "light"
     },
     "output_type": "display_data"
    }
   ],
   "source": [
    "corona_total_bar_plot('deceased_addition',right_one[1:])"
   ]
  },
  {
   "cell_type": "markdown",
   "metadata": {},
   "source": [
    "### Per Region"
   ]
  },
  {
   "cell_type": "code",
   "execution_count": 40,
   "metadata": {},
   "outputs": [
    {
     "data": {
      "image/png": "[encoded data removed]",
      "text/plain": [
       "<Figure size 1440x432 with 1 Axes>"
      ]
     },
     "metadata": {
      "needs_background": "light"
     },
     "output_type": "display_data"
    }
   ],
   "source": [
    "corona_bar_plot(corona_by_region['iso3166-2_code'],corona_by_region['confirmed_addition'],'Confirmed Corona Cases per Region') #potential use"
   ]
  },
  {
   "cell_type": "code",
   "execution_count": 41,
   "metadata": {},
   "outputs": [
    {
     "data": {
      "image/png": "[encoded data removed]",
      "text/plain": [
       "<Figure size 1440x432 with 1 Axes>"
      ]
     },
     "metadata": {
      "needs_background": "light"
     },
     "output_type": "display_data"
    }
   ],
   "source": [
    "corona_bar_plot(corona_by_region['iso3166-2_code'],corona_by_region['deceased_addition'],'Deceased Corona Cases per Region') #potential use"
   ]
  },
  {
   "cell_type": "markdown",
   "metadata": {},
   "source": [
    "## Weather"
   ]
  },
  {
   "cell_type": "code",
   "execution_count": 42,
   "metadata": {},
   "outputs": [],
   "source": [
    "#weather_date = pd.to_datetime(weather_data_de['date'])\n",
    "#weather_2020=pd.DataFrame(weather_data_de[weather_date.dt.year == 2020])\n",
    "#weather_2021=pd.DataFrame(weather_data_de[weather_date.dt.year == 2021])\n",
    "\n",
    "#weather_month_2020 = pd.DataFrame(weather_2020.groupby(weather_date.dt.month).mean())\n",
    "#weather_month_2021 = pd.DataFrame(weather_2021.groupby(weather_date.dt.month).mean())\n",
    "#right_weather_one = weather_month_2020.append(weather_month_2021)\n",
    "#celsius = pd.DataFrame(weather_data_de['TemperatureAboveGround'].subtract(273.15))\n",
    "#right_weather_one['Temp_Celsius'] = celsius\n",
    "#right_weather_one"
   ]
  },
  {
   "cell_type": "code",
   "execution_count": 43,
   "metadata": {},
   "outputs": [
    {
     "data": {
      "text/html": [
       "<div>\n",
       "<style scoped>\n",
       "    .dataframe tbody tr th:only-of-type {\n",
       "        vertical-align: middle;\n",
       "    }\n",
       "\n",
       "    .dataframe tbody tr th {\n",
       "        vertical-align: top;\n",
       "    }\n",
       "\n",
       "    .dataframe thead th {\n",
       "        text-align: right;\n",
       "    }\n",
       "</style>\n",
       "<table border=\"1\" class=\"dataframe\">\n",
       "  <thead>\n",
       "    <tr style=\"text-align: right;\">\n",
       "      <th></th>\n",
       "      <th>RelativeHumiditySurface</th>\n",
       "      <th>SolarRadiation</th>\n",
       "      <th>Surfacepressure</th>\n",
       "      <th>TemperatureAboveGround</th>\n",
       "      <th>Totalprecipitation</th>\n",
       "      <th>UVIndex</th>\n",
       "      <th>WindSpeed</th>\n",
       "      <th>Temp_Celsius</th>\n",
       "    </tr>\n",
       "    <tr>\n",
       "      <th>date</th>\n",
       "      <th></th>\n",
       "      <th></th>\n",
       "      <th></th>\n",
       "      <th></th>\n",
       "      <th></th>\n",
       "      <th></th>\n",
       "      <th></th>\n",
       "      <th></th>\n",
       "    </tr>\n",
       "  </thead>\n",
       "  <tbody>\n",
       "    <tr>\n",
       "      <th>2020-02-13</th>\n",
       "      <td>83.550416</td>\n",
       "      <td>9.232296e+05</td>\n",
       "      <td>2.361713e+06</td>\n",
       "      <td>276.080346</td>\n",
       "      <td>5.424938e-03</td>\n",
       "      <td>3.045868</td>\n",
       "      <td>4.677214</td>\n",
       "      <td>2.930346</td>\n",
       "    </tr>\n",
       "    <tr>\n",
       "      <th>2020-02-14</th>\n",
       "      <td>87.038057</td>\n",
       "      <td>1.189954e+06</td>\n",
       "      <td>2.385722e+06</td>\n",
       "      <td>277.740734</td>\n",
       "      <td>1.314437e-03</td>\n",
       "      <td>1.875386</td>\n",
       "      <td>3.260335</td>\n",
       "      <td>4.590734</td>\n",
       "    </tr>\n",
       "    <tr>\n",
       "      <th>2020-02-15</th>\n",
       "      <td>78.429711</td>\n",
       "      <td>2.849352e+06</td>\n",
       "      <td>2.388378e+06</td>\n",
       "      <td>279.481576</td>\n",
       "      <td>1.507500e-04</td>\n",
       "      <td>3.958054</td>\n",
       "      <td>4.619486</td>\n",
       "      <td>6.331576</td>\n",
       "    </tr>\n",
       "    <tr>\n",
       "      <th>2020-02-16</th>\n",
       "      <td>63.587472</td>\n",
       "      <td>7.130768e+05</td>\n",
       "      <td>2.360307e+06</td>\n",
       "      <td>284.575068</td>\n",
       "      <td>4.384375e-03</td>\n",
       "      <td>3.224329</td>\n",
       "      <td>7.988258</td>\n",
       "      <td>11.425068</td>\n",
       "    </tr>\n",
       "    <tr>\n",
       "      <th>2020-02-17</th>\n",
       "      <td>73.292063</td>\n",
       "      <td>1.628548e+06</td>\n",
       "      <td>2.373769e+06</td>\n",
       "      <td>280.940914</td>\n",
       "      <td>3.835563e-03</td>\n",
       "      <td>3.951442</td>\n",
       "      <td>6.621854</td>\n",
       "      <td>7.790914</td>\n",
       "    </tr>\n",
       "    <tr>\n",
       "      <th>...</th>\n",
       "      <td>...</td>\n",
       "      <td>...</td>\n",
       "      <td>...</td>\n",
       "      <td>...</td>\n",
       "      <td>...</td>\n",
       "      <td>...</td>\n",
       "      <td>...</td>\n",
       "      <td>...</td>\n",
       "    </tr>\n",
       "    <tr>\n",
       "      <th>2021-02-17</th>\n",
       "      <td>88.572442</td>\n",
       "      <td>1.161559e+06</td>\n",
       "      <td>2.382257e+06</td>\n",
       "      <td>278.646276</td>\n",
       "      <td>1.361375e-03</td>\n",
       "      <td>2.553174</td>\n",
       "      <td>4.053323</td>\n",
       "      <td>5.496276</td>\n",
       "    </tr>\n",
       "    <tr>\n",
       "      <th>2021-02-18</th>\n",
       "      <td>81.035245</td>\n",
       "      <td>2.263309e+06</td>\n",
       "      <td>2.377988e+06</td>\n",
       "      <td>279.161078</td>\n",
       "      <td>2.961500e-03</td>\n",
       "      <td>4.127690</td>\n",
       "      <td>3.631289</td>\n",
       "      <td>6.011078</td>\n",
       "    </tr>\n",
       "    <tr>\n",
       "      <th>2021-02-19</th>\n",
       "      <td>80.723951</td>\n",
       "      <td>4.444755e+06</td>\n",
       "      <td>2.384026e+06</td>\n",
       "      <td>278.902828</td>\n",
       "      <td>9.605000e-04</td>\n",
       "      <td>4.426027</td>\n",
       "      <td>3.576306</td>\n",
       "      <td>5.752828</td>\n",
       "    </tr>\n",
       "    <tr>\n",
       "      <th>2021-02-20</th>\n",
       "      <td>76.146906</td>\n",
       "      <td>5.662742e+06</td>\n",
       "      <td>2.384816e+06</td>\n",
       "      <td>280.868363</td>\n",
       "      <td>2.562500e-06</td>\n",
       "      <td>5.425528</td>\n",
       "      <td>3.224941</td>\n",
       "      <td>7.718363</td>\n",
       "    </tr>\n",
       "    <tr>\n",
       "      <th>2021-02-21</th>\n",
       "      <td>70.593190</td>\n",
       "      <td>7.409050e+06</td>\n",
       "      <td>2.384982e+06</td>\n",
       "      <td>281.739434</td>\n",
       "      <td>5.625000e-07</td>\n",
       "      <td>6.094113</td>\n",
       "      <td>2.966055</td>\n",
       "      <td>8.589434</td>\n",
       "    </tr>\n",
       "  </tbody>\n",
       "</table>\n",
       "<p>375 rows × 8 columns</p>\n",
       "</div>"
      ],
      "text/plain": [
       "            RelativeHumiditySurface  SolarRadiation  Surfacepressure  \\\n",
       "date                                                                   \n",
       "2020-02-13                83.550416    9.232296e+05     2.361713e+06   \n",
       "2020-02-14                87.038057    1.189954e+06     2.385722e+06   \n",
       "2020-02-15                78.429711    2.849352e+06     2.388378e+06   \n",
       "2020-02-16                63.587472    7.130768e+05     2.360307e+06   \n",
       "2020-02-17                73.292063    1.628548e+06     2.373769e+06   \n",
       "...                             ...             ...              ...   \n",
       "2021-02-17                88.572442    1.161559e+06     2.382257e+06   \n",
       "2021-02-18                81.035245    2.263309e+06     2.377988e+06   \n",
       "2021-02-19                80.723951    4.444755e+06     2.384026e+06   \n",
       "2021-02-20                76.146906    5.662742e+06     2.384816e+06   \n",
       "2021-02-21                70.593190    7.409050e+06     2.384982e+06   \n",
       "\n",
       "            TemperatureAboveGround  Totalprecipitation   UVIndex  WindSpeed  \\\n",
       "date                                                                          \n",
       "2020-02-13              276.080346        5.424938e-03  3.045868   4.677214   \n",
       "2020-02-14              277.740734        1.314437e-03  1.875386   3.260335   \n",
       "2020-02-15              279.481576        1.507500e-04  3.958054   4.619486   \n",
       "2020-02-16              284.575068        4.384375e-03  3.224329   7.988258   \n",
       "2020-02-17              280.940914        3.835563e-03  3.951442   6.621854   \n",
       "...                            ...                 ...       ...        ...   \n",
       "2021-02-17              278.646276        1.361375e-03  2.553174   4.053323   \n",
       "2021-02-18              279.161078        2.961500e-03  4.127690   3.631289   \n",
       "2021-02-19              278.902828        9.605000e-04  4.426027   3.576306   \n",
       "2021-02-20              280.868363        2.562500e-06  5.425528   3.224941   \n",
       "2021-02-21              281.739434        5.625000e-07  6.094113   2.966055   \n",
       "\n",
       "            Temp_Celsius  \n",
       "date                      \n",
       "2020-02-13      2.930346  \n",
       "2020-02-14      4.590734  \n",
       "2020-02-15      6.331576  \n",
       "2020-02-16     11.425068  \n",
       "2020-02-17      7.790914  \n",
       "...                  ...  \n",
       "2021-02-17      5.496276  \n",
       "2021-02-18      6.011078  \n",
       "2021-02-19      5.752828  \n",
       "2021-02-20      7.718363  \n",
       "2021-02-21      8.589434  \n",
       "\n",
       "[375 rows x 8 columns]"
      ]
     },
     "execution_count": 43,
     "metadata": {},
     "output_type": "execute_result"
    }
   ],
   "source": [
    "#grouping weather conditions per day\n",
    "weather_date = pd.to_datetime(weather_data_de['date'])\n",
    "weather_daily = pd.DataFrame(weather_data_de.groupby(weather_date).mean())\n",
    "weather_daily"
   ]
  },
  {
   "cell_type": "code",
   "execution_count": 44,
   "metadata": {},
   "outputs": [
    {
     "name": "stderr",
     "output_type": "stream",
     "text": [
      "findfont: Font family ['Helvetica'] not found. Falling back to DejaVu Sans.\n"
     ]
    },
    {
     "data": {
      "image/png": "[encoded data removed]",
      "text/plain": [
       "<Figure size 1152x288 with 3 Axes>"
      ]
     },
     "metadata": {
      "needs_background": "light"
     },
     "output_type": "display_data"
    }
   ],
   "source": [
    "heat_calendar(weather_daily,'RelativeHumiditySurface','Blues_r','Relative Humidity Surface Map');"
   ]
  },
  {
   "cell_type": "code",
   "execution_count": 45,
   "metadata": {},
   "outputs": [
    {
     "data": {
      "image/png": "[encoded data removed]",
      "text/plain": [
       "<Figure size 1152x288 with 3 Axes>"
      ]
     },
     "metadata": {
      "needs_background": "light"
     },
     "output_type": "display_data"
    }
   ],
   "source": [
    "heat_calendar(weather_daily,'SolarRadiation','Oranges','Solar Radiation Map');"
   ]
  },
  {
   "cell_type": "code",
   "execution_count": 46,
   "metadata": {},
   "outputs": [
    {
     "data": {
      "image/png": "[encoded data removed]",
      "text/plain": [
       "<Figure size 1152x288 with 3 Axes>"
      ]
     },
     "metadata": {
      "needs_background": "light"
     },
     "output_type": "display_data"
    }
   ],
   "source": [
    "heat_calendar(weather_daily,'Surfacepressure','Oranges','Surface Pressure Map');"
   ]
  },
  {
   "cell_type": "code",
   "execution_count": 47,
   "metadata": {},
   "outputs": [
    {
     "data": {
      "image/png": "[encoded data removed]",
      "text/plain": [
       "<Figure size 1152x288 with 3 Axes>"
      ]
     },
     "metadata": {
      "needs_background": "light"
     },
     "output_type": "display_data"
    }
   ],
   "source": [
    "heat_calendar(weather_daily,'TemperatureAboveGround','Oranges','TemperatureAboveGround Map');"
   ]
  },
  {
   "cell_type": "code",
   "execution_count": 48,
   "metadata": {},
   "outputs": [
    {
     "data": {
      "image/png": "[encoded data removed]",
      "text/plain": [
       "<Figure size 1152x288 with 3 Axes>"
      ]
     },
     "metadata": {
      "needs_background": "light"
     },
     "output_type": "display_data"
    }
   ],
   "source": [
    "heat_calendar(weather_daily,'Totalprecipitation','Oranges','Total Precipitation Map');"
   ]
  },
  {
   "cell_type": "code",
   "execution_count": 49,
   "metadata": {},
   "outputs": [
    {
     "data": {
      "image/png": "[encoded data removed]",
      "text/plain": [
       "<Figure size 1152x288 with 3 Axes>"
      ]
     },
     "metadata": {
      "needs_background": "light"
     },
     "output_type": "display_data"
    }
   ],
   "source": [
    "#description\n",
    "heat_calendar(weather_daily,'UVIndex','Oranges','UVIndex Map');"
   ]
  },
  {
   "cell_type": "code",
   "execution_count": 50,
   "metadata": {},
   "outputs": [
    {
     "data": {
      "image/png": "[encoded data removed]",
      "text/plain": [
       "<Figure size 1152x288 with 3 Axes>"
      ]
     },
     "metadata": {
      "needs_background": "light"
     },
     "output_type": "display_data"
    }
   ],
   "source": [
    "heat_calendar(weather_daily,'Temp_Celsius','Oranges','Temp Celsius Map');"
   ]
  },
  {
   "cell_type": "markdown",
   "metadata": {},
   "source": [
    "# Task 2 - Associations"
   ]
  },
  {
   "cell_type": "markdown",
   "metadata": {},
   "source": [
    "## Daily Associations"
   ]
  },
  {
   "cell_type": "code",
   "execution_count": 51,
   "metadata": {},
   "outputs": [],
   "source": [
    "weather_headers = ['RelativeHumiditySurface', 'SolarRadiation', 'Surfacepressure', 'TemperatureAboveGround',\n",
    "             'Totalprecipitation', 'UVIndex', 'WindSpeed','Temp_Celsius']\n",
    "significance_threshold = 0.001 / (len(weather_headers) * 3)"
   ]
  },
  {
   "cell_type": "markdown",
   "metadata": {},
   "source": [
    "### Pearson association for daily_corona_weather for original dataset"
   ]
  },
  {
   "cell_type": "markdown",
   "metadata": {},
   "source": [
    "Testing for linearity in the data"
   ]
  },
  {
   "cell_type": "code",
   "execution_count": 74,
   "metadata": {},
   "outputs": [
    {
     "name": "stdout",
     "output_type": "stream",
     "text": [
      "RelativeHumiditySurface \n",
      " 0.34264     1.6645350728481603e-153 True \n",
      "\n",
      "SolarRadiation \n",
      " -0.34636     4.9463537017058293e-157 True \n",
      "\n",
      "Surfacepressure \n",
      " -0.25441     3.724268829474388e-83 True \n",
      "\n",
      "TemperatureAboveGround \n",
      " -0.36396     2.2266597734583237e-174 True \n",
      "\n",
      "Totalprecipitation \n",
      " 0.04607     0.0005757858841694551 False \n",
      "\n",
      "UVIndex \n",
      " -0.42445     6.229321949127303e-243 True \n",
      "\n",
      "WindSpeed \n",
      " -0.03342     0.0125469030820965 False \n",
      "\n",
      "Temp_Celsius \n",
      " -0.36396     2.2266597734583237e-174 True \n",
      "\n"
     ]
    },
    {
     "ename": "KeyError",
     "evalue": "'const'",
     "output_type": "error",
     "traceback": [
      "\u001b[1;31m---------------------------------------------------------------------------\u001b[0m",
      "\u001b[1;31mKeyError\u001b[0m                                  Traceback (most recent call last)",
      "\u001b[1;32m~\\anaconda3\\lib\\site-packages\\pandas\\core\\indexes\\base.py\u001b[0m in \u001b[0;36mget_loc\u001b[1;34m(self, key, method, tolerance)\u001b[0m\n\u001b[0;32m   2894\u001b[0m             \u001b[1;32mtry\u001b[0m\u001b[1;33m:\u001b[0m\u001b[1;33m\u001b[0m\u001b[1;33m\u001b[0m\u001b[0m\n\u001b[1;32m-> 2895\u001b[1;33m                 \u001b[1;32mreturn\u001b[0m \u001b[0mself\u001b[0m\u001b[1;33m.\u001b[0m\u001b[0m_engine\u001b[0m\u001b[1;33m.\u001b[0m\u001b[0mget_loc\u001b[0m\u001b[1;33m(\u001b[0m\u001b[0mcasted_key\u001b[0m\u001b[1;33m)\u001b[0m\u001b[1;33m\u001b[0m\u001b[1;33m\u001b[0m\u001b[0m\n\u001b[0m\u001b[0;32m   2896\u001b[0m             \u001b[1;32mexcept\u001b[0m \u001b[0mKeyError\u001b[0m \u001b[1;32mas\u001b[0m \u001b[0merr\u001b[0m\u001b[1;33m:\u001b[0m\u001b[1;33m\u001b[0m\u001b[1;33m\u001b[0m\u001b[0m\n",
      "\u001b[1;32mpandas\\_libs\\index.pyx\u001b[0m in \u001b[0;36mpandas._libs.index.IndexEngine.get_loc\u001b[1;34m()\u001b[0m\n",
      "\u001b[1;32mpandas\\_libs\\index.pyx\u001b[0m in \u001b[0;36mpandas._libs.index.IndexEngine.get_loc\u001b[1;34m()\u001b[0m\n",
      "\u001b[1;32mpandas\\_libs\\hashtable_class_helper.pxi\u001b[0m in \u001b[0;36mpandas._libs.hashtable.PyObjectHashTable.get_item\u001b[1;34m()\u001b[0m\n",
      "\u001b[1;32mpandas\\_libs\\hashtable_class_helper.pxi\u001b[0m in \u001b[0;36mpandas._libs.hashtable.PyObjectHashTable.get_item\u001b[1;34m()\u001b[0m\n",
      "\u001b[1;31mKeyError\u001b[0m: 'const'",
      "\nThe above exception was the direct cause of the following exception:\n",
      "\u001b[1;31mKeyError\u001b[0m                                  Traceback (most recent call last)",
      "\u001b[1;32m<ipython-input-74-1b274ecb9944>\u001b[0m in \u001b[0;36m<module>\u001b[1;34m\u001b[0m\n\u001b[1;32m----> 1\u001b[1;33m \u001b[0mpearson_association\u001b[0m\u001b[1;33m(\u001b[0m\u001b[0mdaily_corona_weather\u001b[0m\u001b[1;33m,\u001b[0m\u001b[1;34m'confirmed_addition'\u001b[0m\u001b[1;33m,\u001b[0m\u001b[0mweather_headers\u001b[0m\u001b[1;33m,\u001b[0m\u001b[0msignificance_threshold\u001b[0m\u001b[1;33m)\u001b[0m\u001b[1;33m\u001b[0m\u001b[1;33m\u001b[0m\u001b[0m\n\u001b[0m",
      "\u001b[1;32m<ipython-input-8-383de85e3a29>\u001b[0m in \u001b[0;36mpearson_association\u001b[1;34m(df, column, headers, significance)\u001b[0m\n\u001b[0;32m      3\u001b[0m     \u001b[0mpvalues\u001b[0m \u001b[1;33m=\u001b[0m \u001b[1;33m[\u001b[0m\u001b[1;33m]\u001b[0m\u001b[1;33m\u001b[0m\u001b[1;33m\u001b[0m\u001b[0m\n\u001b[0;32m      4\u001b[0m     \u001b[1;32mfor\u001b[0m \u001b[0mvar\u001b[0m \u001b[1;32min\u001b[0m \u001b[0mheaders\u001b[0m\u001b[1;33m:\u001b[0m\u001b[1;33m\u001b[0m\u001b[1;33m\u001b[0m\u001b[0m\n\u001b[1;32m----> 5\u001b[1;33m         \u001b[0mcorr\u001b[0m\u001b[1;33m,\u001b[0m \u001b[0mpvalue\u001b[0m \u001b[1;33m=\u001b[0m \u001b[0mpearsonr\u001b[0m\u001b[1;33m(\u001b[0m\u001b[0mdf\u001b[0m\u001b[1;33m[\u001b[0m\u001b[0mcolumn\u001b[0m\u001b[1;33m]\u001b[0m\u001b[1;33m,\u001b[0m \u001b[0mdf\u001b[0m\u001b[1;33m[\u001b[0m\u001b[0mvar\u001b[0m\u001b[1;33m]\u001b[0m\u001b[1;33m)\u001b[0m\u001b[1;33m\u001b[0m\u001b[1;33m\u001b[0m\u001b[0m\n\u001b[0m\u001b[0;32m      6\u001b[0m         \u001b[0mprint\u001b[0m\u001b[1;33m(\u001b[0m\u001b[0mvar\u001b[0m\u001b[1;33m,\u001b[0m\u001b[1;34m'\\n'\u001b[0m\u001b[1;33m,\u001b[0m\u001b[0mround\u001b[0m\u001b[1;33m(\u001b[0m\u001b[0mcorr\u001b[0m\u001b[1;33m,\u001b[0m\u001b[1;36m5\u001b[0m\u001b[1;33m)\u001b[0m\u001b[1;33m,\u001b[0m\u001b[1;34m'   '\u001b[0m\u001b[1;33m,\u001b[0m\u001b[0mpvalue\u001b[0m\u001b[1;33m,\u001b[0m\u001b[0mpvalue\u001b[0m\u001b[1;33m<\u001b[0m\u001b[0msignificance\u001b[0m\u001b[1;33m,\u001b[0m\u001b[1;34m'\\n'\u001b[0m\u001b[1;33m)\u001b[0m\u001b[1;33m\u001b[0m\u001b[1;33m\u001b[0m\u001b[0m\n",
      "\u001b[1;32m~\\anaconda3\\lib\\site-packages\\pandas\\core\\frame.py\u001b[0m in \u001b[0;36m__getitem__\u001b[1;34m(self, key)\u001b[0m\n\u001b[0;32m   2900\u001b[0m             \u001b[1;32mif\u001b[0m \u001b[0mself\u001b[0m\u001b[1;33m.\u001b[0m\u001b[0mcolumns\u001b[0m\u001b[1;33m.\u001b[0m\u001b[0mnlevels\u001b[0m \u001b[1;33m>\u001b[0m \u001b[1;36m1\u001b[0m\u001b[1;33m:\u001b[0m\u001b[1;33m\u001b[0m\u001b[1;33m\u001b[0m\u001b[0m\n\u001b[0;32m   2901\u001b[0m                 \u001b[1;32mreturn\u001b[0m \u001b[0mself\u001b[0m\u001b[1;33m.\u001b[0m\u001b[0m_getitem_multilevel\u001b[0m\u001b[1;33m(\u001b[0m\u001b[0mkey\u001b[0m\u001b[1;33m)\u001b[0m\u001b[1;33m\u001b[0m\u001b[1;33m\u001b[0m\u001b[0m\n\u001b[1;32m-> 2902\u001b[1;33m             \u001b[0mindexer\u001b[0m \u001b[1;33m=\u001b[0m \u001b[0mself\u001b[0m\u001b[1;33m.\u001b[0m\u001b[0mcolumns\u001b[0m\u001b[1;33m.\u001b[0m\u001b[0mget_loc\u001b[0m\u001b[1;33m(\u001b[0m\u001b[0mkey\u001b[0m\u001b[1;33m)\u001b[0m\u001b[1;33m\u001b[0m\u001b[1;33m\u001b[0m\u001b[0m\n\u001b[0m\u001b[0;32m   2903\u001b[0m             \u001b[1;32mif\u001b[0m \u001b[0mis_integer\u001b[0m\u001b[1;33m(\u001b[0m\u001b[0mindexer\u001b[0m\u001b[1;33m)\u001b[0m\u001b[1;33m:\u001b[0m\u001b[1;33m\u001b[0m\u001b[1;33m\u001b[0m\u001b[0m\n\u001b[0;32m   2904\u001b[0m                 \u001b[0mindexer\u001b[0m \u001b[1;33m=\u001b[0m \u001b[1;33m[\u001b[0m\u001b[0mindexer\u001b[0m\u001b[1;33m]\u001b[0m\u001b[1;33m\u001b[0m\u001b[1;33m\u001b[0m\u001b[0m\n",
      "\u001b[1;32m~\\anaconda3\\lib\\site-packages\\pandas\\core\\indexes\\base.py\u001b[0m in \u001b[0;36mget_loc\u001b[1;34m(self, key, method, tolerance)\u001b[0m\n\u001b[0;32m   2895\u001b[0m                 \u001b[1;32mreturn\u001b[0m \u001b[0mself\u001b[0m\u001b[1;33m.\u001b[0m\u001b[0m_engine\u001b[0m\u001b[1;33m.\u001b[0m\u001b[0mget_loc\u001b[0m\u001b[1;33m(\u001b[0m\u001b[0mcasted_key\u001b[0m\u001b[1;33m)\u001b[0m\u001b[1;33m\u001b[0m\u001b[1;33m\u001b[0m\u001b[0m\n\u001b[0;32m   2896\u001b[0m             \u001b[1;32mexcept\u001b[0m \u001b[0mKeyError\u001b[0m \u001b[1;32mas\u001b[0m \u001b[0merr\u001b[0m\u001b[1;33m:\u001b[0m\u001b[1;33m\u001b[0m\u001b[1;33m\u001b[0m\u001b[0m\n\u001b[1;32m-> 2897\u001b[1;33m                 \u001b[1;32mraise\u001b[0m \u001b[0mKeyError\u001b[0m\u001b[1;33m(\u001b[0m\u001b[0mkey\u001b[0m\u001b[1;33m)\u001b[0m \u001b[1;32mfrom\u001b[0m \u001b[0merr\u001b[0m\u001b[1;33m\u001b[0m\u001b[1;33m\u001b[0m\u001b[0m\n\u001b[0m\u001b[0;32m   2898\u001b[0m \u001b[1;33m\u001b[0m\u001b[0m\n\u001b[0;32m   2899\u001b[0m         \u001b[1;32mif\u001b[0m \u001b[0mtolerance\u001b[0m \u001b[1;32mis\u001b[0m \u001b[1;32mnot\u001b[0m \u001b[1;32mNone\u001b[0m\u001b[1;33m:\u001b[0m\u001b[1;33m\u001b[0m\u001b[1;33m\u001b[0m\u001b[0m\n",
      "\u001b[1;31mKeyError\u001b[0m: 'const'"
     ]
    }
   ],
   "source": [
    "pearson_association(daily_corona_weather,'confirmed_addition',weather_headers,significance_threshold)"
   ]
  },
  {
   "cell_type": "markdown",
   "metadata": {},
   "source": [
    "Visualizing the pearson correlation"
   ]
  },
  {
   "cell_type": "code",
   "execution_count": null,
   "metadata": {},
   "outputs": [],
   "source": [
    "sns.regplot(x=\"confirmed_addition\", y=\"Temp_Celsius\", data=daily_corona_weather, color=\"black\", ci=None,line_kws={'lw':4})"
   ]
  },
  {
   "cell_type": "code",
   "execution_count": null,
   "metadata": {},
   "outputs": [],
   "source": [
    "sns.regplot(x=\"confirmed_addition\", y=\"UVIndex\", data=daily_corona_weather, color=\"black\", ci=None, line_kws={'lw':4})"
   ]
  },
  {
   "cell_type": "markdown",
   "metadata": {},
   "source": [
    "### Spearman association for daily_corona_weather for original dataset."
   ]
  },
  {
   "cell_type": "code",
   "execution_count": 69,
   "metadata": {},
   "outputs": [
    {
     "name": "stdout",
     "output_type": "stream",
     "text": [
      "RelativeHumiditySurface \n",
      " 0.46803     7.510592264687037e-302 True \n",
      "\n",
      "SolarRadiation \n",
      " -0.51605     0.0 True \n",
      "\n",
      "Surfacepressure \n",
      " -0.23857     4.681330884969123e-73 True \n",
      "\n",
      "TemperatureAboveGround \n",
      " -0.57797     0.0 True \n",
      "\n",
      "Totalprecipitation \n",
      " 0.07239     6.176316724575035e-08 True \n",
      "\n",
      "UVIndex \n",
      " -0.65459     0.0 True \n",
      "\n",
      "WindSpeed \n",
      " -0.01401     0.29525564389645925 False \n",
      "\n",
      "Temp_Celsius \n",
      " -0.57797     0.0 True \n",
      "\n"
     ]
    }
   ],
   "source": [
    "#spearman_association(daily_corona_weather,'confirmed_addition',weather_headers,significance_threshold)"
   ]
  },
  {
   "cell_type": "markdown",
   "metadata": {},
   "source": [
    "Testing for monotonic relationships in the data"
   ]
  },
  {
   "cell_type": "markdown",
   "metadata": {},
   "source": [
    "### Pearson asscociation for daily_corona_weather, with logtransformation of confirmed_addition"
   ]
  },
  {
   "cell_type": "code",
   "execution_count": 68,
   "metadata": {},
   "outputs": [],
   "source": [
    "#pearson_log(daily_corona_weather,'confirmed_addition',weather_headers,significance_threshold)"
   ]
  },
  {
   "cell_type": "markdown",
   "metadata": {},
   "source": [
    "### Associations for the deceased_addition"
   ]
  },
  {
   "cell_type": "code",
   "execution_count": 70,
   "metadata": {},
   "outputs": [],
   "source": [
    "#pearson_association(daily_corona_weather,'deceased_addition',weather_headers,significance_threshold)"
   ]
  },
  {
   "cell_type": "code",
   "execution_count": 59,
   "metadata": {},
   "outputs": [
    {
     "name": "stdout",
     "output_type": "stream",
     "text": [
      "RelativeHumiditySurface \n",
      " 0.39763     9.261049010143888e-211 True \n",
      "\n",
      "SolarRadiation \n",
      " -0.46224     1.613376804147463e-293 True \n",
      "\n",
      "Surfacepressure \n",
      " -0.20186     2.1516133275312377e-52 True \n",
      "\n",
      "TemperatureAboveGround \n",
      " -0.62728     0.0 True \n",
      "\n",
      "Totalprecipitation \n",
      " 0.04083     0.0022821199452935604 False \n",
      "\n",
      "UVIndex \n",
      " -0.63257     0.0 True \n",
      "\n",
      "WindSpeed \n",
      " 0.03843     0.004086210455727461 False \n",
      "\n",
      "Temp_Celsius \n",
      " -0.62728     0.0 True \n",
      "\n"
     ]
    }
   ],
   "source": [
    "spearman_association(daily_corona_weather,'deceased_addition',weather_headers,significance_threshold)"
   ]
  },
  {
   "cell_type": "code",
   "execution_count": 65,
   "metadata": {},
   "outputs": [],
   "source": [
    "#pearson_log(daily_corona_weather[2:],'deceased_addition',weather_headers,significance_threshold) #can't be done because of zeros"
   ]
  },
  {
   "cell_type": "markdown",
   "metadata": {},
   "source": [
    "Testing if there is a linear relationship on a non-linear scale in the data and if the data is skewed, thus a log transformation is used.\n"
   ]
  },
  {
   "cell_type": "markdown",
   "metadata": {},
   "source": [
    "### sm.ols (Least Squares) multivariate regression\n"
   ]
  },
  {
   "cell_type": "markdown",
   "metadata": {},
   "source": [
    "Values here may be misleading. This is because the multivariate regression, when looking at specific variables, it keeps all the other variables constant."
   ]
  },
  {
   "cell_type": "code",
   "execution_count": 72,
   "metadata": {},
   "outputs": [],
   "source": [
    "df = sm.add_constant(daily_corona_weather)\n",
    "weather_headers.extend([\"const\"])"
   ]
  },
  {
   "cell_type": "code",
   "execution_count": 73,
   "metadata": {},
   "outputs": [
    {
     "name": "stdout",
     "output_type": "stream",
     "text": [
      "                            OLS Regression Results                            \n",
      "==============================================================================\n",
      "Dep. Variable:     confirmed_addition   R-squared:                       0.263\n",
      "Model:                            OLS   Adj. R-squared:                  0.262\n",
      "Method:                 Least Squares   F-statistic:                     283.5\n",
      "Date:                Wed, 17 Mar 2021   Prob (F-statistic):               0.00\n",
      "Time:                        16:22:31   Log-Likelihood:                -44588.\n",
      "No. Observations:                5580   AIC:                         8.919e+04\n",
      "Df Residuals:                    5572   BIC:                         8.925e+04\n",
      "Df Model:                           7                                         \n",
      "Covariance Type:            nonrobust                                         \n",
      "===========================================================================================\n",
      "                              coef    std err          t      P>|t|      [0.025      0.975]\n",
      "-------------------------------------------------------------------------------------------\n",
      "RelativeHumiditySurface     6.7314      1.468      4.585      0.000       3.854       9.609\n",
      "SolarRadiation           1.713e-05   3.89e-06      4.400      0.000     9.5e-06    2.48e-05\n",
      "Surfacepressure            -0.0041      0.000    -21.227      0.000      -0.005      -0.004\n",
      "TemperatureAboveGround     37.7621      1.751     21.565      0.000      34.329      41.195\n",
      "Totalprecipitation      -1.814e+04   3506.060     -5.174      0.000    -2.5e+04   -1.13e+04\n",
      "UVIndex                   -26.0816      1.720    -15.166      0.000     -29.453     -22.710\n",
      "WindSpeed                 -52.4962      8.167     -6.428      0.000     -68.507     -36.485\n",
      "Temp_Celsius              -41.1126      2.679    -15.347      0.000     -46.364     -35.861\n",
      "const                       0.2888      0.014     20.031      0.000       0.260       0.317\n",
      "==============================================================================\n",
      "Omnibus:                     3905.013   Durbin-Watson:                   1.408\n",
      "Prob(Omnibus):                  0.000   Jarque-Bera (JB):            62950.445\n",
      "Skew:                           3.211   Prob(JB):                         0.00\n",
      "Kurtosis:                      18.150   Cond. No.                     5.98e+22\n",
      "==============================================================================\n",
      "\n",
      "Notes:\n",
      "[1] Standard Errors assume that the covariance matrix of the errors is correctly specified.\n",
      "[2] The smallest eigenvalue is 1.39e-28. This might indicate that there are\n",
      "strong multicollinearity problems or that the design matrix is singular.\n"
     ]
    }
   ],
   "source": [
    "est = sm.OLS(df[\"confirmed_addition\"], df[weather_headers], hasconst = True).fit()\n",
    "print(est.summary())"
   ]
  },
  {
   "cell_type": "markdown",
   "metadata": {},
   "source": [
    "Here TemperatureAboveGround is a misleading variable, since in the previous sections we analysed that having a higher temperature leads to fewer cases. Though in this multiplevariate regression it is found out that a higher temperature increases the number of cases, this contradicts all prior analysis. The reason for this is that the multivariate regression keeps all other variables constant. That is, a day with the exact same weather conditions, besides the temperature being higher, will lead to more cases. To this there could be multiple reasons for this to occur, though a major and probable reason could be that people go outside during high temperatures, which in turn will lead to people not being isolated and thus there will be a higher probability of people getting a Covid-19 infection. \n",
    "\n",
    "Thus all these weather variables lead to change in human behavior, which results in changes in the amount of Covid-19 cases."
   ]
  },
  {
   "cell_type": "code",
   "execution_count": null,
   "metadata": {},
   "outputs": [],
   "source": [
    "est = sm.OLS(df[\"deceased_addition\"], df[weather_headers], hasconst = True).fit()\n",
    "print(est.summary())"
   ]
  },
  {
   "cell_type": "markdown",
   "metadata": {},
   "source": [
    "All the weather variables does not result in anything interesting to be discorvered. From the multivariate regression it is apparent that more people die, with a covid-19 infection, during higher solar radiation. It also shows that fewer people die when the total precipitation is higher. Intuitively these variables does change the human behavior, but in no way that would cause them to reduce or increase the number of deaths caused by covid-19. Also the people dying of Covid-19 is most likely in a hospital bed and is under extensive care, thus intuitively these weather variables would not lead to changes in covid-19 deaths. \n",
    "\n",
    "The only explanation would be that the hospital care is worsened during good weather and better during poor weather. Which also does not make much sense intuitively."
   ]
  },
  {
   "cell_type": "code",
   "execution_count": null,
   "metadata": {},
   "outputs": [],
   "source": [
    "#corona and weather conditions grouped by months\n",
    "weather_date = pd.to_datetime(weather_data_de['date'])\n",
    "weather_2020=pd.DataFrame(weather_data_de[weather_date.dt.year == 2020])\n",
    "weather_month_2020 = pd.DataFrame(weather_2020.groupby(weather_date.dt.month).mean())\n",
    "df_monthly_sum = corona_month_sum.merge(weather_month_2020,left_on = 'date',right_on = 'date')"
   ]
  },
  {
   "cell_type": "code",
   "execution_count": null,
   "metadata": {},
   "outputs": [],
   "source": [
    "weather_headers_month = ['RelativeHumiditySurface', 'SolarRadiation', 'Surfacepressure', 'TemperatureAboveGround',\n",
    "             'Totalprecipitation', 'UVIndex', 'WindSpeed']\n",
    "significance_threshold_monthly = 0.5 / (len(weather_headers_month) * 3)\n",
    "print(significance_threshold_monthly)"
   ]
  },
  {
   "cell_type": "markdown",
   "metadata": {},
   "source": [
    "Here the significance threshhold is increased due to the grouping of the data into months. This means that the breakpoint of where a variable is as not being correlated by chance is higher, which means that the certainty that the variable is a correlated by chance is less precise. "
   ]
  },
  {
   "cell_type": "markdown",
   "metadata": {},
   "source": [
    "#### Corona Cases per Month"
   ]
  },
  {
   "cell_type": "code",
   "execution_count": null,
   "metadata": {},
   "outputs": [],
   "source": [
    "pearson_association(df_monthly_sum,'confirmed_addition',weather_headers_month,significance_threshold_monthly)"
   ]
  },
  {
   "cell_type": "code",
   "execution_count": null,
   "metadata": {},
   "outputs": [],
   "source": [
    "#a scatterplot of two variables, x and y, \n",
    "#regression line - fit a line to the data by calculating R^2 (sum of least squares)\n",
    "fig, ax = plt.subplots()\n",
    "ax2 = ax.twinx() #This allows the common axes (flow rate) to be shared\n",
    "sns.regplot(x=\"confirmed_addition\", y=\"RelativeHumiditySurface\", data=df_monthly_sum, ax=ax, color=\"black\", ci=None,line_kws={'lw':4})\n",
    "sns.regplot(x=\"confirmed_addition\", y=\"UVIndex\", data=df_monthly_sum, color=\"gray\", ax=ax2, ci=None, line_kws={'lw':4})\n",
    "\n",
    "ax2.legend(handles=[a.lines[0] for a in [ax,ax2]], \n",
    "           labels=[\"Temp_Celsius\", \"UVIndex\"])\n",
    "plt.show()"
   ]
  },
  {
   "cell_type": "code",
   "execution_count": null,
   "metadata": {},
   "outputs": [],
   "source": [
    "spearman_association(df_monthly_sum,'confirmed_addition',weather_headers_month,significance_threshold_monthly)"
   ]
  },
  {
   "cell_type": "code",
   "execution_count": null,
   "metadata": {},
   "outputs": [],
   "source": [
    "pearson_log(df_monthly_sum,'confirmed_addition',weather_headers_month,significance_threshold_monthly)"
   ]
  },
  {
   "cell_type": "markdown",
   "metadata": {},
   "source": [
    "From these multivariate regressions it is apparent from the pearson that there is a correlation between the monthly total of Covid-19 cases and RelativeHumiditySurface, SolarRadiation and UVIndex. These variables tend to be higher during the summer, where there was a decrease in Covid-19 cases, thus this makes sense. Though in the spearman there is also seen high correlations, though the p-value is too high for us to assume that it has not happend by chance."
   ]
  },
  {
   "cell_type": "markdown",
   "metadata": {},
   "source": [
    "#### Corona Deaths per Month"
   ]
  },
  {
   "cell_type": "code",
   "execution_count": null,
   "metadata": {},
   "outputs": [],
   "source": [
    "pearson_association(df_monthly_sum,'deceased_addition',weather_headers_month,significance_threshold_monthly)"
   ]
  },
  {
   "cell_type": "code",
   "execution_count": null,
   "metadata": {},
   "outputs": [],
   "source": [
    "spearman_association(df_monthly_sum,'deceased_addition',weather_headers_month,significance_threshold_monthly)"
   ]
  },
  {
   "cell_type": "code",
   "execution_count": null,
   "metadata": {},
   "outputs": [],
   "source": [
    "pearson_log(df_monthly_sum[1:],'deceased_addition',weather_headers_month,significance_threshold_monthly) #interesting, check temperature above ground"
   ]
  },
  {
   "cell_type": "markdown",
   "metadata": {},
   "source": [
    "The analysis of the corona cases/deaths per month could be interesting when it is analyzed how infectious one strain is from another. This would be quite hard to do daily because there is really hard that 1st of February 2020 would have the same weather conditions as 1st of February 2021. Therefore, there is a higher chance that the overall weather conditions in February 2020 to be the similar to February 2021."
   ]
  },
  {
   "cell_type": "markdown",
   "metadata": {},
   "source": [
    "### Dummy Variable Analysis"
   ]
  },
  {
   "cell_type": "code",
   "execution_count": null,
   "metadata": {},
   "outputs": [],
   "source": [
    "daily_corona_weather['Lockdown'] = '0'\n",
    "daily_corona_weather.loc[(daily_corona_weather[\"date\"] >= \"2020-11-02\") & (daily_corona_weather[\"date\"] <= \"2021-03-07\"), \"Lockdown\"] = '1'\n",
    "daily_corona_weather"
   ]
  },
  {
   "cell_type": "code",
   "execution_count": null,
   "metadata": {},
   "outputs": [],
   "source": [
    "mask = (corona_df['date'] > \"2020-11-02\") & (corona_df['date'] <= \"2021-03-07\")\n",
    "corona_daily_sum = corona_df.groupby(corona_df['date']).sum().reset_index()\n",
    "corona_daily_sum_lockdown = corona_df[mask].groupby(corona_df[mask]['date']).sum().reset_index()\n",
    "#corona_daily_sum_lockdown"
   ]
  },
  {
   "cell_type": "code",
   "execution_count": null,
   "metadata": {},
   "outputs": [],
   "source": [
    "corona_line_plot(corona_daily_sum,'date','confirmed_addition','Corona lockdown plot')"
   ]
  },
  {
   "cell_type": "code",
   "execution_count": null,
   "metadata": {},
   "outputs": [],
   "source": [
    "corona_line_plot(corona_daily_sum,'date','deceased_addition','Corona lockdown plot')"
   ]
  },
  {
   "cell_type": "markdown",
   "metadata": {},
   "source": [
    "Data taken from https://en.wikipedia.org/wiki/COVID-19_pandemic_in_Germany - Government Reactions\n",
    "\n",
    "- 15th March, borders to Austria, Denmark, France, Luxembourg and Switzerland were closed (light-red)\n",
    "- 22nd March, curfews were imposed in six German states while other states prohibited physical contact with more than one person from outside one's household. (dark-red)\n",
    "- 15th April loosening of restrictions (blue)\n",
    "- 2nd November a partial lockdown was implemented, in which physical distancing rules were tightened while schools and kindergartens remained open, only temporarily halted the rise in case numbers (light-red)\n",
    "- 15th December a hard lockdown was implemented (dark-red)\n",
    "- 26th December 2020 - Vaccinations with the BioNTech–Pfizer COVID-19 vaccine began  (green)"
   ]
  },
  {
   "cell_type": "code",
   "execution_count": null,
   "metadata": {},
   "outputs": [],
   "source": [
    "corona_bar_plot(corona_daily_sum_lockdown['date'],corona_daily_sum_lockdown['confirmed_addition'],'Corona Lockdown Cases')"
   ]
  },
  {
   "cell_type": "code",
   "execution_count": null,
   "metadata": {},
   "outputs": [],
   "source": [
    "corona_bar_plot(corona_daily_sum_lockdown['date'],corona_daily_sum_lockdown['deceased_addition'],'Corona lockdown plot')"
   ]
  },
  {
   "cell_type": "code",
   "execution_count": null,
   "metadata": {},
   "outputs": [],
   "source": [
    "x = ['RelativeHumiditySurface', 'SolarRadiation', 'Surfacepressure', 'TemperatureAboveGround',\n",
    "             'Totalprecipitation', 'UVIndex', 'WindSpeed','Lockdown','const']\n",
    "df1 = sm.add_constant(daily_corona_weather)\n",
    "est1 = sm.OLS(np.log(df1['confirmed_addition']), df1[x].astype(float), hasconst = True).fit()\n",
    "print(est1.summary())"
   ]
  },
  {
   "cell_type": "markdown",
   "metadata": {},
   "source": [
    "# Task 3 - Map visualization"
   ]
  },
  {
   "cell_type": "code",
   "execution_count": null,
   "metadata": {},
   "outputs": [],
   "source": [
    "corona_by_region"
   ]
  },
  {
   "cell_type": "markdown",
   "metadata": {},
   "source": [
    "## Total number of Cases of Covid-19 on a regional basis"
   ]
  },
  {
   "cell_type": "code",
   "execution_count": null,
   "metadata": {},
   "outputs": [],
   "source": [
    "n_cases = folium.Map(location = [51.5, 10.7], zoom_start = 6)\n",
    "\n",
    "folium.Choropleth(\n",
    "    geo_data = shape,\n",
    "    name = \"cases\",\n",
    "    data = corona_by_region,\n",
    "    columns = [\"iso3166-2_code\", \"confirmed_addition\"],\n",
    "    key_on = \"properties.iso_3166_2\",\n",
    "    fill_color = \"OrRd\", \n",
    "    fill_opacity = 0.7,\n",
    "    line_opacity = 0.2,\n",
    "    highlight=True,\n",
    "    legend_name = \"Number of Cases of Covid-19\").add_to(n_cases)\n",
    "n_cases"
   ]
  },
  {
   "cell_type": "markdown",
   "metadata": {},
   "source": [
    "## Total number of deceased with a confirmed Covid-19 infection on a regional basis\n"
   ]
  },
  {
   "cell_type": "code",
   "execution_count": null,
   "metadata": {},
   "outputs": [],
   "source": [
    "dead = folium.Map(location = [51.5, 10.7], zoom_start = 6)\n",
    "\n",
    "folium.Choropleth(\n",
    "    geo_data = shape,\n",
    "    name = \"cases\",\n",
    "    data = corona_by_region,\n",
    "    columns = [\"iso3166-2_code\", \"deceased_addition\"],\n",
    "    key_on = \"properties.iso_3166_2\",\n",
    "    fill_color = \"Greys\", \n",
    "    fill_opacity = 0.7,\n",
    "    line_opacity = 0.2,\n",
    "    highlight=True,\n",
    "    legend_name = \"Number of Deceased with an covid-19 infection\").add_to(dead)\n",
    "dead"
   ]
  },
  {
   "cell_type": "markdown",
   "metadata": {},
   "source": [
    "## Population on a regional basis "
   ]
  },
  {
   "cell_type": "code",
   "execution_count": null,
   "metadata": {},
   "outputs": [],
   "source": [
    "p_cases = folium.Map(location = [51.5, 10.7], zoom_start = 6)\n",
    "folium.Choropleth(\n",
    "    geo_data = shape,\n",
    "    name = \"population\",\n",
    "    data = corona_by_region,\n",
    "    columns = [\"iso3166-2_code\", \"population\"],\n",
    "    key_on = \"properties.iso_3166_2\",\n",
    "    fill_color = \"YlGn\", \n",
    "    fill_opacity = 0.7,\n",
    "    line_opacity = 0.2,\n",
    "    highlight=True,\n",
    "    legend_name = \"Population\").add_to(p_cases)\n",
    "p_cases"
   ]
  },
  {
   "cell_type": "markdown",
   "metadata": {},
   "source": [
    "## Number of Cases pr. population of region"
   ]
  },
  {
   "cell_type": "code",
   "execution_count": null,
   "metadata": {},
   "outputs": [],
   "source": [
    "r_cases = folium.Map(location = [51.5, 10.7], zoom_start = 6)\n",
    "\n",
    "tiles = ['stamenwatercolor', 'cartodbpositron', 'openstreetmap', 'stamenterrain']\n",
    "for tile in tiles:\n",
    "    folium.TileLayer(tile).add_to(r_cases)\n",
    "\n",
    "folium.Choropleth(\n",
    "    geo_data = shape,\n",
    "    name = \"cases\",\n",
    "    data = corona_by_region,\n",
    "    columns = [\"iso3166-2_code\", \"confirmed/pop\"],\n",
    "    key_on = \"properties.iso_3166_2\",\n",
    "    fill_color = \"OrRd\", \n",
    "    fill_opacity = 0.7,\n",
    "    line_opacity = 0.2,\n",
    "    legend_name = \"Number of Cases pr. population of region\",\n",
    "    highlight=True\n",
    ").add_to(r_cases)\n",
    "\n",
    "folium.LayerControl().add_to(r_cases)\n",
    "\n",
    "r_cases"
   ]
  },
  {
   "cell_type": "markdown",
   "metadata": {},
   "source": [
    "## UVIndex on a regional basis"
   ]
  },
  {
   "cell_type": "markdown",
   "metadata": {},
   "source": [
    "The UVIndex is a daily sum, this is handled by dividing by 24, because there is 24 hours in a day. This will though result in very small UVIndex values, because UVIndex during the night is taken into account."
   ]
  },
  {
   "cell_type": "code",
   "execution_count": null,
   "metadata": {},
   "outputs": [],
   "source": [
    "# dividing by 24 since there is 24 hours in a day, though this takes into account night where the uvindex is \n",
    "# really small/nonexsistent\n",
    "# Could be argued that it should be divided by 16-18 since these are the hours where the sun is present. \n",
    "weather_by_region = pd.DataFrame(weather_data_de.groupby(by = 'iso3166-2').mean())\n",
    "weather_by_region['UVIndex_scaled'] = weather_by_region['UVIndex']/24"
   ]
  },
  {
   "cell_type": "code",
   "execution_count": null,
   "metadata": {},
   "outputs": [],
   "source": [
    "uv_index = folium.Map(location = [51.5, 10.7], zoom_start = 6)\n",
    "\n",
    "folium.Choropleth(\n",
    "    geo_data = shape,\n",
    "    name = \"uv-index\",\n",
    "    data = weather_by_region,\n",
    "    columns = [weather_by_region.index, \"UVIndex_scaled\"],\n",
    "    key_on = \"properties.iso_3166_2\",\n",
    "    fill_color = \"OrRd\", \n",
    "    fill_opacity = 0.7,\n",
    "    line_opacity = 0.2,\n",
    "    highlight=True,\n",
    "    legend_name = \"UVIndex\",\n",
    "    smooth_factor=0).add_to(uv_index)\n",
    "uv_index"
   ]
  },
  {
   "cell_type": "markdown",
   "metadata": {},
   "source": [
    "## Temperature Above Ground on a regional basis"
   ]
  },
  {
   "cell_type": "markdown",
   "metadata": {},
   "source": [
    "The Temperature Above Ground is a daily sum, this means that the data is flawed and is a lot higher than expected. This is handled by dividing by 24, because there is 24 hours in a day. This will though result in very small temperature values, because the temperature during the night is taken into account. Considering the flaws here this is still a more accurate measure then what the original data would have been. "
   ]
  },
  {
   "cell_type": "code",
   "execution_count": null,
   "metadata": {},
   "outputs": [],
   "source": [
    "weather_by_region[\"TemperatureAboveGround_scaled\"] = weather_by_region[\"TemperatureAboveGround\"]/24"
   ]
  },
  {
   "cell_type": "code",
   "execution_count": null,
   "metadata": {},
   "outputs": [],
   "source": [
    "TAG = folium.Map(location = [51.5, 10.7], zoom_start = 6)\n",
    "\n",
    "folium.Choropleth(\n",
    "    geo_data = shape,\n",
    "    name = \"uv-index\",\n",
    "    data = weather_by_region,\n",
    "    columns = [weather_by_region.index, \"TemperatureAboveGround_scaled\"],\n",
    "    key_on = \"properties.iso_3166_2\",\n",
    "    fill_color = \"OrRd\", \n",
    "    fill_opacity = 0.7,\n",
    "    line_opacity = 0.2,\n",
    "    highlight=True,\n",
    "    legend_name = \"average Temperature Above Ground on a daily basis\").add_to(TAG)\n",
    "TAG"
   ]
  },
  {
   "cell_type": "markdown",
   "metadata": {},
   "source": [
    "## Multiple plots on a regional and monthy basis"
   ]
  },
  {
   "cell_type": "code",
   "execution_count": null,
   "metadata": {},
   "outputs": [],
   "source": [
    "raw_data['de_corona']['month'] = raw_data['de_corona']['date'].dt.strftime('%B')\n",
    "raw_data['de_corona']['year'] = raw_data['de_corona']['date'].dt.strftime('%Y')\n",
    "population_map = {country_metadata[\"country_metadata\"][i][\"iso3166-2_code\"]: country_metadata[\"country_metadata\"][i][\"population\"] for i in range(len(country_metadata[\"country_metadata\"]))}\n",
    "raw_data[\"de_corona\"][\"population\"] = raw_data[\"de_corona\"][\"region\"].map(population_map)\n",
    "raw_data[\"de_corona\"][\"confirmed_addition_ratio\"] = raw_data[\"de_corona\"][\"confirmed_addition\"]/raw_data[\"de_corona\"][\"population\"]"
   ]
  },
  {
   "cell_type": "code",
   "execution_count": null,
   "metadata": {},
   "outputs": [],
   "source": [
    "cases_2020_monthly = raw_data[\"de_corona\"][(raw_data[\"de_corona\"][\"year\"] == \"2020\")].groupby([\"month\", \"region\"]).sum()\n",
    "cases_2021_monthly = raw_data[\"de_corona\"][(raw_data[\"de_corona\"][\"year\"] == \"2021\")].groupby([\"month\", \"region\"]).sum()"
   ]
  },
  {
   "cell_type": "code",
   "execution_count": null,
   "metadata": {},
   "outputs": [],
   "source": [
    "confirmed_addition_ratio_maps = dict()\n",
    "for i in list(raw_data[\"de_corona\"][(raw_data[\"de_corona\"][\"year\"] == \"2020\")][\"month\"].unique()):\n",
    "    n_cases = folium.Map(location = [51.5, 10.7], zoom_start = 6)\n",
    "    \n",
    "    folium.map.Marker(\n",
    "    [54.5, 2],\n",
    "    icon=DivIcon(\n",
    "        icon_size=(400,50),\n",
    "        icon_anchor=(0,0),\n",
    "        html='<div style=\"font-size: 20pt\">{}</div>'.format(i),\n",
    "        )\n",
    "    ).add_to(n_cases)\n",
    "    \n",
    "    folium.Choropleth(\n",
    "        geo_data = shape,\n",
    "        name = \"cases\",\n",
    "        data = cases_2020_monthly.loc[i].reset_index(),\n",
    "        columns = [\"region\", \"confirmed_addition_ratio\"],\n",
    "        key_on = \"properties.iso_3166_2\",\n",
    "        fill_color = \"OrRd\", \n",
    "        fill_opacity = 0.7,\n",
    "        line_opacity = 0.2,\n",
    "        highlight=True,\n",
    "        nan_fill_color = \"purple\",\n",
    "        legend_name = \"Number of Cases of Covid-19 pr. population of region in {} 2020\".format(i)).add_to(n_cases)\n",
    "    confirmed_addition_ratio_maps[i+\"-2020\"] = n_cases\n",
    "for i in list(raw_data[\"de_corona\"][(raw_data[\"de_corona\"][\"year\"] == \"2021\")][\"month\"].unique()):\n",
    "    n_cases = folium.Map(location = [51.5, 10.7], zoom_start = 6)\n",
    "\n",
    "    folium.map.Marker(\n",
    "    [54.5, 2],\n",
    "    icon=DivIcon(\n",
    "        icon_size=(400,50),\n",
    "        icon_anchor=(0,0),\n",
    "        html='<div style=\"font-size: 20pt\">{}</div>'.format(i),\n",
    "        )\n",
    "    ).add_to(n_cases)\n",
    "    \n",
    "    folium.Choropleth(\n",
    "        geo_data = shape,\n",
    "        name = \"cases\",\n",
    "        data = cases_2021_monthly.loc[i].reset_index(),\n",
    "        columns = [\"region\", \"confirmed_addition_ratio\"],\n",
    "        key_on = \"properties.iso_3166_2\",\n",
    "        fill_color = \"OrRd\", \n",
    "        fill_opacity = 0.7,\n",
    "        line_opacity = 0.2,\n",
    "        highlight=True,\n",
    "        nan_fill_color = \"purple\",\n",
    "        legend_name = \"Number of Cases of Covid-19 pr. population of region in {} 2021\".format(i)).add_to(n_cases)\n",
    "    confirmed_addition_ratio_maps[i+\"-2021\"] = n_cases    "
   ]
  },
  {
   "cell_type": "code",
   "execution_count": null,
   "metadata": {},
   "outputs": [],
   "source": [
    "confirmed_addition_maps = dict()\n",
    "for i in list(raw_data[\"de_corona\"][(raw_data[\"de_corona\"][\"year\"] == \"2020\")][\"month\"].unique()):\n",
    "    n_cases = folium.Map(location = [51.5, 10.7], zoom_start = 6)\n",
    "    \n",
    "    folium.map.Marker(\n",
    "    [54.5, 2],\n",
    "    icon=DivIcon(\n",
    "        icon_size=(400,50),\n",
    "        icon_anchor=(0,0),\n",
    "        html='<div style=\"font-size: 20pt\">{}-2020</div>'.format(i),\n",
    "        )\n",
    "    ).add_to(n_cases)\n",
    "    \n",
    "    folium.Choropleth(\n",
    "        geo_data = shape,\n",
    "        name = \"cases\",\n",
    "        data = cases_2020_monthly.loc[i].reset_index(),\n",
    "        columns = [\"region\", \"confirmed_addition\"],\n",
    "        key_on = \"properties.iso_3166_2\",\n",
    "        fill_color = \"OrRd\", \n",
    "        fill_opacity = 0.7,\n",
    "        line_opacity = 0.2,\n",
    "        highlight=True,\n",
    "        nan_fill_color = \"purple\",\n",
    "        legend_name = \"Number of Cases of Covid-19 in {} 2020\".format(i)).add_to(n_cases)\n",
    "    confirmed_addition_maps[i+\"-2020\"] = n_cases\n",
    "for i in list(raw_data[\"de_corona\"][(raw_data[\"de_corona\"][\"year\"] == \"2021\")][\"month\"].unique()):\n",
    "    n_cases = folium.Map(location = [51.5, 10.7], zoom_start = 6)\n",
    "\n",
    "    folium.map.Marker(\n",
    "    [54.5, 2],\n",
    "    icon=DivIcon(\n",
    "        icon_size=(400,50),\n",
    "        icon_anchor=(0,0),\n",
    "        html='<div style=\"font-size: 20pt\">{}-2021</div>'.format(i),\n",
    "        )\n",
    "    ).add_to(n_cases)\n",
    "    \n",
    "    folium.Choropleth(\n",
    "        geo_data = shape,\n",
    "        name = \"cases\",\n",
    "        data = cases_2021_monthly.loc[i].reset_index(),\n",
    "        columns = [\"region\", \"confirmed_addition\"],\n",
    "        key_on = \"properties.iso_3166_2\",\n",
    "        fill_color = \"OrRd\", \n",
    "        fill_opacity = 0.7,\n",
    "        line_opacity = 0.2,\n",
    "        highlight=True,\n",
    "        nan_fill_color = \"purple\",\n",
    "        legend_name = \"Number of Cases of Covid-19 in {} 2021\".format(i)).add_to(n_cases)\n",
    "    confirmed_addition_maps[i+\"-2021\"] = n_cases   \n",
    "confirmed_addition = [\"other_notebooks/maps/confirmed_addition/\"+i+\".png\" for i in confirmed_addition_maps.keys()]\n",
    "images = []\n",
    "for filename in confirmed_addition:\n",
    "    images.append(imageio.imread(filename))\n",
    "imageio.mimsave('other_notebooks/map_gifs/confirmed_addition_maps.gif', images, duration=2)"
   ]
  },
  {
   "cell_type": "code",
   "execution_count": null,
   "metadata": {},
   "outputs": [],
   "source": [
    "deceased_addition_maps = dict()\n",
    "for i in list(raw_data[\"de_corona\"][(raw_data[\"de_corona\"][\"year\"] == \"2020\")][\"month\"].unique()):\n",
    "    n_cases = folium.Map(location = [51.5, 10.7], zoom_start = 6)\n",
    "\n",
    "    folium.map.Marker(\n",
    "    [54.5, 2],\n",
    "    icon=DivIcon(\n",
    "        icon_size=(400,50),\n",
    "        icon_anchor=(0,0),\n",
    "        html='<div style=\"font-size: 20pt\">{}-2020</div>'.format(i),\n",
    "        )\n",
    "    ).add_to(n_cases)\n",
    "    \n",
    "    folium.Choropleth(\n",
    "        geo_data = shape,\n",
    "        name = \"cases\",\n",
    "        data = cases_2020_monthly.loc[i].reset_index(),\n",
    "        columns = [\"region\", \"deceased_addition\"],\n",
    "        key_on = \"properties.iso_3166_2\",\n",
    "        fill_color = \"Greys\", \n",
    "        fill_opacity = 0.7,\n",
    "        line_opacity = 0.2,\n",
    "        highlight=True,\n",
    "        nan_fill_color = \"purple\",\n",
    "        legend_name = \"Number of deceased with a Covid-19 infection in {} 2020\".format(i)).add_to(n_cases)\n",
    "    deceased_addition_maps[i+\"-2020\"] = n_cases\n",
    "for i in list(raw_data[\"de_corona\"][(raw_data[\"de_corona\"][\"year\"] == \"2021\")][\"month\"].unique()):\n",
    "    n_cases = folium.Map(location = [51.5, 10.7], zoom_start = 6)\n",
    "\n",
    "    folium.map.Marker(\n",
    "    [54.5, 2],\n",
    "    icon=DivIcon(\n",
    "        icon_size=(400,50),\n",
    "        icon_anchor=(0,0),\n",
    "        html='<div style=\"font-size: 20pt\">{}-2021</div>'.format(i),\n",
    "        )\n",
    "    ).add_to(n_cases)\n",
    "    \n",
    "    folium.Choropleth(\n",
    "        geo_data = shape,\n",
    "        name = \"cases\",\n",
    "        data = cases_2021_monthly.loc[i].reset_index(),\n",
    "        columns = [\"region\", \"deceased_addition\"],\n",
    "        key_on = \"properties.iso_3166_2\",\n",
    "        fill_color = \"Greys\", \n",
    "        fill_opacity = 0.7,\n",
    "        line_opacity = 0.2,\n",
    "        highlight=True,\n",
    "        nan_fill_color = \"purple\",\n",
    "        legend_name = \"Number of deceased with a Covid-19 infection in {} 2021\".format(i)).add_to(n_cases)\n",
    "    deceased_addition_maps[i+\"-2021\"] = n_cases   \n",
    "deceased_addition = [\"other_notebooks/maps/deceased_addition/\"+i+\".png\" for i in confirmed_addition_maps.keys()]\n",
    "images = []\n",
    "for filename in deceased_addition:\n",
    "    images.append(imageio.imread(filename))\n",
    "imageio.mimsave('other_notebooks/map_gifs/deceased_addition_maps.gif', images, duration=2)"
   ]
  },
  {
   "cell_type": "markdown",
   "metadata": {},
   "source": [
    "### Viewing the maps"
   ]
  },
  {
   "cell_type": "markdown",
   "metadata": {},
   "source": [
    "All the monthly maps can be ascessed by doing \n",
    "```python\n",
    "deceased_addition_maps[\"January-2020\"]\n",
    "confirmed_addition_maps[\"January-2020\"]\n",
    "confirmed_addition_ratio_maps[\"January-2020\"]\n",
    "```\n",
    "Missing data, or there was no recorded data in that region, the color of the region will be purple\n",
    "\n",
    "Month and year can be changed"
   ]
  },
  {
   "cell_type": "code",
   "execution_count": null,
   "metadata": {},
   "outputs": [],
   "source": [
    "confirmed_addition_maps[\"January-2020\"]"
   ]
  },
  {
   "cell_type": "markdown",
   "metadata": {},
   "source": [
    "![SegmentLocal](other_notebooks/map_gifs/confirmed_addition_maps.gif)"
   ]
  },
  {
   "cell_type": "code",
   "execution_count": null,
   "metadata": {},
   "outputs": [],
   "source": [
    "deceased_addition_maps[\"January-2020\"]"
   ]
  },
  {
   "cell_type": "markdown",
   "metadata": {},
   "source": [
    "![SegmentLocal](other_notebooks/map_gifs/deceased_addition_maps.gif)"
   ]
  },
  {
   "cell_type": "code",
   "execution_count": null,
   "metadata": {},
   "outputs": [],
   "source": [
    "confirmed_addition_ratio_maps[\"January-2020\"]"
   ]
  },
  {
   "cell_type": "markdown",
   "metadata": {},
   "source": [
    "##  Task 4: Open question\n",
    "Use the data to formulate, motivate, answer, and discuss another research question of your choice. For example, compare your country to another one in the dataset; or investigate additional variables that you could\n",
    "find elsewhere (e.g. total population, population density, population demographics such as age distribution,\n",
    "number of elders, etc); or identify if there are temporal patterns (is one variable more important in some\n",
    "months? Are weekends different from weekdays? Etc), .."
   ]
  },
  {
   "cell_type": "markdown",
   "metadata": {},
   "source": [
    "##### We loaded an external data set from the website of 'Robert Koch Institut' (RKI) to explore the role of age in potentially driving differences in infection spread.\n",
    "The data set is about  COVID-19 cases by age group / 100,000 inhabitants in Germany from the 17th of March 2020 to the 2nd of March 2021.  \n",
    "https://www.rki.de/DE/Content/InfAZ/N/Neuartiges_Coronavirus/Daten/Altersverteilung.html"
   ]
  },
  {
   "cell_type": "markdown",
   "metadata": {},
   "source": [
    "#### The weekly mean of total confirmed cases per 100.000 inhabitants across age groups\n",
    "We added the mean of the weekly cases by age to the table to get a quick insight into the age distribution."
   ]
  },
  {
   "cell_type": "code",
   "execution_count": null,
   "metadata": {},
   "outputs": [],
   "source": [
    "raw_data['age_pop']['mean'] = raw_data['age_pop'].mean(axis=1)\n",
    "raw_data['age_pop']"
   ]
  },
  {
   "cell_type": "code",
   "execution_count": null,
   "metadata": {},
   "outputs": [],
   "source": [
    "raw_data['age_pop']['mean'].describe()"
   ]
  },
  {
   "cell_type": "markdown",
   "metadata": {},
   "source": [
    "#### Visualize distribution of weekly mean of total confirmed cases per 100.000 per age"
   ]
  },
  {
   "cell_type": "code",
   "execution_count": null,
   "metadata": {},
   "outputs": [],
   "source": [
    "rcParams['figure.figsize'] = 15,8\n",
    "sns.set_style(\"whitegrid\");"
   ]
  },
  {
   "cell_type": "code",
   "execution_count": null,
   "metadata": {},
   "outputs": [],
   "source": [
    "ax = sns.barplot(x=\"mean\", y=\"Altersgruppe\", data=raw_data['age_pop']).set_title('The weekly mean of total confirmed cases per 100.000 people across age groups')"
   ]
  },
  {
   "cell_type": "markdown",
   "metadata": {},
   "source": [
    "The weekly registered infections among people above 90 is extremely higher than other age groups. \n",
    "\n",
    "The reason seems not to be the population size of each group. (RKI: 40-59-year-olds make up the largest age group in Germany, at 23.6 million people, the next-largest age group was 65 years and older, at 18.09 million.)"
   ]
  },
  {
   "cell_type": "markdown",
   "metadata": {},
   "source": [
    "#### Temporal distribution of cases across age groups"
   ]
  },
  {
   "cell_type": "code",
   "execution_count": null,
   "metadata": {},
   "outputs": [],
   "source": [
    "df_T = raw_data['age_pop'].T\n",
    "modified = df_T.reset_index()\n",
    "new_header = modified.iloc[0] #grab the first row for the header\n",
    "modified = modified[1:] #take the data less the header row\n",
    "modified.columns = new_header #set the header row as the df header\n",
    "modified.rename(columns={\"Altersgruppe\":\"date\"}, inplace=True)\n",
    "modified = modified.drop([53])\n",
    "modified['date'] = modified['date'].astype(str) + '_2' #2 means Tuesday\n",
    "modified['date'] =  pd.to_datetime(modified['date'], format='%Y_%W_%w')\n",
    "\n",
    "for column in modified:\n",
    "    modified.iloc[:, 1:21] = modified.iloc[:, 1:21].astype(float)\n",
    "\n",
    "# merge age groups\n",
    "modified['0-19'] = modified.loc[:,['0 - 4','5 - 9', '10 - 14', '15 - 19']].sum(axis=1)\n",
    "modified['20-39'] = modified.loc[:,['20 - 24','25 - 29', '30 - 34', '35 - 39']].sum(axis=1)\n",
    "modified['40-59'] = modified.loc[:,['40 - 44', '45 - 49', '50 - 54', '55 - 59']].sum(axis=1)\n",
    "modified['60-79'] = modified.loc[:,['60 - 64','65 - 69', '70 - 74', '75 - 79']].sum(axis=1)\n",
    "modified['80+'] = modified.loc[:,['80 - 84', '85 - 89', '90+']].sum(axis=1)\n",
    "#modified"
   ]
  },
  {
   "cell_type": "markdown",
   "metadata": {},
   "source": [
    "The pandemic is exhibiting seasonal patterns in its spread. It is clear that there is a peak in the number of cases in the winter period of 2020-2021 and the number of cases are low during the summer of 2020. \n",
    "Next, the distribution of these specific periods will be plotted by ages."
   ]
  },
  {
   "cell_type": "code",
   "execution_count": null,
   "metadata": {},
   "outputs": [],
   "source": [
    "x = modified.drop(modified.columns.difference(['date', '0-19', '20-39', '40-59', '60-79', '80+']), axis=1)\n",
    "melt_modified = x.melt('date', var_name='age_gaps',  value_name='cases')\n",
    "\n",
    "g = sns.lineplot(x=\"date\", y=\"cases\", hue='age_gaps', data=melt_modified).set_title('All weekly registered cases in Germany by age groups')"
   ]
  },
  {
   "cell_type": "code",
   "execution_count": null,
   "metadata": {},
   "outputs": [],
   "source": [
    "mask_winter = (melt_modified['date'].dt.month > 10)\n",
    "winter = melt_modified[mask_winter]\n",
    "\n",
    "g = sns.lineplot(x=\"date\", y=\"cases\", hue='age_gaps', data=winter).set_title('2020-2021: WINTER: All weekly registered cases in Germany by age groups');"
   ]
  },
  {
   "cell_type": "code",
   "execution_count": null,
   "metadata": {},
   "outputs": [],
   "source": [
    "mask_summer = ((melt_modified['date'].dt.month < 9) & (melt_modified['date'].dt.month > 5))\n",
    "summer = melt_modified[mask_summer]\n",
    "\n",
    "g = sns.lineplot(x=\"date\", y=\"cases\", hue='age_gaps', data=summer).set_title('2020 SUMMER: All weekly registered cases in Germany by age groups');"
   ]
  },
  {
   "cell_type": "markdown",
   "metadata": {},
   "source": [
    "However, in summer time, when the number of all cases are low, the proportion of the infected among young adults are higher, among the age group 20-39 the highest.\n",
    "\n",
    "By investigating the possible connections between the weather variables and the number of cases by age groups, the focus will be on the two most interesting ones that are not following the pattern: people from 20 to 39 years and above 80."
   ]
  },
  {
   "cell_type": "code",
   "execution_count": null,
   "metadata": {},
   "outputs": [],
   "source": [
    "#merge corona_age & weather WEEKLY for plots\n",
    "#corona age: 2020.03.12 - 2021.03.02.  - weather: 2020-02-13 - 2020.11.14.\n",
    "\n",
    "#prepare weather data to merge without regions\n",
    "df_w = weather_data_de.copy()\n",
    "#sum some weather values:\n",
    "df_w_sum = df_w.groupby('date')['RelativeHumiditySurface', 'SolarRadiation', 'Surfacepressure', 'Totalprecipitation'].sum()\n",
    "#take the mean some weather values:\n",
    "df_w_mean = df_w.groupby('date')['TemperatureAboveGround', 'UVIndex', 'WindSpeed'].mean()\n",
    "df_w_noregions = df_w_sum.merge(df_w_mean, left_on = [\"date\"], right_on = [\"date\"]) \n",
    "#date index to column data:\n",
    "df_w_noregions.reset_index(level=0, inplace=True)\n",
    "\n",
    "#merge (modified is the weekly corona data by age)\n",
    "weekly_coronaAge_weather = modified.merge(df_w_noregions, left_on = [\"date\"], right_on = [\"date\"])\n",
    "weekly_coronaAge_weather.drop_duplicates(subset='date');\n",
    "\n",
    "celsius = pd.DataFrame(weekly_coronaAge_weather['TemperatureAboveGround'].subtract(273.15))\n",
    "weekly_coronaAge_weather['Temp_Celsius'] = celsius"
   ]
  },
  {
   "cell_type": "code",
   "execution_count": null,
   "metadata": {},
   "outputs": [],
   "source": [
    "fig, (ax1, ax2) = plt.subplots(ncols=2, sharey=True)\n",
    "sns.regplot(x=\"80+\", y=\"Temp_Celsius\", data=weekly_coronaAge_weather, ax=ax1, color=\"black\", ci=None)\n",
    "sns.regplot(x=\"20-39\", y=\"Temp_Celsius\", data=weekly_coronaAge_weather, ax=ax2, color=\"black\", ci=None);"
   ]
  },
  {
   "cell_type": "code",
   "execution_count": null,
   "metadata": {},
   "outputs": [],
   "source": [
    "fig, (ax1, ax2) = plt.subplots(ncols=2, sharey=True)\n",
    "sns.regplot(x=\"80+\", y=\"UVIndex\", data=weekly_coronaAge_weather, ax=ax1, color=\"black\", ci=None)\n",
    "sns.regplot(x=\"20-39\", y=\"UVIndex\", data=weekly_coronaAge_weather, ax=ax2, color=\"black\", ci=None);"
   ]
  },
  {
   "cell_type": "markdown",
   "metadata": {},
   "source": [
    "### Multivariate linear regression using statsmodel for daily_coronaAge_weather 80+\n",
    "\n",
    "Are there any differencies how the different weather variables can influence the number of cases by that two specific age groups? "
   ]
  },
  {
   "cell_type": "code",
   "execution_count": null,
   "metadata": {},
   "outputs": [],
   "source": [
    "#DAILY DATA\n",
    "#There is data for 52 weeks: create daily data - divide the case numbers by 7\n",
    "modified['date'] = pd.to_datetime(modified['date'])\n",
    "daily_age = modified.set_index('date').resample('d').mean().ffill().div(7).reset_index()\n",
    "\n",
    "\n",
    "#changes in weather data: change values: sum and mean\n",
    "#df_w = de_weather.copy()\n",
    "#df_w_sum = df_w.groupby('date')['RelativeHumiditySurface', 'SolarRadiation', 'Surfacepressure', 'Totalprecipitation'].sum()\n",
    "#df_w_mean = df_w.groupby('date')['TemperatureAboveGround', 'UVIndex', 'WindSpeed'].mean()\n",
    "#no need for regions\n",
    "df_w_noregions = df_w_sum.merge(df_w_mean, left_on = [\"date\"], right_on = [\"date\"]) \n",
    "daily_coronaAge_weather = daily_age.merge(df_w_noregions,  left_on = [\"date\"], right_on = [\"date\"])\n",
    "daily_coronaAge_weather = daily_coronaAge_weather.drop_duplicates(subset='date')\n",
    "\n",
    "celsius = pd.DataFrame(daily_coronaAge_weather['TemperatureAboveGround'].subtract(273.15))\n",
    "daily_coronaAge_weather['Temp_Celsius'] = celsius\n",
    "#daily_age\n",
    "#daily_coronaAge_weather"
   ]
  },
  {
   "cell_type": "code",
   "execution_count": null,
   "metadata": {},
   "outputs": [],
   "source": [
    "daily_coronaAge_weather = sm.add_constant(daily_coronaAge_weather)\n",
    "\n",
    "est = sm.OLS(np.log(daily_coronaAge_weather['80+']), daily_coronaAge_weather[weather_headers], hasconst = True).fit()\n",
    "print(est.summary())"
   ]
  },
  {
   "cell_type": "markdown",
   "metadata": {},
   "source": [
    "### Multivariate linear regression using statsmodel for daily_coronaAge_weather 20-39"
   ]
  },
  {
   "cell_type": "code",
   "execution_count": null,
   "metadata": {},
   "outputs": [],
   "source": [
    "est = sm.OLS(np.log(daily_coronaAge_weather['20-39']), daily_coronaAge_weather[weather_headers], hasconst = True).fit()\n",
    "print(est.summary())"
   ]
  },
  {
   "cell_type": "markdown",
   "metadata": {},
   "source": [
    "R-squared 0.760 and 0.882 (corr.coeff. squared) It means this model can explain the 76% and 82.2% of the variation in our data. \n",
    "Comparing the two multivariable linear regression model results shows that from the 7 weather variables, 6 has corresponding associations with the numbers of cases, only the temperature above ground variable shows a difference. At the age group 20-39 it is positive(0.0087),  at people above 80 is negative(-0.1188)"
   ]
  },
  {
   "cell_type": "markdown",
   "metadata": {},
   "source": [
    "While analyzing how the COVID-19 infection spread across different age groups, the most conspicuous patterns in the temporal data distribution were that COVID-19 cases are highest in young adults in summer and extremely higher in people above 80 in winter. \n",
    "With a linear regression model, we only could underline this fact.\n",
    "Intuitively when the numbers of covid cases are low and the weather is fine, young adults, who are not the most endangered age group, are more likely to take risks against social distancing. \n",
    "The possible explanation can be for higher infection rates across people above 80, that they are biologically the most susceptible population for covid-19.\n"
   ]
  }
 ],
 "metadata": {
  "kernelspec": {
   "display_name": "Python 3",
   "language": "python",
   "name": "python3"
  },
  "language_info": {
   "codemirror_mode": {
    "name": "ipython",
    "version": 3
   },
   "file_extension": ".py",
   "mimetype": "text/x-python",
   "name": "python",
   "nbconvert_exporter": "python",
   "pygments_lexer": "ipython3",
   "version": "3.8.5"
  }
 },
 "nbformat": 4,
 "nbformat_minor": 4
}
